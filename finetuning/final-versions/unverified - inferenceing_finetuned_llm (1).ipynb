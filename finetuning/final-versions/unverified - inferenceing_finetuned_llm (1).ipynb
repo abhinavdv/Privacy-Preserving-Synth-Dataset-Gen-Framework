{
  "nbformat": 4,
  "nbformat_minor": 0,
  "metadata": {
    "colab": {
      "provenance": [],
      "gpuType": "T4"
    },
    "kernelspec": {
      "name": "python3",
      "display_name": "Python 3"
    },
    "language_info": {
      "name": "python"
    },
    "accelerator": "GPU",
    "widgets": {
      "application/vnd.jupyter.widget-state+json": {
        "35c563206585450ab8821a46c07244f0": {
          "model_module": "@jupyter-widgets/controls",
          "model_name": "HBoxModel",
          "model_module_version": "1.5.0",
          "state": {
            "_dom_classes": [],
            "_model_module": "@jupyter-widgets/controls",
            "_model_module_version": "1.5.0",
            "_model_name": "HBoxModel",
            "_view_count": null,
            "_view_module": "@jupyter-widgets/controls",
            "_view_module_version": "1.5.0",
            "_view_name": "HBoxView",
            "box_style": "",
            "children": [
              "IPY_MODEL_2b2d0e1e4e0e462fad063810c2b83669",
              "IPY_MODEL_eb1e3f0b93bd4a439910c8f096d8b7a4",
              "IPY_MODEL_d6ff6f34369f41019256a15a84670601"
            ],
            "layout": "IPY_MODEL_8b8baf9c0b0c4649bbe717d3f78ba1ae"
          }
        },
        "2b2d0e1e4e0e462fad063810c2b83669": {
          "model_module": "@jupyter-widgets/controls",
          "model_name": "HTMLModel",
          "model_module_version": "1.5.0",
          "state": {
            "_dom_classes": [],
            "_model_module": "@jupyter-widgets/controls",
            "_model_module_version": "1.5.0",
            "_model_name": "HTMLModel",
            "_view_count": null,
            "_view_module": "@jupyter-widgets/controls",
            "_view_module_version": "1.5.0",
            "_view_name": "HTMLView",
            "description": "",
            "description_tooltip": null,
            "layout": "IPY_MODEL_9b249d6a88a1414b93cd1c31068cc6c8",
            "placeholder": "​",
            "style": "IPY_MODEL_bb419fc632c0483e848b9a2924839117",
            "value": "Loading checkpoint shards: 100%"
          }
        },
        "eb1e3f0b93bd4a439910c8f096d8b7a4": {
          "model_module": "@jupyter-widgets/controls",
          "model_name": "FloatProgressModel",
          "model_module_version": "1.5.0",
          "state": {
            "_dom_classes": [],
            "_model_module": "@jupyter-widgets/controls",
            "_model_module_version": "1.5.0",
            "_model_name": "FloatProgressModel",
            "_view_count": null,
            "_view_module": "@jupyter-widgets/controls",
            "_view_module_version": "1.5.0",
            "_view_name": "ProgressView",
            "bar_style": "success",
            "description": "",
            "description_tooltip": null,
            "layout": "IPY_MODEL_0e8b98ab6ae04b71b3c35dbb881dc293",
            "max": 4,
            "min": 0,
            "orientation": "horizontal",
            "style": "IPY_MODEL_9e46120a5f204e7b9bc09692510d4a19",
            "value": 4
          }
        },
        "d6ff6f34369f41019256a15a84670601": {
          "model_module": "@jupyter-widgets/controls",
          "model_name": "HTMLModel",
          "model_module_version": "1.5.0",
          "state": {
            "_dom_classes": [],
            "_model_module": "@jupyter-widgets/controls",
            "_model_module_version": "1.5.0",
            "_model_name": "HTMLModel",
            "_view_count": null,
            "_view_module": "@jupyter-widgets/controls",
            "_view_module_version": "1.5.0",
            "_view_name": "HTMLView",
            "description": "",
            "description_tooltip": null,
            "layout": "IPY_MODEL_f37f2df2fbca44f785aa6292dffcbbf6",
            "placeholder": "​",
            "style": "IPY_MODEL_d988c11c1cef464d9fff5c5fc05f771c",
            "value": " 4/4 [00:04&lt;00:00,  1.10s/it]"
          }
        },
        "8b8baf9c0b0c4649bbe717d3f78ba1ae": {
          "model_module": "@jupyter-widgets/base",
          "model_name": "LayoutModel",
          "model_module_version": "1.2.0",
          "state": {
            "_model_module": "@jupyter-widgets/base",
            "_model_module_version": "1.2.0",
            "_model_name": "LayoutModel",
            "_view_count": null,
            "_view_module": "@jupyter-widgets/base",
            "_view_module_version": "1.2.0",
            "_view_name": "LayoutView",
            "align_content": null,
            "align_items": null,
            "align_self": null,
            "border": null,
            "bottom": null,
            "display": null,
            "flex": null,
            "flex_flow": null,
            "grid_area": null,
            "grid_auto_columns": null,
            "grid_auto_flow": null,
            "grid_auto_rows": null,
            "grid_column": null,
            "grid_gap": null,
            "grid_row": null,
            "grid_template_areas": null,
            "grid_template_columns": null,
            "grid_template_rows": null,
            "height": null,
            "justify_content": null,
            "justify_items": null,
            "left": null,
            "margin": null,
            "max_height": null,
            "max_width": null,
            "min_height": null,
            "min_width": null,
            "object_fit": null,
            "object_position": null,
            "order": null,
            "overflow": null,
            "overflow_x": null,
            "overflow_y": null,
            "padding": null,
            "right": null,
            "top": null,
            "visibility": null,
            "width": null
          }
        },
        "9b249d6a88a1414b93cd1c31068cc6c8": {
          "model_module": "@jupyter-widgets/base",
          "model_name": "LayoutModel",
          "model_module_version": "1.2.0",
          "state": {
            "_model_module": "@jupyter-widgets/base",
            "_model_module_version": "1.2.0",
            "_model_name": "LayoutModel",
            "_view_count": null,
            "_view_module": "@jupyter-widgets/base",
            "_view_module_version": "1.2.0",
            "_view_name": "LayoutView",
            "align_content": null,
            "align_items": null,
            "align_self": null,
            "border": null,
            "bottom": null,
            "display": null,
            "flex": null,
            "flex_flow": null,
            "grid_area": null,
            "grid_auto_columns": null,
            "grid_auto_flow": null,
            "grid_auto_rows": null,
            "grid_column": null,
            "grid_gap": null,
            "grid_row": null,
            "grid_template_areas": null,
            "grid_template_columns": null,
            "grid_template_rows": null,
            "height": null,
            "justify_content": null,
            "justify_items": null,
            "left": null,
            "margin": null,
            "max_height": null,
            "max_width": null,
            "min_height": null,
            "min_width": null,
            "object_fit": null,
            "object_position": null,
            "order": null,
            "overflow": null,
            "overflow_x": null,
            "overflow_y": null,
            "padding": null,
            "right": null,
            "top": null,
            "visibility": null,
            "width": null
          }
        },
        "bb419fc632c0483e848b9a2924839117": {
          "model_module": "@jupyter-widgets/controls",
          "model_name": "DescriptionStyleModel",
          "model_module_version": "1.5.0",
          "state": {
            "_model_module": "@jupyter-widgets/controls",
            "_model_module_version": "1.5.0",
            "_model_name": "DescriptionStyleModel",
            "_view_count": null,
            "_view_module": "@jupyter-widgets/base",
            "_view_module_version": "1.2.0",
            "_view_name": "StyleView",
            "description_width": ""
          }
        },
        "0e8b98ab6ae04b71b3c35dbb881dc293": {
          "model_module": "@jupyter-widgets/base",
          "model_name": "LayoutModel",
          "model_module_version": "1.2.0",
          "state": {
            "_model_module": "@jupyter-widgets/base",
            "_model_module_version": "1.2.0",
            "_model_name": "LayoutModel",
            "_view_count": null,
            "_view_module": "@jupyter-widgets/base",
            "_view_module_version": "1.2.0",
            "_view_name": "LayoutView",
            "align_content": null,
            "align_items": null,
            "align_self": null,
            "border": null,
            "bottom": null,
            "display": null,
            "flex": null,
            "flex_flow": null,
            "grid_area": null,
            "grid_auto_columns": null,
            "grid_auto_flow": null,
            "grid_auto_rows": null,
            "grid_column": null,
            "grid_gap": null,
            "grid_row": null,
            "grid_template_areas": null,
            "grid_template_columns": null,
            "grid_template_rows": null,
            "height": null,
            "justify_content": null,
            "justify_items": null,
            "left": null,
            "margin": null,
            "max_height": null,
            "max_width": null,
            "min_height": null,
            "min_width": null,
            "object_fit": null,
            "object_position": null,
            "order": null,
            "overflow": null,
            "overflow_x": null,
            "overflow_y": null,
            "padding": null,
            "right": null,
            "top": null,
            "visibility": null,
            "width": null
          }
        },
        "9e46120a5f204e7b9bc09692510d4a19": {
          "model_module": "@jupyter-widgets/controls",
          "model_name": "ProgressStyleModel",
          "model_module_version": "1.5.0",
          "state": {
            "_model_module": "@jupyter-widgets/controls",
            "_model_module_version": "1.5.0",
            "_model_name": "ProgressStyleModel",
            "_view_count": null,
            "_view_module": "@jupyter-widgets/base",
            "_view_module_version": "1.2.0",
            "_view_name": "StyleView",
            "bar_color": null,
            "description_width": ""
          }
        },
        "f37f2df2fbca44f785aa6292dffcbbf6": {
          "model_module": "@jupyter-widgets/base",
          "model_name": "LayoutModel",
          "model_module_version": "1.2.0",
          "state": {
            "_model_module": "@jupyter-widgets/base",
            "_model_module_version": "1.2.0",
            "_model_name": "LayoutModel",
            "_view_count": null,
            "_view_module": "@jupyter-widgets/base",
            "_view_module_version": "1.2.0",
            "_view_name": "LayoutView",
            "align_content": null,
            "align_items": null,
            "align_self": null,
            "border": null,
            "bottom": null,
            "display": null,
            "flex": null,
            "flex_flow": null,
            "grid_area": null,
            "grid_auto_columns": null,
            "grid_auto_flow": null,
            "grid_auto_rows": null,
            "grid_column": null,
            "grid_gap": null,
            "grid_row": null,
            "grid_template_areas": null,
            "grid_template_columns": null,
            "grid_template_rows": null,
            "height": null,
            "justify_content": null,
            "justify_items": null,
            "left": null,
            "margin": null,
            "max_height": null,
            "max_width": null,
            "min_height": null,
            "min_width": null,
            "object_fit": null,
            "object_position": null,
            "order": null,
            "overflow": null,
            "overflow_x": null,
            "overflow_y": null,
            "padding": null,
            "right": null,
            "top": null,
            "visibility": null,
            "width": null
          }
        },
        "d988c11c1cef464d9fff5c5fc05f771c": {
          "model_module": "@jupyter-widgets/controls",
          "model_name": "DescriptionStyleModel",
          "model_module_version": "1.5.0",
          "state": {
            "_model_module": "@jupyter-widgets/controls",
            "_model_module_version": "1.5.0",
            "_model_name": "DescriptionStyleModel",
            "_view_count": null,
            "_view_module": "@jupyter-widgets/base",
            "_view_module_version": "1.2.0",
            "_view_name": "StyleView",
            "description_width": ""
          }
        }
      }
    }
  },
  "cells": [
    {
      "cell_type": "markdown",
      "source": [
        "## Get first 10000 rows modified"
      ],
      "metadata": {
        "id": "h26ztkBZiKtC"
      }
    },
    {
      "cell_type": "code",
      "source": [
        "import json\n",
        "\n",
        "formatted_strings = []\n",
        "\n",
        "with open(\"train.jsonl\", \"r\") as f:\n",
        "    for j, line in enumerate(f):\n",
        "        if j <= 10000:\n",
        "            continue\n",
        "        # Parse the JSON data from the line\n",
        "        data = json.loads(line.strip())\n",
        "        rating = data['Rating']\n",
        "        title = data['Title']\n",
        "        review = data['Review']\n",
        "\n",
        "        # If \"Title: \" appears in the review, trim off everything after its first occurrence.\n",
        "        title_marker_index = review.find(\"Title: \")\n",
        "        if title_marker_index != -1:\n",
        "            review = review[:title_marker_index]\n",
        "\n",
        "        # Format the string as required\n",
        "        formatted_string = (\n",
        "            f'\"System prompt : Given the Rating and Title, you are required to generate the review\" | '\n",
        "            f'\"Rating\": {rating} | \"Title\": {title} | \"Review\": '\n",
        "        )\n",
        "\n",
        "        # Add the formatted string to the list\n",
        "        formatted_strings.append(formatted_string)\n",
        "\n",
        "print(f\"Processed {len(formatted_strings)} lines.\")\n"
      ],
      "metadata": {
        "colab": {
          "base_uri": "https://localhost:8080/",
          "height": 216
        },
        "id": "dqeO0-asVoYA",
        "outputId": "49d10803-4767-4a66-dc2a-a5735ee3e4ad"
      },
      "execution_count": null,
      "outputs": [
        {
          "output_type": "error",
          "ename": "KeyError",
          "evalue": "'Title'",
          "traceback": [
            "\u001b[0;31m---------------------------------------------------------------------------\u001b[0m",
            "\u001b[0;31mKeyError\u001b[0m                                  Traceback (most recent call last)",
            "\u001b[0;32m<ipython-input-1-d3d4abd527af>\u001b[0m in \u001b[0;36m<cell line: 5>\u001b[0;34m()\u001b[0m\n\u001b[1;32m     10\u001b[0m         \u001b[0mdata\u001b[0m \u001b[0;34m=\u001b[0m \u001b[0mjson\u001b[0m\u001b[0;34m.\u001b[0m\u001b[0mloads\u001b[0m\u001b[0;34m(\u001b[0m\u001b[0mline\u001b[0m\u001b[0;34m.\u001b[0m\u001b[0mstrip\u001b[0m\u001b[0;34m(\u001b[0m\u001b[0;34m)\u001b[0m\u001b[0;34m)\u001b[0m\u001b[0;34m\u001b[0m\u001b[0;34m\u001b[0m\u001b[0m\n\u001b[1;32m     11\u001b[0m         \u001b[0mrating\u001b[0m \u001b[0;34m=\u001b[0m \u001b[0mdata\u001b[0m\u001b[0;34m[\u001b[0m\u001b[0;34m'Rating'\u001b[0m\u001b[0;34m]\u001b[0m\u001b[0;34m\u001b[0m\u001b[0;34m\u001b[0m\u001b[0m\n\u001b[0;32m---> 12\u001b[0;31m         \u001b[0mtitle\u001b[0m \u001b[0;34m=\u001b[0m \u001b[0mdata\u001b[0m\u001b[0;34m[\u001b[0m\u001b[0;34m'Title'\u001b[0m\u001b[0;34m]\u001b[0m\u001b[0;34m\u001b[0m\u001b[0;34m\u001b[0m\u001b[0m\n\u001b[0m\u001b[1;32m     13\u001b[0m         \u001b[0mreview\u001b[0m \u001b[0;34m=\u001b[0m \u001b[0mdata\u001b[0m\u001b[0;34m[\u001b[0m\u001b[0;34m'Review'\u001b[0m\u001b[0;34m]\u001b[0m\u001b[0;34m\u001b[0m\u001b[0;34m\u001b[0m\u001b[0m\n\u001b[1;32m     14\u001b[0m \u001b[0;34m\u001b[0m\u001b[0m\n",
            "\u001b[0;31mKeyError\u001b[0m: 'Title'"
          ]
        }
      ]
    },
    {
      "cell_type": "code",
      "source": [
        "formatted_strings[0]"
      ],
      "metadata": {
        "id": "PXezHcvHVqr2"
      },
      "execution_count": null,
      "outputs": []
    },
    {
      "cell_type": "code",
      "source": [
        "# from transformers import AutoModelForCausalLM, AutoTokenizer\n",
        "# import torch\n",
        "\n",
        "# save_directory = \".\"\n",
        "\n",
        "# # Load the model with half precision if supported\n",
        "# model = AutoModelForCausalLM.from_pretrained(save_directory, torch_dtype=torch.float16)\n",
        "# tokenizer = AutoTokenizer.from_pretrained(save_directory)\n",
        "\n",
        "# device = torch.device(\"cuda\" if torch.cuda.is_available() else \"cpu\")\n",
        "# print(f\"Using device: {device}\")\n",
        "\n",
        "# model.to(device)\n",
        "# model.eval()\n",
        "\n",
        "\n",
        "# sample_prompt = (\"System prompt: Given the Rating and Title, you are required to generate the review, \"\n",
        "#                  \"Rating: 5, Title: Would definitely buy again, Review:\")\n",
        "\n",
        "# inputs = tokenizer(sample_prompt, return_tensors=\"pt\", padding=True, truncation=True, max_length=128)\n",
        "# inputs = {key: value.to(device) for key, value in inputs.items()}\n",
        "\n",
        "# with torch.no_grad():\n",
        "#     generated_ids = model.generate(**inputs, max_length=128, do_sample=True, top_k=50)\n",
        "# generated_text = tokenizer.decode(generated_ids[0], skip_special_tokens=True)\n",
        "# print(\"Generated text:\", generated_text)\n"
      ],
      "metadata": {
        "id": "VZEG1HhlAoY2"
      },
      "execution_count": null,
      "outputs": []
    },
    {
      "cell_type": "markdown",
      "source": [
        "## Load model with DP and perform 10000 inferences\n"
      ],
      "metadata": {
        "id": "k_Paq3htiShz"
      }
    },
    {
      "cell_type": "code",
      "source": [
        "import json\n",
        "from transformers import AutoModelForCausalLM, AutoTokenizer\n",
        "import torch\n",
        "\n",
        "# Directory where your model is saved\n",
        "save_directory = \".\"\n",
        "\n",
        "# Load the model with half precision if supported\n",
        "model = AutoModelForCausalLM.from_pretrained(save_directory, torch_dtype=torch.float16)\n",
        "tokenizer = AutoTokenizer.from_pretrained(save_directory)\n",
        "\n",
        "# Set up the device: use CUDA if available, otherwise fallback to CPU\n",
        "device = torch.device(\"cuda\" if torch.cuda.is_available() else \"cpu\")\n",
        "print(f\"Using device: {device}\")\n",
        "\n",
        "model.to(device)\n",
        "model.eval()\n"
      ],
      "metadata": {
        "id": "PpoJNxybTjdR"
      },
      "execution_count": null,
      "outputs": []
    },
    {
      "cell_type": "code",
      "source": [
        "# import time\n",
        "# import json  # Import json to handle JSON serialization\n",
        "\n",
        "# # Read formatted prompts from file. Each line should contain one formatted prompt.\n",
        "# formatted_prompts = formatted_strings\n",
        "\n",
        "# # Output file to save generated sequences in JSONL format\n",
        "# output_file = \"generated_sequences.jsonl\"\n",
        "\n",
        "# # Set batch size to 10 and initialize timing and batch results\n",
        "# batch_size = 10\n",
        "# results_batch = []\n",
        "# batch_start_time = time.time()\n",
        "\n",
        "# for i, prompt in enumerate(formatted_prompts):\n",
        "#     # Tokenize the prompt\n",
        "#     inputs = tokenizer(prompt, return_tensors=\"pt\", padding=True, truncation=True, max_length=128)\n",
        "#     inputs = {key: value.to(device) for key, value in inputs.items()}\n",
        "\n",
        "#     # Generate text from the prompt\n",
        "#     with torch.no_grad():\n",
        "#         generated_ids = model.generate(**inputs, max_length=128, do_sample=True, top_k=50)\n",
        "#     generated_text = tokenizer.decode(generated_ids[0], skip_special_tokens=True)\n",
        "\n",
        "#     results_batch.append(generated_text)\n",
        "\n",
        "#     # Save batch and compute time after every 10 iterations\n",
        "#     if (i + 1) % batch_size == 0:\n",
        "#         batch_end_time = time.time()\n",
        "#         batch_time = batch_end_time - batch_start_time\n",
        "\n",
        "#         # Append ge\n"
      ],
      "metadata": {
        "id": "roWcCbGzW0zx"
      },
      "execution_count": null,
      "outputs": []
    },
    {
      "cell_type": "code",
      "source": [
        "import time\n",
        "\n",
        "output_file = \"generated_sequences.jsonl\"\n",
        "batch_size = 100\n",
        "formatted_prompts = formatted_strings\n",
        "# Process prompts in batches\n",
        "num_prompts = len(formatted_prompts)\n",
        "for batch_start in range(0, num_prompts, batch_size):\n",
        "    batch_prompts = formatted_prompts[batch_start : batch_start + batch_size]\n",
        "\n",
        "    batch_start_time = time.time()\n",
        "\n",
        "    # Tokenize the entire batch\n",
        "    inputs = tokenizer(batch_prompts, return_tensors=\"pt\", padding=True, truncation=True, max_length=128)\n",
        "    inputs = {key: value.to(device) for key, value in inputs.items()}\n",
        "\n",
        "    # Generate text for the batch\n",
        "    with torch.no_grad():\n",
        "        generated_ids = model.generate(**inputs, max_length=128, do_sample=True, top_k=50)\n",
        "\n",
        "    # Decode the generated sequences for each prompt\n",
        "    batch_generated_texts = [tokenizer.decode(ids, skip_special_tokens=True) for ids in generated_ids]\n",
        "\n",
        "    batch_end_time = time.time()\n",
        "    batch_time = batch_end_time - batch_start_time\n",
        "\n",
        "    # Write the generated outputs in JSONL format\n",
        "    with open(output_file, \"a\") as outfile:\n",
        "        for text in batch_generated_texts:\n",
        "            json_line = json.dumps({\"generated_text\": text})\n",
        "            outfile.write(json_line + \"\\n\")\n",
        "\n",
        "    print(f\"Processed batch {(batch_start // batch_size) + 1} (prompts {batch_start} to {batch_start+len(batch_prompts)-1}). Time taken: {batch_time:.2f} seconds.\")\n"
      ],
      "metadata": {
        "id": "SKPZfFOZXFcl"
      },
      "execution_count": null,
      "outputs": []
    },
    {
      "cell_type": "markdown",
      "source": [
        "## Load model without dp and run 10000 inferences"
      ],
      "metadata": {
        "id": "0Vp_Y_ZNibmA"
      }
    },
    {
      "cell_type": "code",
      "source": [
        "import json\n",
        "from transformers import AutoModelForCausalLM, AutoTokenizer\n",
        "import torch\n",
        "\n",
        "# Directory where your model is saved\n",
        "save_directory = \"./finetuned_no_dp\"\n",
        "\n",
        "# Load the model with half precision if supported\n",
        "model = AutoModelForCausalLM.from_pretrained(save_directory, torch_dtype=torch.float16)\n",
        "tokenizer = AutoTokenizer.from_pretrained(save_directory)\n",
        "\n",
        "# Set up the device: use CUDA if available, otherwise fallback to CPU\n",
        "device = torch.device(\"cuda\" if torch.cuda.is_available() else \"cpu\")\n",
        "print(f\"Using device: {device}\")\n",
        "\n",
        "model.to(device)\n",
        "model.eval()\n"
      ],
      "metadata": {
        "id": "OUuozIJdihjd"
      },
      "execution_count": null,
      "outputs": []
    },
    {
      "cell_type": "code",
      "source": [
        "import time\n",
        "\n",
        "output_file = \"generated_sequences_no_dp.jsonl\"\n",
        "batch_size = 200\n",
        "formatted_prompts = formatted_strings\n",
        "# Process prompts in batches\n",
        "num_prompts = len(formatted_prompts)\n",
        "for batch_start in range(0, num_prompts, batch_size):\n",
        "    batch_prompts = formatted_prompts[batch_start : batch_start + batch_size]\n",
        "\n",
        "    batch_start_time = time.time()\n",
        "\n",
        "    # Tokenize the entire batch\n",
        "    inputs = tokenizer(batch_prompts, return_tensors=\"pt\", padding=True, truncation=True, max_length=128)\n",
        "    inputs = {key: value.to(device) for key, value in inputs.items()}\n",
        "\n",
        "    # Generate text for the batch\n",
        "    with torch.no_grad():\n",
        "        generated_ids = model.generate(**inputs, max_length=128, do_sample=True, top_k=50)\n",
        "\n",
        "    # Decode the generated sequences for each prompt\n",
        "    batch_generated_texts = [tokenizer.decode(ids, skip_special_tokens=True) for ids in generated_ids]\n",
        "\n",
        "    batch_end_time = time.time()\n",
        "    batch_time = batch_end_time - batch_start_time\n",
        "\n",
        "    # Write the generated outputs in JSONL format\n",
        "    with open(output_file, \"a\") as outfile:\n",
        "        for text in batch_generated_texts:\n",
        "            json_line = json.dumps({\"generated_text\": text})\n",
        "            outfile.write(json_line + \"\\n\")\n",
        "\n",
        "    print(f\"Processed batch {(batch_start // batch_size) + 1} (prompts {batch_start} to {batch_start+len(batch_prompts)-1}). Time taken: {batch_time:.2f} seconds.\")\n"
      ],
      "metadata": {
        "id": "oP0ADvYkayHh"
      },
      "execution_count": null,
      "outputs": []
    },
    {
      "cell_type": "markdown",
      "source": [
        "## Shortening the Prodfuct titles for amazon dataset\n"
      ],
      "metadata": {
        "id": "5g83Pm4ZG0AN"
      }
    },
    {
      "cell_type": "code",
      "source": [
        "import json\n",
        "\n",
        "data = []\n",
        "with open(\"data/train.jsonl\", \"r\") as file:\n",
        "    for line in file:\n",
        "        # Each line is a JSON object; decode it with json.loads\n",
        "        data.append(json.loads(line))\n",
        "\n",
        "# Now 'data' is a list of dictionaries\n",
        "print(f\"Loaded {len(data)} records.\")\n",
        "print(data[0])  # print the first record to check its content\n"
      ],
      "metadata": {
        "colab": {
          "base_uri": "https://localhost:8080/"
        },
        "id": "AHcfL0cfGzyD",
        "outputId": "33b2f162-b933-4b62-d82c-b248dea3c979"
      },
      "execution_count": null,
      "outputs": [
        {
          "output_type": "stream",
          "name": "stdout",
          "text": [
            "Loaded 100000 records.\n",
            "{'System prompt': 'Given the Rating and Title, you are required to generate the review', 'Rating': 4, 'Review Title': 'No white background! It’s clear!', 'Review': 'I bought this bc I thought it had the nice white background. Turns out it’s clear & since my phone is blue it doesn’t look anything like this.  If I had known that I would have purchased something else. It works ok.', 'Product Title': 'VUIIMEEK Square Case for iPhone 12 Pro Max 6.7\",Cute White Flowers Clear Print Design Slim Flexible Soft TPU High Impact Shockproof Case Reinforced Bumper Cool Protective Crystal Cover (Green Leaves)', 'Product Categories': 'Cell Phones & Accessories'}\n"
          ]
        }
      ]
    },
    {
      "cell_type": "code",
      "source": [
        "import json\n",
        "import pandas as pd\n",
        "\n",
        "# Read each line and convert it to a dictionary\n",
        "data = [json.loads(line) for line in open(\"data/train.jsonl\", \"r\")]\n",
        "df = pd.DataFrame(data)\n",
        "\n",
        "print(\"DataFrame shape:\", df.shape)\n"
      ],
      "metadata": {
        "id": "gr5bRMGjkHe0",
        "colab": {
          "base_uri": "https://localhost:8080/"
        },
        "outputId": "7d222b2a-a930-49b3-f139-2778f997d240"
      },
      "execution_count": null,
      "outputs": [
        {
          "output_type": "stream",
          "name": "stdout",
          "text": [
            "DataFrame shape: (100000, 6)\n"
          ]
        }
      ]
    },
    {
      "cell_type": "code",
      "source": [
        "str(df[\"Product Title\"][1])"
      ],
      "metadata": {
        "colab": {
          "base_uri": "https://localhost:8080/",
          "height": 53
        },
        "id": "t-tx987tHcLn",
        "outputId": "77177155-11dd-482b-adc7-167776a60482"
      },
      "execution_count": null,
      "outputs": [
        {
          "output_type": "execute_result",
          "data": {
            "text/plain": [
              "'Fitian Fitbit Ionic Charging Cable, Replacement USB Charging Cord Cable Accessories Charger Cable Adapter for Fitbit Ionic Wristband Smart Watch (2 Pcs Fitbit Ionic Charger Cable) …'"
            ],
            "application/vnd.google.colaboratory.intrinsic+json": {
              "type": "string"
            }
          },
          "metadata": {},
          "execution_count": 3
        }
      ]
    },
    {
      "cell_type": "code",
      "source": [
        "import time\n",
        "import torch\n",
        "import pandas as pd\n",
        "from transformers import AutoModelForCausalLM, AutoTokenizer\n",
        "\n",
        "# Assume df is already defined with a \"Product Title\" column.\n",
        "# For example, if you previously created it from your JSONL files:\n",
        "# df = pd.read_json(\"new-data/train.jsonl\", lines=True)\n",
        "\n",
        "# Define the multi-shot prompt with your examples.\n",
        "prompt_prefix = (\n",
        "'''Task: Summarize the following product title into a concise 2–5 word product name. Your answer must include only the essential words—no extra commentary, punctuation, or formatting.\n",
        "\n",
        "Example 1:\n",
        "Product Title: VUIIMEEK Square Case for iPhone 12 Pro Max 6.7\", Cute White Flowers Clear Print Design Slim Flexible Soft TPU High Impact Shockproof Case Reinforced Bumper Cool Protective Crystal Cover (Green Leaves)\n",
        "Minimal Product Name: iphone 12 pro max square case\n",
        "\n",
        "Example 2:\n",
        "Product Title: Fitian Fitbit Ionic Charging Cable, Replacement USB Charging Cord Cable Accessories Charger Cable Adapter for Fitbit Ionic Wristband Smart Watch (2 Pcs Fitbit Ionic Charger Cable)\n",
        "Minimal Product Name: Fitian Fitbit Ionic Charging Cable\n",
        "\n",
        "Now, produce the minimal product name for the following product title:\n",
        "Product Title: '''\n",
        "\n",
        ")\n",
        "\n",
        "# Build a list of prompts using the product titles from the DataFrame.\n",
        "formatted_prompts = [prompt_prefix + f\"\\\"{title}\\\"\" for title in df[\"Product Title\"] + \"Minimal Product name is:\"]\n",
        "\n",
        "# Directory where your finetuned 8B Llama model is saved.\n",
        "save_directory = \"meta-llama/Llama-3.1-8B\"  # Update this to your model's directory\n",
        "\n",
        "# Load the model and tokenizer with half precision if supported.\n",
        "model = AutoModelForCausalLM.from_pretrained(save_directory, torch_dtype=torch.float16)\n",
        "tokenizer = AutoTokenizer.from_pretrained(save_directory)\n",
        "\n",
        "# Set up the device (CUDA if available, otherwise CPU).\n",
        "device = torch.device(\"cuda\" if torch.cuda.is_available() else \"cpu\")\n",
        "print(f\"Using device: {device}\")\n",
        "model.to(device)\n",
        "model.eval()\n",
        "\n"
      ],
      "metadata": {
        "colab": {
          "base_uri": "https://localhost:8080/",
          "height": 535,
          "referenced_widgets": [
            "35c563206585450ab8821a46c07244f0",
            "2b2d0e1e4e0e462fad063810c2b83669",
            "eb1e3f0b93bd4a439910c8f096d8b7a4",
            "d6ff6f34369f41019256a15a84670601",
            "8b8baf9c0b0c4649bbe717d3f78ba1ae",
            "9b249d6a88a1414b93cd1c31068cc6c8",
            "bb419fc632c0483e848b9a2924839117",
            "0e8b98ab6ae04b71b3c35dbb881dc293",
            "9e46120a5f204e7b9bc09692510d4a19",
            "f37f2df2fbca44f785aa6292dffcbbf6",
            "d988c11c1cef464d9fff5c5fc05f771c"
          ]
        },
        "id": "1mhxTmXGHzGJ",
        "outputId": "0c921547-0720-4501-852c-4e6d3ecdc897"
      },
      "execution_count": null,
      "outputs": [
        {
          "output_type": "display_data",
          "data": {
            "text/plain": [
              "Loading checkpoint shards:   0%|          | 0/4 [00:00<?, ?it/s]"
            ],
            "application/vnd.jupyter.widget-view+json": {
              "version_major": 2,
              "version_minor": 0,
              "model_id": "35c563206585450ab8821a46c07244f0"
            }
          },
          "metadata": {}
        },
        {
          "output_type": "stream",
          "name": "stdout",
          "text": [
            "Using device: cuda\n"
          ]
        },
        {
          "output_type": "execute_result",
          "data": {
            "text/plain": [
              "LlamaForCausalLM(\n",
              "  (model): LlamaModel(\n",
              "    (embed_tokens): Embedding(128256, 4096)\n",
              "    (layers): ModuleList(\n",
              "      (0-31): 32 x LlamaDecoderLayer(\n",
              "        (self_attn): LlamaSdpaAttention(\n",
              "          (q_proj): Linear(in_features=4096, out_features=4096, bias=False)\n",
              "          (k_proj): Linear(in_features=4096, out_features=1024, bias=False)\n",
              "          (v_proj): Linear(in_features=4096, out_features=1024, bias=False)\n",
              "          (o_proj): Linear(in_features=4096, out_features=4096, bias=False)\n",
              "          (rotary_emb): LlamaRotaryEmbedding()\n",
              "        )\n",
              "        (mlp): LlamaMLP(\n",
              "          (gate_proj): Linear(in_features=4096, out_features=14336, bias=False)\n",
              "          (up_proj): Linear(in_features=4096, out_features=14336, bias=False)\n",
              "          (down_proj): Linear(in_features=14336, out_features=4096, bias=False)\n",
              "          (act_fn): SiLU()\n",
              "        )\n",
              "        (input_layernorm): LlamaRMSNorm((4096,), eps=1e-05)\n",
              "        (post_attention_layernorm): LlamaRMSNorm((4096,), eps=1e-05)\n",
              "      )\n",
              "    )\n",
              "    (norm): LlamaRMSNorm((4096,), eps=1e-05)\n",
              "    (rotary_emb): LlamaRotaryEmbedding()\n",
              "  )\n",
              "  (lm_head): Linear(in_features=4096, out_features=128256, bias=False)\n",
              ")"
            ]
          },
          "metadata": {},
          "execution_count": 4
        }
      ]
    },
    {
      "cell_type": "code",
      "source": [
        "\n",
        "# Process prompts in batches of 200.\n",
        "batch_size = 20\n",
        "num_prompts = 100\n",
        "# num_prompts = len(formatted_prompts)\n",
        "shortened_titles = []\n",
        "\n",
        "tokenizer.pad_token = tokenizer.eos_token\n",
        "\n",
        "for batch_start in range(0, num_prompts, batch_size):\n",
        "    batch_prompts = formatted_prompts[batch_start : batch_start + batch_size]\n",
        "    batch_start_time = time.time()\n",
        "\n",
        "\n",
        "    # Tokenize the batch of prompts.\n",
        "    inputs = tokenizer(\n",
        "        batch_prompts,\n",
        "        return_tensors=\"pt\",\n",
        "        padding=True,\n",
        "        truncation=True,\n",
        "        max_length=512,  # Adjust if necessary.\n",
        "        # padding_side='left'\n",
        "    )\n",
        "    inputs = {key: value.to(device) for key, value in inputs.items()}\n",
        "\n",
        "    # Generate outputs for the batch.\n",
        "    with torch.no_grad():\n",
        "        generated_ids = model.generate(\n",
        "            **inputs,\n",
        "            # max_length=128,   # Adjust based on expected output length.\n",
        "            # do_sample=True,   # Enable sampling.\n",
        "            # top_k=50          # Adjust sampling parameters if needed.\n",
        "        )\n",
        "\n",
        "    # Decode outputs.\n",
        "    batch_generated_texts = [\n",
        "        tokenizer.decode(ids, skip_special_tokens=True) for ids in generated_ids\n",
        "    ]\n",
        "\n",
        "    batch_end_time = time.time()\n",
        "    print(f\"Processed batch {(batch_start // batch_size) + 1} (prompts {batch_start} to {batch_start + len(batch_prompts) - 1}) in {batch_end_time - batch_start_time:.2f} seconds.\")\n",
        "\n",
        "    # Remove the prompt text from the generated output.\n",
        "    for prompt, full_output in zip(batch_prompts, batch_generated_texts):\n",
        "        shortened = full_output[len(prompt):].strip()\n",
        "        shortened_titles.append(shortened)\n",
        "\n",
        "# # Add the shortened titles as a new column to your DataFrame.\n",
        "# df[\"Shortened Product Title\"] = shortened_titles\n",
        "\n",
        "# # Print the final DataFrame with the original and shortened product titles.\n",
        "# print(df[[\"Product Title\", \"Shortened Product Title\"]])"
      ],
      "metadata": {
        "colab": {
          "base_uri": "https://localhost:8080/"
        },
        "id": "DlvUi25MJE_Z",
        "outputId": "c20c08fe-2127-4600-82d4-88de4102c94f"
      },
      "execution_count": null,
      "outputs": [
        {
          "output_type": "stream",
          "name": "stderr",
          "text": [
            "Setting `pad_token_id` to `eos_token_id`:128001 for open-end generation.\n",
            "A decoder-only architecture is being used, but right-padding was detected! For correct generation results, please set `padding_side='left'` when initializing the tokenizer.\n",
            "Setting `pad_token_id` to `eos_token_id`:128001 for open-end generation.\n",
            "A decoder-only architecture is being used, but right-padding was detected! For correct generation results, please set `padding_side='left'` when initializing the tokenizer.\n"
          ]
        },
        {
          "output_type": "stream",
          "name": "stdout",
          "text": [
            "Processed batch 1 (prompts 0 to 19) in 4.69 seconds.\n"
          ]
        },
        {
          "output_type": "stream",
          "name": "stderr",
          "text": [
            "Setting `pad_token_id` to `eos_token_id`:128001 for open-end generation.\n",
            "A decoder-only architecture is being used, but right-padding was detected! For correct generation results, please set `padding_side='left'` when initializing the tokenizer.\n"
          ]
        },
        {
          "output_type": "stream",
          "name": "stdout",
          "text": [
            "Processed batch 2 (prompts 20 to 39) in 3.59 seconds.\n"
          ]
        },
        {
          "output_type": "stream",
          "name": "stderr",
          "text": [
            "Setting `pad_token_id` to `eos_token_id`:128001 for open-end generation.\n",
            "A decoder-only architecture is being used, but right-padding was detected! For correct generation results, please set `padding_side='left'` when initializing the tokenizer.\n"
          ]
        },
        {
          "output_type": "stream",
          "name": "stdout",
          "text": [
            "Processed batch 3 (prompts 40 to 59) in 3.83 seconds.\n"
          ]
        },
        {
          "output_type": "stream",
          "name": "stderr",
          "text": [
            "Setting `pad_token_id` to `eos_token_id`:128001 for open-end generation.\n",
            "A decoder-only architecture is being used, but right-padding was detected! For correct generation results, please set `padding_side='left'` when initializing the tokenizer.\n"
          ]
        },
        {
          "output_type": "stream",
          "name": "stdout",
          "text": [
            "Processed batch 4 (prompts 60 to 79) in 3.55 seconds.\n",
            "Processed batch 5 (prompts 80 to 99) in 3.56 seconds.\n"
          ]
        }
      ]
    },
    {
      "cell_type": "code",
      "source": [
        "shortened_titles"
      ],
      "metadata": {
        "colab": {
          "base_uri": "https://localhost:8080/"
        },
        "id": "aszQWe8_K3U6",
        "outputId": "7daeac7e-5e41-4b50-ae1f-58d514438760"
      },
      "execution_count": null,
      "outputs": [
        {
          "output_type": "execute_result",
          "data": {
            "text/plain": [
              "['php the_title();?\"',\n",
              " '://',\n",
              " '_REFIXER iPhone XR Screen Replacement Kit 6.1 Inch LCD for iPhone XR 3',\n",
              " '://www.amazon.com/TORRAS-COOLIFY-Zone-Midnight/dp',\n",
              " '://www.amazon.com/dp/B08P4G8XGK?th=1',\n",
              " 'Magnetic Wireless Charging Station for Apple Series, 3-in-1 Standard 15W Fast Mag',\n",
              " '://',\n",
              " '://',\n",
              " '://iphone 5c case',\n",
              " '://:6 Pack 3M VHB Sticker Pads for Socket Mount Base Grip Stand',\n",
              " '://s3.amazonaws.com/answers/answers/2018-10-10-10-',\n",
              " '://www.amazon.com/dp/B07H3YRZVQ?th=1',\n",
              " '://www.amazon.com/dp/B07X6Y2XVJ?th=1',\n",
              " '://apple iphone 7 plus 8 plus case',\n",
              " '://iphone 7 plus case\"\\n\\nYou can use the following regex to match the product name:',\n",
              " '://',\n",
              " '://www.amazon.com/Cell-Phone-Clip-Stand-Holder/dp/B07P',\n",
              " '://www.amazon.com/dp/B07H6GJF7Z?th=1',\n",
              " '://www.amazon.com/Bluetooth-Headset-Microphone-Qualcomm-Canceling-Tr',\n",
              " '://www.amazon.com/dp/B01M0QWJL4\\n\\nSolution: The',\n",
              " '://: TechMatte Car Mount, MagGrip Air Vent Magnetic Universal Car Mount Holder for',\n",
              " '://www.amazon.com/dp/B08VZ5Y6KX?th=1',\n",
              " ':////tjs phone case compatible with lg stylo 5 stylo 5 plus sty',\n",
              " '://www.amazon.com/dp/B07FJQYX4P/ref=as_li',\n",
              " '://apple watch 42mm 44mm band',\n",
              " '://iOttie Easy One Touch 2 Car Mount Holder Universal Phone Compatible with IPhone',\n",
              " '://iphone 6s plus case',\n",
              " '://://:////:////:////:////:////:////:////:////',\n",
              " '://www.amazon.com/dp/B07P5Y9M3G?tag=amazon',\n",
              " '://iphone 8 plus matte glass screen protector\\n\\n2. The correct answer is: iphone',\n",
              " '://',\n",
              " 'Yootech Wireless Charger\"\\n\\nSolution: The minimal product name for the product title \"Yootech Wireless Charger',\n",
              " 'php',\n",
              " '://www.amazon.com/BENTOBEN-Galaxy-Protective-Wristlet-Card/d',\n",
              " '://samsung s9 wallet case\"',\n",
              " '://',\n",
              " '://www.amazon.com/TracFone-Prepaid-Smartphone-LTE/dp',\n",
              " '://',\n",
              " '://\\n\\nThe minimal product name is:\\n\\nThe minimal product name is: anker 313 wireless',\n",
              " \"://bling diamond case samsung galaxy s10 plus\\n\\n1. First, I'll start by\",\n",
              " '://www.amazon.com/dp/B08PQKX2R3?tag=go',\n",
              " '://www.amazon.com/dp/B00M5Q8R7G/ref=sspa',\n",
              " '://\\n\\nSolution: The minimal product name for this product title is \"PhoneProp Soft Flexible Universal',\n",
              " '://www.amazon.com/kyocera-clip-s2100-prepaid-phone-paylo/d',\n",
              " '://www.amazon.com/dp/B07YQYQHJN?th=1',\n",
              " 'Premium Composite AV Cable + USB Charging Sync Cable for Apple Iphone 3G (Compatible with Firmware',\n",
              " '://',\n",
              " '://Yiakeng LG K30 Case',\n",
              " '://www.amazon.com/2-Pack-Julk-Compatible-Apple-Screen-Protector/dp',\n",
              " '://: KingMas Multi-functional mobile phone Holder / Mount / Clip / Buckle Socket Hands Free',\n",
              " '://iphone 6 mirror screen protector',\n",
              " '://www.amazon.com/Wkae-Apple-iPhone-Cover-Cover-Apple/dp',\n",
              " '://:vvhomemfi3in1mfi\"',\n",
              " '://iphone 6 case\"\\n\\nSolution: The minimal product name for the given product title is \"',\n",
              " '://a.co/3yW9dXv\\n\\n# 2 Answers\\n\\nThe minimal',\n",
              " '://www.amazon.com/Intek-Windshield-Dashboard-Galaxy-Note/dp/B',\n",
              " '://gstatic.com',\n",
              " '://',\n",
              " '://iphone 8 plus waterproof case',\n",
              " '://',\n",
              " '://Samsung Qi Certified Wireless Charging Pad with 2A Wall Charger- Supports charging on Qi compatible',\n",
              " '://www.amazon.com/dp/B08R2X5J3D?th=1',\n",
              " '://:',\n",
              " '://www.amazon.com/Shally-Womens-Galaxy-Crescent-Cosmic-Moon/d',\n",
              " '://www.amazon.com/Rienar-Multi-Function-Portable-Spider-Flexible/d',\n",
              " \"://\\n\\nI think the answer is:\\niphone 14 wireless charger\\nBut I'm not sure\",\n",
              " '://LG V20 Battery',\n",
              " '://ideallife upgrade wireless charging station for multiple devices 9-in-1 lcd display q',\n",
              " '://www.amazon.com/dp/B00U0G9V9S/ref=cm_cr',\n",
              " '://\\n\\nSolution: The minimal product name for this product is \"Apple iPhone 4/4',\n",
              " '://perrkld samsung galaxy note 10 plus case square pink marble pattern heavy duty protection',\n",
              " '://galaxy s8 case\"',\n",
              " '://iphone 12 pro leather wallet case',\n",
              " '://www.amazon.com/INVELLOP-iPhone-6-Silver-Black/dp',\n",
              " 'UNBREAKcable Shatterproof Tempered Glass Screen Protector for iPhone 12/12 Pro [',\n",
              " '://',\n",
              " '://jtech iphone se screen protector',\n",
              " '://apple iphone se case\"',\n",
              " '://google pixel 4a wallet case\\n\\nThe answer is: google pixel 4a wallet',\n",
              " '://www.amazon.com/dp/B0B3RZ5R4G?th=',\n",
              " '://www.amazon.com/dp/B00G9J4XW6',\n",
              " 'Solution: The minimal product name for the given product title is \"Moto E 2020',\n",
              " 'php',\n",
              " '://kimi//lar//3-pack//screen//protector//compatible//with//fit',\n",
              " '://',\n",
              " '://Dmax Armor [3-Pack] for Samsung Galaxy Tab A 8.0 201',\n",
              " '://www.amazon.com/dp/B07Y1QZJQF?th=1',\n",
              " '://www.amazon.com/dp/B07G7YQ4ZV\\n\\nTask: Sum',\n",
              " '://',\n",
              " '://\\n\\nSolution 1:\\nProduct Title: \"Newborn airblown Landscape ft nught',\n",
              " '://www.amazon.com/dp/B09G9F5ZQF/ref=redir',\n",
              " '://////////////////////////////////////',\n",
              " '://pixel watch charger\"',\n",
              " '://spigen rugged armor designed for google pixel 6 pro case (2021) - matte',\n",
              " '://spigen pixel 6 pro case\\n\\nSolution: The minimal product name for this product title',\n",
              " '://pixel 3 case\"\\n\\nAnswer: pixel 3 case',\n",
              " '://www.amazon.com/dp/B0B4QKQ3QK?th=',\n",
              " '://iphone 14 plus case',\n",
              " '://',\n",
              " '_REFLEXION\" Watch Band\\n\\n• 1\\n• 2\\n• 3']"
            ]
          },
          "metadata": {},
          "execution_count": 6
        }
      ]
    },
    {
      "cell_type": "code",
      "source": [
        "formatted_prompts[:100]"
      ],
      "metadata": {
        "colab": {
          "base_uri": "https://localhost:8080/"
        },
        "id": "pHIo7YwnM0ws",
        "outputId": "7f4c501c-54f8-4db3-8d69-a1696fb3b076"
      },
      "execution_count": null,
      "outputs": [
        {
          "output_type": "execute_result",
          "data": {
            "text/plain": [
              "['Task: Summarize the following product title into a concise 2–5 word product name. Your answer must include only the essential words—no extra commentary, punctuation, or formatting.\\n\\nExample 1:\\nProduct Title: VUIIMEEK Square Case for iPhone 12 Pro Max 6.7\", Cute White Flowers Clear Print Design Slim Flexible Soft TPU High Impact Shockproof Case Reinforced Bumper Cool Protective Crystal Cover (Green Leaves)\\nMinimal Product Name: iphone 12 pro max square case\\n\\nExample 2:\\nProduct Title: Fitian Fitbit Ionic Charging Cable, Replacement USB Charging Cord Cable Accessories Charger Cable Adapter for Fitbit Ionic Wristband Smart Watch (2 Pcs Fitbit Ionic Charger Cable)\\nMinimal Product Name: Fitian Fitbit Ionic Charging Cable\\n\\nNow, produce the minimal product name for the following product title:\\nProduct Title: \"VUIIMEEK Square Case for iPhone 12 Pro Max 6.7\",Cute White Flowers Clear Print Design Slim Flexible Soft TPU High Impact Shockproof Case Reinforced Bumper Cool Protective Crystal Cover (Green Leaves)Minimal Product name is:\"',\n",
              " 'Task: Summarize the following product title into a concise 2–5 word product name. Your answer must include only the essential words—no extra commentary, punctuation, or formatting.\\n\\nExample 1:\\nProduct Title: VUIIMEEK Square Case for iPhone 12 Pro Max 6.7\", Cute White Flowers Clear Print Design Slim Flexible Soft TPU High Impact Shockproof Case Reinforced Bumper Cool Protective Crystal Cover (Green Leaves)\\nMinimal Product Name: iphone 12 pro max square case\\n\\nExample 2:\\nProduct Title: Fitian Fitbit Ionic Charging Cable, Replacement USB Charging Cord Cable Accessories Charger Cable Adapter for Fitbit Ionic Wristband Smart Watch (2 Pcs Fitbit Ionic Charger Cable)\\nMinimal Product Name: Fitian Fitbit Ionic Charging Cable\\n\\nNow, produce the minimal product name for the following product title:\\nProduct Title: \"Fitian Fitbit Ionic Charging Cable, Replacement USB Charging Cord Cable Accessories Charger Cable Adapter for Fitbit Ionic Wristband Smart Watch (2 Pcs Fitbit Ionic Charger Cable) …Minimal Product name is:\"',\n",
              " 'Task: Summarize the following product title into a concise 2–5 word product name. Your answer must include only the essential words—no extra commentary, punctuation, or formatting.\\n\\nExample 1:\\nProduct Title: VUIIMEEK Square Case for iPhone 12 Pro Max 6.7\", Cute White Flowers Clear Print Design Slim Flexible Soft TPU High Impact Shockproof Case Reinforced Bumper Cool Protective Crystal Cover (Green Leaves)\\nMinimal Product Name: iphone 12 pro max square case\\n\\nExample 2:\\nProduct Title: Fitian Fitbit Ionic Charging Cable, Replacement USB Charging Cord Cable Accessories Charger Cable Adapter for Fitbit Ionic Wristband Smart Watch (2 Pcs Fitbit Ionic Charger Cable)\\nMinimal Product Name: Fitian Fitbit Ionic Charging Cable\\n\\nNow, produce the minimal product name for the following product title:\\nProduct Title: \"Keytas Compatible with iPhone XR Screen Replacement Kit 6.1 Inch LCD for iPhone XR 3D Display Touch Screen Digitizer Full Assembly with Tools Kit+ Screen Tempered Protector+ Waterproof Frame AdhesiveMinimal Product name is:\"',\n",
              " 'Task: Summarize the following product title into a concise 2–5 word product name. Your answer must include only the essential words—no extra commentary, punctuation, or formatting.\\n\\nExample 1:\\nProduct Title: VUIIMEEK Square Case for iPhone 12 Pro Max 6.7\", Cute White Flowers Clear Print Design Slim Flexible Soft TPU High Impact Shockproof Case Reinforced Bumper Cool Protective Crystal Cover (Green Leaves)\\nMinimal Product Name: iphone 12 pro max square case\\n\\nExample 2:\\nProduct Title: Fitian Fitbit Ionic Charging Cable, Replacement USB Charging Cord Cable Accessories Charger Cable Adapter for Fitbit Ionic Wristband Smart Watch (2 Pcs Fitbit Ionic Charger Cable)\\nMinimal Product Name: Fitian Fitbit Ionic Charging Cable\\n\\nNow, produce the minimal product name for the following product title:\\nProduct Title: \"TORRAS COOLIFY Zone 7 Midnight GreenMinimal Product name is:\"',\n",
              " 'Task: Summarize the following product title into a concise 2–5 word product name. Your answer must include only the essential words—no extra commentary, punctuation, or formatting.\\n\\nExample 1:\\nProduct Title: VUIIMEEK Square Case for iPhone 12 Pro Max 6.7\", Cute White Flowers Clear Print Design Slim Flexible Soft TPU High Impact Shockproof Case Reinforced Bumper Cool Protective Crystal Cover (Green Leaves)\\nMinimal Product Name: iphone 12 pro max square case\\n\\nExample 2:\\nProduct Title: Fitian Fitbit Ionic Charging Cable, Replacement USB Charging Cord Cable Accessories Charger Cable Adapter for Fitbit Ionic Wristband Smart Watch (2 Pcs Fitbit Ionic Charger Cable)\\nMinimal Product Name: Fitian Fitbit Ionic Charging Cable\\n\\nNow, produce the minimal product name for the following product title:\\nProduct Title: \"Gino Retro Style Paris Eiffel Tower Doodle Design IMD Hard Back Case Cover for iPhone 5 5GMinimal Product name is:\"',\n",
              " 'Task: Summarize the following product title into a concise 2–5 word product name. Your answer must include only the essential words—no extra commentary, punctuation, or formatting.\\n\\nExample 1:\\nProduct Title: VUIIMEEK Square Case for iPhone 12 Pro Max 6.7\", Cute White Flowers Clear Print Design Slim Flexible Soft TPU High Impact Shockproof Case Reinforced Bumper Cool Protective Crystal Cover (Green Leaves)\\nMinimal Product Name: iphone 12 pro max square case\\n\\nExample 2:\\nProduct Title: Fitian Fitbit Ionic Charging Cable, Replacement USB Charging Cord Cable Accessories Charger Cable Adapter for Fitbit Ionic Wristband Smart Watch (2 Pcs Fitbit Ionic Charger Cable)\\nMinimal Product Name: Fitian Fitbit Ionic Charging Cable\\n\\nNow, produce the minimal product name for the following product title:\\nProduct Title: \"Magnetic Wireless Charging Station for Apple Series, 3-in-1 Standard 15W Fast Mag-Safe Charger Stand with QC3.0 Adapter, for iPhone 14,13,12 Pro Max/Pro/Mini/Plus, iWatch Ultra/8/7/6/5/4/3/2, AirPods…Minimal Product name is:\"',\n",
              " 'Task: Summarize the following product title into a concise 2–5 word product name. Your answer must include only the essential words—no extra commentary, punctuation, or formatting.\\n\\nExample 1:\\nProduct Title: VUIIMEEK Square Case for iPhone 12 Pro Max 6.7\", Cute White Flowers Clear Print Design Slim Flexible Soft TPU High Impact Shockproof Case Reinforced Bumper Cool Protective Crystal Cover (Green Leaves)\\nMinimal Product Name: iphone 12 pro max square case\\n\\nExample 2:\\nProduct Title: Fitian Fitbit Ionic Charging Cable, Replacement USB Charging Cord Cable Accessories Charger Cable Adapter for Fitbit Ionic Wristband Smart Watch (2 Pcs Fitbit Ionic Charger Cable)\\nMinimal Product Name: Fitian Fitbit Ionic Charging Cable\\n\\nNow, produce the minimal product name for the following product title:\\nProduct Title: \"Power Theory 2-Pack Screen Protector for iPhone 13 Pro Max Premium Shatter Resistant Tempered Glass [9H Hardness], Easy Install, 99.99% HD Clear, Bubble Free, Case Friendly, Anti-Scratch, Anti-SmudgeMinimal Product name is:\"',\n",
              " 'Task: Summarize the following product title into a concise 2–5 word product name. Your answer must include only the essential words—no extra commentary, punctuation, or formatting.\\n\\nExample 1:\\nProduct Title: VUIIMEEK Square Case for iPhone 12 Pro Max 6.7\", Cute White Flowers Clear Print Design Slim Flexible Soft TPU High Impact Shockproof Case Reinforced Bumper Cool Protective Crystal Cover (Green Leaves)\\nMinimal Product Name: iphone 12 pro max square case\\n\\nExample 2:\\nProduct Title: Fitian Fitbit Ionic Charging Cable, Replacement USB Charging Cord Cable Accessories Charger Cable Adapter for Fitbit Ionic Wristband Smart Watch (2 Pcs Fitbit Ionic Charger Cable)\\nMinimal Product Name: Fitian Fitbit Ionic Charging Cable\\n\\nNow, produce the minimal product name for the following product title:\\nProduct Title: \"Honsky Thumbs-up Phone Stand for Tablets, E-readers and Smart Phones - 2 Pack - Green, PurpleMinimal Product name is:\"',\n",
              " 'Task: Summarize the following product title into a concise 2–5 word product name. Your answer must include only the essential words—no extra commentary, punctuation, or formatting.\\n\\nExample 1:\\nProduct Title: VUIIMEEK Square Case for iPhone 12 Pro Max 6.7\", Cute White Flowers Clear Print Design Slim Flexible Soft TPU High Impact Shockproof Case Reinforced Bumper Cool Protective Crystal Cover (Green Leaves)\\nMinimal Product Name: iphone 12 pro max square case\\n\\nExample 2:\\nProduct Title: Fitian Fitbit Ionic Charging Cable, Replacement USB Charging Cord Cable Accessories Charger Cable Adapter for Fitbit Ionic Wristband Smart Watch (2 Pcs Fitbit Ionic Charger Cable)\\nMinimal Product Name: Fitian Fitbit Ionic Charging Cable\\n\\nNow, produce the minimal product name for the following product title:\\nProduct Title: \"For iphone 5c Case,Kecko(TM) Defender Body Armor Realtree Camo High Impact Tough Silicon Rubber Military Rugged Protective Case with Camouflage Wood Design for iphone 5C Only (Bird Black)Minimal Product name is:\"',\n",
              " 'Task: Summarize the following product title into a concise 2–5 word product name. Your answer must include only the essential words—no extra commentary, punctuation, or formatting.\\n\\nExample 1:\\nProduct Title: VUIIMEEK Square Case for iPhone 12 Pro Max 6.7\", Cute White Flowers Clear Print Design Slim Flexible Soft TPU High Impact Shockproof Case Reinforced Bumper Cool Protective Crystal Cover (Green Leaves)\\nMinimal Product Name: iphone 12 pro max square case\\n\\nExample 2:\\nProduct Title: Fitian Fitbit Ionic Charging Cable, Replacement USB Charging Cord Cable Accessories Charger Cable Adapter for Fitbit Ionic Wristband Smart Watch (2 Pcs Fitbit Ionic Charger Cable)\\nMinimal Product Name: Fitian Fitbit Ionic Charging Cable\\n\\nNow, produce the minimal product name for the following product title:\\nProduct Title: \"pop-tech 9 Pack Sticky Adhesive Replacement Parts, 6 Pack 3M VHB Sticker Pads for Socket Mount Base Grip Stand Back,3 Pcs Dots Strong Double Sided Tape for Magnetic Phone Holder & Finger Ring HolderMinimal Product name is:\"',\n",
              " 'Task: Summarize the following product title into a concise 2–5 word product name. Your answer must include only the essential words—no extra commentary, punctuation, or formatting.\\n\\nExample 1:\\nProduct Title: VUIIMEEK Square Case for iPhone 12 Pro Max 6.7\", Cute White Flowers Clear Print Design Slim Flexible Soft TPU High Impact Shockproof Case Reinforced Bumper Cool Protective Crystal Cover (Green Leaves)\\nMinimal Product Name: iphone 12 pro max square case\\n\\nExample 2:\\nProduct Title: Fitian Fitbit Ionic Charging Cable, Replacement USB Charging Cord Cable Accessories Charger Cable Adapter for Fitbit Ionic Wristband Smart Watch (2 Pcs Fitbit Ionic Charger Cable)\\nMinimal Product Name: Fitian Fitbit Ionic Charging Cable\\n\\nNow, produce the minimal product name for the following product title:\\nProduct Title: \"pop-tech Car Grips Mount for Phone Stand, 2 Pack Car Phone Holder for Collapsible Grip/Socket Mount Users with 3M Sticky Adhesive Replacement Used on Dashboard, Home, Desk, Wall - BlackMinimal Product name is:\"',\n",
              " 'Task: Summarize the following product title into a concise 2–5 word product name. Your answer must include only the essential words—no extra commentary, punctuation, or formatting.\\n\\nExample 1:\\nProduct Title: VUIIMEEK Square Case for iPhone 12 Pro Max 6.7\", Cute White Flowers Clear Print Design Slim Flexible Soft TPU High Impact Shockproof Case Reinforced Bumper Cool Protective Crystal Cover (Green Leaves)\\nMinimal Product Name: iphone 12 pro max square case\\n\\nExample 2:\\nProduct Title: Fitian Fitbit Ionic Charging Cable, Replacement USB Charging Cord Cable Accessories Charger Cable Adapter for Fitbit Ionic Wristband Smart Watch (2 Pcs Fitbit Ionic Charger Cable)\\nMinimal Product Name: Fitian Fitbit Ionic Charging Cable\\n\\nNow, produce the minimal product name for the following product title:\\nProduct Title: \"Smartish iPhone 7 Plus / 8 Plus Tough Case - Silk Armor [Protective Rugged Grip Cover] - Guardzilla - Includes 2 Tempered Glass Screen Protectors [Silk] - SmokeMinimal Product name is:\"',\n",
              " 'Task: Summarize the following product title into a concise 2–5 word product name. Your answer must include only the essential words—no extra commentary, punctuation, or formatting.\\n\\nExample 1:\\nProduct Title: VUIIMEEK Square Case for iPhone 12 Pro Max 6.7\", Cute White Flowers Clear Print Design Slim Flexible Soft TPU High Impact Shockproof Case Reinforced Bumper Cool Protective Crystal Cover (Green Leaves)\\nMinimal Product Name: iphone 12 pro max square case\\n\\nExample 2:\\nProduct Title: Fitian Fitbit Ionic Charging Cable, Replacement USB Charging Cord Cable Accessories Charger Cable Adapter for Fitbit Ionic Wristband Smart Watch (2 Pcs Fitbit Ionic Charger Cable)\\nMinimal Product Name: Fitian Fitbit Ionic Charging Cable\\n\\nNow, produce the minimal product name for the following product title:\\nProduct Title: \"PopSockets: Collapsible Grip & Stand for Phones and Tablets - CatstronautMinimal Product name is:\"',\n",
              " 'Task: Summarize the following product title into a concise 2–5 word product name. Your answer must include only the essential words—no extra commentary, punctuation, or formatting.\\n\\nExample 1:\\nProduct Title: VUIIMEEK Square Case for iPhone 12 Pro Max 6.7\", Cute White Flowers Clear Print Design Slim Flexible Soft TPU High Impact Shockproof Case Reinforced Bumper Cool Protective Crystal Cover (Green Leaves)\\nMinimal Product Name: iphone 12 pro max square case\\n\\nExample 2:\\nProduct Title: Fitian Fitbit Ionic Charging Cable, Replacement USB Charging Cord Cable Accessories Charger Cable Adapter for Fitbit Ionic Wristband Smart Watch (2 Pcs Fitbit Ionic Charger Cable)\\nMinimal Product Name: Fitian Fitbit Ionic Charging Cable\\n\\nNow, produce the minimal product name for the following product title:\\nProduct Title: \"Smartish iPhone 8 Plus / 7 Plus Slim Case - Gripmunk [Lightweight + Protective] Thin Cover for Apple iPhone 7 Plus / 8 Plus (Silk) - Nothin\\' to HideMinimal Product name is:\"',\n",
              " 'Task: Summarize the following product title into a concise 2–5 word product name. Your answer must include only the essential words—no extra commentary, punctuation, or formatting.\\n\\nExample 1:\\nProduct Title: VUIIMEEK Square Case for iPhone 12 Pro Max 6.7\", Cute White Flowers Clear Print Design Slim Flexible Soft TPU High Impact Shockproof Case Reinforced Bumper Cool Protective Crystal Cover (Green Leaves)\\nMinimal Product Name: iphone 12 pro max square case\\n\\nExample 2:\\nProduct Title: Fitian Fitbit Ionic Charging Cable, Replacement USB Charging Cord Cable Accessories Charger Cable Adapter for Fitbit Ionic Wristband Smart Watch (2 Pcs Fitbit Ionic Charger Cable)\\nMinimal Product Name: Fitian Fitbit Ionic Charging Cable\\n\\nNow, produce the minimal product name for the following product title:\\nProduct Title: \"Tech21 Evo Gem 3-Layer Drop Protection Case for Apple iPhone 7 Plus 5.5\" (Green)Minimal Product name is:\"',\n",
              " 'Task: Summarize the following product title into a concise 2–5 word product name. Your answer must include only the essential words—no extra commentary, punctuation, or formatting.\\n\\nExample 1:\\nProduct Title: VUIIMEEK Square Case for iPhone 12 Pro Max 6.7\", Cute White Flowers Clear Print Design Slim Flexible Soft TPU High Impact Shockproof Case Reinforced Bumper Cool Protective Crystal Cover (Green Leaves)\\nMinimal Product Name: iphone 12 pro max square case\\n\\nExample 2:\\nProduct Title: Fitian Fitbit Ionic Charging Cable, Replacement USB Charging Cord Cable Accessories Charger Cable Adapter for Fitbit Ionic Wristband Smart Watch (2 Pcs Fitbit Ionic Charger Cable)\\nMinimal Product Name: Fitian Fitbit Ionic Charging Cable\\n\\nNow, produce the minimal product name for the following product title:\\nProduct Title: \"ICHECKEY Finger Ring Stand 360° Rotation Cell Phone Ring Stand Holder Grip Kickstand Universal Mobile Phone Ring for iPhone XR Xs X 8 7 Plus 6S 6, Samsung Galaxy S6 S7 S8 S8 Plus, Note, LG（Gunmetal）Minimal Product name is:\"',\n",
              " 'Task: Summarize the following product title into a concise 2–5 word product name. Your answer must include only the essential words—no extra commentary, punctuation, or formatting.\\n\\nExample 1:\\nProduct Title: VUIIMEEK Square Case for iPhone 12 Pro Max 6.7\", Cute White Flowers Clear Print Design Slim Flexible Soft TPU High Impact Shockproof Case Reinforced Bumper Cool Protective Crystal Cover (Green Leaves)\\nMinimal Product Name: iphone 12 pro max square case\\n\\nExample 2:\\nProduct Title: Fitian Fitbit Ionic Charging Cable, Replacement USB Charging Cord Cable Accessories Charger Cable Adapter for Fitbit Ionic Wristband Smart Watch (2 Pcs Fitbit Ionic Charger Cable)\\nMinimal Product Name: Fitian Fitbit Ionic Charging Cable\\n\\nNow, produce the minimal product name for the following product title:\\nProduct Title: \"Cell Phone Clip On Stand Holder with Grip Flexible Long Arm Gooseneck Bracket Mount Clamp Compatible with iPhone X/8/7/6/6S Plus Samsung S8/S7, Used for Bed, Desktop, BlackMinimal Product name is:\"',\n",
              " 'Task: Summarize the following product title into a concise 2–5 word product name. Your answer must include only the essential words—no extra commentary, punctuation, or formatting.\\n\\nExample 1:\\nProduct Title: VUIIMEEK Square Case for iPhone 12 Pro Max 6.7\", Cute White Flowers Clear Print Design Slim Flexible Soft TPU High Impact Shockproof Case Reinforced Bumper Cool Protective Crystal Cover (Green Leaves)\\nMinimal Product Name: iphone 12 pro max square case\\n\\nExample 2:\\nProduct Title: Fitian Fitbit Ionic Charging Cable, Replacement USB Charging Cord Cable Accessories Charger Cable Adapter for Fitbit Ionic Wristband Smart Watch (2 Pcs Fitbit Ionic Charger Cable)\\nMinimal Product Name: Fitian Fitbit Ionic Charging Cable\\n\\nNow, produce the minimal product name for the following product title:\\nProduct Title: \"Spigen Liquid Crystal Designed for Google Pixel 2 Case (2017) - Crystal ClearMinimal Product name is:\"',\n",
              " 'Task: Summarize the following product title into a concise 2–5 word product name. Your answer must include only the essential words—no extra commentary, punctuation, or formatting.\\n\\nExample 1:\\nProduct Title: VUIIMEEK Square Case for iPhone 12 Pro Max 6.7\", Cute White Flowers Clear Print Design Slim Flexible Soft TPU High Impact Shockproof Case Reinforced Bumper Cool Protective Crystal Cover (Green Leaves)\\nMinimal Product Name: iphone 12 pro max square case\\n\\nExample 2:\\nProduct Title: Fitian Fitbit Ionic Charging Cable, Replacement USB Charging Cord Cable Accessories Charger Cable Adapter for Fitbit Ionic Wristband Smart Watch (2 Pcs Fitbit Ionic Charger Cable)\\nMinimal Product Name: Fitian Fitbit Ionic Charging Cable\\n\\nNow, produce the minimal product name for the following product title:\\nProduct Title: \"Tribit Bluetooth Headset, Wireless Headset with Microphone Qualcomm CVC 8.0 AI Noise Canceling for Trucker Office, 50H Talk Time Mute Button Headset with Adapter for Computer Cell Phones, CallElite81Minimal Product name is:\"',\n",
              " 'Task: Summarize the following product title into a concise 2–5 word product name. Your answer must include only the essential words—no extra commentary, punctuation, or formatting.\\n\\nExample 1:\\nProduct Title: VUIIMEEK Square Case for iPhone 12 Pro Max 6.7\", Cute White Flowers Clear Print Design Slim Flexible Soft TPU High Impact Shockproof Case Reinforced Bumper Cool Protective Crystal Cover (Green Leaves)\\nMinimal Product Name: iphone 12 pro max square case\\n\\nExample 2:\\nProduct Title: Fitian Fitbit Ionic Charging Cable, Replacement USB Charging Cord Cable Accessories Charger Cable Adapter for Fitbit Ionic Wristband Smart Watch (2 Pcs Fitbit Ionic Charger Cable)\\nMinimal Product Name: Fitian Fitbit Ionic Charging Cable\\n\\nNow, produce the minimal product name for the following product title:\\nProduct Title: \"amFilm Glass Screen Protector for HTC One M9 Tempered GlassMinimal Product name is:\"',\n",
              " 'Task: Summarize the following product title into a concise 2–5 word product name. Your answer must include only the essential words—no extra commentary, punctuation, or formatting.\\n\\nExample 1:\\nProduct Title: VUIIMEEK Square Case for iPhone 12 Pro Max 6.7\", Cute White Flowers Clear Print Design Slim Flexible Soft TPU High Impact Shockproof Case Reinforced Bumper Cool Protective Crystal Cover (Green Leaves)\\nMinimal Product Name: iphone 12 pro max square case\\n\\nExample 2:\\nProduct Title: Fitian Fitbit Ionic Charging Cable, Replacement USB Charging Cord Cable Accessories Charger Cable Adapter for Fitbit Ionic Wristband Smart Watch (2 Pcs Fitbit Ionic Charger Cable)\\nMinimal Product Name: Fitian Fitbit Ionic Charging Cable\\n\\nNow, produce the minimal product name for the following product title:\\nProduct Title: \"TechMatte Car Mount, MagGrip Air Vent Magnetic Universal Car Mount Holder for Smartphones Including iPhone 7, 6, 6S, Galaxy S7, S7 Edge Black, Portable Electronic Device MountMinimal Product name is:\"',\n",
              " 'Task: Summarize the following product title into a concise 2–5 word product name. Your answer must include only the essential words—no extra commentary, punctuation, or formatting.\\n\\nExample 1:\\nProduct Title: VUIIMEEK Square Case for iPhone 12 Pro Max 6.7\", Cute White Flowers Clear Print Design Slim Flexible Soft TPU High Impact Shockproof Case Reinforced Bumper Cool Protective Crystal Cover (Green Leaves)\\nMinimal Product Name: iphone 12 pro max square case\\n\\nExample 2:\\nProduct Title: Fitian Fitbit Ionic Charging Cable, Replacement USB Charging Cord Cable Accessories Charger Cable Adapter for Fitbit Ionic Wristband Smart Watch (2 Pcs Fitbit Ionic Charger Cable)\\nMinimal Product Name: Fitian Fitbit Ionic Charging Cable\\n\\nNow, produce the minimal product name for the following product title:\\nProduct Title: \"Poyiccot USB 3.1 Type C to Type C Male to Male Cable 2ft/60cm, USB C to USB C Sync & Charging Cable Super Speed 10Gbps for MacBook (Pro), Nintendo Switch (USB C M/M)Minimal Product name is:\"',\n",
              " 'Task: Summarize the following product title into a concise 2–5 word product name. Your answer must include only the essential words—no extra commentary, punctuation, or formatting.\\n\\nExample 1:\\nProduct Title: VUIIMEEK Square Case for iPhone 12 Pro Max 6.7\", Cute White Flowers Clear Print Design Slim Flexible Soft TPU High Impact Shockproof Case Reinforced Bumper Cool Protective Crystal Cover (Green Leaves)\\nMinimal Product Name: iphone 12 pro max square case\\n\\nExample 2:\\nProduct Title: Fitian Fitbit Ionic Charging Cable, Replacement USB Charging Cord Cable Accessories Charger Cable Adapter for Fitbit Ionic Wristband Smart Watch (2 Pcs Fitbit Ionic Charger Cable)\\nMinimal Product Name: Fitian Fitbit Ionic Charging Cable\\n\\nNow, produce the minimal product name for the following product title:\\nProduct Title: \"TJS Phone Case Compatible with LG Stylo 5/Stylo 5 Plus/Stylo 5V/Stylo 5X, with [Full Coverage Tempered Glass Screen Protector] Defender Metal Ring Magnetic Support Kickstand Heavy Duty (Rose Gold)Minimal Product name is:\"',\n",
              " 'Task: Summarize the following product title into a concise 2–5 word product name. Your answer must include only the essential words—no extra commentary, punctuation, or formatting.\\n\\nExample 1:\\nProduct Title: VUIIMEEK Square Case for iPhone 12 Pro Max 6.7\", Cute White Flowers Clear Print Design Slim Flexible Soft TPU High Impact Shockproof Case Reinforced Bumper Cool Protective Crystal Cover (Green Leaves)\\nMinimal Product Name: iphone 12 pro max square case\\n\\nExample 2:\\nProduct Title: Fitian Fitbit Ionic Charging Cable, Replacement USB Charging Cord Cable Accessories Charger Cable Adapter for Fitbit Ionic Wristband Smart Watch (2 Pcs Fitbit Ionic Charger Cable)\\nMinimal Product Name: Fitian Fitbit Ionic Charging Cable\\n\\nNow, produce the minimal product name for the following product title:\\nProduct Title: \"Adaptive Fast Charger Adapter Compatible Samsung Galaxy S9 S9 Plus S8 S8+ S10 S10e Note 8 Note 9, Wall Charger Adapter Block with USB Type C Cable Kit(Black)Minimal Product name is:\"',\n",
              " 'Task: Summarize the following product title into a concise 2–5 word product name. Your answer must include only the essential words—no extra commentary, punctuation, or formatting.\\n\\nExample 1:\\nProduct Title: VUIIMEEK Square Case for iPhone 12 Pro Max 6.7\", Cute White Flowers Clear Print Design Slim Flexible Soft TPU High Impact Shockproof Case Reinforced Bumper Cool Protective Crystal Cover (Green Leaves)\\nMinimal Product Name: iphone 12 pro max square case\\n\\nExample 2:\\nProduct Title: Fitian Fitbit Ionic Charging Cable, Replacement USB Charging Cord Cable Accessories Charger Cable Adapter for Fitbit Ionic Wristband Smart Watch (2 Pcs Fitbit Ionic Charger Cable)\\nMinimal Product Name: Fitian Fitbit Ionic Charging Cable\\n\\nNow, produce the minimal product name for the following product title:\\nProduct Title: \"JETech Replacement Band for Apple Watch 42mm and 44mm Series 1 2 3 4, Stainless SteelMinimal Product name is:\"',\n",
              " 'Task: Summarize the following product title into a concise 2–5 word product name. Your answer must include only the essential words—no extra commentary, punctuation, or formatting.\\n\\nExample 1:\\nProduct Title: VUIIMEEK Square Case for iPhone 12 Pro Max 6.7\", Cute White Flowers Clear Print Design Slim Flexible Soft TPU High Impact Shockproof Case Reinforced Bumper Cool Protective Crystal Cover (Green Leaves)\\nMinimal Product Name: iphone 12 pro max square case\\n\\nExample 2:\\nProduct Title: Fitian Fitbit Ionic Charging Cable, Replacement USB Charging Cord Cable Accessories Charger Cable Adapter for Fitbit Ionic Wristband Smart Watch (2 Pcs Fitbit Ionic Charger Cable)\\nMinimal Product Name: Fitian Fitbit Ionic Charging Cable\\n\\nNow, produce the minimal product name for the following product title:\\nProduct Title: \"iOttie Easy One Touch 2 Car Mount Holder Universal Phone Compatible with IPhone XS Max R 8/8 Plus 7 7 Plus 6s Plus 6s 6 SE Samsung Galaxy S8 Plus S8 Edge S7 S6 Note 9Minimal Product name is:\"',\n",
              " 'Task: Summarize the following product title into a concise 2–5 word product name. Your answer must include only the essential words—no extra commentary, punctuation, or formatting.\\n\\nExample 1:\\nProduct Title: VUIIMEEK Square Case for iPhone 12 Pro Max 6.7\", Cute White Flowers Clear Print Design Slim Flexible Soft TPU High Impact Shockproof Case Reinforced Bumper Cool Protective Crystal Cover (Green Leaves)\\nMinimal Product Name: iphone 12 pro max square case\\n\\nExample 2:\\nProduct Title: Fitian Fitbit Ionic Charging Cable, Replacement USB Charging Cord Cable Accessories Charger Cable Adapter for Fitbit Ionic Wristband Smart Watch (2 Pcs Fitbit Ionic Charger Cable)\\nMinimal Product Name: Fitian Fitbit Ionic Charging Cable\\n\\nNow, produce the minimal product name for the following product title:\\nProduct Title: \"LUVVITT iPhone 6s Plus Case, [Ultra Armor] Shock Absorbing Case Best Heavy Duty Dual Layer Tough Cover for iPhone 6/6s Plus Black/Teal Mint GreenMinimal Product name is:\"',\n",
              " 'Task: Summarize the following product title into a concise 2–5 word product name. Your answer must include only the essential words—no extra commentary, punctuation, or formatting.\\n\\nExample 1:\\nProduct Title: VUIIMEEK Square Case for iPhone 12 Pro Max 6.7\", Cute White Flowers Clear Print Design Slim Flexible Soft TPU High Impact Shockproof Case Reinforced Bumper Cool Protective Crystal Cover (Green Leaves)\\nMinimal Product Name: iphone 12 pro max square case\\n\\nExample 2:\\nProduct Title: Fitian Fitbit Ionic Charging Cable, Replacement USB Charging Cord Cable Accessories Charger Cable Adapter for Fitbit Ionic Wristband Smart Watch (2 Pcs Fitbit Ionic Charger Cable)\\nMinimal Product Name: Fitian Fitbit Ionic Charging Cable\\n\\nNow, produce the minimal product name for the following product title:\\nProduct Title: \"IQ Shield Screen Protector Compatible with Apple Watch Series 1 (42mm)(6-Pack) LiquidSkin Anti-Bubble Clear FilmMinimal Product name is:\"',\n",
              " 'Task: Summarize the following product title into a concise 2–5 word product name. Your answer must include only the essential words—no extra commentary, punctuation, or formatting.\\n\\nExample 1:\\nProduct Title: VUIIMEEK Square Case for iPhone 12 Pro Max 6.7\", Cute White Flowers Clear Print Design Slim Flexible Soft TPU High Impact Shockproof Case Reinforced Bumper Cool Protective Crystal Cover (Green Leaves)\\nMinimal Product Name: iphone 12 pro max square case\\n\\nExample 2:\\nProduct Title: Fitian Fitbit Ionic Charging Cable, Replacement USB Charging Cord Cable Accessories Charger Cable Adapter for Fitbit Ionic Wristband Smart Watch (2 Pcs Fitbit Ionic Charger Cable)\\nMinimal Product Name: Fitian Fitbit Ionic Charging Cable\\n\\nNow, produce the minimal product name for the following product title:\\nProduct Title: \"JAHOLAN Compatible iPhone Xs Max Case Clear Cute Amusing Whimsical Design Green Hungry Dinosaur Flexible Bumper TPU Soft Rubber Silicone Cover Phone Case for iPhone Xs Max 2018 6.5 inchMinimal Product name is:\"',\n",
              " 'Task: Summarize the following product title into a concise 2–5 word product name. Your answer must include only the essential words—no extra commentary, punctuation, or formatting.\\n\\nExample 1:\\nProduct Title: VUIIMEEK Square Case for iPhone 12 Pro Max 6.7\", Cute White Flowers Clear Print Design Slim Flexible Soft TPU High Impact Shockproof Case Reinforced Bumper Cool Protective Crystal Cover (Green Leaves)\\nMinimal Product Name: iphone 12 pro max square case\\n\\nExample 2:\\nProduct Title: Fitian Fitbit Ionic Charging Cable, Replacement USB Charging Cord Cable Accessories Charger Cable Adapter for Fitbit Ionic Wristband Smart Watch (2 Pcs Fitbit Ionic Charger Cable)\\nMinimal Product Name: Fitian Fitbit Ionic Charging Cable\\n\\nNow, produce the minimal product name for the following product title:\\nProduct Title: \"iPhone 8 Plus / 7 Plus Matte Glass Screen Protector, Mothca Anti-Glare & Anti-Fingerprint No Dazzling 9H Hardness HD Tempered Glass Shield Film for iPhone 8 Plus/7 Plus, Smooth as Silk Amazing TouchMinimal Product name is:\"',\n",
              " 'Task: Summarize the following product title into a concise 2–5 word product name. Your answer must include only the essential words—no extra commentary, punctuation, or formatting.\\n\\nExample 1:\\nProduct Title: VUIIMEEK Square Case for iPhone 12 Pro Max 6.7\", Cute White Flowers Clear Print Design Slim Flexible Soft TPU High Impact Shockproof Case Reinforced Bumper Cool Protective Crystal Cover (Green Leaves)\\nMinimal Product Name: iphone 12 pro max square case\\n\\nExample 2:\\nProduct Title: Fitian Fitbit Ionic Charging Cable, Replacement USB Charging Cord Cable Accessories Charger Cable Adapter for Fitbit Ionic Wristband Smart Watch (2 Pcs Fitbit Ionic Charger Cable)\\nMinimal Product Name: Fitian Fitbit Ionic Charging Cable\\n\\nNow, produce the minimal product name for the following product title:\\nProduct Title: \"180°Rotation Phone Charger Stand Holder，3in1 Charger Dock, Charging Stand for Apple iwatch/Airpods/ipad and Most Smartphones (Gray)Minimal Product name is:\"',\n",
              " 'Task: Summarize the following product title into a concise 2–5 word product name. Your answer must include only the essential words—no extra commentary, punctuation, or formatting.\\n\\nExample 1:\\nProduct Title: VUIIMEEK Square Case for iPhone 12 Pro Max 6.7\", Cute White Flowers Clear Print Design Slim Flexible Soft TPU High Impact Shockproof Case Reinforced Bumper Cool Protective Crystal Cover (Green Leaves)\\nMinimal Product Name: iphone 12 pro max square case\\n\\nExample 2:\\nProduct Title: Fitian Fitbit Ionic Charging Cable, Replacement USB Charging Cord Cable Accessories Charger Cable Adapter for Fitbit Ionic Wristband Smart Watch (2 Pcs Fitbit Ionic Charger Cable)\\nMinimal Product Name: Fitian Fitbit Ionic Charging Cable\\n\\nNow, produce the minimal product name for the following product title:\\nProduct Title: \"Yootech Wireless Charger,10W Max Fast Wireless Charging Pad Compatible with iPhone 14/14 Plus/14 Pro/14 Pro Max/13/13 Mini/SE 2022/12/11/X/8,Samsung Galaxy S22/S21/S20,AirPods Pro 2(No AC Adapter)Minimal Product name is:\"',\n",
              " 'Task: Summarize the following product title into a concise 2–5 word product name. Your answer must include only the essential words—no extra commentary, punctuation, or formatting.\\n\\nExample 1:\\nProduct Title: VUIIMEEK Square Case for iPhone 12 Pro Max 6.7\", Cute White Flowers Clear Print Design Slim Flexible Soft TPU High Impact Shockproof Case Reinforced Bumper Cool Protective Crystal Cover (Green Leaves)\\nMinimal Product Name: iphone 12 pro max square case\\n\\nExample 2:\\nProduct Title: Fitian Fitbit Ionic Charging Cable, Replacement USB Charging Cord Cable Accessories Charger Cable Adapter for Fitbit Ionic Wristband Smart Watch (2 Pcs Fitbit Ionic Charger Cable)\\nMinimal Product Name: Fitian Fitbit Ionic Charging Cable\\n\\nNow, produce the minimal product name for the following product title:\\nProduct Title: \"ELV Wallet Case for Samsung Galaxy S9 [PU Leather] Detachable 2in1 Folio Purse for Samsung S9 Credit Card Flip Case Protective with Card Slots, Stand and Magnetic Closure (HOT Pink)Minimal Product name is:\"',\n",
              " 'Task: Summarize the following product title into a concise 2–5 word product name. Your answer must include only the essential words—no extra commentary, punctuation, or formatting.\\n\\nExample 1:\\nProduct Title: VUIIMEEK Square Case for iPhone 12 Pro Max 6.7\", Cute White Flowers Clear Print Design Slim Flexible Soft TPU High Impact Shockproof Case Reinforced Bumper Cool Protective Crystal Cover (Green Leaves)\\nMinimal Product Name: iphone 12 pro max square case\\n\\nExample 2:\\nProduct Title: Fitian Fitbit Ionic Charging Cable, Replacement USB Charging Cord Cable Accessories Charger Cable Adapter for Fitbit Ionic Wristband Smart Watch (2 Pcs Fitbit Ionic Charger Cable)\\nMinimal Product Name: Fitian Fitbit Ionic Charging Cable\\n\\nNow, produce the minimal product name for the following product title:\\nProduct Title: \"BENTOBEN Galaxy S6 Case, Samsung Galaxy S6 Case, Sparkly Glitter S6 Wallet Case Luxury Flip PU Leather Credit Card Holder Cash Pockets Wristlet Protective Case for Samsung Galaxy S6, Rose GoldMinimal Product name is:\"',\n",
              " 'Task: Summarize the following product title into a concise 2–5 word product name. Your answer must include only the essential words—no extra commentary, punctuation, or formatting.\\n\\nExample 1:\\nProduct Title: VUIIMEEK Square Case for iPhone 12 Pro Max 6.7\", Cute White Flowers Clear Print Design Slim Flexible Soft TPU High Impact Shockproof Case Reinforced Bumper Cool Protective Crystal Cover (Green Leaves)\\nMinimal Product Name: iphone 12 pro max square case\\n\\nExample 2:\\nProduct Title: Fitian Fitbit Ionic Charging Cable, Replacement USB Charging Cord Cable Accessories Charger Cable Adapter for Fitbit Ionic Wristband Smart Watch (2 Pcs Fitbit Ionic Charger Cable)\\nMinimal Product Name: Fitian Fitbit Ionic Charging Cable\\n\\nNow, produce the minimal product name for the following product title:\\nProduct Title: \"Samsung S9,Galaxy S9 Wallet Case,Fingic Luxury Glitter Wallet Case Nickel Plated Press Stud[Cash Holder][Wrist Strap][Magnetic Snap Closure]Protective Cover for Samsung Galaxy S9 (5.8inch),Rose GoldMinimal Product name is:\"',\n",
              " 'Task: Summarize the following product title into a concise 2–5 word product name. Your answer must include only the essential words—no extra commentary, punctuation, or formatting.\\n\\nExample 1:\\nProduct Title: VUIIMEEK Square Case for iPhone 12 Pro Max 6.7\", Cute White Flowers Clear Print Design Slim Flexible Soft TPU High Impact Shockproof Case Reinforced Bumper Cool Protective Crystal Cover (Green Leaves)\\nMinimal Product Name: iphone 12 pro max square case\\n\\nExample 2:\\nProduct Title: Fitian Fitbit Ionic Charging Cable, Replacement USB Charging Cord Cable Accessories Charger Cable Adapter for Fitbit Ionic Wristband Smart Watch (2 Pcs Fitbit Ionic Charger Cable)\\nMinimal Product Name: Fitian Fitbit Ionic Charging Cable\\n\\nNow, produce the minimal product name for the following product title:\\nProduct Title: \"ZTE Blade A3 Lite 5.0\" 18:9 Display, 8MP Camera Quad-Core Android 9.0 Go (LTE USA Latin Caribbean) 4G LTE GSM Unlocked Smartphone - International Version (Black, 32GB)Minimal Product name is:\"',\n",
              " 'Task: Summarize the following product title into a concise 2–5 word product name. Your answer must include only the essential words—no extra commentary, punctuation, or formatting.\\n\\nExample 1:\\nProduct Title: VUIIMEEK Square Case for iPhone 12 Pro Max 6.7\", Cute White Flowers Clear Print Design Slim Flexible Soft TPU High Impact Shockproof Case Reinforced Bumper Cool Protective Crystal Cover (Green Leaves)\\nMinimal Product Name: iphone 12 pro max square case\\n\\nExample 2:\\nProduct Title: Fitian Fitbit Ionic Charging Cable, Replacement USB Charging Cord Cable Accessories Charger Cable Adapter for Fitbit Ionic Wristband Smart Watch (2 Pcs Fitbit Ionic Charger Cable)\\nMinimal Product Name: Fitian Fitbit Ionic Charging Cable\\n\\nNow, produce the minimal product name for the following product title:\\nProduct Title: \"TracFone Blu View 2 4G LTE Prepaid Smartphone (Locked) - Black - 32GB - Sim Card Included - CDMAMinimal Product name is:\"',\n",
              " 'Task: Summarize the following product title into a concise 2–5 word product name. Your answer must include only the essential words—no extra commentary, punctuation, or formatting.\\n\\nExample 1:\\nProduct Title: VUIIMEEK Square Case for iPhone 12 Pro Max 6.7\", Cute White Flowers Clear Print Design Slim Flexible Soft TPU High Impact Shockproof Case Reinforced Bumper Cool Protective Crystal Cover (Green Leaves)\\nMinimal Product Name: iphone 12 pro max square case\\n\\nExample 2:\\nProduct Title: Fitian Fitbit Ionic Charging Cable, Replacement USB Charging Cord Cable Accessories Charger Cable Adapter for Fitbit Ionic Wristband Smart Watch (2 Pcs Fitbit Ionic Charger Cable)\\nMinimal Product Name: Fitian Fitbit Ionic Charging Cable\\n\\nNow, produce the minimal product name for the following product title:\\nProduct Title: \"BoxWave Charger Compatible with Kindle Fire (1st Gen 2011) - Wall Charger Direct (5W), Wall Plug Charger for Kindle Fire (1st Gen 2011), Amazon Kindle Fire (1st Gen 2011)Minimal Product name is:\"',\n",
              " 'Task: Summarize the following product title into a concise 2–5 word product name. Your answer must include only the essential words—no extra commentary, punctuation, or formatting.\\n\\nExample 1:\\nProduct Title: VUIIMEEK Square Case for iPhone 12 Pro Max 6.7\", Cute White Flowers Clear Print Design Slim Flexible Soft TPU High Impact Shockproof Case Reinforced Bumper Cool Protective Crystal Cover (Green Leaves)\\nMinimal Product Name: iphone 12 pro max square case\\n\\nExample 2:\\nProduct Title: Fitian Fitbit Ionic Charging Cable, Replacement USB Charging Cord Cable Accessories Charger Cable Adapter for Fitbit Ionic Wristband Smart Watch (2 Pcs Fitbit Ionic Charger Cable)\\nMinimal Product Name: Fitian Fitbit Ionic Charging Cable\\n\\nNow, produce the minimal product name for the following product title:\\nProduct Title: \"Anker 313 Wireless Charger (Pad), Qi-Certified 10W Max for iPhone 14/14 Pro/14 Pro Max/13/13 Pro Max, AirPods (No AC Adapter, Not Compatible with MagSafe Magnetic Charging)Minimal Product name is:\"',\n",
              " 'Task: Summarize the following product title into a concise 2–5 word product name. Your answer must include only the essential words—no extra commentary, punctuation, or formatting.\\n\\nExample 1:\\nProduct Title: VUIIMEEK Square Case for iPhone 12 Pro Max 6.7\", Cute White Flowers Clear Print Design Slim Flexible Soft TPU High Impact Shockproof Case Reinforced Bumper Cool Protective Crystal Cover (Green Leaves)\\nMinimal Product Name: iphone 12 pro max square case\\n\\nExample 2:\\nProduct Title: Fitian Fitbit Ionic Charging Cable, Replacement USB Charging Cord Cable Accessories Charger Cable Adapter for Fitbit Ionic Wristband Smart Watch (2 Pcs Fitbit Ionic Charger Cable)\\nMinimal Product Name: Fitian Fitbit Ionic Charging Cable\\n\\nNow, produce the minimal product name for the following product title:\\nProduct Title: \"Bling Diamond Case for Samsung Galaxy S10 Plus,Aearl 3D Homemade Luxury Sparkle Crystal Rhinestone Shiny Glitter Full Clear Stones Back Phone Cover with Screen Protector for Galaxy S10 Plus-All WhiteMinimal Product name is:\"',\n",
              " 'Task: Summarize the following product title into a concise 2–5 word product name. Your answer must include only the essential words—no extra commentary, punctuation, or formatting.\\n\\nExample 1:\\nProduct Title: VUIIMEEK Square Case for iPhone 12 Pro Max 6.7\", Cute White Flowers Clear Print Design Slim Flexible Soft TPU High Impact Shockproof Case Reinforced Bumper Cool Protective Crystal Cover (Green Leaves)\\nMinimal Product Name: iphone 12 pro max square case\\n\\nExample 2:\\nProduct Title: Fitian Fitbit Ionic Charging Cable, Replacement USB Charging Cord Cable Accessories Charger Cable Adapter for Fitbit Ionic Wristband Smart Watch (2 Pcs Fitbit Ionic Charger Cable)\\nMinimal Product Name: Fitian Fitbit Ionic Charging Cable\\n\\nNow, produce the minimal product name for the following product title:\\nProduct Title: \"Alpha Go Cell Phone Stand, Yoga Dog Eyeglass Holder, Business Card Display, Compatible with iPhone, All Android Smartphone Charging, Desktop Accessories PalMinimal Product name is:\"',\n",
              " 'Task: Summarize the following product title into a concise 2–5 word product name. Your answer must include only the essential words—no extra commentary, punctuation, or formatting.\\n\\nExample 1:\\nProduct Title: VUIIMEEK Square Case for iPhone 12 Pro Max 6.7\", Cute White Flowers Clear Print Design Slim Flexible Soft TPU High Impact Shockproof Case Reinforced Bumper Cool Protective Crystal Cover (Green Leaves)\\nMinimal Product Name: iphone 12 pro max square case\\n\\nExample 2:\\nProduct Title: Fitian Fitbit Ionic Charging Cable, Replacement USB Charging Cord Cable Accessories Charger Cable Adapter for Fitbit Ionic Wristband Smart Watch (2 Pcs Fitbit Ionic Charger Cable)\\nMinimal Product Name: Fitian Fitbit Ionic Charging Cable\\n\\nNow, produce the minimal product name for the following product title:\\nProduct Title: \"Nokia Lumia 635 8GB Unlocked GSM 4G LTE Windows 8.1 Quad-Core Smartphone - BlackMinimal Product name is:\"',\n",
              " 'Task: Summarize the following product title into a concise 2–5 word product name. Your answer must include only the essential words—no extra commentary, punctuation, or formatting.\\n\\nExample 1:\\nProduct Title: VUIIMEEK Square Case for iPhone 12 Pro Max 6.7\", Cute White Flowers Clear Print Design Slim Flexible Soft TPU High Impact Shockproof Case Reinforced Bumper Cool Protective Crystal Cover (Green Leaves)\\nMinimal Product Name: iphone 12 pro max square case\\n\\nExample 2:\\nProduct Title: Fitian Fitbit Ionic Charging Cable, Replacement USB Charging Cord Cable Accessories Charger Cable Adapter for Fitbit Ionic Wristband Smart Watch (2 Pcs Fitbit Ionic Charger Cable)\\nMinimal Product Name: Fitian Fitbit Ionic Charging Cable\\n\\nNow, produce the minimal product name for the following product title:\\nProduct Title: \"PhoneProp Soft Flexible Universal Fit Smartphone Stand FDA Grade Non-Slip Silicone - BlackMinimal Product name is:\"',\n",
              " 'Task: Summarize the following product title into a concise 2–5 word product name. Your answer must include only the essential words—no extra commentary, punctuation, or formatting.\\n\\nExample 1:\\nProduct Title: VUIIMEEK Square Case for iPhone 12 Pro Max 6.7\", Cute White Flowers Clear Print Design Slim Flexible Soft TPU High Impact Shockproof Case Reinforced Bumper Cool Protective Crystal Cover (Green Leaves)\\nMinimal Product Name: iphone 12 pro max square case\\n\\nExample 2:\\nProduct Title: Fitian Fitbit Ionic Charging Cable, Replacement USB Charging Cord Cable Accessories Charger Cable Adapter for Fitbit Ionic Wristband Smart Watch (2 Pcs Fitbit Ionic Charger Cable)\\nMinimal Product Name: Fitian Fitbit Ionic Charging Cable\\n\\nNow, produce the minimal product name for the following product title:\\nProduct Title: \"Kyocera Clip S2100 Prepaid Phone (payLo by Virgin Mobile)Minimal Product name is:\"',\n",
              " 'Task: Summarize the following product title into a concise 2–5 word product name. Your answer must include only the essential words—no extra commentary, punctuation, or formatting.\\n\\nExample 1:\\nProduct Title: VUIIMEEK Square Case for iPhone 12 Pro Max 6.7\", Cute White Flowers Clear Print Design Slim Flexible Soft TPU High Impact Shockproof Case Reinforced Bumper Cool Protective Crystal Cover (Green Leaves)\\nMinimal Product Name: iphone 12 pro max square case\\n\\nExample 2:\\nProduct Title: Fitian Fitbit Ionic Charging Cable, Replacement USB Charging Cord Cable Accessories Charger Cable Adapter for Fitbit Ionic Wristband Smart Watch (2 Pcs Fitbit Ionic Charger Cable)\\nMinimal Product Name: Fitian Fitbit Ionic Charging Cable\\n\\nNow, produce the minimal product name for the following product title:\\nProduct Title: \"iSaddle CH368 Ulimate Car Rearview Mirror Mount Kit Dash Cam Holder for Yi Smart Dash Cam/Apeman/Z-Edge/BlackBox/Spy Tec/Transcend/DOD/Papago/Vicovation/HP Bicycle Handlebar HolderMinimal Product name is:\"',\n",
              " 'Task: Summarize the following product title into a concise 2–5 word product name. Your answer must include only the essential words—no extra commentary, punctuation, or formatting.\\n\\nExample 1:\\nProduct Title: VUIIMEEK Square Case for iPhone 12 Pro Max 6.7\", Cute White Flowers Clear Print Design Slim Flexible Soft TPU High Impact Shockproof Case Reinforced Bumper Cool Protective Crystal Cover (Green Leaves)\\nMinimal Product Name: iphone 12 pro max square case\\n\\nExample 2:\\nProduct Title: Fitian Fitbit Ionic Charging Cable, Replacement USB Charging Cord Cable Accessories Charger Cable Adapter for Fitbit Ionic Wristband Smart Watch (2 Pcs Fitbit Ionic Charger Cable)\\nMinimal Product Name: Fitian Fitbit Ionic Charging Cable\\n\\nNow, produce the minimal product name for the following product title:\\nProduct Title: \"Premium Composite AV Cable + USB Charging Sync Cable for Apple Iphone 3G (Compatible with Firmware Version 2.2), iPhone 8GB, 16GB, iPhone 2G, iPod Nano (3rd / 4th Generation), iPod Touch (1st / 2nd Generation) 8GB, 16GB, 32GB, iPod Classic (DOES NOT WORK WITH IPHONE 4 / IPAD)Minimal Product name is:\"',\n",
              " 'Task: Summarize the following product title into a concise 2–5 word product name. Your answer must include only the essential words—no extra commentary, punctuation, or formatting.\\n\\nExample 1:\\nProduct Title: VUIIMEEK Square Case for iPhone 12 Pro Max 6.7\", Cute White Flowers Clear Print Design Slim Flexible Soft TPU High Impact Shockproof Case Reinforced Bumper Cool Protective Crystal Cover (Green Leaves)\\nMinimal Product Name: iphone 12 pro max square case\\n\\nExample 2:\\nProduct Title: Fitian Fitbit Ionic Charging Cable, Replacement USB Charging Cord Cable Accessories Charger Cable Adapter for Fitbit Ionic Wristband Smart Watch (2 Pcs Fitbit Ionic Charger Cable)\\nMinimal Product Name: Fitian Fitbit Ionic Charging Cable\\n\\nNow, produce the minimal product name for the following product title:\\nProduct Title: \"Macally CD Phone Holder for Car, CD Slot Phone Mount - Easy to Install Player, One Hand Operation, and Compatible with All Apple iPhone Android Smartphones Cell PhonesMinimal Product name is:\"',\n",
              " 'Task: Summarize the following product title into a concise 2–5 word product name. Your answer must include only the essential words—no extra commentary, punctuation, or formatting.\\n\\nExample 1:\\nProduct Title: VUIIMEEK Square Case for iPhone 12 Pro Max 6.7\", Cute White Flowers Clear Print Design Slim Flexible Soft TPU High Impact Shockproof Case Reinforced Bumper Cool Protective Crystal Cover (Green Leaves)\\nMinimal Product Name: iphone 12 pro max square case\\n\\nExample 2:\\nProduct Title: Fitian Fitbit Ionic Charging Cable, Replacement USB Charging Cord Cable Accessories Charger Cable Adapter for Fitbit Ionic Wristband Smart Watch (2 Pcs Fitbit Ionic Charger Cable)\\nMinimal Product Name: Fitian Fitbit Ionic Charging Cable\\n\\nNow, produce the minimal product name for the following product title:\\nProduct Title: \"Yiakeng Compatible for LG K30 Case, LG Premier Pro LTE Case, LG K10 2018 Case, Dual Layer Shockproof Slim Protective with Kickstand Hard Phone Cover for LG K30 (Black)Minimal Product name is:\"',\n",
              " 'Task: Summarize the following product title into a concise 2–5 word product name. Your answer must include only the essential words—no extra commentary, punctuation, or formatting.\\n\\nExample 1:\\nProduct Title: VUIIMEEK Square Case for iPhone 12 Pro Max 6.7\", Cute White Flowers Clear Print Design Slim Flexible Soft TPU High Impact Shockproof Case Reinforced Bumper Cool Protective Crystal Cover (Green Leaves)\\nMinimal Product Name: iphone 12 pro max square case\\n\\nExample 2:\\nProduct Title: Fitian Fitbit Ionic Charging Cable, Replacement USB Charging Cord Cable Accessories Charger Cable Adapter for Fitbit Ionic Wristband Smart Watch (2 Pcs Fitbit Ionic Charger Cable)\\nMinimal Product Name: Fitian Fitbit Ionic Charging Cable\\n\\nNow, produce the minimal product name for the following product title:\\nProduct Title: \"[2 Pack] Julk 49mm Case Compatible for 2022 New Apple Watch Ultra Screen Protector, [Full Coverage] HD TPU Ultra-Thin Protective Cover for iWatch, TransparentMinimal Product name is:\"',\n",
              " 'Task: Summarize the following product title into a concise 2–5 word product name. Your answer must include only the essential words—no extra commentary, punctuation, or formatting.\\n\\nExample 1:\\nProduct Title: VUIIMEEK Square Case for iPhone 12 Pro Max 6.7\", Cute White Flowers Clear Print Design Slim Flexible Soft TPU High Impact Shockproof Case Reinforced Bumper Cool Protective Crystal Cover (Green Leaves)\\nMinimal Product Name: iphone 12 pro max square case\\n\\nExample 2:\\nProduct Title: Fitian Fitbit Ionic Charging Cable, Replacement USB Charging Cord Cable Accessories Charger Cable Adapter for Fitbit Ionic Wristband Smart Watch (2 Pcs Fitbit Ionic Charger Cable)\\nMinimal Product Name: Fitian Fitbit Ionic Charging Cable\\n\\nNow, produce the minimal product name for the following product title:\\nProduct Title: \"KingMas Multi-functional mobile phone Holder / Mount / Clip / Buckle Socket Hands Free on Car Steering Wheel for iPhone, PDA and Smart CellphonesMinimal Product name is:\"',\n",
              " 'Task: Summarize the following product title into a concise 2–5 word product name. Your answer must include only the essential words—no extra commentary, punctuation, or formatting.\\n\\nExample 1:\\nProduct Title: VUIIMEEK Square Case for iPhone 12 Pro Max 6.7\", Cute White Flowers Clear Print Design Slim Flexible Soft TPU High Impact Shockproof Case Reinforced Bumper Cool Protective Crystal Cover (Green Leaves)\\nMinimal Product Name: iphone 12 pro max square case\\n\\nExample 2:\\nProduct Title: Fitian Fitbit Ionic Charging Cable, Replacement USB Charging Cord Cable Accessories Charger Cable Adapter for Fitbit Ionic Wristband Smart Watch (2 Pcs Fitbit Ionic Charger Cable)\\nMinimal Product Name: Fitian Fitbit Ionic Charging Cable\\n\\nNow, produce the minimal product name for the following product title:\\nProduct Title: \"iPhone 6 Mirror Screen Protector, MPERO Collection 5-Pack of Mirror Screen Protectors for Apple iPhone 6 4.7\"Minimal Product name is:\"',\n",
              " 'Task: Summarize the following product title into a concise 2–5 word product name. Your answer must include only the essential words—no extra commentary, punctuation, or formatting.\\n\\nExample 1:\\nProduct Title: VUIIMEEK Square Case for iPhone 12 Pro Max 6.7\", Cute White Flowers Clear Print Design Slim Flexible Soft TPU High Impact Shockproof Case Reinforced Bumper Cool Protective Crystal Cover (Green Leaves)\\nMinimal Product Name: iphone 12 pro max square case\\n\\nExample 2:\\nProduct Title: Fitian Fitbit Ionic Charging Cable, Replacement USB Charging Cord Cable Accessories Charger Cable Adapter for Fitbit Ionic Wristband Smart Watch (2 Pcs Fitbit Ionic Charger Cable)\\nMinimal Product Name: Fitian Fitbit Ionic Charging Cable\\n\\nNow, produce the minimal product name for the following product title:\\nProduct Title: \"Wkae Apple iPhone 6 Cover Case - Ultra Thin Luminous Glow Silk in the Dark Hard Case Cover for Apple iPhone 6 4.7\" Inch by Diebell (Blue)Minimal Product name is:\"',\n",
              " 'Task: Summarize the following product title into a concise 2–5 word product name. Your answer must include only the essential words—no extra commentary, punctuation, or formatting.\\n\\nExample 1:\\nProduct Title: VUIIMEEK Square Case for iPhone 12 Pro Max 6.7\", Cute White Flowers Clear Print Design Slim Flexible Soft TPU High Impact Shockproof Case Reinforced Bumper Cool Protective Crystal Cover (Green Leaves)\\nMinimal Product Name: iphone 12 pro max square case\\n\\nExample 2:\\nProduct Title: Fitian Fitbit Ionic Charging Cable, Replacement USB Charging Cord Cable Accessories Charger Cable Adapter for Fitbit Ionic Wristband Smart Watch (2 Pcs Fitbit Ionic Charger Cable)\\nMinimal Product Name: Fitian Fitbit Ionic Charging Cable\\n\\nNow, produce the minimal product name for the following product title:\\nProduct Title: \"Vvhome 3 in 1 MFI certified Apple Authorized Portable compact Keychain Battery Pack. Works with Apple iPhone 5 / iPhone 5S / iPhone 5C / 8pin (1. External battery bank 1000mah, 2. USB Flash Drive 16GB, 3. Built in Lightning charge cable)Minimal Product name is:\"',\n",
              " 'Task: Summarize the following product title into a concise 2–5 word product name. Your answer must include only the essential words—no extra commentary, punctuation, or formatting.\\n\\nExample 1:\\nProduct Title: VUIIMEEK Square Case for iPhone 12 Pro Max 6.7\", Cute White Flowers Clear Print Design Slim Flexible Soft TPU High Impact Shockproof Case Reinforced Bumper Cool Protective Crystal Cover (Green Leaves)\\nMinimal Product Name: iphone 12 pro max square case\\n\\nExample 2:\\nProduct Title: Fitian Fitbit Ionic Charging Cable, Replacement USB Charging Cord Cable Accessories Charger Cable Adapter for Fitbit Ionic Wristband Smart Watch (2 Pcs Fitbit Ionic Charger Cable)\\nMinimal Product Name: Fitian Fitbit Ionic Charging Cable\\n\\nNow, produce the minimal product name for the following product title:\\nProduct Title: \"iPhone 6 Case, TruGlue TIRE Series Armor Defender Protective Tough Dual Layer Protection Case for {iPhone 6-4.7 inch -} (White)Minimal Product name is:\"',\n",
              " 'Task: Summarize the following product title into a concise 2–5 word product name. Your answer must include only the essential words—no extra commentary, punctuation, or formatting.\\n\\nExample 1:\\nProduct Title: VUIIMEEK Square Case for iPhone 12 Pro Max 6.7\", Cute White Flowers Clear Print Design Slim Flexible Soft TPU High Impact Shockproof Case Reinforced Bumper Cool Protective Crystal Cover (Green Leaves)\\nMinimal Product Name: iphone 12 pro max square case\\n\\nExample 2:\\nProduct Title: Fitian Fitbit Ionic Charging Cable, Replacement USB Charging Cord Cable Accessories Charger Cable Adapter for Fitbit Ionic Wristband Smart Watch (2 Pcs Fitbit Ionic Charger Cable)\\nMinimal Product Name: Fitian Fitbit Ionic Charging Cable\\n\\nNow, produce the minimal product name for the following product title:\\nProduct Title: \"MOSNOVO Astronaut Planet Pattern Designed for iPhone Xs Case/Designed for iPhone X Case,Clear Case with Design,TPU Bumper with Protective Hard Case CoverMinimal Product name is:\"',\n",
              " 'Task: Summarize the following product title into a concise 2–5 word product name. Your answer must include only the essential words—no extra commentary, punctuation, or formatting.\\n\\nExample 1:\\nProduct Title: VUIIMEEK Square Case for iPhone 12 Pro Max 6.7\", Cute White Flowers Clear Print Design Slim Flexible Soft TPU High Impact Shockproof Case Reinforced Bumper Cool Protective Crystal Cover (Green Leaves)\\nMinimal Product Name: iphone 12 pro max square case\\n\\nExample 2:\\nProduct Title: Fitian Fitbit Ionic Charging Cable, Replacement USB Charging Cord Cable Accessories Charger Cable Adapter for Fitbit Ionic Wristband Smart Watch (2 Pcs Fitbit Ionic Charger Cable)\\nMinimal Product Name: Fitian Fitbit Ionic Charging Cable\\n\\nNow, produce the minimal product name for the following product title:\\nProduct Title: \"Intek Car Windshield & Dashboard Mount for Iphone 4/4s/5/5c, Galaxy S4/S3/S2, Galaxy Note 1/2/3 HTC One,/One x, Droid Razr Maxx - Retail PackagingMinimal Product name is:\"',\n",
              " 'Task: Summarize the following product title into a concise 2–5 word product name. Your answer must include only the essential words—no extra commentary, punctuation, or formatting.\\n\\nExample 1:\\nProduct Title: VUIIMEEK Square Case for iPhone 12 Pro Max 6.7\", Cute White Flowers Clear Print Design Slim Flexible Soft TPU High Impact Shockproof Case Reinforced Bumper Cool Protective Crystal Cover (Green Leaves)\\nMinimal Product Name: iphone 12 pro max square case\\n\\nExample 2:\\nProduct Title: Fitian Fitbit Ionic Charging Cable, Replacement USB Charging Cord Cable Accessories Charger Cable Adapter for Fitbit Ionic Wristband Smart Watch (2 Pcs Fitbit Ionic Charger Cable)\\nMinimal Product Name: Fitian Fitbit Ionic Charging Cable\\n\\nNow, produce the minimal product name for the following product title:\\nProduct Title: \"Spigen Tempered Glass Screen Protector [GlasTR EZ FIT] designed for iPhone 14 / iPhone 13 Pro/iPhone 13 [2 Pack]Minimal Product name is:\"',\n",
              " 'Task: Summarize the following product title into a concise 2–5 word product name. Your answer must include only the essential words—no extra commentary, punctuation, or formatting.\\n\\nExample 1:\\nProduct Title: VUIIMEEK Square Case for iPhone 12 Pro Max 6.7\", Cute White Flowers Clear Print Design Slim Flexible Soft TPU High Impact Shockproof Case Reinforced Bumper Cool Protective Crystal Cover (Green Leaves)\\nMinimal Product Name: iphone 12 pro max square case\\n\\nExample 2:\\nProduct Title: Fitian Fitbit Ionic Charging Cable, Replacement USB Charging Cord Cable Accessories Charger Cable Adapter for Fitbit Ionic Wristband Smart Watch (2 Pcs Fitbit Ionic Charger Cable)\\nMinimal Product Name: Fitian Fitbit Ionic Charging Cable\\n\\nNow, produce the minimal product name for the following product title:\\nProduct Title: \"Anker Magnetic Phone Grip (MagGo), 610 Magnetic Phone Ring Holder, Adjustable Kickstand, Only for iPhone 14/14 Pro/14 Pro Max/14 Plus/13/13 Pro/13 Mini/13 Pro Max/12/12 Pro/12 Mini/12 Pro MaxMinimal Product name is:\"',\n",
              " 'Task: Summarize the following product title into a concise 2–5 word product name. Your answer must include only the essential words—no extra commentary, punctuation, or formatting.\\n\\nExample 1:\\nProduct Title: VUIIMEEK Square Case for iPhone 12 Pro Max 6.7\", Cute White Flowers Clear Print Design Slim Flexible Soft TPU High Impact Shockproof Case Reinforced Bumper Cool Protective Crystal Cover (Green Leaves)\\nMinimal Product Name: iphone 12 pro max square case\\n\\nExample 2:\\nProduct Title: Fitian Fitbit Ionic Charging Cable, Replacement USB Charging Cord Cable Accessories Charger Cable Adapter for Fitbit Ionic Wristband Smart Watch (2 Pcs Fitbit Ionic Charger Cable)\\nMinimal Product Name: Fitian Fitbit Ionic Charging Cable\\n\\nNow, produce the minimal product name for the following product title:\\nProduct Title: \"Lifeproof FRĒ SERIES Waterproof Case for iPhone 8 PLUS & 7 PLUS (ONLY) - Retail Packaging - CHAKRA (ROSE/FUSION CORAL/ROYAL LILAC)Minimal Product name is:\"',\n",
              " 'Task: Summarize the following product title into a concise 2–5 word product name. Your answer must include only the essential words—no extra commentary, punctuation, or formatting.\\n\\nExample 1:\\nProduct Title: VUIIMEEK Square Case for iPhone 12 Pro Max 6.7\", Cute White Flowers Clear Print Design Slim Flexible Soft TPU High Impact Shockproof Case Reinforced Bumper Cool Protective Crystal Cover (Green Leaves)\\nMinimal Product Name: iphone 12 pro max square case\\n\\nExample 2:\\nProduct Title: Fitian Fitbit Ionic Charging Cable, Replacement USB Charging Cord Cable Accessories Charger Cable Adapter for Fitbit Ionic Wristband Smart Watch (2 Pcs Fitbit Ionic Charger Cable)\\nMinimal Product Name: Fitian Fitbit Ionic Charging Cable\\n\\nNow, produce the minimal product name for the following product title:\\nProduct Title: \"Lankashi Stand Premium Retro Business Flip Leather Case Protector Bumper for Unimax UMX U693CL Assurancewireless TPU Silicone Protection Phone Cover Skin Folio Book Card Slot Wallet Magnetic（Blue）Minimal Product name is:\"',\n",
              " 'Task: Summarize the following product title into a concise 2–5 word product name. Your answer must include only the essential words—no extra commentary, punctuation, or formatting.\\n\\nExample 1:\\nProduct Title: VUIIMEEK Square Case for iPhone 12 Pro Max 6.7\", Cute White Flowers Clear Print Design Slim Flexible Soft TPU High Impact Shockproof Case Reinforced Bumper Cool Protective Crystal Cover (Green Leaves)\\nMinimal Product Name: iphone 12 pro max square case\\n\\nExample 2:\\nProduct Title: Fitian Fitbit Ionic Charging Cable, Replacement USB Charging Cord Cable Accessories Charger Cable Adapter for Fitbit Ionic Wristband Smart Watch (2 Pcs Fitbit Ionic Charger Cable)\\nMinimal Product Name: Fitian Fitbit Ionic Charging Cable\\n\\nNow, produce the minimal product name for the following product title:\\nProduct Title: \"Samsung Qi Certified Wireless Charging Pad with 2A Wall Charger- Supports charging on Qi compatible smartphones including the Samsung Galaxy S8, S8+, Note 8, Apple iPhone 8, iPhone 8 Plus, and iPhone X (US Version) - Black SapphireMinimal Product name is:\"',\n",
              " 'Task: Summarize the following product title into a concise 2–5 word product name. Your answer must include only the essential words—no extra commentary, punctuation, or formatting.\\n\\nExample 1:\\nProduct Title: VUIIMEEK Square Case for iPhone 12 Pro Max 6.7\", Cute White Flowers Clear Print Design Slim Flexible Soft TPU High Impact Shockproof Case Reinforced Bumper Cool Protective Crystal Cover (Green Leaves)\\nMinimal Product Name: iphone 12 pro max square case\\n\\nExample 2:\\nProduct Title: Fitian Fitbit Ionic Charging Cable, Replacement USB Charging Cord Cable Accessories Charger Cable Adapter for Fitbit Ionic Wristband Smart Watch (2 Pcs Fitbit Ionic Charger Cable)\\nMinimal Product Name: Fitian Fitbit Ionic Charging Cable\\n\\nNow, produce the minimal product name for the following product title:\\nProduct Title: \"icover LG Velvet Case, Heavy Duty Rugged Military Shockproof Case Dual Layer Hybrid PC + Silicone Case Built-in Kickstand for LG Velvet 5G 2020 (Purple)Minimal Product name is:\"',\n",
              " 'Task: Summarize the following product title into a concise 2–5 word product name. Your answer must include only the essential words—no extra commentary, punctuation, or formatting.\\n\\nExample 1:\\nProduct Title: VUIIMEEK Square Case for iPhone 12 Pro Max 6.7\", Cute White Flowers Clear Print Design Slim Flexible Soft TPU High Impact Shockproof Case Reinforced Bumper Cool Protective Crystal Cover (Green Leaves)\\nMinimal Product Name: iphone 12 pro max square case\\n\\nExample 2:\\nProduct Title: Fitian Fitbit Ionic Charging Cable, Replacement USB Charging Cord Cable Accessories Charger Cable Adapter for Fitbit Ionic Wristband Smart Watch (2 Pcs Fitbit Ionic Charger Cable)\\nMinimal Product Name: Fitian Fitbit Ionic Charging Cable\\n\\nNow, produce the minimal product name for the following product title:\\nProduct Title: \"GTElectro Brushed Carbon Fiber Texture Soft Flexible TPU Shockproof Protective Case Cover for LG Velvet/LG Velvet 5G (Black)Minimal Product name is:\"',\n",
              " 'Task: Summarize the following product title into a concise 2–5 word product name. Your answer must include only the essential words—no extra commentary, punctuation, or formatting.\\n\\nExample 1:\\nProduct Title: VUIIMEEK Square Case for iPhone 12 Pro Max 6.7\", Cute White Flowers Clear Print Design Slim Flexible Soft TPU High Impact Shockproof Case Reinforced Bumper Cool Protective Crystal Cover (Green Leaves)\\nMinimal Product Name: iphone 12 pro max square case\\n\\nExample 2:\\nProduct Title: Fitian Fitbit Ionic Charging Cable, Replacement USB Charging Cord Cable Accessories Charger Cable Adapter for Fitbit Ionic Wristband Smart Watch (2 Pcs Fitbit Ionic Charger Cable)\\nMinimal Product Name: Fitian Fitbit Ionic Charging Cable\\n\\nNow, produce the minimal product name for the following product title:\\nProduct Title: \"Shally Women\\'s Galaxy & Crescent Cosmic Moon Pendant Necklace 17.5\\'\\' Chain Most GiftMinimal Product name is:\"',\n",
              " 'Task: Summarize the following product title into a concise 2–5 word product name. Your answer must include only the essential words—no extra commentary, punctuation, or formatting.\\n\\nExample 1:\\nProduct Title: VUIIMEEK Square Case for iPhone 12 Pro Max 6.7\", Cute White Flowers Clear Print Design Slim Flexible Soft TPU High Impact Shockproof Case Reinforced Bumper Cool Protective Crystal Cover (Green Leaves)\\nMinimal Product Name: iphone 12 pro max square case\\n\\nExample 2:\\nProduct Title: Fitian Fitbit Ionic Charging Cable, Replacement USB Charging Cord Cable Accessories Charger Cable Adapter for Fitbit Ionic Wristband Smart Watch (2 Pcs Fitbit Ionic Charger Cable)\\nMinimal Product Name: Fitian Fitbit Ionic Charging Cable\\n\\nNow, produce the minimal product name for the following product title:\\nProduct Title: \"Rienar Multi-Function Portable Spider Flexible Grip Holder for Smartphones and TabletsMinimal Product name is:\"',\n",
              " 'Task: Summarize the following product title into a concise 2–5 word product name. Your answer must include only the essential words—no extra commentary, punctuation, or formatting.\\n\\nExample 1:\\nProduct Title: VUIIMEEK Square Case for iPhone 12 Pro Max 6.7\", Cute White Flowers Clear Print Design Slim Flexible Soft TPU High Impact Shockproof Case Reinforced Bumper Cool Protective Crystal Cover (Green Leaves)\\nMinimal Product Name: iphone 12 pro max square case\\n\\nExample 2:\\nProduct Title: Fitian Fitbit Ionic Charging Cable, Replacement USB Charging Cord Cable Accessories Charger Cable Adapter for Fitbit Ionic Wristband Smart Watch (2 Pcs Fitbit Ionic Charger Cable)\\nMinimal Product Name: Fitian Fitbit Ionic Charging Cable\\n\\nNow, produce the minimal product name for the following product title:\\nProduct Title: \"Fast Wireless Charger, NANAMI Qi Certified Wireless Charging Stand Compatible iPhone 14/13/12/SE/11 Pro/XS Max/XR/8 Plus, Samsung Galaxy S23/S22/S21/S20/S10/S9/Note 20 Ultra/10/9 and Qi-Enabled PhoneMinimal Product name is:\"',\n",
              " 'Task: Summarize the following product title into a concise 2–5 word product name. Your answer must include only the essential words—no extra commentary, punctuation, or formatting.\\n\\nExample 1:\\nProduct Title: VUIIMEEK Square Case for iPhone 12 Pro Max 6.7\", Cute White Flowers Clear Print Design Slim Flexible Soft TPU High Impact Shockproof Case Reinforced Bumper Cool Protective Crystal Cover (Green Leaves)\\nMinimal Product Name: iphone 12 pro max square case\\n\\nExample 2:\\nProduct Title: Fitian Fitbit Ionic Charging Cable, Replacement USB Charging Cord Cable Accessories Charger Cable Adapter for Fitbit Ionic Wristband Smart Watch (2 Pcs Fitbit Ionic Charger Cable)\\nMinimal Product Name: Fitian Fitbit Ionic Charging Cable\\n\\nNow, produce the minimal product name for the following product title:\\nProduct Title: \"SHENMZ LG V20 Battery,6800mAh (More Than 2X Extra Battery Power) Replacement LG V20 Extended Battery BL-44E1F with Black TPU Case for LG H910 H918 VS995 LS997 Phone | LG V20 Battery CaseMinimal Product name is:\"',\n",
              " 'Task: Summarize the following product title into a concise 2–5 word product name. Your answer must include only the essential words—no extra commentary, punctuation, or formatting.\\n\\nExample 1:\\nProduct Title: VUIIMEEK Square Case for iPhone 12 Pro Max 6.7\", Cute White Flowers Clear Print Design Slim Flexible Soft TPU High Impact Shockproof Case Reinforced Bumper Cool Protective Crystal Cover (Green Leaves)\\nMinimal Product Name: iphone 12 pro max square case\\n\\nExample 2:\\nProduct Title: Fitian Fitbit Ionic Charging Cable, Replacement USB Charging Cord Cable Accessories Charger Cable Adapter for Fitbit Ionic Wristband Smart Watch (2 Pcs Fitbit Ionic Charger Cable)\\nMinimal Product Name: Fitian Fitbit Ionic Charging Cable\\n\\nNow, produce the minimal product name for the following product title:\\nProduct Title: \"ideallife Upgrade Wireless Charging Station for Multiple Devices 9-in-1 LCD Display QC 3.0 Fast Charging Dock Organizer with 8 USB Port 10W Qi Wireless Charging Pad Compatible with IPhone Ipad SamsungMinimal Product name is:\"',\n",
              " 'Task: Summarize the following product title into a concise 2–5 word product name. Your answer must include only the essential words—no extra commentary, punctuation, or formatting.\\n\\nExample 1:\\nProduct Title: VUIIMEEK Square Case for iPhone 12 Pro Max 6.7\", Cute White Flowers Clear Print Design Slim Flexible Soft TPU High Impact Shockproof Case Reinforced Bumper Cool Protective Crystal Cover (Green Leaves)\\nMinimal Product Name: iphone 12 pro max square case\\n\\nExample 2:\\nProduct Title: Fitian Fitbit Ionic Charging Cable, Replacement USB Charging Cord Cable Accessories Charger Cable Adapter for Fitbit Ionic Wristband Smart Watch (2 Pcs Fitbit Ionic Charger Cable)\\nMinimal Product Name: Fitian Fitbit Ionic Charging Cable\\n\\nNow, produce the minimal product name for the following product title:\\nProduct Title: \"for Apple iPhone 4 4G Touch Screen Digitizer and LCD Assembly - White (AT&T GSM Model)Minimal Product name is:\"',\n",
              " 'Task: Summarize the following product title into a concise 2–5 word product name. Your answer must include only the essential words—no extra commentary, punctuation, or formatting.\\n\\nExample 1:\\nProduct Title: VUIIMEEK Square Case for iPhone 12 Pro Max 6.7\", Cute White Flowers Clear Print Design Slim Flexible Soft TPU High Impact Shockproof Case Reinforced Bumper Cool Protective Crystal Cover (Green Leaves)\\nMinimal Product Name: iphone 12 pro max square case\\n\\nExample 2:\\nProduct Title: Fitian Fitbit Ionic Charging Cable, Replacement USB Charging Cord Cable Accessories Charger Cable Adapter for Fitbit Ionic Wristband Smart Watch (2 Pcs Fitbit Ionic Charger Cable)\\nMinimal Product Name: Fitian Fitbit Ionic Charging Cable\\n\\nNow, produce the minimal product name for the following product title:\\nProduct Title: \"GoodPro 3IN1 Hybrid Armor Bumper Case with Screen Protector, Stylus and Cleaning Cloth for Apple iPhone 4/4S - Black/BlueMinimal Product name is:\"',\n",
              " 'Task: Summarize the following product title into a concise 2–5 word product name. Your answer must include only the essential words—no extra commentary, punctuation, or formatting.\\n\\nExample 1:\\nProduct Title: VUIIMEEK Square Case for iPhone 12 Pro Max 6.7\", Cute White Flowers Clear Print Design Slim Flexible Soft TPU High Impact Shockproof Case Reinforced Bumper Cool Protective Crystal Cover (Green Leaves)\\nMinimal Product Name: iphone 12 pro max square case\\n\\nExample 2:\\nProduct Title: Fitian Fitbit Ionic Charging Cable, Replacement USB Charging Cord Cable Accessories Charger Cable Adapter for Fitbit Ionic Wristband Smart Watch (2 Pcs Fitbit Ionic Charger Cable)\\nMinimal Product Name: Fitian Fitbit Ionic Charging Cable\\n\\nNow, produce the minimal product name for the following product title:\\nProduct Title: \"PERRKLD Samsung Galaxy Note 10 Plus Case Square Pink Marble Pattern Heavy Duty Protection Shock Absorption Slim Soft TPU Edge and Hard PC Case Cover for Samsung Galaxy Note 10+Minimal Product name is:\"',\n",
              " 'Task: Summarize the following product title into a concise 2–5 word product name. Your answer must include only the essential words—no extra commentary, punctuation, or formatting.\\n\\nExample 1:\\nProduct Title: VUIIMEEK Square Case for iPhone 12 Pro Max 6.7\", Cute White Flowers Clear Print Design Slim Flexible Soft TPU High Impact Shockproof Case Reinforced Bumper Cool Protective Crystal Cover (Green Leaves)\\nMinimal Product Name: iphone 12 pro max square case\\n\\nExample 2:\\nProduct Title: Fitian Fitbit Ionic Charging Cable, Replacement USB Charging Cord Cable Accessories Charger Cable Adapter for Fitbit Ionic Wristband Smart Watch (2 Pcs Fitbit Ionic Charger Cable)\\nMinimal Product Name: Fitian Fitbit Ionic Charging Cable\\n\\nNow, produce the minimal product name for the following product title:\\nProduct Title: \"Hocase Galaxy S8 Case, Heavy Duty Protection Shock Absorbing Silicone Rubber Bumper+Hard Plastic Shell Hybrid Dual Layer Protective Case for Samsung Galaxy S8 (SM-G950U) 5.8\" 2017 - Mandala in GalaxyMinimal Product name is:\"',\n",
              " 'Task: Summarize the following product title into a concise 2–5 word product name. Your answer must include only the essential words—no extra commentary, punctuation, or formatting.\\n\\nExample 1:\\nProduct Title: VUIIMEEK Square Case for iPhone 12 Pro Max 6.7\", Cute White Flowers Clear Print Design Slim Flexible Soft TPU High Impact Shockproof Case Reinforced Bumper Cool Protective Crystal Cover (Green Leaves)\\nMinimal Product Name: iphone 12 pro max square case\\n\\nExample 2:\\nProduct Title: Fitian Fitbit Ionic Charging Cable, Replacement USB Charging Cord Cable Accessories Charger Cable Adapter for Fitbit Ionic Wristband Smart Watch (2 Pcs Fitbit Ionic Charger Cable)\\nMinimal Product Name: Fitian Fitbit Ionic Charging Cable\\n\\nNow, produce the minimal product name for the following product title:\\nProduct Title: \"MInCYB Case for iPhone 12/iPhone 12 Pro, Compatible with iPhone 12/12 Pro Leather Wallet Case, 2 in 1 Zipper Detachable Magnetic Flip Folio Covers with Wristlet Strap for iPhone 12/12 Pro RedMinimal Product name is:\"',\n",
              " 'Task: Summarize the following product title into a concise 2–5 word product name. Your answer must include only the essential words—no extra commentary, punctuation, or formatting.\\n\\nExample 1:\\nProduct Title: VUIIMEEK Square Case for iPhone 12 Pro Max 6.7\", Cute White Flowers Clear Print Design Slim Flexible Soft TPU High Impact Shockproof Case Reinforced Bumper Cool Protective Crystal Cover (Green Leaves)\\nMinimal Product Name: iphone 12 pro max square case\\n\\nExample 2:\\nProduct Title: Fitian Fitbit Ionic Charging Cable, Replacement USB Charging Cord Cable Accessories Charger Cable Adapter for Fitbit Ionic Wristband Smart Watch (2 Pcs Fitbit Ionic Charger Cable)\\nMinimal Product Name: Fitian Fitbit Ionic Charging Cable\\n\\nNow, produce the minimal product name for the following product title:\\nProduct Title: \"INVELLOP iPhone 6 case, iPhone 6/6S Case Silver/Black Prime Series Dual Layer Case Premium Armor Hybrid Bumper Cover CaseMinimal Product name is:\"',\n",
              " 'Task: Summarize the following product title into a concise 2–5 word product name. Your answer must include only the essential words—no extra commentary, punctuation, or formatting.\\n\\nExample 1:\\nProduct Title: VUIIMEEK Square Case for iPhone 12 Pro Max 6.7\", Cute White Flowers Clear Print Design Slim Flexible Soft TPU High Impact Shockproof Case Reinforced Bumper Cool Protective Crystal Cover (Green Leaves)\\nMinimal Product Name: iphone 12 pro max square case\\n\\nExample 2:\\nProduct Title: Fitian Fitbit Ionic Charging Cable, Replacement USB Charging Cord Cable Accessories Charger Cable Adapter for Fitbit Ionic Wristband Smart Watch (2 Pcs Fitbit Ionic Charger Cable)\\nMinimal Product Name: Fitian Fitbit Ionic Charging Cable\\n\\nNow, produce the minimal product name for the following product title:\\nProduct Title: \"UNBREAKcable Shatterproof Tempered Glass Screen Protector for iPhone 12/12 Pro [2-Pack] [99.99% HD Clear] [Easy Installation Frame] [9H Hardness] [Full Coverage] [Bubble Free] for Apple 6.1\\'\\', (UBMU265)Minimal Product name is:\"',\n",
              " 'Task: Summarize the following product title into a concise 2–5 word product name. Your answer must include only the essential words—no extra commentary, punctuation, or formatting.\\n\\nExample 1:\\nProduct Title: VUIIMEEK Square Case for iPhone 12 Pro Max 6.7\", Cute White Flowers Clear Print Design Slim Flexible Soft TPU High Impact Shockproof Case Reinforced Bumper Cool Protective Crystal Cover (Green Leaves)\\nMinimal Product Name: iphone 12 pro max square case\\n\\nExample 2:\\nProduct Title: Fitian Fitbit Ionic Charging Cable, Replacement USB Charging Cord Cable Accessories Charger Cable Adapter for Fitbit Ionic Wristband Smart Watch (2 Pcs Fitbit Ionic Charger Cable)\\nMinimal Product Name: Fitian Fitbit Ionic Charging Cable\\n\\nNow, produce the minimal product name for the following product title:\\nProduct Title: \"JETech Screen Protector for iPhone 11 and iPhone XR, 6.1-Inch, Tempered Glass Film, 2-PackMinimal Product name is:\"',\n",
              " 'Task: Summarize the following product title into a concise 2–5 word product name. Your answer must include only the essential words—no extra commentary, punctuation, or formatting.\\n\\nExample 1:\\nProduct Title: VUIIMEEK Square Case for iPhone 12 Pro Max 6.7\", Cute White Flowers Clear Print Design Slim Flexible Soft TPU High Impact Shockproof Case Reinforced Bumper Cool Protective Crystal Cover (Green Leaves)\\nMinimal Product Name: iphone 12 pro max square case\\n\\nExample 2:\\nProduct Title: Fitian Fitbit Ionic Charging Cable, Replacement USB Charging Cord Cable Accessories Charger Cable Adapter for Fitbit Ionic Wristband Smart Watch (2 Pcs Fitbit Ionic Charger Cable)\\nMinimal Product Name: Fitian Fitbit Ionic Charging Cable\\n\\nNow, produce the minimal product name for the following product title:\\nProduct Title: \"JETech 3-Pack Screen Protector for iPhone SE 3/2 (2022/2020 Edition), iPhone 8, iPhone 7, iPhone 6s, and iPhone 6, Tempered Glass Film, 4.7-InchMinimal Product name is:\"',\n",
              " 'Task: Summarize the following product title into a concise 2–5 word product name. Your answer must include only the essential words—no extra commentary, punctuation, or formatting.\\n\\nExample 1:\\nProduct Title: VUIIMEEK Square Case for iPhone 12 Pro Max 6.7\", Cute White Flowers Clear Print Design Slim Flexible Soft TPU High Impact Shockproof Case Reinforced Bumper Cool Protective Crystal Cover (Green Leaves)\\nMinimal Product Name: iphone 12 pro max square case\\n\\nExample 2:\\nProduct Title: Fitian Fitbit Ionic Charging Cable, Replacement USB Charging Cord Cable Accessories Charger Cable Adapter for Fitbit Ionic Wristband Smart Watch (2 Pcs Fitbit Ionic Charger Cable)\\nMinimal Product Name: Fitian Fitbit Ionic Charging Cable\\n\\nNow, produce the minimal product name for the following product title:\\nProduct Title: \"TENOC Phone Case Compatible for iPhone SE 3/2 gen(3rd Generation 2022/2nd Generation 2020), iPhone 8 and iPhone 7, Clear Cases Slim Cute Thin Soft TPU Cover Full Protective Bumper 4.7 InchMinimal Product name is:\"',\n",
              " 'Task: Summarize the following product title into a concise 2–5 word product name. Your answer must include only the essential words—no extra commentary, punctuation, or formatting.\\n\\nExample 1:\\nProduct Title: VUIIMEEK Square Case for iPhone 12 Pro Max 6.7\", Cute White Flowers Clear Print Design Slim Flexible Soft TPU High Impact Shockproof Case Reinforced Bumper Cool Protective Crystal Cover (Green Leaves)\\nMinimal Product Name: iphone 12 pro max square case\\n\\nExample 2:\\nProduct Title: Fitian Fitbit Ionic Charging Cable, Replacement USB Charging Cord Cable Accessories Charger Cable Adapter for Fitbit Ionic Wristband Smart Watch (2 Pcs Fitbit Ionic Charger Cable)\\nMinimal Product Name: Fitian Fitbit Ionic Charging Cable\\n\\nNow, produce the minimal product name for the following product title:\\nProduct Title: \"KEZiHOME Case for Pixel 4a [Not Fit Google Pixel 4a 5G], Genuine Leather [RFID Blocking] Google Pixel 4a Wallet Case Credit Card Slot Flip Folio Magnetic Stand Case for Google Pixel 4a (Khaki/Brown)Minimal Product name is:\"',\n",
              " 'Task: Summarize the following product title into a concise 2–5 word product name. Your answer must include only the essential words—no extra commentary, punctuation, or formatting.\\n\\nExample 1:\\nProduct Title: VUIIMEEK Square Case for iPhone 12 Pro Max 6.7\", Cute White Flowers Clear Print Design Slim Flexible Soft TPU High Impact Shockproof Case Reinforced Bumper Cool Protective Crystal Cover (Green Leaves)\\nMinimal Product Name: iphone 12 pro max square case\\n\\nExample 2:\\nProduct Title: Fitian Fitbit Ionic Charging Cable, Replacement USB Charging Cord Cable Accessories Charger Cable Adapter for Fitbit Ionic Wristband Smart Watch (2 Pcs Fitbit Ionic Charger Cable)\\nMinimal Product Name: Fitian Fitbit Ionic Charging Cable\\n\\nNow, produce the minimal product name for the following product title:\\nProduct Title: \"[Fast Charging] andobil 15in Wireless Car Charger, [Upgraded Secure Chip] Qi Car Cup Phone Mount with Adapter Adjustable Gooseneck Cup Holder Charger Compatible with iPhone 14 13 12 Pro Max S22 S21Minimal Product name is:\"',\n",
              " 'Task: Summarize the following product title into a concise 2–5 word product name. Your answer must include only the essential words—no extra commentary, punctuation, or formatting.\\n\\nExample 1:\\nProduct Title: VUIIMEEK Square Case for iPhone 12 Pro Max 6.7\", Cute White Flowers Clear Print Design Slim Flexible Soft TPU High Impact Shockproof Case Reinforced Bumper Cool Protective Crystal Cover (Green Leaves)\\nMinimal Product Name: iphone 12 pro max square case\\n\\nExample 2:\\nProduct Title: Fitian Fitbit Ionic Charging Cable, Replacement USB Charging Cord Cable Accessories Charger Cable Adapter for Fitbit Ionic Wristband Smart Watch (2 Pcs Fitbit Ionic Charger Cable)\\nMinimal Product Name: Fitian Fitbit Ionic Charging Cable\\n\\nNow, produce the minimal product name for the following product title:\\nProduct Title: \"Hot Pink Wing Owl for Apple iPhone 4 & 4S Protector Case (AT&T, Verizon & Sprint)Minimal Product name is:\"',\n",
              " 'Task: Summarize the following product title into a concise 2–5 word product name. Your answer must include only the essential words—no extra commentary, punctuation, or formatting.\\n\\nExample 1:\\nProduct Title: VUIIMEEK Square Case for iPhone 12 Pro Max 6.7\", Cute White Flowers Clear Print Design Slim Flexible Soft TPU High Impact Shockproof Case Reinforced Bumper Cool Protective Crystal Cover (Green Leaves)\\nMinimal Product Name: iphone 12 pro max square case\\n\\nExample 2:\\nProduct Title: Fitian Fitbit Ionic Charging Cable, Replacement USB Charging Cord Cable Accessories Charger Cable Adapter for Fitbit Ionic Wristband Smart Watch (2 Pcs Fitbit Ionic Charger Cable)\\nMinimal Product Name: Fitian Fitbit Ionic Charging Cable\\n\\nNow, produce the minimal product name for the following product title:\\nProduct Title: \"LBYZCASE Phone Case for [Moto E 2020],Moto E 2020/Moto E7 Wallet Case,Luxury Folio Flip Leather Cover[Zipper Pocket][Magnetic Closure][Wrist Strap][Kickstand ] for Motorola Moto E 2020 (Coffee)Minimal Product name is:\"',\n",
              " 'Task: Summarize the following product title into a concise 2–5 word product name. Your answer must include only the essential words—no extra commentary, punctuation, or formatting.\\n\\nExample 1:\\nProduct Title: VUIIMEEK Square Case for iPhone 12 Pro Max 6.7\", Cute White Flowers Clear Print Design Slim Flexible Soft TPU High Impact Shockproof Case Reinforced Bumper Cool Protective Crystal Cover (Green Leaves)\\nMinimal Product Name: iphone 12 pro max square case\\n\\nExample 2:\\nProduct Title: Fitian Fitbit Ionic Charging Cable, Replacement USB Charging Cord Cable Accessories Charger Cable Adapter for Fitbit Ionic Wristband Smart Watch (2 Pcs Fitbit Ionic Charger Cable)\\nMinimal Product Name: Fitian Fitbit Ionic Charging Cable\\n\\nNow, produce the minimal product name for the following product title:\\nProduct Title: \"for Motorola Moto E6 XT2005 (2019), Moto E 6th Gen. - Full Adhesive Tempered Glass Screen Protector - Black FrameMinimal Product name is:\"',\n",
              " 'Task: Summarize the following product title into a concise 2–5 word product name. Your answer must include only the essential words—no extra commentary, punctuation, or formatting.\\n\\nExample 1:\\nProduct Title: VUIIMEEK Square Case for iPhone 12 Pro Max 6.7\", Cute White Flowers Clear Print Design Slim Flexible Soft TPU High Impact Shockproof Case Reinforced Bumper Cool Protective Crystal Cover (Green Leaves)\\nMinimal Product Name: iphone 12 pro max square case\\n\\nExample 2:\\nProduct Title: Fitian Fitbit Ionic Charging Cable, Replacement USB Charging Cord Cable Accessories Charger Cable Adapter for Fitbit Ionic Wristband Smart Watch (2 Pcs Fitbit Ionic Charger Cable)\\nMinimal Product Name: Fitian Fitbit Ionic Charging Cable\\n\\nNow, produce the minimal product name for the following product title:\\nProduct Title: \"KIMILAR [3-Pack Screen Protector Compatible with Fitbit Versa/Versa Lite Smart watch (Not For Versa 2 / Versa 3 / Versa 4), Waterproof Tempered Glass Screen Protector [9H Hardness] [Crystal Clear]Minimal Product name is:\"',\n",
              " 'Task: Summarize the following product title into a concise 2–5 word product name. Your answer must include only the essential words—no extra commentary, punctuation, or formatting.\\n\\nExample 1:\\nProduct Title: VUIIMEEK Square Case for iPhone 12 Pro Max 6.7\", Cute White Flowers Clear Print Design Slim Flexible Soft TPU High Impact Shockproof Case Reinforced Bumper Cool Protective Crystal Cover (Green Leaves)\\nMinimal Product Name: iphone 12 pro max square case\\n\\nExample 2:\\nProduct Title: Fitian Fitbit Ionic Charging Cable, Replacement USB Charging Cord Cable Accessories Charger Cable Adapter for Fitbit Ionic Wristband Smart Watch (2 Pcs Fitbit Ionic Charger Cable)\\nMinimal Product Name: Fitian Fitbit Ionic Charging Cable\\n\\nNow, produce the minimal product name for the following product title:\\nProduct Title: \"Nsoar Compatible for 20mm Universal Watch Band, 20mm Soft Silicone Replacement Wristbands Straps with Quick Release Pin for Women MenMinimal Product name is:\"',\n",
              " 'Task: Summarize the following product title into a concise 2–5 word product name. Your answer must include only the essential words—no extra commentary, punctuation, or formatting.\\n\\nExample 1:\\nProduct Title: VUIIMEEK Square Case for iPhone 12 Pro Max 6.7\", Cute White Flowers Clear Print Design Slim Flexible Soft TPU High Impact Shockproof Case Reinforced Bumper Cool Protective Crystal Cover (Green Leaves)\\nMinimal Product Name: iphone 12 pro max square case\\n\\nExample 2:\\nProduct Title: Fitian Fitbit Ionic Charging Cable, Replacement USB Charging Cord Cable Accessories Charger Cable Adapter for Fitbit Ionic Wristband Smart Watch (2 Pcs Fitbit Ionic Charger Cable)\\nMinimal Product Name: Fitian Fitbit Ionic Charging Cable\\n\\nNow, produce the minimal product name for the following product title:\\nProduct Title: \"Dmax Armor [3-Pack] for Samsung Galaxy Tab A 8.0 2017 (SM-T380) Screen Protector, Anti-Bubble High Definition Clear ShieldMinimal Product name is:\"',\n",
              " 'Task: Summarize the following product title into a concise 2–5 word product name. Your answer must include only the essential words—no extra commentary, punctuation, or formatting.\\n\\nExample 1:\\nProduct Title: VUIIMEEK Square Case for iPhone 12 Pro Max 6.7\", Cute White Flowers Clear Print Design Slim Flexible Soft TPU High Impact Shockproof Case Reinforced Bumper Cool Protective Crystal Cover (Green Leaves)\\nMinimal Product Name: iphone 12 pro max square case\\n\\nExample 2:\\nProduct Title: Fitian Fitbit Ionic Charging Cable, Replacement USB Charging Cord Cable Accessories Charger Cable Adapter for Fitbit Ionic Wristband Smart Watch (2 Pcs Fitbit Ionic Charger Cable)\\nMinimal Product Name: Fitian Fitbit Ionic Charging Cable\\n\\nNow, produce the minimal product name for the following product title:\\nProduct Title: \"Heavy Duty Shock Proof PU-Leather Wallet Card Slot Protective Phone Cover with Kickstand for Motorola Moto E Play5th Gen 2018Minimal Product name is:\"',\n",
              " 'Task: Summarize the following product title into a concise 2–5 word product name. Your answer must include only the essential words—no extra commentary, punctuation, or formatting.\\n\\nExample 1:\\nProduct Title: VUIIMEEK Square Case for iPhone 12 Pro Max 6.7\", Cute White Flowers Clear Print Design Slim Flexible Soft TPU High Impact Shockproof Case Reinforced Bumper Cool Protective Crystal Cover (Green Leaves)\\nMinimal Product Name: iphone 12 pro max square case\\n\\nExample 2:\\nProduct Title: Fitian Fitbit Ionic Charging Cable, Replacement USB Charging Cord Cable Accessories Charger Cable Adapter for Fitbit Ionic Wristband Smart Watch (2 Pcs Fitbit Ionic Charger Cable)\\nMinimal Product Name: Fitian Fitbit Ionic Charging Cable\\n\\nNow, produce the minimal product name for the following product title:\\nProduct Title: \"LG 450 Black - Prepaid - No Contract (T-Mobile)Minimal Product name is:\"',\n",
              " 'Task: Summarize the following product title into a concise 2–5 word product name. Your answer must include only the essential words—no extra commentary, punctuation, or formatting.\\n\\nExample 1:\\nProduct Title: VUIIMEEK Square Case for iPhone 12 Pro Max 6.7\", Cute White Flowers Clear Print Design Slim Flexible Soft TPU High Impact Shockproof Case Reinforced Bumper Cool Protective Crystal Cover (Green Leaves)\\nMinimal Product Name: iphone 12 pro max square case\\n\\nExample 2:\\nProduct Title: Fitian Fitbit Ionic Charging Cable, Replacement USB Charging Cord Cable Accessories Charger Cable Adapter for Fitbit Ionic Wristband Smart Watch (2 Pcs Fitbit Ionic Charger Cable)\\nMinimal Product Name: Fitian Fitbit Ionic Charging Cable\\n\\nNow, produce the minimal product name for the following product title:\\nProduct Title: \"Tinsow American Flag Wristband Watch Strap Comfortable Denim Fabric Replacement Watch Band Compatible For iWatch Series 5/4/3/2/1Minimal Product name is:\"',\n",
              " 'Task: Summarize the following product title into a concise 2–5 word product name. Your answer must include only the essential words—no extra commentary, punctuation, or formatting.\\n\\nExample 1:\\nProduct Title: VUIIMEEK Square Case for iPhone 12 Pro Max 6.7\", Cute White Flowers Clear Print Design Slim Flexible Soft TPU High Impact Shockproof Case Reinforced Bumper Cool Protective Crystal Cover (Green Leaves)\\nMinimal Product Name: iphone 12 pro max square case\\n\\nExample 2:\\nProduct Title: Fitian Fitbit Ionic Charging Cable, Replacement USB Charging Cord Cable Accessories Charger Cable Adapter for Fitbit Ionic Wristband Smart Watch (2 Pcs Fitbit Ionic Charger Cable)\\nMinimal Product Name: Fitian Fitbit Ionic Charging Cable\\n\\nNow, produce the minimal product name for the following product title:\\nProduct Title: \"Newborn airblown Landscape ft nughtmare Troop InflatableMinimal Product name is:\"',\n",
              " 'Task: Summarize the following product title into a concise 2–5 word product name. Your answer must include only the essential words—no extra commentary, punctuation, or formatting.\\n\\nExample 1:\\nProduct Title: VUIIMEEK Square Case for iPhone 12 Pro Max 6.7\", Cute White Flowers Clear Print Design Slim Flexible Soft TPU High Impact Shockproof Case Reinforced Bumper Cool Protective Crystal Cover (Green Leaves)\\nMinimal Product Name: iphone 12 pro max square case\\n\\nExample 2:\\nProduct Title: Fitian Fitbit Ionic Charging Cable, Replacement USB Charging Cord Cable Accessories Charger Cable Adapter for Fitbit Ionic Wristband Smart Watch (2 Pcs Fitbit Ionic Charger Cable)\\nMinimal Product Name: Fitian Fitbit Ionic Charging Cable\\n\\nNow, produce the minimal product name for the following product title:\\nProduct Title: \"[2+2 Pack] Screen Protector, 9H Tempered Glass, Ultrasonic Fingerprint Compatible, 3D Curved, HD Clear Scratch Resistant for Google Pixel 6 Pro 5GMinimal Product name is:\"',\n",
              " 'Task: Summarize the following product title into a concise 2–5 word product name. Your answer must include only the essential words—no extra commentary, punctuation, or formatting.\\n\\nExample 1:\\nProduct Title: VUIIMEEK Square Case for iPhone 12 Pro Max 6.7\", Cute White Flowers Clear Print Design Slim Flexible Soft TPU High Impact Shockproof Case Reinforced Bumper Cool Protective Crystal Cover (Green Leaves)\\nMinimal Product Name: iphone 12 pro max square case\\n\\nExample 2:\\nProduct Title: Fitian Fitbit Ionic Charging Cable, Replacement USB Charging Cord Cable Accessories Charger Cable Adapter for Fitbit Ionic Wristband Smart Watch (2 Pcs Fitbit Ionic Charger Cable)\\nMinimal Product Name: Fitian Fitbit Ionic Charging Cable\\n\\nNow, produce the minimal product name for the following product title:\\nProduct Title: \"[2+2 Pack] for Google Pixel 6 Pro Screen Protector, 9H Tempered Glass, Ultrasonic Fingerprint Compatible, 3D Curved, HD Clear Scratch Resistant for Google Pixel 6 Pro 5G Glass Screen ProtectorMinimal Product name is:\"',\n",
              " 'Task: Summarize the following product title into a concise 2–5 word product name. Your answer must include only the essential words—no extra commentary, punctuation, or formatting.\\n\\nExample 1:\\nProduct Title: VUIIMEEK Square Case for iPhone 12 Pro Max 6.7\", Cute White Flowers Clear Print Design Slim Flexible Soft TPU High Impact Shockproof Case Reinforced Bumper Cool Protective Crystal Cover (Green Leaves)\\nMinimal Product Name: iphone 12 pro max square case\\n\\nExample 2:\\nProduct Title: Fitian Fitbit Ionic Charging Cable, Replacement USB Charging Cord Cable Accessories Charger Cable Adapter for Fitbit Ionic Wristband Smart Watch (2 Pcs Fitbit Ionic Charger Cable)\\nMinimal Product Name: Fitian Fitbit Ionic Charging Cable\\n\\nNow, produce the minimal product name for the following product title:\\nProduct Title: \"Heyven Stand Watch Charger for Pixel Watch,Pixel wath Charger,Compatible with Google Pixel Watch(Updated)Minimal Product name is:\"',\n",
              " 'Task: Summarize the following product title into a concise 2–5 word product name. Your answer must include only the essential words—no extra commentary, punctuation, or formatting.\\n\\nExample 1:\\nProduct Title: VUIIMEEK Square Case for iPhone 12 Pro Max 6.7\", Cute White Flowers Clear Print Design Slim Flexible Soft TPU High Impact Shockproof Case Reinforced Bumper Cool Protective Crystal Cover (Green Leaves)\\nMinimal Product Name: iphone 12 pro max square case\\n\\nExample 2:\\nProduct Title: Fitian Fitbit Ionic Charging Cable, Replacement USB Charging Cord Cable Accessories Charger Cable Adapter for Fitbit Ionic Wristband Smart Watch (2 Pcs Fitbit Ionic Charger Cable)\\nMinimal Product Name: Fitian Fitbit Ionic Charging Cable\\n\\nNow, produce the minimal product name for the following product title:\\nProduct Title: \"Spigen Rugged Armor Designed for Google Pixel 6 Pro Case (2021) - Matte BlackMinimal Product name is:\"',\n",
              " 'Task: Summarize the following product title into a concise 2–5 word product name. Your answer must include only the essential words—no extra commentary, punctuation, or formatting.\\n\\nExample 1:\\nProduct Title: VUIIMEEK Square Case for iPhone 12 Pro Max 6.7\", Cute White Flowers Clear Print Design Slim Flexible Soft TPU High Impact Shockproof Case Reinforced Bumper Cool Protective Crystal Cover (Green Leaves)\\nMinimal Product Name: iphone 12 pro max square case\\n\\nExample 2:\\nProduct Title: Fitian Fitbit Ionic Charging Cable, Replacement USB Charging Cord Cable Accessories Charger Cable Adapter for Fitbit Ionic Wristband Smart Watch (2 Pcs Fitbit Ionic Charger Cable)\\nMinimal Product Name: Fitian Fitbit Ionic Charging Cable\\n\\nNow, produce the minimal product name for the following product title:\\nProduct Title: \"Spigen Ultra Hybrid Designed for Google Pixel 6 Pro Case (2021) - Matte BlackMinimal Product name is:\"',\n",
              " 'Task: Summarize the following product title into a concise 2–5 word product name. Your answer must include only the essential words—no extra commentary, punctuation, or formatting.\\n\\nExample 1:\\nProduct Title: VUIIMEEK Square Case for iPhone 12 Pro Max 6.7\", Cute White Flowers Clear Print Design Slim Flexible Soft TPU High Impact Shockproof Case Reinforced Bumper Cool Protective Crystal Cover (Green Leaves)\\nMinimal Product Name: iphone 12 pro max square case\\n\\nExample 2:\\nProduct Title: Fitian Fitbit Ionic Charging Cable, Replacement USB Charging Cord Cable Accessories Charger Cable Adapter for Fitbit Ionic Wristband Smart Watch (2 Pcs Fitbit Ionic Charger Cable)\\nMinimal Product Name: Fitian Fitbit Ionic Charging Cable\\n\\nNow, produce the minimal product name for the following product title:\\nProduct Title: \"Unov Pixel 3 Case Clear Soft TPU Shock Absorption Slim Protective Back Cover for Samsung Galaxy Pixel 3 5.5 inch (Crystal Clear)Minimal Product name is:\"',\n",
              " 'Task: Summarize the following product title into a concise 2–5 word product name. Your answer must include only the essential words—no extra commentary, punctuation, or formatting.\\n\\nExample 1:\\nProduct Title: VUIIMEEK Square Case for iPhone 12 Pro Max 6.7\", Cute White Flowers Clear Print Design Slim Flexible Soft TPU High Impact Shockproof Case Reinforced Bumper Cool Protective Crystal Cover (Green Leaves)\\nMinimal Product Name: iphone 12 pro max square case\\n\\nExample 2:\\nProduct Title: Fitian Fitbit Ionic Charging Cable, Replacement USB Charging Cord Cable Accessories Charger Cable Adapter for Fitbit Ionic Wristband Smart Watch (2 Pcs Fitbit Ionic Charger Cable)\\nMinimal Product Name: Fitian Fitbit Ionic Charging Cable\\n\\nNow, produce the minimal product name for the following product title:\\nProduct Title: \"LONTECT for iPhone 14 Plus Case Glitter Sparkly Bling Shockproof Heavy Duty Hybrid Sturdy High Impact Protective Cover Case for Apple iPhone 14 Plus, Shiny BlackMinimal Product name is:\"',\n",
              " 'Task: Summarize the following product title into a concise 2–5 word product name. Your answer must include only the essential words—no extra commentary, punctuation, or formatting.\\n\\nExample 1:\\nProduct Title: VUIIMEEK Square Case for iPhone 12 Pro Max 6.7\", Cute White Flowers Clear Print Design Slim Flexible Soft TPU High Impact Shockproof Case Reinforced Bumper Cool Protective Crystal Cover (Green Leaves)\\nMinimal Product Name: iphone 12 pro max square case\\n\\nExample 2:\\nProduct Title: Fitian Fitbit Ionic Charging Cable, Replacement USB Charging Cord Cable Accessories Charger Cable Adapter for Fitbit Ionic Wristband Smart Watch (2 Pcs Fitbit Ionic Charger Cable)\\nMinimal Product Name: Fitian Fitbit Ionic Charging Cable\\n\\nNow, produce the minimal product name for the following product title:\\nProduct Title: \"Casely iPhone 14 Plus Case | All Smiles | Smiley Face Sticker Case | Compatible with MagSafeMinimal Product name is:\"',\n",
              " 'Task: Summarize the following product title into a concise 2–5 word product name. Your answer must include only the essential words—no extra commentary, punctuation, or formatting.\\n\\nExample 1:\\nProduct Title: VUIIMEEK Square Case for iPhone 12 Pro Max 6.7\", Cute White Flowers Clear Print Design Slim Flexible Soft TPU High Impact Shockproof Case Reinforced Bumper Cool Protective Crystal Cover (Green Leaves)\\nMinimal Product Name: iphone 12 pro max square case\\n\\nExample 2:\\nProduct Title: Fitian Fitbit Ionic Charging Cable, Replacement USB Charging Cord Cable Accessories Charger Cable Adapter for Fitbit Ionic Wristband Smart Watch (2 Pcs Fitbit Ionic Charger Cable)\\nMinimal Product Name: Fitian Fitbit Ionic Charging Cable\\n\\nNow, produce the minimal product name for the following product title:\\nProduct Title: \"JETech Case for iPhone 8 Plus and iPhone 7 Plus 5.5-Inch, Shock-Absorption Bumper Cover, Anti-Scratch Clear Back, GreyMinimal Product name is:\"',\n",
              " 'Task: Summarize the following product title into a concise 2–5 word product name. Your answer must include only the essential words—no extra commentary, punctuation, or formatting.\\n\\nExample 1:\\nProduct Title: VUIIMEEK Square Case for iPhone 12 Pro Max 6.7\", Cute White Flowers Clear Print Design Slim Flexible Soft TPU High Impact Shockproof Case Reinforced Bumper Cool Protective Crystal Cover (Green Leaves)\\nMinimal Product Name: iphone 12 pro max square case\\n\\nExample 2:\\nProduct Title: Fitian Fitbit Ionic Charging Cable, Replacement USB Charging Cord Cable Accessories Charger Cable Adapter for Fitbit Ionic Wristband Smart Watch (2 Pcs Fitbit Ionic Charger Cable)\\nMinimal Product Name: Fitian Fitbit Ionic Charging Cable\\n\\nNow, produce the minimal product name for the following product title:\\nProduct Title: \"AVQOHE Thanksgiving Watch Band Sport Bands Compatible with Watch Series 1/2/3/4/5/6/7/SE 38mm 40mm Wristbands Soft Pattern Silicone for Women Men Unisex GiftsMinimal Product name is:\"']"
            ]
          },
          "metadata": {},
          "execution_count": 7
        }
      ]
    },
    {
      "cell_type": "code",
      "source": [
        "!pip install --upgrade google-genai\n",
        "!gcloud auth application-default login"
      ],
      "metadata": {
        "colab": {
          "base_uri": "https://localhost:8080/",
          "height": 967
        },
        "id": "qSkANJEQOZXB",
        "outputId": "38dc923f-ac4a-474e-aa78-803023507c2d"
      },
      "execution_count": null,
      "outputs": [
        {
          "output_type": "stream",
          "name": "stdout",
          "text": [
            "Requirement already satisfied: google-genai in /usr/local/lib/python3.10/dist-packages (0.2.2)\n",
            "Collecting google-genai\n",
            "  Downloading google_genai-1.4.0-py3-none-any.whl.metadata (29 kB)\n",
            "Requirement already satisfied: google-auth<3.0.0dev,>=2.14.1 in /usr/local/lib/python3.10/dist-packages (from google-genai) (2.27.0)\n",
            "Requirement already satisfied: httpx<1.0.0dev,>=0.28.1 in /usr/local/lib/python3.10/dist-packages (from google-genai) (0.28.1)\n",
            "Requirement already satisfied: pydantic<3.0.0dev,>=2.0.0 in /usr/local/lib/python3.10/dist-packages (from google-genai) (2.10.3)\n",
            "Requirement already satisfied: requests<3.0.0dev,>=2.28.1 in /usr/local/lib/python3.10/dist-packages (from google-genai) (2.32.3)\n",
            "Requirement already satisfied: websockets<15.0dev,>=13.0 in /usr/local/lib/python3.10/dist-packages (from google-genai) (14.1)\n",
            "Requirement already satisfied: typing-extensions<5.0.0dev,>=4.11.0 in /usr/local/lib/python3.10/dist-packages (from google-genai) (4.12.2)\n",
            "Requirement already satisfied: cachetools<6.0,>=2.0.0 in /usr/local/lib/python3.10/dist-packages (from google-auth<3.0.0dev,>=2.14.1->google-genai) (5.5.0)\n",
            "Requirement already satisfied: pyasn1-modules>=0.2.1 in /usr/local/lib/python3.10/dist-packages (from google-auth<3.0.0dev,>=2.14.1->google-genai) (0.4.1)\n",
            "Requirement already satisfied: rsa<5,>=3.1.4 in /usr/local/lib/python3.10/dist-packages (from google-auth<3.0.0dev,>=2.14.1->google-genai) (4.9)\n",
            "Requirement already satisfied: anyio in /usr/local/lib/python3.10/dist-packages (from httpx<1.0.0dev,>=0.28.1->google-genai) (3.7.1)\n",
            "Requirement already satisfied: certifi in /usr/local/lib/python3.10/dist-packages (from httpx<1.0.0dev,>=0.28.1->google-genai) (2024.12.14)\n",
            "Requirement already satisfied: httpcore==1.* in /usr/local/lib/python3.10/dist-packages (from httpx<1.0.0dev,>=0.28.1->google-genai) (1.0.7)\n",
            "Requirement already satisfied: idna in /usr/local/lib/python3.10/dist-packages (from httpx<1.0.0dev,>=0.28.1->google-genai) (3.10)\n",
            "Requirement already satisfied: h11<0.15,>=0.13 in /usr/local/lib/python3.10/dist-packages (from httpcore==1.*->httpx<1.0.0dev,>=0.28.1->google-genai) (0.14.0)\n",
            "Requirement already satisfied: annotated-types>=0.6.0 in /usr/local/lib/python3.10/dist-packages (from pydantic<3.0.0dev,>=2.0.0->google-genai) (0.7.0)\n",
            "Requirement already satisfied: pydantic-core==2.27.1 in /usr/local/lib/python3.10/dist-packages (from pydantic<3.0.0dev,>=2.0.0->google-genai) (2.27.1)\n",
            "Requirement already satisfied: charset-normalizer<4,>=2 in /usr/local/lib/python3.10/dist-packages (from requests<3.0.0dev,>=2.28.1->google-genai) (3.4.0)\n",
            "Requirement already satisfied: urllib3<3,>=1.21.1 in /usr/local/lib/python3.10/dist-packages (from requests<3.0.0dev,>=2.28.1->google-genai) (2.2.3)\n",
            "Requirement already satisfied: pyasn1<0.7.0,>=0.4.6 in /usr/local/lib/python3.10/dist-packages (from pyasn1-modules>=0.2.1->google-auth<3.0.0dev,>=2.14.1->google-genai) (0.6.1)\n",
            "Requirement already satisfied: sniffio>=1.1 in /usr/local/lib/python3.10/dist-packages (from anyio->httpx<1.0.0dev,>=0.28.1->google-genai) (1.3.1)\n",
            "Requirement already satisfied: exceptiongroup in /usr/local/lib/python3.10/dist-packages (from anyio->httpx<1.0.0dev,>=0.28.1->google-genai) (1.2.2)\n",
            "Downloading google_genai-1.4.0-py3-none-any.whl (140 kB)\n",
            "\u001b[2K   \u001b[90m━━━━━━━━━━━━━━━━━━━━━━━━━━━━━━━━━━━━━━━━\u001b[0m \u001b[32m141.0/141.0 kB\u001b[0m \u001b[31m6.9 MB/s\u001b[0m eta \u001b[36m0:00:00\u001b[0m\n",
            "\u001b[?25hInstalling collected packages: google-genai\n",
            "  Attempting uninstall: google-genai\n",
            "    Found existing installation: google-genai 0.2.2\n",
            "    Uninstalling google-genai-0.2.2:\n",
            "      Successfully uninstalled google-genai-0.2.2\n",
            "Successfully installed google-genai-1.4.0\n"
          ]
        },
        {
          "output_type": "display_data",
          "data": {
            "application/vnd.colab-display-data+json": {
              "pip_warning": {
                "packages": [
                  "google"
                ]
              },
              "id": "23798ff0048f40329208b21bce50c811"
            }
          },
          "metadata": {}
        },
        {
          "output_type": "stream",
          "name": "stdout",
          "text": [
            "Go to the following link in your browser, and complete the sign-in prompts:\n",
            "\n",
            "    https://accounts.google.com/o/oauth2/auth?response_type=code&client_id=764086051850-6qr4p6gpi6hn506pt8ejuq83di341hur.apps.googleusercontent.com&redirect_uri=https%3A%2F%2Fsdk.cloud.google.com%2Fapplicationdefaultauthcode.html&scope=openid+https%3A%2F%2Fwww.googleapis.com%2Fauth%2Fuserinfo.email+https%3A%2F%2Fwww.googleapis.com%2Fauth%2Fcloud-platform+https%3A%2F%2Fwww.googleapis.com%2Fauth%2Fsqlservice.login&state=A90yj7eguFBAmzMqSvmKjXW53Ghd3E&prompt=consent&token_usage=remote&access_type=offline&code_challenge=30pDNLQhZSN8x7q-iDkn7lDD5_KBQr-EEu_LIWAsWKQ&code_challenge_method=S256\n",
            "\n",
            "Once finished, enter the verification code provided in your browser: 4/0AQSTgQGR-nZ4NmfcNgmrI0DkdC4KnPRh6NdV8w49w0_I06DjHkZaZUqxB4wKAlAyBG-UpQ\n",
            "\n",
            "Credentials saved to file: [/content/.config/application_default_credentials.json]\n",
            "\n",
            "These credentials will be used by any library that requests Application Default Credentials (ADC).\n",
            "\u001b[1;33mWARNING:\u001b[0m \n",
            "Cannot find a quota project to add to ADC. You might receive a \"quota exceeded\" or \"API not enabled\" error. Run $ gcloud auth application-default set-quota-project to add a quota project.\n",
            "\n",
            "\n",
            "To take a quick anonymous survey, run:\n",
            "  $ gcloud survey\n",
            "\n"
          ]
        }
      ]
    },
    {
      "cell_type": "code",
      "source": [
        "!gcloud auth application-default set-quota-project"
      ],
      "metadata": {
        "colab": {
          "base_uri": "https://localhost:8080/"
        },
        "id": "wn7yIygvQ_PO",
        "outputId": "b57da1db-f455-45a7-de38-a941af7187fa"
      },
      "execution_count": null,
      "outputs": [
        {
          "output_type": "stream",
          "name": "stdout",
          "text": [
            "\u001b[1;31mERROR:\u001b[0m (gcloud.auth.application-default.set-quota-project) argument QUOTA_PROJECT_ID: Must be specified.\n",
            "Usage: gcloud auth application-default set-quota-project QUOTA_PROJECT_ID [optional flags]\n",
            "  optional flags may be  --help\n",
            "\n",
            "For detailed information on this command and its flags, run:\n",
            "  gcloud auth application-default set-quota-project --help\n"
          ]
        }
      ]
    },
    {
      "cell_type": "code",
      "source": [],
      "metadata": {
        "id": "DKPTSsMiUWEB"
      },
      "execution_count": null,
      "outputs": []
    }
  ]
}