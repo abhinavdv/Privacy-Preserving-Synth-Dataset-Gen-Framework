{
 "cells": [
  {
   "cell_type": "markdown",
   "metadata": {},
   "source": [
    "# Amazon Reviews Data Processing\n",
    "\n",
    "This notebook is responsible for **loading, cleaning, and processing raw Amazon reviews** and product metadata from the \"Cell Phones and Accessories\" category. The dataset is sourced from **Amazon Reviews 2023** and is used to generate structured prompt-response pairs for fine-tuning an LLM.\n",
    "\n",
    "Key Steps:  \n",
    "- Load the reviews (`Cell_Phones_and_Accessories.jsonl`) and product metadata (`meta_Cell_Phones_and_Accessories.jsonl`).\n",
    "- Filter and clean the data to remove noise and incomplete entries.\n",
    "- Structure the data into **instruction-based format** for LLM training.\n",
    "- Split and save the final dataset into `train.jsonl` and `test.jsonl`, which are later used for fine-tuning and inference.\n",
    "\n",
    "This processed dataset serves as the foundation for synthetic data generation.\n"
   ]
  },
  {
   "cell_type": "markdown",
   "metadata": {},
   "source": [
    "## Constants"
   ]
  },
  {
   "cell_type": "code",
   "execution_count": null,
   "metadata": {},
   "outputs": [
    {
     "ename": "",
     "evalue": "",
     "output_type": "error",
     "traceback": [
      "\u001b[1;31mRunning cells with 'Python 3.13.2' requires the ipykernel package.\n",
      "\u001b[1;31mRun the following command to install 'ipykernel' into the Python environment. \n",
      "\u001b[1;31mCommand: '/opt/homebrew/bin/python3 -m pip install ipykernel -U --user --force-reinstall'"
     ]
    }
   ],
   "source": [
    "TRAIN_COUNT = 100000\n",
    "TEST_COUNT = 10000\n",
    "# Buffer to account for rows with empty columns\n",
    "BUFFER_COUNT = 50000\n",
    "\n",
    "# Paths to the data files\n",
    "REVIEWS_DATA_PATH = \"raw-data/Cell_Phones_and_Accessories.jsonl\"\n",
    "PRODUCTS_DATA_PATH = \"raw-data/meta_Cell_Phones_and_Accessories.jsonl\"\n",
    "\n",
    "TRAIN_DATA_PATH = \"final-data/train.jsonl\"\n",
    "TEST_DATA_PATH = \"final-data/test.jsonl\"\n",
    "VALIDATION_DATA_PATH = \"final-data/validation.jsonl\"\n"
   ]
  },
  {
   "cell_type": "markdown",
   "metadata": {},
   "source": [
    "## Reading the data"
   ]
  },
  {
   "cell_type": "code",
   "execution_count": 2,
   "metadata": {},
   "outputs": [],
   "source": [
    "import pandas as pd\n",
    "import json"
   ]
  },
  {
   "cell_type": "code",
   "execution_count": 3,
   "metadata": {},
   "outputs": [],
   "source": [
    "# Select more rows than necessary to drop rows with empty columns\n",
    "ROWS = TRAIN_COUNT + TEST_COUNT + BUFFER_COUNT\n",
    "reviews = pd.read_json(REVIEWS_DATA_PATH, lines = True, nrows = ROWS)\n",
    "\n",
    "# Read the entire product data because we need all the product data to get the product title and main category\n",
    "products = pd.read_json(PRODUCTS_DATA_PATH, lines = True)"
   ]
  },
  {
   "cell_type": "code",
   "execution_count": 4,
   "metadata": {},
   "outputs": [
    {
     "data": {
      "text/html": [
       "<div>\n",
       "<style scoped>\n",
       "    .dataframe tbody tr th:only-of-type {\n",
       "        vertical-align: middle;\n",
       "    }\n",
       "\n",
       "    .dataframe tbody tr th {\n",
       "        vertical-align: top;\n",
       "    }\n",
       "\n",
       "    .dataframe thead th {\n",
       "        text-align: right;\n",
       "    }\n",
       "</style>\n",
       "<table border=\"1\" class=\"dataframe\">\n",
       "  <thead>\n",
       "    <tr style=\"text-align: right;\">\n",
       "      <th></th>\n",
       "      <th>rating</th>\n",
       "      <th>title</th>\n",
       "      <th>text</th>\n",
       "      <th>images</th>\n",
       "      <th>asin</th>\n",
       "      <th>parent_asin</th>\n",
       "      <th>user_id</th>\n",
       "      <th>timestamp</th>\n",
       "      <th>helpful_vote</th>\n",
       "      <th>verified_purchase</th>\n",
       "    </tr>\n",
       "  </thead>\n",
       "  <tbody>\n",
       "    <tr>\n",
       "      <th>0</th>\n",
       "      <td>4</td>\n",
       "      <td>No white background! It’s clear!</td>\n",
       "      <td>I bought this bc I thought it had the nice whi...</td>\n",
       "      <td>[{'small_image_url': 'https://images-na.ssl-im...</td>\n",
       "      <td>B08L6L3X1S</td>\n",
       "      <td>B08L6L3X1S</td>\n",
       "      <td>AFKZENTNBQ7A7V7UXW5JJI6UGRYQ</td>\n",
       "      <td>2021-01-30 22:07:31.196</td>\n",
       "      <td>0</td>\n",
       "      <td>True</td>\n",
       "    </tr>\n",
       "    <tr>\n",
       "      <th>1</th>\n",
       "      <td>5</td>\n",
       "      <td>Awesome!  Great price!  Works well!</td>\n",
       "      <td>Perfect. How pissed am I that I recently paid ...</td>\n",
       "      <td>[]</td>\n",
       "      <td>B079BPGF6C</td>\n",
       "      <td>B079BPGF6C</td>\n",
       "      <td>AFKZENTNBQ7A7V7UXW5JJI6UGRYQ</td>\n",
       "      <td>2018-08-16 18:18:37.349</td>\n",
       "      <td>2</td>\n",
       "      <td>True</td>\n",
       "    </tr>\n",
       "  </tbody>\n",
       "</table>\n",
       "</div>"
      ],
      "text/plain": [
       "   rating                                title  \\\n",
       "0       4     No white background! It’s clear!   \n",
       "1       5  Awesome!  Great price!  Works well!   \n",
       "\n",
       "                                                text  \\\n",
       "0  I bought this bc I thought it had the nice whi...   \n",
       "1  Perfect. How pissed am I that I recently paid ...   \n",
       "\n",
       "                                              images        asin parent_asin  \\\n",
       "0  [{'small_image_url': 'https://images-na.ssl-im...  B08L6L3X1S  B08L6L3X1S   \n",
       "1                                                 []  B079BPGF6C  B079BPGF6C   \n",
       "\n",
       "                        user_id               timestamp  helpful_vote  \\\n",
       "0  AFKZENTNBQ7A7V7UXW5JJI6UGRYQ 2021-01-30 22:07:31.196             0   \n",
       "1  AFKZENTNBQ7A7V7UXW5JJI6UGRYQ 2018-08-16 18:18:37.349             2   \n",
       "\n",
       "   verified_purchase  \n",
       "0               True  \n",
       "1               True  "
      ]
     },
     "execution_count": 4,
     "metadata": {},
     "output_type": "execute_result"
    }
   ],
   "source": [
    "reviews.head(2)"
   ]
  },
  {
   "cell_type": "code",
   "execution_count": 5,
   "metadata": {},
   "outputs": [
    {
     "data": {
      "text/html": [
       "<div>\n",
       "<style scoped>\n",
       "    .dataframe tbody tr th:only-of-type {\n",
       "        vertical-align: middle;\n",
       "    }\n",
       "\n",
       "    .dataframe tbody tr th {\n",
       "        vertical-align: top;\n",
       "    }\n",
       "\n",
       "    .dataframe thead th {\n",
       "        text-align: right;\n",
       "    }\n",
       "</style>\n",
       "<table border=\"1\" class=\"dataframe\">\n",
       "  <thead>\n",
       "    <tr style=\"text-align: right;\">\n",
       "      <th></th>\n",
       "      <th>main_category</th>\n",
       "      <th>title</th>\n",
       "      <th>average_rating</th>\n",
       "      <th>rating_number</th>\n",
       "      <th>features</th>\n",
       "      <th>description</th>\n",
       "      <th>price</th>\n",
       "      <th>images</th>\n",
       "      <th>videos</th>\n",
       "      <th>store</th>\n",
       "      <th>categories</th>\n",
       "      <th>details</th>\n",
       "      <th>parent_asin</th>\n",
       "      <th>bought_together</th>\n",
       "      <th>subtitle</th>\n",
       "      <th>author</th>\n",
       "    </tr>\n",
       "  </thead>\n",
       "  <tbody>\n",
       "    <tr>\n",
       "      <th>0</th>\n",
       "      <td>Cell Phones &amp; Accessories</td>\n",
       "      <td>ARAREE Slim Diary Cell Phone Case for Samsung ...</td>\n",
       "      <td>3.8</td>\n",
       "      <td>5</td>\n",
       "      <td>[Genuine Cow leather with 6 different colors, ...</td>\n",
       "      <td>[JUST LOOK, You can tell the difference. Make ...</td>\n",
       "      <td>None</td>\n",
       "      <td>[{'thumb': 'https://m.media-amazon.com/images/...</td>\n",
       "      <td>[]</td>\n",
       "      <td>araree</td>\n",
       "      <td>[Cell Phones &amp; Accessories, Cases, Holsters &amp; ...</td>\n",
       "      <td>{'Product Dimensions': '3.35 x 0.59 x 6.18 inc...</td>\n",
       "      <td>B013SK1JTY</td>\n",
       "      <td>NaN</td>\n",
       "      <td>NaN</td>\n",
       "      <td>NaN</td>\n",
       "    </tr>\n",
       "    <tr>\n",
       "      <th>1</th>\n",
       "      <td>Cell Phones &amp; Accessories</td>\n",
       "      <td>Bastmei for OnePlus 7T Case Extremely Light Ul...</td>\n",
       "      <td>4.4</td>\n",
       "      <td>177</td>\n",
       "      <td>[Ultra-thin &amp; Ultra-light: The ultra slim fit ...</td>\n",
       "      <td>[]</td>\n",
       "      <td>11.98</td>\n",
       "      <td>[{'thumb': 'https://m.media-amazon.com/images/...</td>\n",
       "      <td>[]</td>\n",
       "      <td>Bastmei</td>\n",
       "      <td>[Cell Phones &amp; Accessories, Cases, Holsters &amp; ...</td>\n",
       "      <td>{'Package Dimensions': '7.6 x 4.29 x 0.75 inch...</td>\n",
       "      <td>B07ZPSG8P5</td>\n",
       "      <td>NaN</td>\n",
       "      <td>NaN</td>\n",
       "      <td>NaN</td>\n",
       "    </tr>\n",
       "  </tbody>\n",
       "</table>\n",
       "</div>"
      ],
      "text/plain": [
       "               main_category  \\\n",
       "0  Cell Phones & Accessories   \n",
       "1  Cell Phones & Accessories   \n",
       "\n",
       "                                               title  average_rating  \\\n",
       "0  ARAREE Slim Diary Cell Phone Case for Samsung ...             3.8   \n",
       "1  Bastmei for OnePlus 7T Case Extremely Light Ul...             4.4   \n",
       "\n",
       "   rating_number                                           features  \\\n",
       "0              5  [Genuine Cow leather with 6 different colors, ...   \n",
       "1            177  [Ultra-thin & Ultra-light: The ultra slim fit ...   \n",
       "\n",
       "                                         description  price  \\\n",
       "0  [JUST LOOK, You can tell the difference. Make ...   None   \n",
       "1                                                 []  11.98   \n",
       "\n",
       "                                              images videos    store  \\\n",
       "0  [{'thumb': 'https://m.media-amazon.com/images/...     []   araree   \n",
       "1  [{'thumb': 'https://m.media-amazon.com/images/...     []  Bastmei   \n",
       "\n",
       "                                          categories  \\\n",
       "0  [Cell Phones & Accessories, Cases, Holsters & ...   \n",
       "1  [Cell Phones & Accessories, Cases, Holsters & ...   \n",
       "\n",
       "                                             details parent_asin  \\\n",
       "0  {'Product Dimensions': '3.35 x 0.59 x 6.18 inc...  B013SK1JTY   \n",
       "1  {'Package Dimensions': '7.6 x 4.29 x 0.75 inch...  B07ZPSG8P5   \n",
       "\n",
       "   bought_together subtitle author  \n",
       "0              NaN      NaN    NaN  \n",
       "1              NaN      NaN    NaN  "
      ]
     },
     "execution_count": 5,
     "metadata": {},
     "output_type": "execute_result"
    }
   ],
   "source": [
    "products.head(2)"
   ]
  },
  {
   "cell_type": "code",
   "execution_count": 6,
   "metadata": {},
   "outputs": [
    {
     "name": "stdout",
     "output_type": "stream",
     "text": [
      "Index(['rating', 'review_title', 'review_text', 'images', 'asin',\n",
      "       'parent_asin', 'user_id', 'timestamp', 'helpful_vote',\n",
      "       'verified_purchase'],\n",
      "      dtype='object')\n",
      "Index(['product_main_category', 'product_title', 'average_rating',\n",
      "       'rating_number', 'features', 'description', 'price', 'images', 'videos',\n",
      "       'store', 'categories', 'details', 'parent_asin', 'bought_together',\n",
      "       'subtitle', 'author'],\n",
      "      dtype='object')\n"
     ]
    }
   ],
   "source": [
    "# Rename columns in products DataFrame\n",
    "reviews = reviews.rename(columns={\n",
    "    'title': 'review_title',\n",
    "    'text': 'review_text'\n",
    "})\n",
    "\n",
    "# Rename columns in products DataFrame\n",
    "products = products.rename(columns={\n",
    "    'title': 'product_title',\n",
    "    'main_category': 'product_main_category'\n",
    "})\n",
    "print(reviews.columns)\n",
    "print(products.columns)"
   ]
  },
  {
   "cell_type": "code",
   "execution_count": 7,
   "metadata": {},
   "outputs": [
    {
     "name": "stdout",
     "output_type": "stream",
     "text": [
      "REVIEWS DATA\n",
      "Before dropping empty rows: 160000\n",
      "After dropping empty rows: 159949\n"
     ]
    }
   ],
   "source": [
    "# Drop rows where review_text is empty\n",
    "print(\"REVIEWS DATA\")\n",
    "print(f\"Before dropping empty rows: {len(reviews)}\")\n",
    "reviews = reviews[reviews['review_text'].str.strip() != \"\"]\n",
    "print(f\"After dropping empty rows: {len(reviews)}\")\n",
    "\n"
   ]
  },
  {
   "cell_type": "code",
   "execution_count": 8,
   "metadata": {},
   "outputs": [],
   "source": [
    "# Merge reviews with products based on parent_asin to get main_category and title\n",
    "reviews_with_product_info = pd.merge(\n",
    "    reviews,\n",
    "    products[['parent_asin', 'product_main_category', 'product_title']],\n",
    "    on='parent_asin',\n",
    "    how='left'\n",
    ")"
   ]
  },
  {
   "cell_type": "code",
   "execution_count": 9,
   "metadata": {},
   "outputs": [
    {
     "name": "stdout",
     "output_type": "stream",
     "text": [
      "<class 'pandas.core.frame.DataFrame'>\n",
      "RangeIndex: 159949 entries, 0 to 159948\n",
      "Data columns (total 12 columns):\n",
      " #   Column                 Non-Null Count   Dtype         \n",
      "---  ------                 --------------   -----         \n",
      " 0   rating                 159949 non-null  int64         \n",
      " 1   review_title           159949 non-null  object        \n",
      " 2   review_text            159949 non-null  object        \n",
      " 3   images                 159949 non-null  object        \n",
      " 4   asin                   159949 non-null  object        \n",
      " 5   parent_asin            159949 non-null  object        \n",
      " 6   user_id                159949 non-null  object        \n",
      " 7   timestamp              159949 non-null  datetime64[ns]\n",
      " 8   helpful_vote           159949 non-null  int64         \n",
      " 9   verified_purchase      159949 non-null  bool          \n",
      " 10  product_main_category  157485 non-null  object        \n",
      " 11  product_title          159949 non-null  object        \n",
      "dtypes: bool(1), datetime64[ns](1), int64(2), object(8)\n",
      "memory usage: 13.6+ MB\n"
     ]
    }
   ],
   "source": [
    "reviews_with_product_info.info()"
   ]
  },
  {
   "cell_type": "code",
   "execution_count": 10,
   "metadata": {},
   "outputs": [
    {
     "data": {
      "text/plain": [
       "157485"
      ]
     },
     "execution_count": 10,
     "metadata": {},
     "output_type": "execute_result"
    }
   ],
   "source": [
    "reviews_with_product_info = reviews_with_product_info.drop(columns=[\"images\", \"asin\", \"parent_asin\", \"user_id\", \"timestamp\", \"helpful_vote\", \"verified_purchase\"])\n",
    "# Drop any rows where the merge failed (no matching product)\n",
    "reviews_with_product_info = reviews_with_product_info.dropna(subset=['product_main_category', 'product_title'])\n",
    "len(reviews_with_product_info)"
   ]
  },
  {
   "cell_type": "code",
   "execution_count": 11,
   "metadata": {},
   "outputs": [
    {
     "data": {
      "text/plain": [
       "rating                   False\n",
       "review_title             False\n",
       "review_text              False\n",
       "product_main_category    False\n",
       "product_title             True\n",
       "dtype: bool"
      ]
     },
     "execution_count": 11,
     "metadata": {},
     "output_type": "execute_result"
    }
   ],
   "source": [
    "# Assuming df is your DataFrame\n",
    "invalid_values = (reviews_with_product_info.isna() | (reviews_with_product_info == \"\") | (reviews_with_product_info == 0))\n",
    "\n",
    "# Check if any column contains invalid values\n",
    "invalid_summary = invalid_values.any()\n",
    "invalid_summary"
   ]
  },
  {
   "cell_type": "code",
   "execution_count": 12,
   "metadata": {},
   "outputs": [
    {
     "name": "stdout",
     "output_type": "stream",
     "text": [
      "Before dropping empty rows: 157485\n",
      "After dropping empty rows: 157478\n"
     ]
    }
   ],
   "source": [
    "# !! Modify code to drop rows where column is empty (based on output of invalid_summary)\n",
    "\n",
    "# # Debugging\n",
    "# product_title_rows = reviews_with_product_info[reviews_with_product_info[\"product_title\"].str.strip() == \"\"]\n",
    "# product_title_rows.head(2)\n",
    "\n",
    "# Drop rows where review_text and product_title is empty\n",
    "print(f\"Before dropping empty rows: {len(reviews_with_product_info)}\")\n",
    "reviews_with_product_info = reviews_with_product_info[reviews_with_product_info[\"review_text\"].str.strip() != \"\"]\n",
    "reviews_with_product_info = reviews_with_product_info[reviews_with_product_info[\"product_title\"].str.strip() != \"\"]\n",
    "print(f\"After dropping empty rows: {len(reviews_with_product_info)}\")\n"
   ]
  },
  {
   "cell_type": "markdown",
   "metadata": {},
   "source": [
    "Sanity check - check if any column contains invalid values. None of the columns should contain invalid values here."
   ]
  },
  {
   "cell_type": "code",
   "execution_count": 13,
   "metadata": {},
   "outputs": [
    {
     "data": {
      "text/plain": [
       "rating                   False\n",
       "review_title             False\n",
       "review_text              False\n",
       "product_main_category    False\n",
       "product_title            False\n",
       "dtype: bool"
      ]
     },
     "execution_count": 13,
     "metadata": {},
     "output_type": "execute_result"
    }
   ],
   "source": [
    "# Assuming df is your DataFrame\n",
    "invalid_values = (reviews_with_product_info.isna() | (reviews_with_product_info == \"\") | (reviews_with_product_info == 0))\n",
    "\n",
    "# Check if any column contains invalid values\n",
    "invalid_summary = invalid_values.any()\n",
    "invalid_summary"
   ]
  },
  {
   "cell_type": "code",
   "execution_count": 14,
   "metadata": {},
   "outputs": [
    {
     "name": "stdout",
     "output_type": "stream",
     "text": [
      "146\n"
     ]
    }
   ],
   "source": [
    "# Check if the index is continous. If not, we need to reset the index.\n",
    "counter = 0\n",
    "for index, row in reviews_with_product_info.iterrows():\n",
    "    if index != counter:\n",
    "        print(index)\n",
    "        break\n",
    "    counter += 1"
   ]
  },
  {
   "cell_type": "code",
   "execution_count": 15,
   "metadata": {},
   "outputs": [],
   "source": [
    "# Reset the index - because we have dropped some rows and they need to be continous\n",
    "# so that we can count the rows correctly for writing to the JSONL file\n",
    "reviews_with_product_info.reset_index(drop=True, inplace=True)\n"
   ]
  },
  {
   "cell_type": "code",
   "execution_count": 16,
   "metadata": {},
   "outputs": [],
   "source": [
    "counter = 0\n",
    "for index, row in reviews_with_product_info.iterrows():\n",
    "    if index != counter:\n",
    "        print(index)\n",
    "        break\n",
    "    counter += 1"
   ]
  },
  {
   "cell_type": "markdown",
   "metadata": {},
   "source": [
    "## Writing the JSONL file"
   ]
  },
  {
   "cell_type": "code",
   "execution_count": 18,
   "metadata": {},
   "outputs": [
    {
     "name": "stdout",
     "output_type": "stream",
     "text": [
      "Train rows: 100000\n",
      "Test rows: 10000\n",
      "Validation rows: 47478\n"
     ]
    }
   ],
   "source": [
    "PATH = \"new-data/train.jsonl\"\n",
    "for index, row in reviews_with_product_info.iterrows():\n",
    "    jsonl_data_format_input = {\n",
    "        'System prompt': 'Given the Rating and Title, you are required to generate the review',\n",
    "        'Rating': row['rating'],\n",
    "        'Review Title': row['review_title'],\n",
    "        'Review': row['review_text'],\n",
    "        'Product Title': row['product_title'],\n",
    "        'Product Categories': row['product_main_category'],\n",
    "    }\n",
    "    \n",
    "    if index < TRAIN_COUNT:\n",
    "        PATH = TRAIN_DATA_PATH \n",
    "    elif index < TRAIN_COUNT + TEST_COUNT:\n",
    "        PATH = TEST_DATA_PATH\n",
    "    else:\n",
    "        PATH = VALIDATION_DATA_PATH\n",
    "    \n",
    "    # Open file in append mode and write the dictionary as a JSON line\n",
    "    with open(PATH, \"a\") as f:\n",
    "        json.dump(jsonl_data_format_input, f)\n",
    "        f.write(\"\\n\")\n",
    "\n",
    "print(f\"Train rows: {TRAIN_COUNT}\")\n",
    "print(f\"Test rows: {TEST_COUNT}\")\n",
    "print(f\"Validation rows: {len(reviews_with_product_info) - TRAIN_COUNT - TEST_COUNT}\")\n"
   ]
  },
  {
   "cell_type": "markdown",
   "metadata": {},
   "source": [
    "## Check the created files\n"
   ]
  },
  {
   "cell_type": "code",
   "execution_count": 19,
   "metadata": {},
   "outputs": [
    {
     "name": "stdout",
     "output_type": "stream",
     "text": [
      "Length of final-data/train.jsonl : 100000\n",
      "Length of final-data/test.jsonl : 10000\n",
      "Length of final-data/validation.jsonl : 47478\n"
     ]
    }
   ],
   "source": [
    "\n",
    "files = [TRAIN_DATA_PATH, TEST_DATA_PATH, VALIDATION_DATA_PATH]\n",
    "\n",
    "for file in files:\n",
    "    formatted_strings = []\n",
    "    with open(file, \"r\") as f:\n",
    "        j = 0\n",
    "        for line in f:\n",
    "            j += 1\n",
    "    print(f\"Length of {file} : {j}\")"
   ]
  }
 ],
 "metadata": {
  "kernelspec": {
   "display_name": "Python 3",
   "language": "python",
   "name": "python3"
  },
  "language_info": {
   "codemirror_mode": {
    "name": "ipython",
    "version": 3
   },
   "file_extension": ".py",
   "mimetype": "text/x-python",
   "name": "python",
   "nbconvert_exporter": "python",
   "pygments_lexer": "ipython3",
   "version": "3.13.2"
  }
 },
 "nbformat": 4,
 "nbformat_minor": 2
}
