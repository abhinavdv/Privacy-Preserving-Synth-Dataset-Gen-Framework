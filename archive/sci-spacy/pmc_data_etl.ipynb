{
 "cells": [
  {
   "cell_type": "code",
   "execution_count": 3,
   "metadata": {},
   "outputs": [],
   "source": [
    "import json\n",
    "import math\n",
    "import pandas as pd"
   ]
  },
  {
   "cell_type": "code",
   "execution_count": null,
   "metadata": {},
   "outputs": [],
   "source": [
    "\n",
    "\n",
    "# Load the diseases list from a CSV file\n",
    "diseases_df = pd.read_csv(\"disease_list.csv\")\n",
    "diseases_df = diseases_df.replace(r\"^ +| +$\", r\"\", regex=True)\n",
    "disease_keywords = diseases_df['Disease'].str.lower().tolist()  # Convert to lowercase for case-insensitive matching\n",
    "disease_keyword_dict = set(disease_keywords)\n",
    "\n",
    "def extract_diseases_from_text(text, disease_keywords):\n",
    "    \"\"\"\n",
    "    Extracts diseases directly from text by matching against a predefined list of diseases.\n",
    "    \"\"\"\n",
    "    matched_diseases = []\n",
    "    text = text.lower()\n",
    "\n",
    "    # Check if any disease keyword exists as a substring in the text\n",
    "    for disease in disease_keyword_dict:\n",
    "        if disease in text:\n",
    "            matched_diseases.append(disease)\n",
    "    return list(set(matched_diseases))  # Remove duplicates\n",
    "\n",
    "def process_batch(batch_data, disease_keywords):\n",
    "    \"\"\"\n",
    "    Processes a batch of data and extracts disease information.\n",
    "    \"\"\"\n",
    "    results = []\n",
    "    for patient in batch_data:\n",
    "        patient_text = patient.get(\"patient\", \"\")\n",
    "        title_text = patient.get(\"title\", \"\")\n",
    "\n",
    "        # Extract diseases from patient text and title\n",
    "        diseases_from_patient = extract_diseases_from_text(patient_text, disease_keyword_dict)\n",
    "        diseases_from_title = extract_diseases_from_text(title_text, disease_keyword_dict)\n",
    "        diseases_from_both = list(set(diseases_from_patient) & set(diseases_from_title))\n",
    "        \n",
    "        # Determine the final 'disease' field\n",
    "        if diseases_from_both:\n",
    "            disease = diseases_from_both\n",
    "        elif diseases_from_title:\n",
    "            disease = diseases_from_title\n",
    "        else:\n",
    "            disease = diseases_from_patient\n",
    "\n",
    "        # Extract age and age units from the `age` field\n",
    "        age_data = patient.get(\"age\", [[None, None]])[0]\n",
    "        extracted_age = int(math.floor(age_data[0])) if isinstance(age_data[0], (int, float)) else None\n",
    "        extracted_age_units = age_data[1] if isinstance(age_data[1], str) else None\n",
    "\n",
    "        # Append the patient data along with the extracted diseases and age fields\n",
    "        results.append({\n",
    "            \"patient_id\": patient.get(\"patient_id\"),\n",
    "            \"patient_uid\": patient.get(\"patient_uid\"),\n",
    "            \"patient\": patient_text,\n",
    "            \"title\": title_text,\n",
    "            \"age\": extracted_age,\n",
    "            \"age_units\": extracted_age_units,\n",
    "            \"gender\": patient.get(\"gender\"),\n",
    "            \"similar_patients\": patient.get(\"similar_patients\"),\n",
    "            \"diseases_from_patient\": \", \".join(diseases_from_patient),\n",
    "            \"diseases_from_title\": \", \".join(diseases_from_title),\n",
    "            \"diseases_from_both\": \", \".join(diseases_from_both),\n",
    "            \"disease\": \", \".join(disease)  # Final disease field\n",
    "        })\n",
    "    return results\n",
    "\n",
    "# Read input JSON data\n",
    "input_file = \"null_disease_records.json\"\n",
    "output_file = \"null_disease.csv\"\n",
    "chunk_size = 1000\n",
    "\n",
    "with open(input_file, \"r\") as file:\n",
    "    data = json.load(file)\n",
    "\n",
    "# Initialize an empty DataFrame to store all results\n",
    "final_results_df = pd.DataFrame()\n",
    "\n",
    "# Process data in batches and append to the DataFrame\n",
    "for i in range(0, len(data), chunk_size):\n",
    "    batch_data = data[i:i + chunk_size]\n",
    "    processed_results = process_batch(batch_data, disease_keywords)\n",
    "    \n",
    "    # Convert the batch results to a DataFrame and append to final_results_df\n",
    "    batch_df = pd.DataFrame(processed_results)\n",
    "    final_results_df = pd.concat([final_results_df, batch_df], ignore_index=True)\n",
    "    \n",
    "    print(f\"Processed and appended batch {i // chunk_size + 1}\")\n",
    "\n",
    "# Save the final results to CSV\n",
    "final_results_df.to_csv(output_file, index=False)\n",
    "print(f\"Final data saved to '{output_file}'\")\n"
   ]
  },
  {
   "cell_type": "code",
   "execution_count": 5,
   "metadata": {},
   "outputs": [
    {
     "data": {
      "text/html": [
       "<div>\n",
       "<style scoped>\n",
       "    .dataframe tbody tr th:only-of-type {\n",
       "        vertical-align: middle;\n",
       "    }\n",
       "\n",
       "    .dataframe tbody tr th {\n",
       "        vertical-align: top;\n",
       "    }\n",
       "\n",
       "    .dataframe thead th {\n",
       "        text-align: right;\n",
       "    }\n",
       "</style>\n",
       "<table border=\"1\" class=\"dataframe\">\n",
       "  <thead>\n",
       "    <tr style=\"text-align: right;\">\n",
       "      <th></th>\n",
       "      <th>patient_id</th>\n",
       "      <th>patient_uid</th>\n",
       "      <th>patient</th>\n",
       "      <th>title</th>\n",
       "      <th>age</th>\n",
       "      <th>age_units</th>\n",
       "      <th>gender</th>\n",
       "      <th>similar_patients</th>\n",
       "      <th>diseases_from_patient</th>\n",
       "      <th>diseases_from_title</th>\n",
       "      <th>diseases_from_both</th>\n",
       "      <th>disease</th>\n",
       "    </tr>\n",
       "  </thead>\n",
       "  <tbody>\n",
       "    <tr>\n",
       "      <th>0</th>\n",
       "      <td>0</td>\n",
       "      <td>7665777-1</td>\n",
       "      <td>This 60-year-old male was hospitalized due to ...</td>\n",
       "      <td>Early Physical Therapist Interventions for Pat...</td>\n",
       "      <td>60</td>\n",
       "      <td>year</td>\n",
       "      <td>M</td>\n",
       "      <td>{'7665777-2': 2, '7665777-3': 2, '7665777-4': ...</td>\n",
       "      <td>respiratory failure, covid-19</td>\n",
       "      <td>covid-19</td>\n",
       "      <td>covid-19</td>\n",
       "      <td>covid-19</td>\n",
       "    </tr>\n",
       "    <tr>\n",
       "      <th>1</th>\n",
       "      <td>1</td>\n",
       "      <td>7665777-2</td>\n",
       "      <td>A 39-year-old man was hospitalized due to an i...</td>\n",
       "      <td>Early Physical Therapist Interventions for Pat...</td>\n",
       "      <td>39</td>\n",
       "      <td>year</td>\n",
       "      <td>M</td>\n",
       "      <td>{'7665777-1': 2, '7665777-3': 2, '7665777-4': ...</td>\n",
       "      <td>anxiety</td>\n",
       "      <td>covid-19</td>\n",
       "      <td>NaN</td>\n",
       "      <td>covid-19</td>\n",
       "    </tr>\n",
       "    <tr>\n",
       "      <th>2</th>\n",
       "      <td>2</td>\n",
       "      <td>7665777-3</td>\n",
       "      <td>One week after a positive COVID-19 result this...</td>\n",
       "      <td>Early Physical Therapist Interventions for Pat...</td>\n",
       "      <td>57</td>\n",
       "      <td>year</td>\n",
       "      <td>M</td>\n",
       "      <td>{'7665777-1': 2, '7665777-2': 2, '7665777-4': ...</td>\n",
       "      <td>covid-19</td>\n",
       "      <td>covid-19</td>\n",
       "      <td>covid-19</td>\n",
       "      <td>covid-19</td>\n",
       "    </tr>\n",
       "    <tr>\n",
       "      <th>3</th>\n",
       "      <td>3</td>\n",
       "      <td>7665777-4</td>\n",
       "      <td>This 69-year-old male was admitted to the ICU ...</td>\n",
       "      <td>Early Physical Therapist Interventions for Pat...</td>\n",
       "      <td>69</td>\n",
       "      <td>year</td>\n",
       "      <td>M</td>\n",
       "      <td>{'7665777-1': 2, '7665777-2': 2, '7665777-3': ...</td>\n",
       "      <td>pneumonia, covid-19</td>\n",
       "      <td>covid-19</td>\n",
       "      <td>covid-19</td>\n",
       "      <td>covid-19</td>\n",
       "    </tr>\n",
       "    <tr>\n",
       "      <th>4</th>\n",
       "      <td>4</td>\n",
       "      <td>7665777-5</td>\n",
       "      <td>This 57-year-old male was admitted to the ICU ...</td>\n",
       "      <td>Early Physical Therapist Interventions for Pat...</td>\n",
       "      <td>57</td>\n",
       "      <td>year</td>\n",
       "      <td>M</td>\n",
       "      <td>{'7665777-1': 2, '7665777-2': 2, '7665777-3': ...</td>\n",
       "      <td>respiratory failure, covid-19</td>\n",
       "      <td>covid-19</td>\n",
       "      <td>covid-19</td>\n",
       "      <td>covid-19</td>\n",
       "    </tr>\n",
       "  </tbody>\n",
       "</table>\n",
       "</div>"
      ],
      "text/plain": [
       "   patient_id patient_uid                                            patient  \\\n",
       "0           0   7665777-1  This 60-year-old male was hospitalized due to ...   \n",
       "1           1   7665777-2  A 39-year-old man was hospitalized due to an i...   \n",
       "2           2   7665777-3  One week after a positive COVID-19 result this...   \n",
       "3           3   7665777-4  This 69-year-old male was admitted to the ICU ...   \n",
       "4           4   7665777-5  This 57-year-old male was admitted to the ICU ...   \n",
       "\n",
       "                                               title  age age_units gender  \\\n",
       "0  Early Physical Therapist Interventions for Pat...   60      year      M   \n",
       "1  Early Physical Therapist Interventions for Pat...   39      year      M   \n",
       "2  Early Physical Therapist Interventions for Pat...   57      year      M   \n",
       "3  Early Physical Therapist Interventions for Pat...   69      year      M   \n",
       "4  Early Physical Therapist Interventions for Pat...   57      year      M   \n",
       "\n",
       "                                    similar_patients  \\\n",
       "0  {'7665777-2': 2, '7665777-3': 2, '7665777-4': ...   \n",
       "1  {'7665777-1': 2, '7665777-3': 2, '7665777-4': ...   \n",
       "2  {'7665777-1': 2, '7665777-2': 2, '7665777-4': ...   \n",
       "3  {'7665777-1': 2, '7665777-2': 2, '7665777-3': ...   \n",
       "4  {'7665777-1': 2, '7665777-2': 2, '7665777-3': ...   \n",
       "\n",
       "           diseases_from_patient diseases_from_title diseases_from_both  \\\n",
       "0  respiratory failure, covid-19            covid-19           covid-19   \n",
       "1                        anxiety            covid-19                NaN   \n",
       "2                       covid-19            covid-19           covid-19   \n",
       "3            pneumonia, covid-19            covid-19           covid-19   \n",
       "4  respiratory failure, covid-19            covid-19           covid-19   \n",
       "\n",
       "    disease  \n",
       "0  covid-19  \n",
       "1  covid-19  \n",
       "2  covid-19  \n",
       "3  covid-19  \n",
       "4  covid-19  "
      ]
     },
     "execution_count": 5,
     "metadata": {},
     "output_type": "execute_result"
    }
   ],
   "source": [
    "df = pd.read_csv(\"updated_full_patients.csv\")\n",
    "\n",
    "# Display the DataFrame (optional)\n",
    "df.head()"
   ]
  },
  {
   "cell_type": "code",
   "execution_count": 6,
   "metadata": {},
   "outputs": [
    {
     "name": "stdout",
     "output_type": "stream",
     "text": [
      "diseases_from_patient    0.236263\n",
      "diseases_from_title      0.489403\n",
      "diseases_from_both       0.686273\n",
      "disease                  0.001132\n",
      "dtype: float64\n"
     ]
    }
   ],
   "source": [
    "print(df[['diseases_from_patient', 'diseases_from_title', 'diseases_from_both', 'disease']].isnull().mean())\n"
   ]
  },
  {
   "cell_type": "code",
   "execution_count": 7,
   "metadata": {},
   "outputs": [
    {
     "data": {
      "text/plain": [
       "189"
      ]
     },
     "execution_count": 7,
     "metadata": {},
     "output_type": "execute_result"
    }
   ],
   "source": [
    "df_temp = df[df['disease'].isna()]\n",
    "len(df_temp)"
   ]
  },
  {
   "cell_type": "code",
   "execution_count": 10,
   "metadata": {},
   "outputs": [
    {
     "data": {
      "text/plain": [
       "39464"
      ]
     },
     "execution_count": 10,
     "metadata": {},
     "output_type": "execute_result"
    }
   ],
   "source": [
    "df_temp_1 = df[df['diseases_from_patient'].isna()]\n",
    "len(df_temp_1)"
   ]
  },
  {
   "cell_type": "code",
   "execution_count": 11,
   "metadata": {},
   "outputs": [
    {
     "data": {
      "text/plain": [
       "81747"
      ]
     },
     "execution_count": 11,
     "metadata": {},
     "output_type": "execute_result"
    }
   ],
   "source": [
    "df_temp_1 = df[df['diseases_from_title'].isna()]\n",
    "len(df_temp_1)"
   ]
  },
  {
   "cell_type": "code",
   "execution_count": 12,
   "metadata": {},
   "outputs": [
    {
     "data": {
      "text/plain": [
       "114631"
      ]
     },
     "execution_count": 12,
     "metadata": {},
     "output_type": "execute_result"
    }
   ],
   "source": [
    "df_temp_1 = df[df['diseases_from_both'].isna()]\n",
    "len(df_temp_1)"
   ]
  },
  {
   "cell_type": "code",
   "execution_count": 18,
   "metadata": {},
   "outputs": [
    {
     "name": "stdout",
     "output_type": "stream",
     "text": [
      "count    167034.000000\n",
      "mean          0.149365\n",
      "std           0.276037\n",
      "min           0.000000\n",
      "25%           0.000000\n",
      "50%           0.000000\n",
      "75%           0.200000\n",
      "max           1.000000\n",
      "Name: similarity_ratio, dtype: float64\n"
     ]
    }
   ],
   "source": [
    "def jaccard_similarity(set1, set2):\n",
    "    return len(set1 & set2) / len(set1 | set2) if (set1 | set2) else 0\n",
    "\n",
    "df['similarity_ratio'] = df.apply(\n",
    "    lambda row: jaccard_similarity(\n",
    "        set(str(row['diseases_from_patient']).split(', ') if pd.notna(row['diseases_from_patient']) else []),\n",
    "        set(str(row['diseases_from_title']).split(', ') if pd.notna(row['diseases_from_title']) else [])\n",
    "    ), axis=1\n",
    ")\n",
    "print(df['similarity_ratio'].describe())\n",
    "\n"
   ]
  },
  {
   "cell_type": "code",
   "execution_count": 19,
   "metadata": {},
   "outputs": [
    {
     "data": {
      "image/png": "[encoded data removed]",
      "text/plain": [
       "<Figure size 640x480 with 1 Axes>"
      ]
     },
     "metadata": {},
     "output_type": "display_data"
    }
   ],
   "source": [
    "import matplotlib.pyplot as plt\n",
    "df['similarity_ratio'].hist(bins=20)\n",
    "plt.title(\"Distribution of Jaccard Similarity Scores\")\n",
    "plt.xlabel(\"Similarity Ratio\")\n",
    "plt.ylabel(\"Frequency\")\n",
    "plt.show()"
   ]
  },
  {
   "cell_type": "code",
   "execution_count": null,
   "metadata": {},
   "outputs": [],
   "source": [
    "import pandas as pd\n",
    "null_df = pd.read_csv('null_disease.csv')\n",
    "# null_df = null_df[null_df['disease'].isna()]\n",
    "# null_df.to_csv('null_disease.csv', index=False)\n",
    "len(null_df)"
   ]
  },
  {
   "cell_type": "code",
   "execution_count": null,
   "metadata": {},
   "outputs": [],
   "source": [
    "null_df['title'] = null_df['title'].str.strip()\n",
    "unique_titles = null_df['title'].unique()\n",
    "\n",
    "\n",
    "# Extract unique titles\n",
    "unique_titles = null_df['title'].unique()\n",
    "\n",
    "# Convert the array of unique titles to a DataFrame\n",
    "unique_titles_df = pd.DataFrame(unique_titles, columns=['title'])\n",
    "\n",
    "# Save the DataFrame to a CSV file\n",
    "unique_titles_df.to_csv('unique_titles.csv', index=False)\n",
    "\n",
    "print(\"Unique titles have been saved to 'unique_titles.csv'\")\n",
    "\n"
   ]
  },
  {
   "cell_type": "code",
   "execution_count": null,
   "metadata": {},
   "outputs": [],
   "source": [
    "import json\n",
    "\n",
    "# Define UK to US spelling conversions\n",
    "uk_to_us_spelling = {\n",
    "    \"leukaemia\": \"leukemia\",\n",
    "    \"Leukaemia\": \"Leukemia\",\n",
    "    # Add more UK-to-US conversions as needed\n",
    "}\n",
    "\n",
    "def replace_uk_spelling(text):\n",
    "    \"\"\"Replace UK spellings with US spellings in the text.\"\"\"\n",
    "    for uk, us in uk_to_us_spelling.items():\n",
    "        text = text.replace(uk, us)\n",
    "    return text\n",
    "\n",
    "# Open and load the JSON file\n",
    "input_file = \"filtered_null_disease_records.json\"\n",
    "output_file = \"null_disease_records.json\"\n",
    "\n",
    "with open(input_file, \"r\") as file:\n",
    "    data = json.load(file)\n",
    "\n",
    "# Recursively update text fields in the JSON data\n",
    "def update_spelling(obj):\n",
    "    if isinstance(obj, dict):\n",
    "        return {key: update_spelling(value) for key, value in obj.items()}\n",
    "    elif isinstance(obj, list):\n",
    "        return [update_spelling(item) for item in obj]\n",
    "    elif isinstance(obj, str):\n",
    "        return replace_uk_spelling(obj)\n",
    "    else:\n",
    "        return obj\n",
    "\n",
    "# Apply the spelling update to the JSON data\n",
    "updated_data = update_spelling(data)\n",
    "\n",
    "# Save the updated JSON to a new file\n",
    "with open(output_file, \"w\") as file:\n",
    "    json.dump(updated_data, file, indent=4)\n",
    "\n",
    "print(f\"Updated JSON saved to '{output_file}'\")\n"
   ]
  },
  {
   "cell_type": "code",
   "execution_count": 1,
   "metadata": {},
   "outputs": [
    {
     "name": "stderr",
     "output_type": "stream",
     "text": [
      "/Users/manasa/anaconda3/envs/anything/lib/python3.12/site-packages/spacy/language.py:2195: FutureWarning: Possible set union at position 6328\n",
      "  deserializers[\"tokenizer\"] = lambda p: self.tokenizer.from_disk(  # type: ignore[union-attr]\n"
     ]
    },
    {
     "name": "stdout",
     "output_type": "stream",
     "text": [
      "Processed batch 1\n",
      "Processed batch 2\n",
      "Processed batch 3\n",
      "Processed batch 4\n",
      "Processed batch 5\n",
      "Processed batch 6\n",
      "Processed batch 7\n",
      "Processed batch 8\n",
      "Processed batch 9\n",
      "Processed batch 10\n",
      "Processed batch 11\n",
      "Processed batch 12\n",
      "Processed batch 13\n",
      "Processed batch 14\n",
      "Processed batch 15\n",
      "Processed batch 16\n",
      "Processed batch 17\n",
      "Processed batch 18\n",
      "Processed batch 19\n",
      "Processed batch 20\n",
      "Processed batch 21\n",
      "Processed batch 22\n",
      "Processed batch 23\n",
      "Processed batch 24\n",
      "Processed batch 25\n",
      "Processed batch 26\n",
      "Processed batch 27\n",
      "Processed batch 28\n",
      "Processed batch 29\n",
      "Updated CSV file saved to 'updated_null_disease.csv'\n"
     ]
    }
   ],
   "source": [
    "import spacy\n",
    "import pandas as pd\n",
    "\n",
    "# Load the SciSpaCy model for disease extraction\n",
    "nlp = spacy.load(\"en_ner_bc5cdr_md\")\n",
    "\n",
    "# Load the CSV file\n",
    "df = pd.read_csv(\"null_disease.csv\")\n",
    "\n",
    "# Function to extract conditions using SciSpaCy\n",
    "def extract_conditions(text):\n",
    "    conditions = []\n",
    "    if pd.notna(text):  # Check if text is not NaN\n",
    "        doc = nlp(text)\n",
    "        for ent in doc.ents:\n",
    "            if ent.label_ == \"DISEASE\":\n",
    "                conditions.append(ent.text)\n",
    "    return conditions\n",
    "\n",
    "# Process in batches of 1000 records\n",
    "batch_size = 1000\n",
    "output_file = \"updated_null_disease.csv\"\n",
    "\n",
    "# Initialize an empty list to store processed data\n",
    "processed_data = []\n",
    "\n",
    "# Iterate over data in batches\n",
    "for start in range(0, len(df), batch_size):\n",
    "    batch = df[start:start + batch_size].copy()\n",
    "\n",
    "    # Apply extraction to both the 'patient' and 'title' columns\n",
    "    batch['diseases_from_patient'] = batch['patient'].apply(lambda x: extract_conditions(x))\n",
    "    batch['diseases_from_title'] = batch['title'].apply(lambda x: extract_conditions(x))\n",
    "    batch['diseases_from_both'] = batch.apply(\n",
    "        lambda row: list(set(row['diseases_from_patient']) & set(row['diseases_from_title'])), axis=1\n",
    "    )\n",
    "\n",
    "    # Append processed batch to the list\n",
    "    processed_data.append(batch)\n",
    "\n",
    "    print(f\"Processed batch {start // batch_size + 1}\")\n",
    "\n",
    "# Concatenate all processed batches\n",
    "final_df = pd.concat(processed_data, ignore_index=True)\n",
    "\n",
    "# Save the updated DataFrame to a new CSV file\n",
    "final_df.to_csv(output_file, index=False)\n",
    "\n",
    "print(f\"Updated CSV file saved to '{output_file}'\")\n"
   ]
  },
  {
   "cell_type": "code",
   "execution_count": 13,
   "metadata": {},
   "outputs": [
    {
     "data": {
      "text/plain": [
       "0"
      ]
     },
     "execution_count": 13,
     "metadata": {},
     "output_type": "execute_result"
    }
   ],
   "source": [
    "df_1 = pd.read_csv(\"final_updated_null_disease.csv\")\n",
    "len(df_1)\n",
    "df_1 = df_1[df_1['disease'].isna()]\n",
    "len(df_1)\n"
   ]
  },
  {
   "cell_type": "code",
   "execution_count": 9,
   "metadata": {},
   "outputs": [],
   "source": [
    "nlp = spacy.load(\"en_ner_bc5cdr_md\")\n"
   ]
  },
  {
   "cell_type": "code",
   "execution_count": null,
   "metadata": {},
   "outputs": [
    {
     "name": "stdout",
     "output_type": "stream",
     "text": [
      "Updated CSV file saved to 'final_updated_null_disease.csv'\n"
     ]
    }
   ],
   "source": [
    "\n",
    "df_2 = pd.read_csv(\"updated_null_disease.csv\")\n",
    "\n",
    "# Determine the final 'disease' field for each record\n",
    "def get_final_disease(row):\n",
    "    if row['diseases_from_both']:\n",
    "        return row['diseases_from_both']\n",
    "    elif row['diseases_from_title']:\n",
    "        return row['diseases_from_title']\n",
    "    else:\n",
    "        return row['diseases_from_patient']\n",
    "\n",
    "# Apply the function to each row\n",
    "df_2['disease'] = df_2.apply(get_final_disease, axis=1)\n",
    "\n",
    "# Save the updated DataFrame to a CSV file\n",
    "df_2.to_csv(\"final_updated_null_disease.csv\", index=False)\n",
    "\n",
    "print(\"Updated CSV file saved to 'final_updated_null_disease.csv'\")\n"
   ]
  },
  {
   "cell_type": "code",
   "execution_count": 15,
   "metadata": {},
   "outputs": [
    {
     "name": "stdout",
     "output_type": "stream",
     "text": [
      "Updated CSV file saved to 'updated_full_patients.csv'\n"
     ]
    }
   ],
   "source": [
    "\n",
    "full_patients = pd.read_csv(\"full_patients.csv\")\n",
    "updated_null_disease = pd.read_csv(\"final_updated_null_disease.csv\")\n",
    "\n",
    "# Merge the DataFrames on the 'patient_id' column\n",
    "merged_df = full_patients.merge(updated_null_disease[['patient_id', 'disease']], \n",
    "                                on='patient_id', how='left', suffixes=('', '_updated'))\n",
    "\n",
    "# Update the 'disease' column in full_patients if it's empty\n",
    "merged_df['disease'] = merged_df.apply(\n",
    "    lambda row: row['disease_updated'] if pd.isna(row['disease']) or row['disease'] == '' else row['disease'], axis=1\n",
    ")\n",
    "\n",
    "# Drop the temporary 'disease_updated' column\n",
    "merged_df.drop(columns=['disease_updated'], inplace=True)\n",
    "\n",
    "# Save the updated DataFrame to a new CSV file\n",
    "merged_df.to_csv(\"updated_full_patients.csv\", index=False)\n",
    "\n",
    "print(\"Updated CSV file saved to 'updated_full_patients.csv'\")\n"
   ]
  },
  {
   "cell_type": "code",
   "execution_count": null,
   "metadata": {},
   "outputs": [],
   "source": []
  }
 ],
 "metadata": {
  "kernelspec": {
   "display_name": "anything",
   "language": "python",
   "name": "python3"
  },
  "language_info": {
   "codemirror_mode": {
    "name": "ipython",
    "version": 3
   },
   "file_extension": ".py",
   "mimetype": "text/x-python",
   "name": "python",
   "nbconvert_exporter": "python",
   "pygments_lexer": "ipython3",
   "version": "3.12.0"
  }
 },
 "nbformat": 4,
 "nbformat_minor": 2
}
