{
  "nbformat": 4,
  "nbformat_minor": 0,
  "metadata": {
    "colab": {
      "provenance": []
    },
    "kernelspec": {
      "name": "python3",
      "display_name": "Python 3"
    },
    "language_info": {
      "name": "python"
    }
  },
  "cells": [
    {
      "cell_type": "code",
      "execution_count": 8,
      "metadata": {
        "id": "cDt8jt2j-MgH"
      },
      "outputs": [],
      "source": [
        "import pandas as pd\n",
        "import numpy as np\n",
        "import json"
      ]
    },
    {
      "cell_type": "code",
      "source": [
        "data = pd.read_csv('updated_full_patients.csv')"
      ],
      "metadata": {
        "id": "giY4gPgo-X8R"
      },
      "execution_count": null,
      "outputs": []
    },
    {
      "cell_type": "code",
      "source": [
        "# find shape of data\n",
        "data.shape"
      ],
      "metadata": {
        "colab": {
          "base_uri": "https://localhost:8080/"
        },
        "id": "k_rZM9bYDNo9",
        "outputId": "c86df11c-7749-4517-bcd5-5e567bbe94b7"
      },
      "execution_count": null,
      "outputs": [
        {
          "output_type": "execute_result",
          "data": {
            "text/plain": [
              "(167034, 12)"
            ]
          },
          "metadata": {},
          "execution_count": 3
        }
      ]
    },
    {
      "cell_type": "code",
      "source": [
        "# find the columns and dtypes\n",
        "data.columns"
      ],
      "metadata": {
        "colab": {
          "base_uri": "https://localhost:8080/"
        },
        "id": "pOnaEEzvDX0P",
        "outputId": "bf7dfbda-fd22-4f36-bec8-7a2223cf29e1"
      },
      "execution_count": null,
      "outputs": [
        {
          "output_type": "execute_result",
          "data": {
            "text/plain": [
              "Index(['patient_id', 'patient_uid', 'patient', 'title', 'age', 'age_units',\n",
              "       'gender', 'similar_patients', 'diseases_from_patient',\n",
              "       'diseases_from_title', 'diseases_from_both', 'disease'],\n",
              "      dtype='object')"
            ]
          },
          "metadata": {},
          "execution_count": 4
        }
      ]
    },
    {
      "cell_type": "code",
      "source": [
        "# find how many rows are empty for each of the columns\n",
        "data.isnull().sum()"
      ],
      "metadata": {
        "colab": {
          "base_uri": "https://localhost:8080/",
          "height": 460
        },
        "id": "aQsrPmfXDjdY",
        "outputId": "e01e0e36-900b-4af4-a48f-848715ca3775"
      },
      "execution_count": null,
      "outputs": [
        {
          "output_type": "execute_result",
          "data": {
            "text/plain": [
              "patient_id                    0\n",
              "patient_uid                   0\n",
              "patient                       0\n",
              "title                         0\n",
              "age                           0\n",
              "age_units                     0\n",
              "gender                        0\n",
              "similar_patients              0\n",
              "diseases_from_patient     39464\n",
              "diseases_from_title       81747\n",
              "diseases_from_both       114631\n",
              "disease                     189\n",
              "dtype: int64"
            ],
            "text/html": [
              "<div>\n",
              "<style scoped>\n",
              "    .dataframe tbody tr th:only-of-type {\n",
              "        vertical-align: middle;\n",
              "    }\n",
              "\n",
              "    .dataframe tbody tr th {\n",
              "        vertical-align: top;\n",
              "    }\n",
              "\n",
              "    .dataframe thead th {\n",
              "        text-align: right;\n",
              "    }\n",
              "</style>\n",
              "<table border=\"1\" class=\"dataframe\">\n",
              "  <thead>\n",
              "    <tr style=\"text-align: right;\">\n",
              "      <th></th>\n",
              "      <th>0</th>\n",
              "    </tr>\n",
              "  </thead>\n",
              "  <tbody>\n",
              "    <tr>\n",
              "      <th>patient_id</th>\n",
              "      <td>0</td>\n",
              "    </tr>\n",
              "    <tr>\n",
              "      <th>patient_uid</th>\n",
              "      <td>0</td>\n",
              "    </tr>\n",
              "    <tr>\n",
              "      <th>patient</th>\n",
              "      <td>0</td>\n",
              "    </tr>\n",
              "    <tr>\n",
              "      <th>title</th>\n",
              "      <td>0</td>\n",
              "    </tr>\n",
              "    <tr>\n",
              "      <th>age</th>\n",
              "      <td>0</td>\n",
              "    </tr>\n",
              "    <tr>\n",
              "      <th>age_units</th>\n",
              "      <td>0</td>\n",
              "    </tr>\n",
              "    <tr>\n",
              "      <th>gender</th>\n",
              "      <td>0</td>\n",
              "    </tr>\n",
              "    <tr>\n",
              "      <th>similar_patients</th>\n",
              "      <td>0</td>\n",
              "    </tr>\n",
              "    <tr>\n",
              "      <th>diseases_from_patient</th>\n",
              "      <td>39464</td>\n",
              "    </tr>\n",
              "    <tr>\n",
              "      <th>diseases_from_title</th>\n",
              "      <td>81747</td>\n",
              "    </tr>\n",
              "    <tr>\n",
              "      <th>diseases_from_both</th>\n",
              "      <td>114631</td>\n",
              "    </tr>\n",
              "    <tr>\n",
              "      <th>disease</th>\n",
              "      <td>189</td>\n",
              "    </tr>\n",
              "  </tbody>\n",
              "</table>\n",
              "</div><br><label><b>dtype:</b> int64</label>"
            ]
          },
          "metadata": {},
          "execution_count": 101
        }
      ]
    },
    {
      "cell_type": "code",
      "source": [
        "# find how many rows has disease column as empty array\n",
        "#data[data['disease'].apply(lambda x: x == [])]\n",
        "#data[data['disease'].isnull()]"
      ],
      "metadata": {
        "colab": {
          "base_uri": "https://localhost:8080/",
          "height": 73
        },
        "collapsed": true,
        "id": "vbQUKZM64OOp",
        "outputId": "283a15ae-b79f-4356-cd90-32052499f88e"
      },
      "execution_count": null,
      "outputs": [
        {
          "output_type": "execute_result",
          "data": {
            "text/plain": [
              "Empty DataFrame\n",
              "Columns: [patient_id, patient_uid, patient, title, age, age_units, gender, similar_patients, diseases_from_patient, diseases_from_title, diseases_from_both, disease]\n",
              "Index: []"
            ],
            "text/html": [
              "\n",
              "  <div id=\"df-9e098ea8-e01d-4c4f-bf3a-7171bb068c89\" class=\"colab-df-container\">\n",
              "    <div>\n",
              "<style scoped>\n",
              "    .dataframe tbody tr th:only-of-type {\n",
              "        vertical-align: middle;\n",
              "    }\n",
              "\n",
              "    .dataframe tbody tr th {\n",
              "        vertical-align: top;\n",
              "    }\n",
              "\n",
              "    .dataframe thead th {\n",
              "        text-align: right;\n",
              "    }\n",
              "</style>\n",
              "<table border=\"1\" class=\"dataframe\">\n",
              "  <thead>\n",
              "    <tr style=\"text-align: right;\">\n",
              "      <th></th>\n",
              "      <th>patient_id</th>\n",
              "      <th>patient_uid</th>\n",
              "      <th>patient</th>\n",
              "      <th>title</th>\n",
              "      <th>age</th>\n",
              "      <th>age_units</th>\n",
              "      <th>gender</th>\n",
              "      <th>similar_patients</th>\n",
              "      <th>diseases_from_patient</th>\n",
              "      <th>diseases_from_title</th>\n",
              "      <th>diseases_from_both</th>\n",
              "      <th>disease</th>\n",
              "    </tr>\n",
              "  </thead>\n",
              "  <tbody>\n",
              "  </tbody>\n",
              "</table>\n",
              "</div>\n",
              "    <div class=\"colab-df-buttons\">\n",
              "\n",
              "  <div class=\"colab-df-container\">\n",
              "    <button class=\"colab-df-convert\" onclick=\"convertToInteractive('df-9e098ea8-e01d-4c4f-bf3a-7171bb068c89')\"\n",
              "            title=\"Convert this dataframe to an interactive table.\"\n",
              "            style=\"display:none;\">\n",
              "\n",
              "  <svg xmlns=\"http://www.w3.org/2000/svg\" height=\"24px\" viewBox=\"0 -960 960 960\">\n",
              "    <path d=\"M120-120v-720h720v720H120Zm60-500h600v-160H180v160Zm220 220h160v-160H400v160Zm0 220h160v-160H400v160ZM180-400h160v-160H180v160Zm440 0h160v-160H620v160ZM180-180h160v-160H180v160Zm440 0h160v-160H620v160Z\"/>\n",
              "  </svg>\n",
              "    </button>\n",
              "\n",
              "  <style>\n",
              "    .colab-df-container {\n",
              "      display:flex;\n",
              "      gap: 12px;\n",
              "    }\n",
              "\n",
              "    .colab-df-convert {\n",
              "      background-color: #E8F0FE;\n",
              "      border: none;\n",
              "      border-radius: 50%;\n",
              "      cursor: pointer;\n",
              "      display: none;\n",
              "      fill: #1967D2;\n",
              "      height: 32px;\n",
              "      padding: 0 0 0 0;\n",
              "      width: 32px;\n",
              "    }\n",
              "\n",
              "    .colab-df-convert:hover {\n",
              "      background-color: #E2EBFA;\n",
              "      box-shadow: 0px 1px 2px rgba(60, 64, 67, 0.3), 0px 1px 3px 1px rgba(60, 64, 67, 0.15);\n",
              "      fill: #174EA6;\n",
              "    }\n",
              "\n",
              "    .colab-df-buttons div {\n",
              "      margin-bottom: 4px;\n",
              "    }\n",
              "\n",
              "    [theme=dark] .colab-df-convert {\n",
              "      background-color: #3B4455;\n",
              "      fill: #D2E3FC;\n",
              "    }\n",
              "\n",
              "    [theme=dark] .colab-df-convert:hover {\n",
              "      background-color: #434B5C;\n",
              "      box-shadow: 0px 1px 3px 1px rgba(0, 0, 0, 0.15);\n",
              "      filter: drop-shadow(0px 1px 2px rgba(0, 0, 0, 0.3));\n",
              "      fill: #FFFFFF;\n",
              "    }\n",
              "  </style>\n",
              "\n",
              "    <script>\n",
              "      const buttonEl =\n",
              "        document.querySelector('#df-9e098ea8-e01d-4c4f-bf3a-7171bb068c89 button.colab-df-convert');\n",
              "      buttonEl.style.display =\n",
              "        google.colab.kernel.accessAllowed ? 'block' : 'none';\n",
              "\n",
              "      async function convertToInteractive(key) {\n",
              "        const element = document.querySelector('#df-9e098ea8-e01d-4c4f-bf3a-7171bb068c89');\n",
              "        const dataTable =\n",
              "          await google.colab.kernel.invokeFunction('convertToInteractive',\n",
              "                                                    [key], {});\n",
              "        if (!dataTable) return;\n",
              "\n",
              "        const docLinkHtml = 'Like what you see? Visit the ' +\n",
              "          '<a target=\"_blank\" href=https://colab.research.google.com/notebooks/data_table.ipynb>data table notebook</a>'\n",
              "          + ' to learn more about interactive tables.';\n",
              "        element.innerHTML = '';\n",
              "        dataTable['output_type'] = 'display_data';\n",
              "        await google.colab.output.renderOutput(dataTable, element);\n",
              "        const docLink = document.createElement('div');\n",
              "        docLink.innerHTML = docLinkHtml;\n",
              "        element.appendChild(docLink);\n",
              "      }\n",
              "    </script>\n",
              "  </div>\n",
              "\n",
              "\n",
              "    </div>\n",
              "  </div>\n"
            ],
            "application/vnd.google.colaboratory.intrinsic+json": {
              "type": "dataframe",
              "repr_error": "Out of range float values are not JSON compliant: nan"
            }
          },
          "metadata": {},
          "execution_count": 6
        }
      ]
    },
    {
      "cell_type": "code",
      "source": [
        "# find rows where diseases_from_patient , disease_from_title, disease_from_both and disease are blank\n",
        "#disease will be empty array\n",
        "data[(data['diseases_from_patient'].isnull()) & (data['diseases_from_title'].isnull()) & (data['diseases_from_both'].isnull()) & (data['disease'].isnull())]\n",
        "#store in sepearte df and print number of rows\n",
        "blank_disease = data[(data['diseases_from_patient'].isnull()) & (data['diseases_from_title'].isnull()) & (data['diseases_from_both'].isnull()) & (data['disease'].isnull())]"
      ],
      "metadata": {
        "id": "0xiRFuu63OJD"
      },
      "execution_count": null,
      "outputs": []
    },
    {
      "cell_type": "code",
      "source": [
        "\n",
        "data['disease'].apply(lambda x: x in [None, '', '[]',[],'NULL',np.nan]).sum()"
      ],
      "metadata": {
        "colab": {
          "base_uri": "https://localhost:8080/"
        },
        "id": "aVXgXoVW2Lfz",
        "outputId": "f20ba7c5-139e-4f85-e912-0045ecd54933"
      },
      "execution_count": null,
      "outputs": [
        {
          "output_type": "execute_result",
          "data": {
            "text/plain": [
              "25491"
            ]
          },
          "metadata": {},
          "execution_count": 6
        }
      ]
    },
    {
      "cell_type": "code",
      "source": [
        "# Function to clean the text by removing special characters and stripping whitespace\n",
        "import re\n",
        "def clean_text(value):\n",
        "    if isinstance(value, str):\n",
        "        return re.sub(r'[^a-zA-Z0-9\\s]', '', value).strip()\n",
        "    return value\n",
        "\n",
        "# Apply the cleaning function to the 'disease' column\n",
        "data['disease_cleaned'] = data['disease'].apply(clean_text)\n",
        "\n",
        "# Replace empty strings with NaN\n",
        "data['disease_cleaned'] = data['disease_cleaned'].replace('', np.nan)\n",
        "# Replace fully empty or blank strings with NaN\n",
        "data['disease_cleaned'].replace(['', ' ', 'nan', 'NaN', 'NULL', 'null'], pd.NA, inplace=True)\n",
        "\n",
        "# Count the number of rows where 'disease_cleaned' is NaN\n",
        "empty_disease_cleaned_count = data['disease_cleaned'].isna().sum()\n",
        "\n",
        "# Get the unique values in 'disease_cleaned' column\n",
        "unique_disease_cleaned_values = data['disease_cleaned'].dropna().unique()\n",
        "\n",
        "# Output the results\n",
        "print(f\"Row count with empty 'disease_cleaned': {empty_disease_cleaned_count}\")"
      ],
      "metadata": {
        "colab": {
          "base_uri": "https://localhost:8080/"
        },
        "id": "N_YJBssv3Wfh",
        "outputId": "7d819c6a-d912-4f6d-965e-470f4aad5225"
      },
      "execution_count": null,
      "outputs": [
        {
          "output_type": "stream",
          "name": "stdout",
          "text": [
            "Row count with empty 'disease_cleaned': 25501\n"
          ]
        },
        {
          "output_type": "stream",
          "name": "stderr",
          "text": [
            "<ipython-input-7-d8fb1fc14d87>:14: FutureWarning: A value is trying to be set on a copy of a DataFrame or Series through chained assignment using an inplace method.\n",
            "The behavior will change in pandas 3.0. This inplace method will never work because the intermediate object on which we are setting values always behaves as a copy.\n",
            "\n",
            "For example, when doing 'df[col].method(value, inplace=True)', try using 'df.method({col: value}, inplace=True)' or df[col] = df[col].method(value) instead, to perform the operation inplace on the original object.\n",
            "\n",
            "\n",
            "  data['disease_cleaned'].replace(['', ' ', 'nan', 'NaN', 'NULL', 'null'], pd.NA, inplace=True)\n"
          ]
        }
      ]
    },
    {
      "cell_type": "code",
      "source": [
        "# Define columns to check for emptiness\n",
        "columns_to_check = ['diseases_from_patient', 'diseases_from_title', 'diseases_from_both']\n",
        "\n",
        "# Count rows where 'disease_cleaned' and all related columns are empty or NaN\n",
        "rows_with_all_empty = data.loc[\n",
        "    data['disease_cleaned'].isna() &\n",
        "    data[columns_to_check].apply(lambda x: x.isna() | x.eq('')).all(axis=1)\n",
        "]\n",
        "\n",
        "rows_with_all_empty.to_csv('TEST 2.csv',index = False)\n",
        "# Get the count of such rows\n",
        "count_all_empty_rows = rows_with_all_empty.shape[0]\n",
        "\n",
        "# Create a DataFrame with those rows removed\n",
        "cleaned_data = data.drop(rows_with_all_empty.index)\n",
        "\n",
        "# Output the results\n",
        "print(f\"Count of rows where 'disease_cleaned' and all related columns are empty: {count_all_empty_rows}\")"
      ],
      "metadata": {
        "colab": {
          "base_uri": "https://localhost:8080/"
        },
        "id": "T1c_lN6h9INP",
        "outputId": "8dc11392-3e9e-4be5-afc3-1a74d0b410fe"
      },
      "execution_count": null,
      "outputs": [
        {
          "output_type": "stream",
          "name": "stdout",
          "text": [
            "Count of rows where 'disease_cleaned' and all related columns are empty: 25501\n"
          ]
        }
      ]
    },
    {
      "cell_type": "code",
      "source": [
        "cleaned_data.to_csv('Cleaned.csv',index=False)"
      ],
      "metadata": {
        "id": "MKuPHosl-Vn6"
      },
      "execution_count": null,
      "outputs": []
    },
    {
      "cell_type": "code",
      "source": [
        "# Issue in excel is because of this patient overflowingtext\n",
        "\n",
        "\n",
        "cleaned_data[cleaned_data['patient_id']==19714]"
      ],
      "metadata": {
        "colab": {
          "base_uri": "https://localhost:8080/",
          "height": 170
        },
        "id": "zKbo9PBvmjle",
        "outputId": "c401d8ba-e80b-4453-d4f1-a527b063c933"
      },
      "execution_count": null,
      "outputs": [
        {
          "output_type": "execute_result",
          "data": {
            "text/plain": [
              "       patient_id patient_uid  \\\n",
              "19714       19714   7237229-1   \n",
              "\n",
              "                                                 patient  \\\n",
              "19714  Case2: A 49 year old immunocompetent male, pre...   \n",
              "\n",
              "                                                   title  age age_units  \\\n",
              "19714  Abstracts from the International Science Sympo...   49      year   \n",
              "\n",
              "      gender                                  similar_patients  \\\n",
              "19714      M  {'7237229-2': 2, '7237229-3': 2, '7237229-4': 2}   \n",
              "\n",
              "                                   diseases_from_patient diseases_from_title  \\\n",
              "19714  klebsiella pneumonia, autoimmune disease, ence...                 NaN   \n",
              "\n",
              "      diseases_from_both                                            disease  \\\n",
              "19714                NaN  klebsiella pneumonia, autoimmune disease, ence...   \n",
              "\n",
              "                                         disease_cleaned  \n",
              "19714  klebsiella pneumonia autoimmune disease enceph...  "
            ],
            "text/html": [
              "\n",
              "  <div id=\"df-88ac5036-1fca-4ee7-862c-a7c8298f8752\" class=\"colab-df-container\">\n",
              "    <div>\n",
              "<style scoped>\n",
              "    .dataframe tbody tr th:only-of-type {\n",
              "        vertical-align: middle;\n",
              "    }\n",
              "\n",
              "    .dataframe tbody tr th {\n",
              "        vertical-align: top;\n",
              "    }\n",
              "\n",
              "    .dataframe thead th {\n",
              "        text-align: right;\n",
              "    }\n",
              "</style>\n",
              "<table border=\"1\" class=\"dataframe\">\n",
              "  <thead>\n",
              "    <tr style=\"text-align: right;\">\n",
              "      <th></th>\n",
              "      <th>patient_id</th>\n",
              "      <th>patient_uid</th>\n",
              "      <th>patient</th>\n",
              "      <th>title</th>\n",
              "      <th>age</th>\n",
              "      <th>age_units</th>\n",
              "      <th>gender</th>\n",
              "      <th>similar_patients</th>\n",
              "      <th>diseases_from_patient</th>\n",
              "      <th>diseases_from_title</th>\n",
              "      <th>diseases_from_both</th>\n",
              "      <th>disease</th>\n",
              "      <th>disease_cleaned</th>\n",
              "    </tr>\n",
              "  </thead>\n",
              "  <tbody>\n",
              "    <tr>\n",
              "      <th>19714</th>\n",
              "      <td>19714</td>\n",
              "      <td>7237229-1</td>\n",
              "      <td>Case2: A 49 year old immunocompetent male, pre...</td>\n",
              "      <td>Abstracts from the International Science Sympo...</td>\n",
              "      <td>49</td>\n",
              "      <td>year</td>\n",
              "      <td>M</td>\n",
              "      <td>{'7237229-2': 2, '7237229-3': 2, '7237229-4': 2}</td>\n",
              "      <td>klebsiella pneumonia, autoimmune disease, ence...</td>\n",
              "      <td>NaN</td>\n",
              "      <td>NaN</td>\n",
              "      <td>klebsiella pneumonia, autoimmune disease, ence...</td>\n",
              "      <td>klebsiella pneumonia autoimmune disease enceph...</td>\n",
              "    </tr>\n",
              "  </tbody>\n",
              "</table>\n",
              "</div>\n",
              "    <div class=\"colab-df-buttons\">\n",
              "\n",
              "  <div class=\"colab-df-container\">\n",
              "    <button class=\"colab-df-convert\" onclick=\"convertToInteractive('df-88ac5036-1fca-4ee7-862c-a7c8298f8752')\"\n",
              "            title=\"Convert this dataframe to an interactive table.\"\n",
              "            style=\"display:none;\">\n",
              "\n",
              "  <svg xmlns=\"http://www.w3.org/2000/svg\" height=\"24px\" viewBox=\"0 -960 960 960\">\n",
              "    <path d=\"M120-120v-720h720v720H120Zm60-500h600v-160H180v160Zm220 220h160v-160H400v160Zm0 220h160v-160H400v160ZM180-400h160v-160H180v160Zm440 0h160v-160H620v160ZM180-180h160v-160H180v160Zm440 0h160v-160H620v160Z\"/>\n",
              "  </svg>\n",
              "    </button>\n",
              "\n",
              "  <style>\n",
              "    .colab-df-container {\n",
              "      display:flex;\n",
              "      gap: 12px;\n",
              "    }\n",
              "\n",
              "    .colab-df-convert {\n",
              "      background-color: #E8F0FE;\n",
              "      border: none;\n",
              "      border-radius: 50%;\n",
              "      cursor: pointer;\n",
              "      display: none;\n",
              "      fill: #1967D2;\n",
              "      height: 32px;\n",
              "      padding: 0 0 0 0;\n",
              "      width: 32px;\n",
              "    }\n",
              "\n",
              "    .colab-df-convert:hover {\n",
              "      background-color: #E2EBFA;\n",
              "      box-shadow: 0px 1px 2px rgba(60, 64, 67, 0.3), 0px 1px 3px 1px rgba(60, 64, 67, 0.15);\n",
              "      fill: #174EA6;\n",
              "    }\n",
              "\n",
              "    .colab-df-buttons div {\n",
              "      margin-bottom: 4px;\n",
              "    }\n",
              "\n",
              "    [theme=dark] .colab-df-convert {\n",
              "      background-color: #3B4455;\n",
              "      fill: #D2E3FC;\n",
              "    }\n",
              "\n",
              "    [theme=dark] .colab-df-convert:hover {\n",
              "      background-color: #434B5C;\n",
              "      box-shadow: 0px 1px 3px 1px rgba(0, 0, 0, 0.15);\n",
              "      filter: drop-shadow(0px 1px 2px rgba(0, 0, 0, 0.3));\n",
              "      fill: #FFFFFF;\n",
              "    }\n",
              "  </style>\n",
              "\n",
              "    <script>\n",
              "      const buttonEl =\n",
              "        document.querySelector('#df-88ac5036-1fca-4ee7-862c-a7c8298f8752 button.colab-df-convert');\n",
              "      buttonEl.style.display =\n",
              "        google.colab.kernel.accessAllowed ? 'block' : 'none';\n",
              "\n",
              "      async function convertToInteractive(key) {\n",
              "        const element = document.querySelector('#df-88ac5036-1fca-4ee7-862c-a7c8298f8752');\n",
              "        const dataTable =\n",
              "          await google.colab.kernel.invokeFunction('convertToInteractive',\n",
              "                                                    [key], {});\n",
              "        if (!dataTable) return;\n",
              "\n",
              "        const docLinkHtml = 'Like what you see? Visit the ' +\n",
              "          '<a target=\"_blank\" href=https://colab.research.google.com/notebooks/data_table.ipynb>data table notebook</a>'\n",
              "          + ' to learn more about interactive tables.';\n",
              "        element.innerHTML = '';\n",
              "        dataTable['output_type'] = 'display_data';\n",
              "        await google.colab.output.renderOutput(dataTable, element);\n",
              "        const docLink = document.createElement('div');\n",
              "        docLink.innerHTML = docLinkHtml;\n",
              "        element.appendChild(docLink);\n",
              "      }\n",
              "    </script>\n",
              "  </div>\n",
              "\n",
              "\n",
              "    </div>\n",
              "  </div>\n"
            ],
            "application/vnd.google.colaboratory.intrinsic+json": {
              "type": "dataframe",
              "repr_error": "0"
            }
          },
          "metadata": {},
          "execution_count": 126
        }
      ]
    },
    {
      "cell_type": "markdown",
      "source": [
        "Deleted rows where all 4 disease columns were blank. that is also stored in test csv. Below now again analysing the remaining data."
      ],
      "metadata": {
        "id": "xCyUzPYr_cab"
      }
    },
    {
      "cell_type": "code",
      "source": [
        "# find how many rows are not empty for each of the columns\n",
        "cleaned_data.isnull().sum()"
      ],
      "metadata": {
        "colab": {
          "base_uri": "https://localhost:8080/",
          "height": 492
        },
        "id": "ZKLlmNbb_Wz4",
        "outputId": "9376fb38-05f9-486d-9023-68b13757d5d7"
      },
      "execution_count": null,
      "outputs": [
        {
          "output_type": "execute_result",
          "data": {
            "text/plain": [
              "patient_id                   0\n",
              "patient_uid                  0\n",
              "patient                      0\n",
              "title                        0\n",
              "age                          0\n",
              "age_units                    0\n",
              "gender                       0\n",
              "similar_patients             0\n",
              "diseases_from_patient    13963\n",
              "diseases_from_title      56246\n",
              "diseases_from_both       89130\n",
              "disease                      0\n",
              "disease_cleaned              0\n",
              "dtype: int64"
            ],
            "text/html": [
              "<div>\n",
              "<style scoped>\n",
              "    .dataframe tbody tr th:only-of-type {\n",
              "        vertical-align: middle;\n",
              "    }\n",
              "\n",
              "    .dataframe tbody tr th {\n",
              "        vertical-align: top;\n",
              "    }\n",
              "\n",
              "    .dataframe thead th {\n",
              "        text-align: right;\n",
              "    }\n",
              "</style>\n",
              "<table border=\"1\" class=\"dataframe\">\n",
              "  <thead>\n",
              "    <tr style=\"text-align: right;\">\n",
              "      <th></th>\n",
              "      <th>0</th>\n",
              "    </tr>\n",
              "  </thead>\n",
              "  <tbody>\n",
              "    <tr>\n",
              "      <th>patient_id</th>\n",
              "      <td>0</td>\n",
              "    </tr>\n",
              "    <tr>\n",
              "      <th>patient_uid</th>\n",
              "      <td>0</td>\n",
              "    </tr>\n",
              "    <tr>\n",
              "      <th>patient</th>\n",
              "      <td>0</td>\n",
              "    </tr>\n",
              "    <tr>\n",
              "      <th>title</th>\n",
              "      <td>0</td>\n",
              "    </tr>\n",
              "    <tr>\n",
              "      <th>age</th>\n",
              "      <td>0</td>\n",
              "    </tr>\n",
              "    <tr>\n",
              "      <th>age_units</th>\n",
              "      <td>0</td>\n",
              "    </tr>\n",
              "    <tr>\n",
              "      <th>gender</th>\n",
              "      <td>0</td>\n",
              "    </tr>\n",
              "    <tr>\n",
              "      <th>similar_patients</th>\n",
              "      <td>0</td>\n",
              "    </tr>\n",
              "    <tr>\n",
              "      <th>diseases_from_patient</th>\n",
              "      <td>13963</td>\n",
              "    </tr>\n",
              "    <tr>\n",
              "      <th>diseases_from_title</th>\n",
              "      <td>56246</td>\n",
              "    </tr>\n",
              "    <tr>\n",
              "      <th>diseases_from_both</th>\n",
              "      <td>89130</td>\n",
              "    </tr>\n",
              "    <tr>\n",
              "      <th>disease</th>\n",
              "      <td>0</td>\n",
              "    </tr>\n",
              "    <tr>\n",
              "      <th>disease_cleaned</th>\n",
              "      <td>0</td>\n",
              "    </tr>\n",
              "  </tbody>\n",
              "</table>\n",
              "</div><br><label><b>dtype:</b> int64</label>"
            ]
          },
          "metadata": {},
          "execution_count": 10
        }
      ]
    },
    {
      "cell_type": "code",
      "source": [
        "def is_effectively_empty(value):\n",
        "    if pd.isna(value) or value in ['', ' ', 'nan', 'NaN', 'NULL', 'null']:\n",
        "        return True\n",
        "    if isinstance(value, str) and value.strip() == '':\n",
        "        return True\n",
        "    return False\n",
        "\n",
        "# Apply the check to each column and count non-empty rows\n",
        "non_empty_counts = cleaned_data.apply(lambda col: (col.apply(is_effectively_empty)).sum())\n",
        "\n",
        "# Output the non-empty counts for each column\n",
        "print(\"Empty row counts for each column:\")\n",
        "print(non_empty_counts)"
      ],
      "metadata": {
        "colab": {
          "base_uri": "https://localhost:8080/"
        },
        "id": "LB9UKG1IhvKS",
        "outputId": "480e9f18-8d64-401c-c367-eecaddb148e5"
      },
      "execution_count": null,
      "outputs": [
        {
          "output_type": "stream",
          "name": "stdout",
          "text": [
            "Empty row counts for each column:\n",
            "patient_id                   0\n",
            "patient_uid                  0\n",
            "patient                      0\n",
            "title                        0\n",
            "age                          0\n",
            "age_units                    0\n",
            "gender                       0\n",
            "similar_patients             0\n",
            "diseases_from_patient    13963\n",
            "diseases_from_title      56246\n",
            "diseases_from_both       89130\n",
            "disease                      0\n",
            "disease_cleaned              0\n",
            "dtype: int64\n"
          ]
        }
      ]
    },
    {
      "cell_type": "code",
      "source": [
        "cleaned_data.shape"
      ],
      "metadata": {
        "colab": {
          "base_uri": "https://localhost:8080/"
        },
        "id": "qTbuKOPmBHuo",
        "outputId": "c9c4fecb-b821-4b3e-db11-f143e58daac4"
      },
      "execution_count": null,
      "outputs": [
        {
          "output_type": "execute_result",
          "data": {
            "text/plain": [
              "(141533, 13)"
            ]
          },
          "metadata": {},
          "execution_count": 12
        }
      ]
    },
    {
      "cell_type": "code",
      "source": [
        "# Select a random 5% sample of the data\n",
        "sample_data = cleaned_data.sample(frac=0.05, random_state=42)\n",
        "\n",
        "# Perform quality checks on the sample data\n",
        "# 1. Check for any missing values in critical columns\n",
        "missing_values_check = sample_data.isna().sum()\n",
        "\n",
        "# 2. Check for duplicate records\n",
        "duplicate_records_check = sample_data.duplicated().sum()\n",
        "\n",
        "# 3. Validate data types (for example, checking if patient_uid is numeric)\n",
        "data_type_check = sample_data.dtypes\n",
        "\n",
        "# 4. Check for outliers in numeric columns (e.g., using summary statistics)\n",
        "summary_statistics = sample_data.describe()\n",
        "\n",
        "# Output the quality check results\n",
        "print(\"Missing values check:\\n\", missing_values_check)\n",
        "print(\"\\nDuplicate records check:\", duplicate_records_check)\n",
        "print(\"\\nData type check:\\n\", data_type_check)\n",
        "print(\"\\nSummary statistics:\\n\", summary_statistics)\n",
        "\n",
        "# Save the sample data to a CSV file (optional)\n",
        "sample_data.to_csv('sample_data_for_quality_check.csv', index=False)\n",
        "print(\"Sample data saved to 'sample_data_for_quality_check.csv'\")"
      ],
      "metadata": {
        "colab": {
          "base_uri": "https://localhost:8080/"
        },
        "id": "kE0UCMu4BO7j",
        "outputId": "7b1a2e72-c26c-4dc3-c46c-373b525d5c44"
      },
      "execution_count": null,
      "outputs": [
        {
          "output_type": "stream",
          "name": "stdout",
          "text": [
            "Missing values check:\n",
            " patient_id                  0\n",
            "patient_uid                 0\n",
            "patient                     0\n",
            "title                       0\n",
            "age                         0\n",
            "age_units                   0\n",
            "gender                      0\n",
            "similar_patients            0\n",
            "diseases_from_patient     722\n",
            "diseases_from_title      2772\n",
            "diseases_from_both       4417\n",
            "disease                     0\n",
            "disease_cleaned             0\n",
            "dtype: int64\n",
            "\n",
            "Duplicate records check: 0\n",
            "\n",
            "Data type check:\n",
            " patient_id                int64\n",
            "patient_uid              object\n",
            "patient                  object\n",
            "title                    object\n",
            "age                       int64\n",
            "age_units                object\n",
            "gender                   object\n",
            "similar_patients         object\n",
            "diseases_from_patient    object\n",
            "diseases_from_title      object\n",
            "diseases_from_both       object\n",
            "disease                  object\n",
            "disease_cleaned          object\n",
            "dtype: object\n",
            "\n",
            "Summary statistics:\n",
            "           patient_id          age\n",
            "count    7077.000000  7077.000000\n",
            "mean    83310.627950    44.649993\n",
            "std     48060.810654    22.207957\n",
            "min        36.000000     1.000000\n",
            "25%     41717.000000    27.000000\n",
            "50%     83321.000000    46.000000\n",
            "75%    125028.000000    63.000000\n",
            "max    167028.000000   100.000000\n",
            "Sample data saved to 'sample_data_for_quality_check.csv'\n"
          ]
        }
      ]
    },
    {
      "cell_type": "markdown",
      "source": [
        "Now some rows have multiple diseases, do we keep them all for training or do we keep only one disease per row ?"
      ],
      "metadata": {
        "id": "RtyFxq3BZJHv"
      }
    },
    {
      "cell_type": "code",
      "source": [
        "# Define a function to handle comma-separated diseases\n",
        "def has_multiple_diseases(value):\n",
        "    if isinstance(value, str):\n",
        "        # Split by commas, trim whitespace, and count non-empty diseases\n",
        "        diseases = [d.strip() for d in value.split(',') if d.strip()]\n",
        "        return len(diseases) > 1\n",
        "    return False\n",
        "\n",
        "# Apply the function to the 'disease_from_title' column and count rows with multiple diseases\n",
        "multiple_diseases_count = data['diseases_from_title'].apply(has_multiple_diseases).sum()\n",
        "\n",
        "# Output the result\n",
        "print(f\"Number of rows with multiple comma-separated diseases in 'disease_from_title' column: {multiple_diseases_count}\")"
      ],
      "metadata": {
        "colab": {
          "base_uri": "https://localhost:8080/"
        },
        "id": "__r1bHUMZHor",
        "outputId": "0733de9f-0d54-4a7d-c2a2-ba6c2f957e78"
      },
      "execution_count": null,
      "outputs": [
        {
          "output_type": "stream",
          "name": "stdout",
          "text": [
            "Number of rows with multiple comma-separated diseases in 'disease_from_title' column: 37806\n"
          ]
        }
      ]
    },
    {
      "cell_type": "code",
      "source": [
        "#count rows where column diseases_from_title is not null\n",
        "cleaned_data['diseases_from_title'].notnull().sum()"
      ],
      "metadata": {
        "colab": {
          "base_uri": "https://localhost:8080/"
        },
        "id": "1lSloguTa7pz",
        "outputId": "1d9f2911-ee96-425b-b827-c1fe847d5432"
      },
      "execution_count": null,
      "outputs": [
        {
          "output_type": "execute_result",
          "data": {
            "text/plain": [
              "85287"
            ]
          },
          "metadata": {},
          "execution_count": 15
        }
      ]
    },
    {
      "cell_type": "markdown",
      "source": [
        "Total Rows: 141533  \n",
        "Total rows where disease_from_title is not null = 85287  \n",
        "Total rows where disease_from_title has multiple disease = 37806  \n"
      ],
      "metadata": {
        "id": "mezu5p-FbD96"
      }
    },
    {
      "cell_type": "markdown",
      "source": [
        "Now that I have stripped spl chars from disease column, Checking the rows where all other disease column are empty and we need data from the disease column.  "
      ],
      "metadata": {
        "id": "7UQv0SStCwYP"
      }
    },
    {
      "cell_type": "code",
      "source": [
        "def is_empty_or_blank(value):\n",
        "    return pd.isna(value) or (isinstance(value, str) and value.strip() == '')\n",
        "\n",
        "# Count rows where all three columns are empty, null, or blank\n",
        "all_empty_rows_count = cleaned_data.apply(\n",
        "    lambda row: all(is_empty_or_blank(row[col]) for col in ['diseases_from_title', 'diseases_from_patient', 'diseases_from_both']),\n",
        "    axis=1\n",
        ").sum()\n",
        "\n",
        "# Output the result\n",
        "print(f\"Number of rows where 'disease_from_title', 'disease_from_patient', and 'disease_from_both' are all empty or null: {all_empty_rows_count}\")"
      ],
      "metadata": {
        "colab": {
          "base_uri": "https://localhost:8080/"
        },
        "id": "Jy0vCpARcj_x",
        "outputId": "d66149c0-abf8-4302-bf4f-6162e9de0ea8"
      },
      "execution_count": null,
      "outputs": [
        {
          "output_type": "stream",
          "name": "stdout",
          "text": [
            "Number of rows where 'disease_from_title', 'disease_from_patient', and 'disease_from_both' are all empty or null: 3670\n"
          ]
        }
      ]
    },
    {
      "cell_type": "code",
      "source": [
        "# Define a function to check if a value is empty, null, or blank\n",
        "def is_empty_or_blank(value):\n",
        "    return pd.isna(value) or (isinstance(value, str) and value.strip() == '')\n",
        "\n",
        "# Count rows where all specified columns are empty, but 'disease' is not empty\n",
        "filtered_rows_count = cleaned_data.apply(\n",
        "    lambda row: all(is_empty_or_blank(row[col]) for col in ['diseases_from_title', 'diseases_from_patient', 'diseases_from_both']) and\n",
        "                not is_empty_or_blank(row['disease_cleaned']),\n",
        "    axis=1\n",
        ").sum()\n",
        "\n",
        "# Output the result\n",
        "print(f\"Number of rows where 'disease_from_title', 'disease_from_patient', and 'disease_from_both' are all empty, but 'disease' is not empty: {filtered_rows_count}\")"
      ],
      "metadata": {
        "colab": {
          "base_uri": "https://localhost:8080/"
        },
        "id": "3uzevL7Tf4k7",
        "outputId": "aee5f8be-404b-4c14-96f1-d097c88613b0"
      },
      "execution_count": null,
      "outputs": [
        {
          "output_type": "stream",
          "name": "stdout",
          "text": [
            "Number of rows where 'disease_from_title', 'disease_from_patient', and 'disease_from_both' are all empty, but 'disease' is not empty: 3670\n"
          ]
        }
      ]
    },
    {
      "cell_type": "code",
      "source": [
        "def is_empty_or_blank(value):\n",
        "    return pd.isna(value) or (isinstance(value, str) and value.strip() == '')\n",
        "\n",
        "# Filter rows where the specified columns are empty but 'disease' is not empty\n",
        "filtered_rows_df = cleaned_data[\n",
        "    cleaned_data.apply(\n",
        "        lambda row: all(is_empty_or_blank(row[col]) for col in ['diseases_from_title', 'diseases_from_patient', 'diseases_from_both']) and\n",
        "                    not is_empty_or_blank(row['disease']),\n",
        "        axis=1\n",
        "    )\n",
        "]\n",
        "\n",
        "# Save the filtered rows to a CSV file\n",
        "filtered_rows_file = 'filtered_rows_with_disease.csv'\n",
        "filtered_rows_df.to_csv(filtered_rows_file, index=False)\n",
        "\n",
        "print(f\"Filtered rows saved to '{filtered_rows_file}'\")"
      ],
      "metadata": {
        "colab": {
          "base_uri": "https://localhost:8080/"
        },
        "id": "WJ01hyIFqF-F",
        "outputId": "75d8a5ad-8540-4c0a-ff46-74fd8191df4e"
      },
      "execution_count": null,
      "outputs": [
        {
          "output_type": "stream",
          "name": "stdout",
          "text": [
            "Filtered rows saved to 'filtered_rows_with_disease.csv'\n"
          ]
        }
      ]
    },
    {
      "cell_type": "code",
      "source": [],
      "metadata": {
        "id": "F02OPfmTptkK"
      },
      "execution_count": null,
      "outputs": []
    },
    {
      "cell_type": "markdown",
      "source": [
        "out of 3670 records, 180 were roughly incorrect/in accurate. ~5% for the spacy column."
      ],
      "metadata": {
        "id": "TcjofMhx8O0m"
      }
    },
    {
      "cell_type": "code",
      "source": [
        "# Define a function to handle comma-separated diseases\n",
        "def has_multiple_diseases(value):\n",
        "    if isinstance(value, str):\n",
        "        # Split by commas, trim whitespace, and count non-empty diseases\n",
        "        diseases = [d.strip() for d in value.split(',') if d.strip()]\n",
        "        return len(diseases) > 1\n",
        "    return False\n",
        "\n",
        "# Apply the function to the 'disease_from_title' column and count rows with multiple diseases\n",
        "multiple_diseases_count = data['diseases_from_patient'].apply(has_multiple_diseases).sum()\n",
        "\n",
        "# Output the result\n",
        "print(f\"Number of rows with multiple comma-separated diseases in 'disease_from_patient' column: {multiple_diseases_count}\")"
      ],
      "metadata": {
        "colab": {
          "base_uri": "https://localhost:8080/"
        },
        "id": "8IkKn0_s8XbI",
        "outputId": "5ddfe77d-d683-47a6-a019-5a2e626a6d81"
      },
      "execution_count": null,
      "outputs": [
        {
          "output_type": "stream",
          "name": "stdout",
          "text": [
            "Number of rows with multiple comma-separated diseases in 'disease_from_patient' column: 93559\n"
          ]
        }
      ]
    },
    {
      "cell_type": "code",
      "source": [
        "# removing the rows with only spacy output diseases.\n",
        "# Filter rows where at least one of the three columns is not empty, null, or blank\n",
        "filtered_data = cleaned_data[\n",
        "    ~cleaned_data.apply(lambda row: all(is_empty_or_blank(row[col]) for col in ['diseases_from_title', 'diseases_from_patient', 'diseases_from_both']), axis=1)\n",
        "]\n",
        "\n",
        "# Now, filtered_data contains only rows where at least one column has a value\n",
        "print(f\"Shape of filtered data: {filtered_data.shape}\")\n"
      ],
      "metadata": {
        "colab": {
          "base_uri": "https://localhost:8080/"
        },
        "id": "S-EjU_2JoF5M",
        "outputId": "3e97c4dd-1860-4493-9159-aa42d2a0b94b"
      },
      "execution_count": null,
      "outputs": [
        {
          "output_type": "stream",
          "name": "stdout",
          "text": [
            "Shape of filtered data: (137863, 13)\n"
          ]
        }
      ]
    },
    {
      "cell_type": "code",
      "source": [
        "# save filtered data to csv\n",
        "filtered_data.to_csv('filtered_data.csv',index=False)"
      ],
      "metadata": {
        "id": "1ATg5wHJoPK2"
      },
      "execution_count": null,
      "outputs": []
    },
    {
      "cell_type": "markdown",
      "source": [
        "Now below I am going to pick a sample of 7k rows which is 5% of data to check quality."
      ],
      "metadata": {
        "id": "XYO68XBv89tI"
      }
    },
    {
      "cell_type": "code",
      "source": [
        "\n",
        "# Sample 6894 rows from the cleaned data 5% of 137863\n",
        "sampled_data = cleaned_data.sample(n=6894, random_state=42)\n",
        "\n",
        "# Split the sampled data into two DataFrames of 3500 records each\n",
        "df_part1 = sampled_data.iloc[:3500]\n",
        "df_part2 = sampled_data.iloc[3500:]\n",
        "\n",
        "# Save each DataFrame to a separate CSV file\n",
        "df_part1.to_csv('sampled_data_part1.csv', index=False)\n",
        "df_part2.to_csv('sampled_data_part2.csv', index=False)\n",
        "\n",
        "print(\"Sampled data saved to 'sampled_data_part1.csv' and 'sampled_data_part2.csv'\")"
      ],
      "metadata": {
        "colab": {
          "base_uri": "https://localhost:8080/"
        },
        "id": "BuLNETkO832U",
        "outputId": "408ff4fa-4067-4144-fddf-023e9a3203ba"
      },
      "execution_count": null,
      "outputs": [
        {
          "output_type": "stream",
          "name": "stdout",
          "text": [
            "Sampled data saved to 'sampled_data_part1.csv' and 'sampled_data_part2.csv'\n"
          ]
        }
      ]
    },
    {
      "cell_type": "code",
      "source": [
        "# Sample 6894 records from cleaned_data 5% of 137863\n",
        "sampled_data = filtered_data.sample(n=6894, random_state=42)\n",
        "\n",
        "# Determine split sizes\n",
        "split1 = 2300\n",
        "split2 = 4600  # This ensures the remaining records go into the third part\n",
        "\n",
        "# Split the sampled data into three DataFrames\n",
        "df_part1 = sampled_data.iloc[:split1]\n",
        "df_part2 = sampled_data.iloc[split1:split2]\n",
        "df_part3 = sampled_data.iloc[split2:]\n",
        "\n",
        "# Save each DataFrame to a separate CSV file\n",
        "df_part1.to_csv('sampled_part1.csv', index=False)\n",
        "df_part2.to_csv('sampled_part2.csv', index=False)\n",
        "df_part3.to_csv('sampled_part3.csv', index=False)\n",
        "\n",
        "print(\"Sampled data saved to 'sampled_part1.csv', 'sampled_part2.csv', and 'sampled_part3.csv'\")\n"
      ],
      "metadata": {
        "colab": {
          "base_uri": "https://localhost:8080/"
        },
        "id": "YZlWbJRyp3xk",
        "outputId": "8d555c85-c074-4aa1-9f46-13d1e824bf67"
      },
      "execution_count": null,
      "outputs": [
        {
          "output_type": "stream",
          "name": "stdout",
          "text": [
            "Sampled data saved to 'sampled_part1.csv', 'sampled_part2.csv', and 'sampled_part3.csv'\n"
          ]
        }
      ]
    },
    {
      "cell_type": "markdown",
      "source": [
        "overall skimming of csv's show good quality. Decision to pick from the column and how many or which disease to choose is a challenge."
      ],
      "metadata": {
        "id": "qRFbCkYTE21J"
      }
    },
    {
      "cell_type": "code",
      "source": [
        "filtered_data = pd.read_csv('filtered_data.csv')"
      ],
      "metadata": {
        "id": "z2J4eI6ME1Vc"
      },
      "execution_count": null,
      "outputs": []
    },
    {
      "cell_type": "code",
      "source": [
        "filtered_data.head(3)"
      ],
      "metadata": {
        "colab": {
          "base_uri": "https://localhost:8080/",
          "height": 389
        },
        "id": "5IoxmWgLcxAD",
        "outputId": "fdf4ffa4-b340-4a62-8e53-0162ae66425f"
      },
      "execution_count": null,
      "outputs": [
        {
          "output_type": "execute_result",
          "data": {
            "text/plain": [
              "   patient_id patient_uid                                            patient  \\\n",
              "0           0   7665777-1  This 60-year-old male was hospitalized due to ...   \n",
              "1           1   7665777-2  A 39-year-old man was hospitalized due to an i...   \n",
              "2           2   7665777-3  One week after a positive COVID-19 result this...   \n",
              "\n",
              "                                               title  age age_units gender  \\\n",
              "0  Early Physical Therapist Interventions for Pat...   60      year      M   \n",
              "1  Early Physical Therapist Interventions for Pat...   39      year      M   \n",
              "2  Early Physical Therapist Interventions for Pat...   57      year      M   \n",
              "\n",
              "                                    similar_patients  \\\n",
              "0  {'7665777-2': 2, '7665777-3': 2, '7665777-4': ...   \n",
              "1  {'7665777-1': 2, '7665777-3': 2, '7665777-4': ...   \n",
              "2  {'7665777-1': 2, '7665777-2': 2, '7665777-4': ...   \n",
              "\n",
              "           diseases_from_patient diseases_from_title diseases_from_both  \\\n",
              "0  respiratory failure, covid-19            covid-19           covid-19   \n",
              "1                        anxiety            covid-19                NaN   \n",
              "2                       covid-19            covid-19           covid-19   \n",
              "\n",
              "    disease disease_cleaned  \n",
              "0  covid-19         covid19  \n",
              "1  covid-19         covid19  \n",
              "2  covid-19         covid19  "
            ],
            "text/html": [
              "\n",
              "  <div id=\"df-a19d3374-ab03-460b-9012-1b8fdecc95e2\" class=\"colab-df-container\">\n",
              "    <div>\n",
              "<style scoped>\n",
              "    .dataframe tbody tr th:only-of-type {\n",
              "        vertical-align: middle;\n",
              "    }\n",
              "\n",
              "    .dataframe tbody tr th {\n",
              "        vertical-align: top;\n",
              "    }\n",
              "\n",
              "    .dataframe thead th {\n",
              "        text-align: right;\n",
              "    }\n",
              "</style>\n",
              "<table border=\"1\" class=\"dataframe\">\n",
              "  <thead>\n",
              "    <tr style=\"text-align: right;\">\n",
              "      <th></th>\n",
              "      <th>patient_id</th>\n",
              "      <th>patient_uid</th>\n",
              "      <th>patient</th>\n",
              "      <th>title</th>\n",
              "      <th>age</th>\n",
              "      <th>age_units</th>\n",
              "      <th>gender</th>\n",
              "      <th>similar_patients</th>\n",
              "      <th>diseases_from_patient</th>\n",
              "      <th>diseases_from_title</th>\n",
              "      <th>diseases_from_both</th>\n",
              "      <th>disease</th>\n",
              "      <th>disease_cleaned</th>\n",
              "    </tr>\n",
              "  </thead>\n",
              "  <tbody>\n",
              "    <tr>\n",
              "      <th>0</th>\n",
              "      <td>0</td>\n",
              "      <td>7665777-1</td>\n",
              "      <td>This 60-year-old male was hospitalized due to ...</td>\n",
              "      <td>Early Physical Therapist Interventions for Pat...</td>\n",
              "      <td>60</td>\n",
              "      <td>year</td>\n",
              "      <td>M</td>\n",
              "      <td>{'7665777-2': 2, '7665777-3': 2, '7665777-4': ...</td>\n",
              "      <td>respiratory failure, covid-19</td>\n",
              "      <td>covid-19</td>\n",
              "      <td>covid-19</td>\n",
              "      <td>covid-19</td>\n",
              "      <td>covid19</td>\n",
              "    </tr>\n",
              "    <tr>\n",
              "      <th>1</th>\n",
              "      <td>1</td>\n",
              "      <td>7665777-2</td>\n",
              "      <td>A 39-year-old man was hospitalized due to an i...</td>\n",
              "      <td>Early Physical Therapist Interventions for Pat...</td>\n",
              "      <td>39</td>\n",
              "      <td>year</td>\n",
              "      <td>M</td>\n",
              "      <td>{'7665777-1': 2, '7665777-3': 2, '7665777-4': ...</td>\n",
              "      <td>anxiety</td>\n",
              "      <td>covid-19</td>\n",
              "      <td>NaN</td>\n",
              "      <td>covid-19</td>\n",
              "      <td>covid19</td>\n",
              "    </tr>\n",
              "    <tr>\n",
              "      <th>2</th>\n",
              "      <td>2</td>\n",
              "      <td>7665777-3</td>\n",
              "      <td>One week after a positive COVID-19 result this...</td>\n",
              "      <td>Early Physical Therapist Interventions for Pat...</td>\n",
              "      <td>57</td>\n",
              "      <td>year</td>\n",
              "      <td>M</td>\n",
              "      <td>{'7665777-1': 2, '7665777-2': 2, '7665777-4': ...</td>\n",
              "      <td>covid-19</td>\n",
              "      <td>covid-19</td>\n",
              "      <td>covid-19</td>\n",
              "      <td>covid-19</td>\n",
              "      <td>covid19</td>\n",
              "    </tr>\n",
              "  </tbody>\n",
              "</table>\n",
              "</div>\n",
              "    <div class=\"colab-df-buttons\">\n",
              "\n",
              "  <div class=\"colab-df-container\">\n",
              "    <button class=\"colab-df-convert\" onclick=\"convertToInteractive('df-a19d3374-ab03-460b-9012-1b8fdecc95e2')\"\n",
              "            title=\"Convert this dataframe to an interactive table.\"\n",
              "            style=\"display:none;\">\n",
              "\n",
              "  <svg xmlns=\"http://www.w3.org/2000/svg\" height=\"24px\" viewBox=\"0 -960 960 960\">\n",
              "    <path d=\"M120-120v-720h720v720H120Zm60-500h600v-160H180v160Zm220 220h160v-160H400v160Zm0 220h160v-160H400v160ZM180-400h160v-160H180v160Zm440 0h160v-160H620v160ZM180-180h160v-160H180v160Zm440 0h160v-160H620v160Z\"/>\n",
              "  </svg>\n",
              "    </button>\n",
              "\n",
              "  <style>\n",
              "    .colab-df-container {\n",
              "      display:flex;\n",
              "      gap: 12px;\n",
              "    }\n",
              "\n",
              "    .colab-df-convert {\n",
              "      background-color: #E8F0FE;\n",
              "      border: none;\n",
              "      border-radius: 50%;\n",
              "      cursor: pointer;\n",
              "      display: none;\n",
              "      fill: #1967D2;\n",
              "      height: 32px;\n",
              "      padding: 0 0 0 0;\n",
              "      width: 32px;\n",
              "    }\n",
              "\n",
              "    .colab-df-convert:hover {\n",
              "      background-color: #E2EBFA;\n",
              "      box-shadow: 0px 1px 2px rgba(60, 64, 67, 0.3), 0px 1px 3px 1px rgba(60, 64, 67, 0.15);\n",
              "      fill: #174EA6;\n",
              "    }\n",
              "\n",
              "    .colab-df-buttons div {\n",
              "      margin-bottom: 4px;\n",
              "    }\n",
              "\n",
              "    [theme=dark] .colab-df-convert {\n",
              "      background-color: #3B4455;\n",
              "      fill: #D2E3FC;\n",
              "    }\n",
              "\n",
              "    [theme=dark] .colab-df-convert:hover {\n",
              "      background-color: #434B5C;\n",
              "      box-shadow: 0px 1px 3px 1px rgba(0, 0, 0, 0.15);\n",
              "      filter: drop-shadow(0px 1px 2px rgba(0, 0, 0, 0.3));\n",
              "      fill: #FFFFFF;\n",
              "    }\n",
              "  </style>\n",
              "\n",
              "    <script>\n",
              "      const buttonEl =\n",
              "        document.querySelector('#df-a19d3374-ab03-460b-9012-1b8fdecc95e2 button.colab-df-convert');\n",
              "      buttonEl.style.display =\n",
              "        google.colab.kernel.accessAllowed ? 'block' : 'none';\n",
              "\n",
              "      async function convertToInteractive(key) {\n",
              "        const element = document.querySelector('#df-a19d3374-ab03-460b-9012-1b8fdecc95e2');\n",
              "        const dataTable =\n",
              "          await google.colab.kernel.invokeFunction('convertToInteractive',\n",
              "                                                    [key], {});\n",
              "        if (!dataTable) return;\n",
              "\n",
              "        const docLinkHtml = 'Like what you see? Visit the ' +\n",
              "          '<a target=\"_blank\" href=https://colab.research.google.com/notebooks/data_table.ipynb>data table notebook</a>'\n",
              "          + ' to learn more about interactive tables.';\n",
              "        element.innerHTML = '';\n",
              "        dataTable['output_type'] = 'display_data';\n",
              "        await google.colab.output.renderOutput(dataTable, element);\n",
              "        const docLink = document.createElement('div');\n",
              "        docLink.innerHTML = docLinkHtml;\n",
              "        element.appendChild(docLink);\n",
              "      }\n",
              "    </script>\n",
              "  </div>\n",
              "\n",
              "\n",
              "<div id=\"df-a3add8f4-1fe8-4a50-b5bf-b5411947a648\">\n",
              "  <button class=\"colab-df-quickchart\" onclick=\"quickchart('df-a3add8f4-1fe8-4a50-b5bf-b5411947a648')\"\n",
              "            title=\"Suggest charts\"\n",
              "            style=\"display:none;\">\n",
              "\n",
              "<svg xmlns=\"http://www.w3.org/2000/svg\" height=\"24px\"viewBox=\"0 0 24 24\"\n",
              "     width=\"24px\">\n",
              "    <g>\n",
              "        <path d=\"M19 3H5c-1.1 0-2 .9-2 2v14c0 1.1.9 2 2 2h14c1.1 0 2-.9 2-2V5c0-1.1-.9-2-2-2zM9 17H7v-7h2v7zm4 0h-2V7h2v10zm4 0h-2v-4h2v4z\"/>\n",
              "    </g>\n",
              "</svg>\n",
              "  </button>\n",
              "\n",
              "<style>\n",
              "  .colab-df-quickchart {\n",
              "      --bg-color: #E8F0FE;\n",
              "      --fill-color: #1967D2;\n",
              "      --hover-bg-color: #E2EBFA;\n",
              "      --hover-fill-color: #174EA6;\n",
              "      --disabled-fill-color: #AAA;\n",
              "      --disabled-bg-color: #DDD;\n",
              "  }\n",
              "\n",
              "  [theme=dark] .colab-df-quickchart {\n",
              "      --bg-color: #3B4455;\n",
              "      --fill-color: #D2E3FC;\n",
              "      --hover-bg-color: #434B5C;\n",
              "      --hover-fill-color: #FFFFFF;\n",
              "      --disabled-bg-color: #3B4455;\n",
              "      --disabled-fill-color: #666;\n",
              "  }\n",
              "\n",
              "  .colab-df-quickchart {\n",
              "    background-color: var(--bg-color);\n",
              "    border: none;\n",
              "    border-radius: 50%;\n",
              "    cursor: pointer;\n",
              "    display: none;\n",
              "    fill: var(--fill-color);\n",
              "    height: 32px;\n",
              "    padding: 0;\n",
              "    width: 32px;\n",
              "  }\n",
              "\n",
              "  .colab-df-quickchart:hover {\n",
              "    background-color: var(--hover-bg-color);\n",
              "    box-shadow: 0 1px 2px rgba(60, 64, 67, 0.3), 0 1px 3px 1px rgba(60, 64, 67, 0.15);\n",
              "    fill: var(--button-hover-fill-color);\n",
              "  }\n",
              "\n",
              "  .colab-df-quickchart-complete:disabled,\n",
              "  .colab-df-quickchart-complete:disabled:hover {\n",
              "    background-color: var(--disabled-bg-color);\n",
              "    fill: var(--disabled-fill-color);\n",
              "    box-shadow: none;\n",
              "  }\n",
              "\n",
              "  .colab-df-spinner {\n",
              "    border: 2px solid var(--fill-color);\n",
              "    border-color: transparent;\n",
              "    border-bottom-color: var(--fill-color);\n",
              "    animation:\n",
              "      spin 1s steps(1) infinite;\n",
              "  }\n",
              "\n",
              "  @keyframes spin {\n",
              "    0% {\n",
              "      border-color: transparent;\n",
              "      border-bottom-color: var(--fill-color);\n",
              "      border-left-color: var(--fill-color);\n",
              "    }\n",
              "    20% {\n",
              "      border-color: transparent;\n",
              "      border-left-color: var(--fill-color);\n",
              "      border-top-color: var(--fill-color);\n",
              "    }\n",
              "    30% {\n",
              "      border-color: transparent;\n",
              "      border-left-color: var(--fill-color);\n",
              "      border-top-color: var(--fill-color);\n",
              "      border-right-color: var(--fill-color);\n",
              "    }\n",
              "    40% {\n",
              "      border-color: transparent;\n",
              "      border-right-color: var(--fill-color);\n",
              "      border-top-color: var(--fill-color);\n",
              "    }\n",
              "    60% {\n",
              "      border-color: transparent;\n",
              "      border-right-color: var(--fill-color);\n",
              "    }\n",
              "    80% {\n",
              "      border-color: transparent;\n",
              "      border-right-color: var(--fill-color);\n",
              "      border-bottom-color: var(--fill-color);\n",
              "    }\n",
              "    90% {\n",
              "      border-color: transparent;\n",
              "      border-bottom-color: var(--fill-color);\n",
              "    }\n",
              "  }\n",
              "</style>\n",
              "\n",
              "  <script>\n",
              "    async function quickchart(key) {\n",
              "      const quickchartButtonEl =\n",
              "        document.querySelector('#' + key + ' button');\n",
              "      quickchartButtonEl.disabled = true;  // To prevent multiple clicks.\n",
              "      quickchartButtonEl.classList.add('colab-df-spinner');\n",
              "      try {\n",
              "        const charts = await google.colab.kernel.invokeFunction(\n",
              "            'suggestCharts', [key], {});\n",
              "      } catch (error) {\n",
              "        console.error('Error during call to suggestCharts:', error);\n",
              "      }\n",
              "      quickchartButtonEl.classList.remove('colab-df-spinner');\n",
              "      quickchartButtonEl.classList.add('colab-df-quickchart-complete');\n",
              "    }\n",
              "    (() => {\n",
              "      let quickchartButtonEl =\n",
              "        document.querySelector('#df-a3add8f4-1fe8-4a50-b5bf-b5411947a648 button');\n",
              "      quickchartButtonEl.style.display =\n",
              "        google.colab.kernel.accessAllowed ? 'block' : 'none';\n",
              "    })();\n",
              "  </script>\n",
              "</div>\n",
              "\n",
              "    </div>\n",
              "  </div>\n"
            ],
            "application/vnd.google.colaboratory.intrinsic+json": {
              "type": "dataframe",
              "variable_name": "filtered_data"
            }
          },
          "metadata": {},
          "execution_count": 3
        }
      ]
    },
    {
      "cell_type": "code",
      "source": [
        "# filter rows to a df where diseases_from_title is not null\n",
        "df_title = filtered_data[filtered_data['diseases_from_title'].notnull()]"
      ],
      "metadata": {
        "id": "r04sJF7bc4Qx"
      },
      "execution_count": null,
      "outputs": []
    },
    {
      "cell_type": "code",
      "source": [
        "df_title.shape"
      ],
      "metadata": {
        "colab": {
          "base_uri": "https://localhost:8080/"
        },
        "id": "dc6J6hRsc-Bl",
        "outputId": "5c10139a-b89c-4892-d422-57345608b2f8"
      },
      "execution_count": null,
      "outputs": [
        {
          "output_type": "execute_result",
          "data": {
            "text/plain": [
              "(85287, 13)"
            ]
          },
          "metadata": {},
          "execution_count": 5
        }
      ]
    },
    {
      "cell_type": "code",
      "source": [
        "# save df_title to csv\n",
        "df_title.to_csv('df_title.csv',index=False)"
      ],
      "metadata": {
        "id": "2BOveL1XdA6h"
      },
      "execution_count": null,
      "outputs": []
    },
    {
      "cell_type": "code",
      "source": [
        "# from df_title create a sample dataframe of 5%\n",
        "df_title_sample = df_title.sample(frac=0.05, random_state=42)"
      ],
      "metadata": {
        "id": "B-CHYT4edIpM"
      },
      "execution_count": null,
      "outputs": []
    },
    {
      "cell_type": "code",
      "source": [
        "# store df_title_sample in to csv after splitting into 2 parts\n",
        "df_title_sample.iloc[:3500].to_csv('df_title_sample_part1.csv',index=False)\n",
        "df_title_sample.iloc[3500:].to_csv('df_title_sample_part2.csv',index=False)"
      ],
      "metadata": {
        "id": "ct-Vv8m8eEDQ"
      },
      "execution_count": null,
      "outputs": []
    },
    {
      "cell_type": "code",
      "source": [
        "dataset = pd.read_csv('df_title.csv')"
      ],
      "metadata": {
        "id": "QYQmQ47Ntwsw"
      },
      "execution_count": 3,
      "outputs": []
    },
    {
      "cell_type": "code",
      "source": [
        "dataset.head(2)"
      ],
      "metadata": {
        "colab": {
          "base_uri": "https://localhost:8080/",
          "height": 288
        },
        "id": "ymI0Se9Dyut7",
        "outputId": "06d2f2d5-b460-4d42-fb1b-b451741e1273"
      },
      "execution_count": 4,
      "outputs": [
        {
          "output_type": "execute_result",
          "data": {
            "text/plain": [
              "   patient_id patient_uid                                            patient  \\\n",
              "0           0   7665777-1  This 60-year-old male was hospitalized due to ...   \n",
              "1           1   7665777-2  A 39-year-old man was hospitalized due to an i...   \n",
              "\n",
              "                                               title  age age_units gender  \\\n",
              "0  Early Physical Therapist Interventions for Pat...   60      year      M   \n",
              "1  Early Physical Therapist Interventions for Pat...   39      year      M   \n",
              "\n",
              "                                    similar_patients  \\\n",
              "0  {'7665777-2': 2, '7665777-3': 2, '7665777-4': ...   \n",
              "1  {'7665777-1': 2, '7665777-3': 2, '7665777-4': ...   \n",
              "\n",
              "           diseases_from_patient diseases_from_title diseases_from_both  \\\n",
              "0  respiratory failure, covid-19            covid-19           covid-19   \n",
              "1                        anxiety            covid-19                NaN   \n",
              "\n",
              "    disease disease_cleaned  \n",
              "0  covid-19         covid19  \n",
              "1  covid-19         covid19  "
            ],
            "text/html": [
              "\n",
              "  <div id=\"df-c6fbd8c7-9db0-4057-aca2-b2a16aedbdd1\" class=\"colab-df-container\">\n",
              "    <div>\n",
              "<style scoped>\n",
              "    .dataframe tbody tr th:only-of-type {\n",
              "        vertical-align: middle;\n",
              "    }\n",
              "\n",
              "    .dataframe tbody tr th {\n",
              "        vertical-align: top;\n",
              "    }\n",
              "\n",
              "    .dataframe thead th {\n",
              "        text-align: right;\n",
              "    }\n",
              "</style>\n",
              "<table border=\"1\" class=\"dataframe\">\n",
              "  <thead>\n",
              "    <tr style=\"text-align: right;\">\n",
              "      <th></th>\n",
              "      <th>patient_id</th>\n",
              "      <th>patient_uid</th>\n",
              "      <th>patient</th>\n",
              "      <th>title</th>\n",
              "      <th>age</th>\n",
              "      <th>age_units</th>\n",
              "      <th>gender</th>\n",
              "      <th>similar_patients</th>\n",
              "      <th>diseases_from_patient</th>\n",
              "      <th>diseases_from_title</th>\n",
              "      <th>diseases_from_both</th>\n",
              "      <th>disease</th>\n",
              "      <th>disease_cleaned</th>\n",
              "    </tr>\n",
              "  </thead>\n",
              "  <tbody>\n",
              "    <tr>\n",
              "      <th>0</th>\n",
              "      <td>0</td>\n",
              "      <td>7665777-1</td>\n",
              "      <td>This 60-year-old male was hospitalized due to ...</td>\n",
              "      <td>Early Physical Therapist Interventions for Pat...</td>\n",
              "      <td>60</td>\n",
              "      <td>year</td>\n",
              "      <td>M</td>\n",
              "      <td>{'7665777-2': 2, '7665777-3': 2, '7665777-4': ...</td>\n",
              "      <td>respiratory failure, covid-19</td>\n",
              "      <td>covid-19</td>\n",
              "      <td>covid-19</td>\n",
              "      <td>covid-19</td>\n",
              "      <td>covid19</td>\n",
              "    </tr>\n",
              "    <tr>\n",
              "      <th>1</th>\n",
              "      <td>1</td>\n",
              "      <td>7665777-2</td>\n",
              "      <td>A 39-year-old man was hospitalized due to an i...</td>\n",
              "      <td>Early Physical Therapist Interventions for Pat...</td>\n",
              "      <td>39</td>\n",
              "      <td>year</td>\n",
              "      <td>M</td>\n",
              "      <td>{'7665777-1': 2, '7665777-3': 2, '7665777-4': ...</td>\n",
              "      <td>anxiety</td>\n",
              "      <td>covid-19</td>\n",
              "      <td>NaN</td>\n",
              "      <td>covid-19</td>\n",
              "      <td>covid19</td>\n",
              "    </tr>\n",
              "  </tbody>\n",
              "</table>\n",
              "</div>\n",
              "    <div class=\"colab-df-buttons\">\n",
              "\n",
              "  <div class=\"colab-df-container\">\n",
              "    <button class=\"colab-df-convert\" onclick=\"convertToInteractive('df-c6fbd8c7-9db0-4057-aca2-b2a16aedbdd1')\"\n",
              "            title=\"Convert this dataframe to an interactive table.\"\n",
              "            style=\"display:none;\">\n",
              "\n",
              "  <svg xmlns=\"http://www.w3.org/2000/svg\" height=\"24px\" viewBox=\"0 -960 960 960\">\n",
              "    <path d=\"M120-120v-720h720v720H120Zm60-500h600v-160H180v160Zm220 220h160v-160H400v160Zm0 220h160v-160H400v160ZM180-400h160v-160H180v160Zm440 0h160v-160H620v160ZM180-180h160v-160H180v160Zm440 0h160v-160H620v160Z\"/>\n",
              "  </svg>\n",
              "    </button>\n",
              "\n",
              "  <style>\n",
              "    .colab-df-container {\n",
              "      display:flex;\n",
              "      gap: 12px;\n",
              "    }\n",
              "\n",
              "    .colab-df-convert {\n",
              "      background-color: #E8F0FE;\n",
              "      border: none;\n",
              "      border-radius: 50%;\n",
              "      cursor: pointer;\n",
              "      display: none;\n",
              "      fill: #1967D2;\n",
              "      height: 32px;\n",
              "      padding: 0 0 0 0;\n",
              "      width: 32px;\n",
              "    }\n",
              "\n",
              "    .colab-df-convert:hover {\n",
              "      background-color: #E2EBFA;\n",
              "      box-shadow: 0px 1px 2px rgba(60, 64, 67, 0.3), 0px 1px 3px 1px rgba(60, 64, 67, 0.15);\n",
              "      fill: #174EA6;\n",
              "    }\n",
              "\n",
              "    .colab-df-buttons div {\n",
              "      margin-bottom: 4px;\n",
              "    }\n",
              "\n",
              "    [theme=dark] .colab-df-convert {\n",
              "      background-color: #3B4455;\n",
              "      fill: #D2E3FC;\n",
              "    }\n",
              "\n",
              "    [theme=dark] .colab-df-convert:hover {\n",
              "      background-color: #434B5C;\n",
              "      box-shadow: 0px 1px 3px 1px rgba(0, 0, 0, 0.15);\n",
              "      filter: drop-shadow(0px 1px 2px rgba(0, 0, 0, 0.3));\n",
              "      fill: #FFFFFF;\n",
              "    }\n",
              "  </style>\n",
              "\n",
              "    <script>\n",
              "      const buttonEl =\n",
              "        document.querySelector('#df-c6fbd8c7-9db0-4057-aca2-b2a16aedbdd1 button.colab-df-convert');\n",
              "      buttonEl.style.display =\n",
              "        google.colab.kernel.accessAllowed ? 'block' : 'none';\n",
              "\n",
              "      async function convertToInteractive(key) {\n",
              "        const element = document.querySelector('#df-c6fbd8c7-9db0-4057-aca2-b2a16aedbdd1');\n",
              "        const dataTable =\n",
              "          await google.colab.kernel.invokeFunction('convertToInteractive',\n",
              "                                                    [key], {});\n",
              "        if (!dataTable) return;\n",
              "\n",
              "        const docLinkHtml = 'Like what you see? Visit the ' +\n",
              "          '<a target=\"_blank\" href=https://colab.research.google.com/notebooks/data_table.ipynb>data table notebook</a>'\n",
              "          + ' to learn more about interactive tables.';\n",
              "        element.innerHTML = '';\n",
              "        dataTable['output_type'] = 'display_data';\n",
              "        await google.colab.output.renderOutput(dataTable, element);\n",
              "        const docLink = document.createElement('div');\n",
              "        docLink.innerHTML = docLinkHtml;\n",
              "        element.appendChild(docLink);\n",
              "      }\n",
              "    </script>\n",
              "  </div>\n",
              "\n",
              "\n",
              "<div id=\"df-f54c68d8-4bd4-4e00-86cb-ea87081500b0\">\n",
              "  <button class=\"colab-df-quickchart\" onclick=\"quickchart('df-f54c68d8-4bd4-4e00-86cb-ea87081500b0')\"\n",
              "            title=\"Suggest charts\"\n",
              "            style=\"display:none;\">\n",
              "\n",
              "<svg xmlns=\"http://www.w3.org/2000/svg\" height=\"24px\"viewBox=\"0 0 24 24\"\n",
              "     width=\"24px\">\n",
              "    <g>\n",
              "        <path d=\"M19 3H5c-1.1 0-2 .9-2 2v14c0 1.1.9 2 2 2h14c1.1 0 2-.9 2-2V5c0-1.1-.9-2-2-2zM9 17H7v-7h2v7zm4 0h-2V7h2v10zm4 0h-2v-4h2v4z\"/>\n",
              "    </g>\n",
              "</svg>\n",
              "  </button>\n",
              "\n",
              "<style>\n",
              "  .colab-df-quickchart {\n",
              "      --bg-color: #E8F0FE;\n",
              "      --fill-color: #1967D2;\n",
              "      --hover-bg-color: #E2EBFA;\n",
              "      --hover-fill-color: #174EA6;\n",
              "      --disabled-fill-color: #AAA;\n",
              "      --disabled-bg-color: #DDD;\n",
              "  }\n",
              "\n",
              "  [theme=dark] .colab-df-quickchart {\n",
              "      --bg-color: #3B4455;\n",
              "      --fill-color: #D2E3FC;\n",
              "      --hover-bg-color: #434B5C;\n",
              "      --hover-fill-color: #FFFFFF;\n",
              "      --disabled-bg-color: #3B4455;\n",
              "      --disabled-fill-color: #666;\n",
              "  }\n",
              "\n",
              "  .colab-df-quickchart {\n",
              "    background-color: var(--bg-color);\n",
              "    border: none;\n",
              "    border-radius: 50%;\n",
              "    cursor: pointer;\n",
              "    display: none;\n",
              "    fill: var(--fill-color);\n",
              "    height: 32px;\n",
              "    padding: 0;\n",
              "    width: 32px;\n",
              "  }\n",
              "\n",
              "  .colab-df-quickchart:hover {\n",
              "    background-color: var(--hover-bg-color);\n",
              "    box-shadow: 0 1px 2px rgba(60, 64, 67, 0.3), 0 1px 3px 1px rgba(60, 64, 67, 0.15);\n",
              "    fill: var(--button-hover-fill-color);\n",
              "  }\n",
              "\n",
              "  .colab-df-quickchart-complete:disabled,\n",
              "  .colab-df-quickchart-complete:disabled:hover {\n",
              "    background-color: var(--disabled-bg-color);\n",
              "    fill: var(--disabled-fill-color);\n",
              "    box-shadow: none;\n",
              "  }\n",
              "\n",
              "  .colab-df-spinner {\n",
              "    border: 2px solid var(--fill-color);\n",
              "    border-color: transparent;\n",
              "    border-bottom-color: var(--fill-color);\n",
              "    animation:\n",
              "      spin 1s steps(1) infinite;\n",
              "  }\n",
              "\n",
              "  @keyframes spin {\n",
              "    0% {\n",
              "      border-color: transparent;\n",
              "      border-bottom-color: var(--fill-color);\n",
              "      border-left-color: var(--fill-color);\n",
              "    }\n",
              "    20% {\n",
              "      border-color: transparent;\n",
              "      border-left-color: var(--fill-color);\n",
              "      border-top-color: var(--fill-color);\n",
              "    }\n",
              "    30% {\n",
              "      border-color: transparent;\n",
              "      border-left-color: var(--fill-color);\n",
              "      border-top-color: var(--fill-color);\n",
              "      border-right-color: var(--fill-color);\n",
              "    }\n",
              "    40% {\n",
              "      border-color: transparent;\n",
              "      border-right-color: var(--fill-color);\n",
              "      border-top-color: var(--fill-color);\n",
              "    }\n",
              "    60% {\n",
              "      border-color: transparent;\n",
              "      border-right-color: var(--fill-color);\n",
              "    }\n",
              "    80% {\n",
              "      border-color: transparent;\n",
              "      border-right-color: var(--fill-color);\n",
              "      border-bottom-color: var(--fill-color);\n",
              "    }\n",
              "    90% {\n",
              "      border-color: transparent;\n",
              "      border-bottom-color: var(--fill-color);\n",
              "    }\n",
              "  }\n",
              "</style>\n",
              "\n",
              "  <script>\n",
              "    async function quickchart(key) {\n",
              "      const quickchartButtonEl =\n",
              "        document.querySelector('#' + key + ' button');\n",
              "      quickchartButtonEl.disabled = true;  // To prevent multiple clicks.\n",
              "      quickchartButtonEl.classList.add('colab-df-spinner');\n",
              "      try {\n",
              "        const charts = await google.colab.kernel.invokeFunction(\n",
              "            'suggestCharts', [key], {});\n",
              "      } catch (error) {\n",
              "        console.error('Error during call to suggestCharts:', error);\n",
              "      }\n",
              "      quickchartButtonEl.classList.remove('colab-df-spinner');\n",
              "      quickchartButtonEl.classList.add('colab-df-quickchart-complete');\n",
              "    }\n",
              "    (() => {\n",
              "      let quickchartButtonEl =\n",
              "        document.querySelector('#df-f54c68d8-4bd4-4e00-86cb-ea87081500b0 button');\n",
              "      quickchartButtonEl.style.display =\n",
              "        google.colab.kernel.accessAllowed ? 'block' : 'none';\n",
              "    })();\n",
              "  </script>\n",
              "</div>\n",
              "\n",
              "    </div>\n",
              "  </div>\n"
            ],
            "application/vnd.google.colaboratory.intrinsic+json": {
              "type": "dataframe",
              "variable_name": "dataset",
              "summary": "{\n  \"name\": \"dataset\",\n  \"rows\": 85287,\n  \"fields\": [\n    {\n      \"column\": \"patient_id\",\n      \"properties\": {\n        \"dtype\": \"number\",\n        \"std\": 47792,\n        \"min\": 0,\n        \"max\": 167033,\n        \"num_unique_values\": 85287,\n        \"samples\": [\n          165997,\n          12730,\n          82723\n        ],\n        \"semantic_type\": \"\",\n        \"description\": \"\"\n      }\n    },\n    {\n      \"column\": \"patient_uid\",\n      \"properties\": {\n        \"dtype\": \"string\",\n        \"num_unique_values\": 85287,\n        \"samples\": [\n          \"3935074-1\",\n          \"6814111-1\",\n          \"4559012-1\"\n        ],\n        \"semantic_type\": \"\",\n        \"description\": \"\"\n      }\n    },\n    {\n      \"column\": \"patient\",\n      \"properties\": {\n        \"dtype\": \"string\",\n        \"num_unique_values\": 85287,\n        \"samples\": [\n          \"A 54-year-old previously healthy male patient developed acute, left upper quadrant abdominal and left flank pain. This pain lasted several hours and then resolved spontaneously. When he was admitted to the hospital, on ultrasound and an abdominal and pelvic CT scan, he was found to have an 8-cm\\u00d77-cm\\u00d76-cm solid and cystic mass in the left (surrenal area) retroperitoneum containing bone and multiple soft tissue densities (). The tumor had calcification and was not well enhanced. There was no evidence of distant metastasis. The tumor was also examined by magnetic resonance imaging (MRI). We also diagnosed that the tumor originated in the left adrenal gland, because the normal adrenal gland could not be recognized by CT or MRI. The patient had hypertension for which he was taking amlodipine 5 mg daily. However, plasma levels of catecholamines, rennin, aldosterone, adrenocorticotropic hormone, and cortisol were within the normal range. Tumor markers, such as serum alpha-fetoprotein, lactate dehydrogenase, carcinoma antigen 125, neuron-specific enolase, and carbohydrate antigen 19-9, were examined because it was possible that the tumor did not originate from the adrenal gland.\\nThe patient underwent resection of the lesion through a flank incision by 11th rib resection. The retroperitoneal dissection was tedious and difficult, but the mass was excised in its entirety (). The left adrenal gland was normal. The resected retroperitoneal cystic mass measured 8 cm\\u00d77 cm\\u00d76 cm and weighed 153 g (). The final pathological evaluation of the tumor was a mature teratoma without malignant components. Macroscopically, the specimen was a 6 cm \\u00d75 cm \\u00d74 cm fluctuating mass. On incision, cystic material came off and a thinly walled cyst was left. The cyst wall thickness was approximately 1 mm with only some minor excrescents. Histologically, the cystic cavity was lined by ciliated columnar cells () and the excrescents were hyalin cartilage islands under this epithelium with some lobules of seromucinous glands (). No immature elements were seen and the diagnosis was a mature cystic teratoma pathologically. Because these tumors usually represent metastasis from other primary sites, additional imaging with CT of the chest and scrotal ultrasonography was performed. No other primary tumor was identified. Therefore, we diagnosed the mass as a primary retroperitoneal teratoma. After 12 months of follow-up, the patient was free of recurrence.\",\n          \"A 40-year-old Japanese man experienced periumbilical pain since November 2013, and although the symptoms were mild, they were prolonged. He visited his family physician in January 2014, who noted mild tenderness in the lower left quadrant. The patient underwent an abdominal CT scan. CT revealed a low-density mass that measured 43 \\u00d7 40 mm in size in the left abdomen. He was referred to the National Hospital Organization Tsuruga Medical Center in February. His past medical and family histories were unremarkable. On examination, the patient had a height of 179.0 cm, a body weight of 98.7 kg, and a body mass index (BMI) of 30.8 and did not present with anemia, icterus, edema, or malnutrition. His abdomen was flat and soft, with mild tenderness in the lower left quadrant on palpation; however, the mass could not be felt.\\nThe laboratory results showed no abnormalities in his blood cell counts; however, an elevation in the serum alanine transaminase (ALT; 60 IU/L), \\u03b3-glutamyl transferase (\\u03b3-GTP; 108 IU/L), total bilirubin (T-Bil; 1.31 mg/dL), and total cholesterol (T-Chol; 229 mg/dL) levels was observed. The levels of epithelial tumor markers, such as carcinoembryonic antigen (CEA; 2.1 ng/mL), carbohydrate antigen 19-9 (CA19-9; 8.7 U/mL), and cancer antigen 125 (CA125; 11 U/mL), were within normal limits.\\nThe patient underwent a contrast-enhanced CT examination 2 weeks after the CT examination conducted by his family physician because in the previous examination, the patient had not been administered a contrast agent. A low-density mass with an irregular outline and measuring 45 \\u00d7 42 mm in size was detected in the left abdomen at the slightly cranial level of his umbilicus in the plain phase (Fig. ). The tumor was located in the peripheral part of the mesentery of the jejunum and partly compressed the adjacent jejunum. In the enhanced phase, the tumor lacked contrast. The peripheral artery was shown to be involved, indicating that the tumor developed in the mesentery of the jejunum; however, the adjacent jejunum showed good enhancement (Fig. ). The oral side of the jejunum did not show dilatation. A lymphatic cyst diagnosis was highly suspected.\\nThe patient\\u2019s abdominal symptom passed without exacerbation, and a follow-up examination was conducted in March. One month later, he underwent a scheduled CT examination, and the mass did not appear to have increased in size (Fig. a). Enhancement revealed apparent invasion of the wall of the jejunum without ischemia of the adjacent jejunum or dilatation of the oral side of the bowel (Fig. b). Magnetic resonance imaging (MRI) showed intermediate intensity on T1-weighted imaging (T1WI) (Fig. ) and high intensity on T2-weighted imaging (T2WI) (Fig. ). Relatively low intensity was observed with enhancement using gadolinium diethylenetriaminepentaacetic acid (DTPA) contrast medium on T1WI (Fig. ). An accumulation of cystic lesions with a variety of sizes was clearly depicted on the coronal view on T2WI (Fig. ).\\nBecause it was expected that depiction of the tumor would be made somewhat more difficult by its location and the body shape of the patient, we conducted a sonography examination in reference to the location and properties of the tumor determined by CT and MRI. The lesion showed a low echo; however, a clear image was not obtained.\\nCT performed by the previous physician and at our institution showed that the tumor was located in the peripheral part of the jejunal mesentery and exhibited slight enteric compression without dilatation of the oral jejunum but no rapid increase in size. The patient hesitated to agree to an immediate operation but did agree to a 1-month observation period. Permeation of the jejunal wall was shown by a second CT examination at our institution performed 1 month later, and from these findings, we highly suspected that the lymphangioma was invading the jejunal wall and thus decided to perform surgery.\\nWe made a preoperative diagnosis of lymphangioma invading the jejunal wall, and with the patient\\u2019s informed consent, we performed an operation to relieve his symptoms and obtain a definitive diagnosis of the tumor in April.\\nThe patient was placed in the supine position under general anesthesia. Small incisions were made along the superior and inferior border of the umbilicus and connected through the bottom of the umbilicus with an S-shape. The length of the wound was approximately 5 cm. We placed the Lapprotector\\u2122 (Model FF0707; Hakko Co., Ltd., Medical Device Division, Japan) in the umbilical wound and then attached the E\\u00b7Z Access\\u2122 device (E\\u00b7Z Access for FF07; Hakko Co., Ltd., Medical Device Division, Japan). A 12-mm trocar was placed through the E\\u00b7Z Access device, and pneumoperitoneum was established with carbon dioxide (CO2) gas at 8 mmHg of pressure. An accessory trocar (5 mm) was placed on the right side of the 12-mm trocar through the E\\u00b7Z Access device. Using forceps, we removed the omentum from the small intestinal front and found a soft yellowish mass in the mesentery of the jejunum that had invaded the wall of the jejunum (Fig. ). We removed the tumor from the body through the umbilical wound, resected the surrounding mesentery and part of the jejunum, and performed anastomosis in a functional end-to-end manner (Fig. ). The total operative duration was 94 min, and the intraoperative blood loss volume was 30 ml.\\nMacroscopically, the external surface of the mass had a whitish-yellowish and lobulated appearance. The tumor protruded from both sides of the mesentery leaves and was surrounded by the mesenteric peritoneum. The tumor measured 50 \\u00d7 45 mm in size and was located in the peripheral part of the mesentery and adjacent to the jejunum (Fig. ). The small intestinal mucosal surface formed a hemispherical uplift approximately 24 \\u00d7 20 mm in size adjacent to the mesenteric lesion without contraction (Fig. ). The cut surface of the mass after fixation by formalin revealed multicystic lesions of various sizes containing a caf\\u00e9-au-lait-colored milky fluid similar to chyle (Fig. ). Histologically, the cyst wall showed an attenuated endothelial lining, surrounding rich adipose tissue and scattered smooth muscle fibers (Fig. ). In addition, small lymphoid aggregates also appeared focally. Immunohistochemical staining showed that the flat endothelial cells associated with the cysts were positive for the endothelial markers CD31 (Fig. ) and factor VIII-related antigen (Fig. ), partially positive for the lymphatic endothelial marker D2-40 (Fig. ) and the undifferentiated pluripotent stem cell marker CD34 (Fig. ), and negative for cytokeratin (AE1/AE3) (Fig. ) and the mesothelial marker calretinin (Fig. ). Dilated lymphatic ducts were observed in the tumorous lesion of the mesentery and adjacent to this lesion in the muscularis propria and submucosal layer of the small intestine. In the wall of the jejunum without tumor invasion, dilation of the lymphatic ducts was not observed. These findings were consistent with cystic lymphangioma.\\nThe patient recovered successfully and was discharged from the hospital 9 days after the operation.\",\n          \"A 23-year-old man was referred as an outpatient to our clinic 21 months after diagnosis of TB with neurological symptoms encompassing severe pain, paraesthesia and hypoesthesia following TB treatment.The patient\\u2019s history revealed that he developed severe productive coughing with yellow expectoration and haemoptysis after his return from a backpacking trip in Asia. The X-ray of his chest revealed infiltration of the superior part of the right lung including a cavernous structure. The sputum was positive for acid-fast rods, further diagnostics including HIV-testing resulted in normal findings.\\nThe patient was initially treated with ethambutol, INH (with pyridoxine supplementation), rifampicin, pyraniazid and streptomycin. He developed elevated liver enzymes (gamma glutamyltransferase (GGT) 119 U/L, aspartate aminotransferase (AST) 100 U/L, alanine aminotransferase (ALT) 314 U/L) as well as elevation of the retention parameters (creatinine 1.4 mg/dL). After 1 month, resistance testing revealed a multidrug-resistant infection; the treatment was amended to capreomycin, linezolid, and moxifloxacin, and treatment with ethambutol was continued. Two months after the initial diagnosis, the patient complained of paraesthesia of his feet.\\nDuring the following year, the symptoms worsened and the patient was referred to a regional hospital for further PNP diagnostics. Neither analysis of the cerebrospinal fluid (CSF indicated a total protein of 26 mg/dL, lactate 1.7 mmol/L, glucose 62 mg/dL, and no pleocytosis) nor serologic PNP screening revealed a pathological result. Since the patient\\u2019s condition worsened, symptomatic treatment with pregabalin was initiated, but symptoms hardly decreased.\\nOne and a half years after diagnosis of TB, the patient was referred to our hospital; TB treatment was already successfully completed. Nerve conduction studies of the sural nerve revealed amplitudes that were severely reduced or absent, a pattern that improved in follow-up neurography over a time period of 2 years (Fig.). Four years after the initial diagnosis of TB, the patient was free of neurological symptoms.\\nIn order to explore the potential cause of the individual toxic effect of TB drugs, molecular genetic analyses of genes that are known to harbor variations relevant to drug effects were analyzed. Genotyping of ABCB1, CYP1A2, CYP3A4, CYP2A6, CYP2C9, SLCO1B1, and UGT1A1 revealed unremarkable results concerning a causative effect for adverse drug reactions.\\nA polymorphism c.590G>A was detected in heterozygous state in the NAT2 gene, resulting in the genotype NAT2*4/*6. This genotype is known to be associated with reduced activity (intermediate acetylator, IA) of the N-acetyltransferase 2 enzyme encoded by the gene. The enzyme is important for the metabolism and inactivation of active drug substances such as INH into inactive metabolites. Reduced enzyme activity leads to increased concentrations of INH and a higher risk of toxic effects such as injury of internal organs and PNP (Singla et al. ).\\nFor the CYP2E1 gene, the c1/c2 genotype was detected and the*2-allele as well as the *1D-allele excluded. It was recently reported that the c1/c2 genotype contributes toward an elevated risk of tuberculosis drug-induced toxicity (Singla et al. ). In the East Asian population, the c1/c1 genotype (high activity) is associated with drug-induced liver damage. About 80% of Asians present the c1/c1 genotype.\"\n        ],\n        \"semantic_type\": \"\",\n        \"description\": \"\"\n      }\n    },\n    {\n      \"column\": \"title\",\n      \"properties\": {\n        \"dtype\": \"string\",\n        \"num_unique_values\": 73893,\n        \"samples\": [\n          \"Protracted refractory pain post-TEVAR: post-implantation syndrome?\",\n          \"Gluteal hidradenitis suppurativa presenting pemphigus-like findings: case report\",\n          \"Case Report: A Metabolic Complete Response to Upfront Osimertinib in a Smoker Non-Small Cell Lung Cancer Patient Harbouring EGFR G719A/V769M Complex Mutation\"\n        ],\n        \"semantic_type\": \"\",\n        \"description\": \"\"\n      }\n    },\n    {\n      \"column\": \"age\",\n      \"properties\": {\n        \"dtype\": \"number\",\n        \"std\": 22,\n        \"min\": 0,\n        \"max\": 107,\n        \"num_unique_values\": 104,\n        \"samples\": [\n          1,\n          75,\n          32\n        ],\n        \"semantic_type\": \"\",\n        \"description\": \"\"\n      }\n    },\n    {\n      \"column\": \"age_units\",\n      \"properties\": {\n        \"dtype\": \"category\",\n        \"num_unique_values\": 5,\n        \"samples\": [\n          \"month\",\n          \"hour\",\n          \"day\"\n        ],\n        \"semantic_type\": \"\",\n        \"description\": \"\"\n      }\n    },\n    {\n      \"column\": \"gender\",\n      \"properties\": {\n        \"dtype\": \"category\",\n        \"num_unique_values\": 2,\n        \"samples\": [\n          \"F\",\n          \"M\"\n        ],\n        \"semantic_type\": \"\",\n        \"description\": \"\"\n      }\n    },\n    {\n      \"column\": \"similar_patients\",\n      \"properties\": {\n        \"dtype\": \"string\",\n        \"num_unique_values\": 51108,\n        \"samples\": [\n          \"{'8226396-1': 2, '8226396-3': 2, '8226396-4': 2}\",\n          \"{'5301087-1': 1}\"\n        ],\n        \"semantic_type\": \"\",\n        \"description\": \"\"\n      }\n    },\n    {\n      \"column\": \"diseases_from_patient\",\n      \"properties\": {\n        \"dtype\": \"string\",\n        \"num_unique_values\": 43782,\n        \"samples\": [\n          \"pneumonia, covid-19, noma, neutropenia\",\n          \"neurofibromatosis type i, neurofibromatosis, hydrocephalus, pheochromocytoma, fibroma, hypertension, neurofibroma\"\n        ],\n        \"semantic_type\": \"\",\n        \"description\": \"\"\n      }\n    },\n    {\n      \"column\": \"diseases_from_title\",\n      \"properties\": {\n        \"dtype\": \"category\",\n        \"num_unique_values\": 12735,\n        \"samples\": [\n          \"secondary syphilis, hepatitis, nephrotic syndrome, hepatitis a, syphilis, c syndrome\",\n          \"nevus of ota, cutis marmorata telangiectatica congenita\"\n        ],\n        \"semantic_type\": \"\",\n        \"description\": \"\"\n      }\n    },\n    {\n      \"column\": \"diseases_from_both\",\n      \"properties\": {\n        \"dtype\": \"category\",\n        \"num_unique_values\": 5960,\n        \"samples\": [\n          \"breast cancer, scleritis\",\n          \"obstructive jaundice\"\n        ],\n        \"semantic_type\": \"\",\n        \"description\": \"\"\n      }\n    },\n    {\n      \"column\": \"disease\",\n      \"properties\": {\n        \"dtype\": \"category\",\n        \"num_unique_values\": 8734,\n        \"samples\": [\n          \"atrioventricular septal defect, patent ductus arteriosus, ventricular septal defect\",\n          \"progressive supranuclear palsy\"\n        ],\n        \"semantic_type\": \"\",\n        \"description\": \"\"\n      }\n    },\n    {\n      \"column\": \"disease_cleaned\",\n      \"properties\": {\n        \"dtype\": \"category\",\n        \"num_unique_values\": 8734,\n        \"samples\": [\n          \"atrioventricular septal defect patent ductus arteriosus ventricular septal defect\",\n          \"progressive supranuclear palsy\"\n        ],\n        \"semantic_type\": \"\",\n        \"description\": \"\"\n      }\n    }\n  ]\n}"
            }
          },
          "metadata": {},
          "execution_count": 4
        }
      ]
    },
    {
      "cell_type": "code",
      "source": [
        "# filter dataset to have columns patient and disease_from_title\n",
        "dataset = dataset[['patient','diseases_from_title']]"
      ],
      "metadata": {
        "id": "3slrjXhLy8Zr"
      },
      "execution_count": 5,
      "outputs": []
    },
    {
      "cell_type": "code",
      "source": [
        "dataset.head(5)"
      ],
      "metadata": {
        "colab": {
          "base_uri": "https://localhost:8080/",
          "height": 206
        },
        "id": "IG7ys8lOzHCq",
        "outputId": "72c81d54-22e0-49e9-e244-494ab23916c7"
      },
      "execution_count": 7,
      "outputs": [
        {
          "output_type": "execute_result",
          "data": {
            "text/plain": [
              "                                             patient diseases_from_title\n",
              "0  This 60-year-old male was hospitalized due to ...            covid-19\n",
              "1  A 39-year-old man was hospitalized due to an i...            covid-19\n",
              "2  One week after a positive COVID-19 result this...            covid-19\n",
              "3  This 69-year-old male was admitted to the ICU ...            covid-19\n",
              "4  This 57-year-old male was admitted to the ICU ...            covid-19"
            ],
            "text/html": [
              "\n",
              "  <div id=\"df-d70f542b-62e6-4e73-a8a8-c8b407be2b7d\" class=\"colab-df-container\">\n",
              "    <div>\n",
              "<style scoped>\n",
              "    .dataframe tbody tr th:only-of-type {\n",
              "        vertical-align: middle;\n",
              "    }\n",
              "\n",
              "    .dataframe tbody tr th {\n",
              "        vertical-align: top;\n",
              "    }\n",
              "\n",
              "    .dataframe thead th {\n",
              "        text-align: right;\n",
              "    }\n",
              "</style>\n",
              "<table border=\"1\" class=\"dataframe\">\n",
              "  <thead>\n",
              "    <tr style=\"text-align: right;\">\n",
              "      <th></th>\n",
              "      <th>patient</th>\n",
              "      <th>diseases_from_title</th>\n",
              "    </tr>\n",
              "  </thead>\n",
              "  <tbody>\n",
              "    <tr>\n",
              "      <th>0</th>\n",
              "      <td>This 60-year-old male was hospitalized due to ...</td>\n",
              "      <td>covid-19</td>\n",
              "    </tr>\n",
              "    <tr>\n",
              "      <th>1</th>\n",
              "      <td>A 39-year-old man was hospitalized due to an i...</td>\n",
              "      <td>covid-19</td>\n",
              "    </tr>\n",
              "    <tr>\n",
              "      <th>2</th>\n",
              "      <td>One week after a positive COVID-19 result this...</td>\n",
              "      <td>covid-19</td>\n",
              "    </tr>\n",
              "    <tr>\n",
              "      <th>3</th>\n",
              "      <td>This 69-year-old male was admitted to the ICU ...</td>\n",
              "      <td>covid-19</td>\n",
              "    </tr>\n",
              "    <tr>\n",
              "      <th>4</th>\n",
              "      <td>This 57-year-old male was admitted to the ICU ...</td>\n",
              "      <td>covid-19</td>\n",
              "    </tr>\n",
              "  </tbody>\n",
              "</table>\n",
              "</div>\n",
              "    <div class=\"colab-df-buttons\">\n",
              "\n",
              "  <div class=\"colab-df-container\">\n",
              "    <button class=\"colab-df-convert\" onclick=\"convertToInteractive('df-d70f542b-62e6-4e73-a8a8-c8b407be2b7d')\"\n",
              "            title=\"Convert this dataframe to an interactive table.\"\n",
              "            style=\"display:none;\">\n",
              "\n",
              "  <svg xmlns=\"http://www.w3.org/2000/svg\" height=\"24px\" viewBox=\"0 -960 960 960\">\n",
              "    <path d=\"M120-120v-720h720v720H120Zm60-500h600v-160H180v160Zm220 220h160v-160H400v160Zm0 220h160v-160H400v160ZM180-400h160v-160H180v160Zm440 0h160v-160H620v160ZM180-180h160v-160H180v160Zm440 0h160v-160H620v160Z\"/>\n",
              "  </svg>\n",
              "    </button>\n",
              "\n",
              "  <style>\n",
              "    .colab-df-container {\n",
              "      display:flex;\n",
              "      gap: 12px;\n",
              "    }\n",
              "\n",
              "    .colab-df-convert {\n",
              "      background-color: #E8F0FE;\n",
              "      border: none;\n",
              "      border-radius: 50%;\n",
              "      cursor: pointer;\n",
              "      display: none;\n",
              "      fill: #1967D2;\n",
              "      height: 32px;\n",
              "      padding: 0 0 0 0;\n",
              "      width: 32px;\n",
              "    }\n",
              "\n",
              "    .colab-df-convert:hover {\n",
              "      background-color: #E2EBFA;\n",
              "      box-shadow: 0px 1px 2px rgba(60, 64, 67, 0.3), 0px 1px 3px 1px rgba(60, 64, 67, 0.15);\n",
              "      fill: #174EA6;\n",
              "    }\n",
              "\n",
              "    .colab-df-buttons div {\n",
              "      margin-bottom: 4px;\n",
              "    }\n",
              "\n",
              "    [theme=dark] .colab-df-convert {\n",
              "      background-color: #3B4455;\n",
              "      fill: #D2E3FC;\n",
              "    }\n",
              "\n",
              "    [theme=dark] .colab-df-convert:hover {\n",
              "      background-color: #434B5C;\n",
              "      box-shadow: 0px 1px 3px 1px rgba(0, 0, 0, 0.15);\n",
              "      filter: drop-shadow(0px 1px 2px rgba(0, 0, 0, 0.3));\n",
              "      fill: #FFFFFF;\n",
              "    }\n",
              "  </style>\n",
              "\n",
              "    <script>\n",
              "      const buttonEl =\n",
              "        document.querySelector('#df-d70f542b-62e6-4e73-a8a8-c8b407be2b7d button.colab-df-convert');\n",
              "      buttonEl.style.display =\n",
              "        google.colab.kernel.accessAllowed ? 'block' : 'none';\n",
              "\n",
              "      async function convertToInteractive(key) {\n",
              "        const element = document.querySelector('#df-d70f542b-62e6-4e73-a8a8-c8b407be2b7d');\n",
              "        const dataTable =\n",
              "          await google.colab.kernel.invokeFunction('convertToInteractive',\n",
              "                                                    [key], {});\n",
              "        if (!dataTable) return;\n",
              "\n",
              "        const docLinkHtml = 'Like what you see? Visit the ' +\n",
              "          '<a target=\"_blank\" href=https://colab.research.google.com/notebooks/data_table.ipynb>data table notebook</a>'\n",
              "          + ' to learn more about interactive tables.';\n",
              "        element.innerHTML = '';\n",
              "        dataTable['output_type'] = 'display_data';\n",
              "        await google.colab.output.renderOutput(dataTable, element);\n",
              "        const docLink = document.createElement('div');\n",
              "        docLink.innerHTML = docLinkHtml;\n",
              "        element.appendChild(docLink);\n",
              "      }\n",
              "    </script>\n",
              "  </div>\n",
              "\n",
              "\n",
              "<div id=\"df-9efa8b35-ab92-408c-838d-504b5eb45ae4\">\n",
              "  <button class=\"colab-df-quickchart\" onclick=\"quickchart('df-9efa8b35-ab92-408c-838d-504b5eb45ae4')\"\n",
              "            title=\"Suggest charts\"\n",
              "            style=\"display:none;\">\n",
              "\n",
              "<svg xmlns=\"http://www.w3.org/2000/svg\" height=\"24px\"viewBox=\"0 0 24 24\"\n",
              "     width=\"24px\">\n",
              "    <g>\n",
              "        <path d=\"M19 3H5c-1.1 0-2 .9-2 2v14c0 1.1.9 2 2 2h14c1.1 0 2-.9 2-2V5c0-1.1-.9-2-2-2zM9 17H7v-7h2v7zm4 0h-2V7h2v10zm4 0h-2v-4h2v4z\"/>\n",
              "    </g>\n",
              "</svg>\n",
              "  </button>\n",
              "\n",
              "<style>\n",
              "  .colab-df-quickchart {\n",
              "      --bg-color: #E8F0FE;\n",
              "      --fill-color: #1967D2;\n",
              "      --hover-bg-color: #E2EBFA;\n",
              "      --hover-fill-color: #174EA6;\n",
              "      --disabled-fill-color: #AAA;\n",
              "      --disabled-bg-color: #DDD;\n",
              "  }\n",
              "\n",
              "  [theme=dark] .colab-df-quickchart {\n",
              "      --bg-color: #3B4455;\n",
              "      --fill-color: #D2E3FC;\n",
              "      --hover-bg-color: #434B5C;\n",
              "      --hover-fill-color: #FFFFFF;\n",
              "      --disabled-bg-color: #3B4455;\n",
              "      --disabled-fill-color: #666;\n",
              "  }\n",
              "\n",
              "  .colab-df-quickchart {\n",
              "    background-color: var(--bg-color);\n",
              "    border: none;\n",
              "    border-radius: 50%;\n",
              "    cursor: pointer;\n",
              "    display: none;\n",
              "    fill: var(--fill-color);\n",
              "    height: 32px;\n",
              "    padding: 0;\n",
              "    width: 32px;\n",
              "  }\n",
              "\n",
              "  .colab-df-quickchart:hover {\n",
              "    background-color: var(--hover-bg-color);\n",
              "    box-shadow: 0 1px 2px rgba(60, 64, 67, 0.3), 0 1px 3px 1px rgba(60, 64, 67, 0.15);\n",
              "    fill: var(--button-hover-fill-color);\n",
              "  }\n",
              "\n",
              "  .colab-df-quickchart-complete:disabled,\n",
              "  .colab-df-quickchart-complete:disabled:hover {\n",
              "    background-color: var(--disabled-bg-color);\n",
              "    fill: var(--disabled-fill-color);\n",
              "    box-shadow: none;\n",
              "  }\n",
              "\n",
              "  .colab-df-spinner {\n",
              "    border: 2px solid var(--fill-color);\n",
              "    border-color: transparent;\n",
              "    border-bottom-color: var(--fill-color);\n",
              "    animation:\n",
              "      spin 1s steps(1) infinite;\n",
              "  }\n",
              "\n",
              "  @keyframes spin {\n",
              "    0% {\n",
              "      border-color: transparent;\n",
              "      border-bottom-color: var(--fill-color);\n",
              "      border-left-color: var(--fill-color);\n",
              "    }\n",
              "    20% {\n",
              "      border-color: transparent;\n",
              "      border-left-color: var(--fill-color);\n",
              "      border-top-color: var(--fill-color);\n",
              "    }\n",
              "    30% {\n",
              "      border-color: transparent;\n",
              "      border-left-color: var(--fill-color);\n",
              "      border-top-color: var(--fill-color);\n",
              "      border-right-color: var(--fill-color);\n",
              "    }\n",
              "    40% {\n",
              "      border-color: transparent;\n",
              "      border-right-color: var(--fill-color);\n",
              "      border-top-color: var(--fill-color);\n",
              "    }\n",
              "    60% {\n",
              "      border-color: transparent;\n",
              "      border-right-color: var(--fill-color);\n",
              "    }\n",
              "    80% {\n",
              "      border-color: transparent;\n",
              "      border-right-color: var(--fill-color);\n",
              "      border-bottom-color: var(--fill-color);\n",
              "    }\n",
              "    90% {\n",
              "      border-color: transparent;\n",
              "      border-bottom-color: var(--fill-color);\n",
              "    }\n",
              "  }\n",
              "</style>\n",
              "\n",
              "  <script>\n",
              "    async function quickchart(key) {\n",
              "      const quickchartButtonEl =\n",
              "        document.querySelector('#' + key + ' button');\n",
              "      quickchartButtonEl.disabled = true;  // To prevent multiple clicks.\n",
              "      quickchartButtonEl.classList.add('colab-df-spinner');\n",
              "      try {\n",
              "        const charts = await google.colab.kernel.invokeFunction(\n",
              "            'suggestCharts', [key], {});\n",
              "      } catch (error) {\n",
              "        console.error('Error during call to suggestCharts:', error);\n",
              "      }\n",
              "      quickchartButtonEl.classList.remove('colab-df-spinner');\n",
              "      quickchartButtonEl.classList.add('colab-df-quickchart-complete');\n",
              "    }\n",
              "    (() => {\n",
              "      let quickchartButtonEl =\n",
              "        document.querySelector('#df-9efa8b35-ab92-408c-838d-504b5eb45ae4 button');\n",
              "      quickchartButtonEl.style.display =\n",
              "        google.colab.kernel.accessAllowed ? 'block' : 'none';\n",
              "    })();\n",
              "  </script>\n",
              "</div>\n",
              "\n",
              "    </div>\n",
              "  </div>\n"
            ],
            "application/vnd.google.colaboratory.intrinsic+json": {
              "type": "dataframe",
              "variable_name": "dataset",
              "summary": "{\n  \"name\": \"dataset\",\n  \"rows\": 85287,\n  \"fields\": [\n    {\n      \"column\": \"patient\",\n      \"properties\": {\n        \"dtype\": \"string\",\n        \"num_unique_values\": 85287,\n        \"samples\": [\n          \"A 54-year-old previously healthy male patient developed acute, left upper quadrant abdominal and left flank pain. This pain lasted several hours and then resolved spontaneously. When he was admitted to the hospital, on ultrasound and an abdominal and pelvic CT scan, he was found to have an 8-cm\\u00d77-cm\\u00d76-cm solid and cystic mass in the left (surrenal area) retroperitoneum containing bone and multiple soft tissue densities (). The tumor had calcification and was not well enhanced. There was no evidence of distant metastasis. The tumor was also examined by magnetic resonance imaging (MRI). We also diagnosed that the tumor originated in the left adrenal gland, because the normal adrenal gland could not be recognized by CT or MRI. The patient had hypertension for which he was taking amlodipine 5 mg daily. However, plasma levels of catecholamines, rennin, aldosterone, adrenocorticotropic hormone, and cortisol were within the normal range. Tumor markers, such as serum alpha-fetoprotein, lactate dehydrogenase, carcinoma antigen 125, neuron-specific enolase, and carbohydrate antigen 19-9, were examined because it was possible that the tumor did not originate from the adrenal gland.\\nThe patient underwent resection of the lesion through a flank incision by 11th rib resection. The retroperitoneal dissection was tedious and difficult, but the mass was excised in its entirety (). The left adrenal gland was normal. The resected retroperitoneal cystic mass measured 8 cm\\u00d77 cm\\u00d76 cm and weighed 153 g (). The final pathological evaluation of the tumor was a mature teratoma without malignant components. Macroscopically, the specimen was a 6 cm \\u00d75 cm \\u00d74 cm fluctuating mass. On incision, cystic material came off and a thinly walled cyst was left. The cyst wall thickness was approximately 1 mm with only some minor excrescents. Histologically, the cystic cavity was lined by ciliated columnar cells () and the excrescents were hyalin cartilage islands under this epithelium with some lobules of seromucinous glands (). No immature elements were seen and the diagnosis was a mature cystic teratoma pathologically. Because these tumors usually represent metastasis from other primary sites, additional imaging with CT of the chest and scrotal ultrasonography was performed. No other primary tumor was identified. Therefore, we diagnosed the mass as a primary retroperitoneal teratoma. After 12 months of follow-up, the patient was free of recurrence.\",\n          \"A 40-year-old Japanese man experienced periumbilical pain since November 2013, and although the symptoms were mild, they were prolonged. He visited his family physician in January 2014, who noted mild tenderness in the lower left quadrant. The patient underwent an abdominal CT scan. CT revealed a low-density mass that measured 43 \\u00d7 40 mm in size in the left abdomen. He was referred to the National Hospital Organization Tsuruga Medical Center in February. His past medical and family histories were unremarkable. On examination, the patient had a height of 179.0 cm, a body weight of 98.7 kg, and a body mass index (BMI) of 30.8 and did not present with anemia, icterus, edema, or malnutrition. His abdomen was flat and soft, with mild tenderness in the lower left quadrant on palpation; however, the mass could not be felt.\\nThe laboratory results showed no abnormalities in his blood cell counts; however, an elevation in the serum alanine transaminase (ALT; 60 IU/L), \\u03b3-glutamyl transferase (\\u03b3-GTP; 108 IU/L), total bilirubin (T-Bil; 1.31 mg/dL), and total cholesterol (T-Chol; 229 mg/dL) levels was observed. The levels of epithelial tumor markers, such as carcinoembryonic antigen (CEA; 2.1 ng/mL), carbohydrate antigen 19-9 (CA19-9; 8.7 U/mL), and cancer antigen 125 (CA125; 11 U/mL), were within normal limits.\\nThe patient underwent a contrast-enhanced CT examination 2 weeks after the CT examination conducted by his family physician because in the previous examination, the patient had not been administered a contrast agent. A low-density mass with an irregular outline and measuring 45 \\u00d7 42 mm in size was detected in the left abdomen at the slightly cranial level of his umbilicus in the plain phase (Fig. ). The tumor was located in the peripheral part of the mesentery of the jejunum and partly compressed the adjacent jejunum. In the enhanced phase, the tumor lacked contrast. The peripheral artery was shown to be involved, indicating that the tumor developed in the mesentery of the jejunum; however, the adjacent jejunum showed good enhancement (Fig. ). The oral side of the jejunum did not show dilatation. A lymphatic cyst diagnosis was highly suspected.\\nThe patient\\u2019s abdominal symptom passed without exacerbation, and a follow-up examination was conducted in March. One month later, he underwent a scheduled CT examination, and the mass did not appear to have increased in size (Fig. a). Enhancement revealed apparent invasion of the wall of the jejunum without ischemia of the adjacent jejunum or dilatation of the oral side of the bowel (Fig. b). Magnetic resonance imaging (MRI) showed intermediate intensity on T1-weighted imaging (T1WI) (Fig. ) and high intensity on T2-weighted imaging (T2WI) (Fig. ). Relatively low intensity was observed with enhancement using gadolinium diethylenetriaminepentaacetic acid (DTPA) contrast medium on T1WI (Fig. ). An accumulation of cystic lesions with a variety of sizes was clearly depicted on the coronal view on T2WI (Fig. ).\\nBecause it was expected that depiction of the tumor would be made somewhat more difficult by its location and the body shape of the patient, we conducted a sonography examination in reference to the location and properties of the tumor determined by CT and MRI. The lesion showed a low echo; however, a clear image was not obtained.\\nCT performed by the previous physician and at our institution showed that the tumor was located in the peripheral part of the jejunal mesentery and exhibited slight enteric compression without dilatation of the oral jejunum but no rapid increase in size. The patient hesitated to agree to an immediate operation but did agree to a 1-month observation period. Permeation of the jejunal wall was shown by a second CT examination at our institution performed 1 month later, and from these findings, we highly suspected that the lymphangioma was invading the jejunal wall and thus decided to perform surgery.\\nWe made a preoperative diagnosis of lymphangioma invading the jejunal wall, and with the patient\\u2019s informed consent, we performed an operation to relieve his symptoms and obtain a definitive diagnosis of the tumor in April.\\nThe patient was placed in the supine position under general anesthesia. Small incisions were made along the superior and inferior border of the umbilicus and connected through the bottom of the umbilicus with an S-shape. The length of the wound was approximately 5 cm. We placed the Lapprotector\\u2122 (Model FF0707; Hakko Co., Ltd., Medical Device Division, Japan) in the umbilical wound and then attached the E\\u00b7Z Access\\u2122 device (E\\u00b7Z Access for FF07; Hakko Co., Ltd., Medical Device Division, Japan). A 12-mm trocar was placed through the E\\u00b7Z Access device, and pneumoperitoneum was established with carbon dioxide (CO2) gas at 8 mmHg of pressure. An accessory trocar (5 mm) was placed on the right side of the 12-mm trocar through the E\\u00b7Z Access device. Using forceps, we removed the omentum from the small intestinal front and found a soft yellowish mass in the mesentery of the jejunum that had invaded the wall of the jejunum (Fig. ). We removed the tumor from the body through the umbilical wound, resected the surrounding mesentery and part of the jejunum, and performed anastomosis in a functional end-to-end manner (Fig. ). The total operative duration was 94 min, and the intraoperative blood loss volume was 30 ml.\\nMacroscopically, the external surface of the mass had a whitish-yellowish and lobulated appearance. The tumor protruded from both sides of the mesentery leaves and was surrounded by the mesenteric peritoneum. The tumor measured 50 \\u00d7 45 mm in size and was located in the peripheral part of the mesentery and adjacent to the jejunum (Fig. ). The small intestinal mucosal surface formed a hemispherical uplift approximately 24 \\u00d7 20 mm in size adjacent to the mesenteric lesion without contraction (Fig. ). The cut surface of the mass after fixation by formalin revealed multicystic lesions of various sizes containing a caf\\u00e9-au-lait-colored milky fluid similar to chyle (Fig. ). Histologically, the cyst wall showed an attenuated endothelial lining, surrounding rich adipose tissue and scattered smooth muscle fibers (Fig. ). In addition, small lymphoid aggregates also appeared focally. Immunohistochemical staining showed that the flat endothelial cells associated with the cysts were positive for the endothelial markers CD31 (Fig. ) and factor VIII-related antigen (Fig. ), partially positive for the lymphatic endothelial marker D2-40 (Fig. ) and the undifferentiated pluripotent stem cell marker CD34 (Fig. ), and negative for cytokeratin (AE1/AE3) (Fig. ) and the mesothelial marker calretinin (Fig. ). Dilated lymphatic ducts were observed in the tumorous lesion of the mesentery and adjacent to this lesion in the muscularis propria and submucosal layer of the small intestine. In the wall of the jejunum without tumor invasion, dilation of the lymphatic ducts was not observed. These findings were consistent with cystic lymphangioma.\\nThe patient recovered successfully and was discharged from the hospital 9 days after the operation.\",\n          \"A 23-year-old man was referred as an outpatient to our clinic 21 months after diagnosis of TB with neurological symptoms encompassing severe pain, paraesthesia and hypoesthesia following TB treatment.The patient\\u2019s history revealed that he developed severe productive coughing with yellow expectoration and haemoptysis after his return from a backpacking trip in Asia. The X-ray of his chest revealed infiltration of the superior part of the right lung including a cavernous structure. The sputum was positive for acid-fast rods, further diagnostics including HIV-testing resulted in normal findings.\\nThe patient was initially treated with ethambutol, INH (with pyridoxine supplementation), rifampicin, pyraniazid and streptomycin. He developed elevated liver enzymes (gamma glutamyltransferase (GGT) 119 U/L, aspartate aminotransferase (AST) 100 U/L, alanine aminotransferase (ALT) 314 U/L) as well as elevation of the retention parameters (creatinine 1.4 mg/dL). After 1 month, resistance testing revealed a multidrug-resistant infection; the treatment was amended to capreomycin, linezolid, and moxifloxacin, and treatment with ethambutol was continued. Two months after the initial diagnosis, the patient complained of paraesthesia of his feet.\\nDuring the following year, the symptoms worsened and the patient was referred to a regional hospital for further PNP diagnostics. Neither analysis of the cerebrospinal fluid (CSF indicated a total protein of 26 mg/dL, lactate 1.7 mmol/L, glucose 62 mg/dL, and no pleocytosis) nor serologic PNP screening revealed a pathological result. Since the patient\\u2019s condition worsened, symptomatic treatment with pregabalin was initiated, but symptoms hardly decreased.\\nOne and a half years after diagnosis of TB, the patient was referred to our hospital; TB treatment was already successfully completed. Nerve conduction studies of the sural nerve revealed amplitudes that were severely reduced or absent, a pattern that improved in follow-up neurography over a time period of 2 years (Fig.). Four years after the initial diagnosis of TB, the patient was free of neurological symptoms.\\nIn order to explore the potential cause of the individual toxic effect of TB drugs, molecular genetic analyses of genes that are known to harbor variations relevant to drug effects were analyzed. Genotyping of ABCB1, CYP1A2, CYP3A4, CYP2A6, CYP2C9, SLCO1B1, and UGT1A1 revealed unremarkable results concerning a causative effect for adverse drug reactions.\\nA polymorphism c.590G>A was detected in heterozygous state in the NAT2 gene, resulting in the genotype NAT2*4/*6. This genotype is known to be associated with reduced activity (intermediate acetylator, IA) of the N-acetyltransferase 2 enzyme encoded by the gene. The enzyme is important for the metabolism and inactivation of active drug substances such as INH into inactive metabolites. Reduced enzyme activity leads to increased concentrations of INH and a higher risk of toxic effects such as injury of internal organs and PNP (Singla et al. ).\\nFor the CYP2E1 gene, the c1/c2 genotype was detected and the*2-allele as well as the *1D-allele excluded. It was recently reported that the c1/c2 genotype contributes toward an elevated risk of tuberculosis drug-induced toxicity (Singla et al. ). In the East Asian population, the c1/c1 genotype (high activity) is associated with drug-induced liver damage. About 80% of Asians present the c1/c1 genotype.\"\n        ],\n        \"semantic_type\": \"\",\n        \"description\": \"\"\n      }\n    },\n    {\n      \"column\": \"diseases_from_title\",\n      \"properties\": {\n        \"dtype\": \"category\",\n        \"num_unique_values\": 12735,\n        \"samples\": [\n          \"secondary syphilis, hepatitis, nephrotic syndrome, hepatitis a, syphilis, c syndrome\",\n          \"nevus of ota, cutis marmorata telangiectatica congenita\",\n          \"mycosis fungoides, c syndrome, noma, renal cell carcinoma\"\n        ],\n        \"semantic_type\": \"\",\n        \"description\": \"\"\n      }\n    }\n  ]\n}"
            }
          },
          "metadata": {},
          "execution_count": 7
        }
      ]
    },
    {
      "cell_type": "code",
      "source": [
        "jsonl_file = \"medical_prompts.jsonl\"\n",
        "\n",
        "with open(jsonl_file, \"w\") as f:\n",
        "    for _, row in dataset.iterrows():\n",
        "        prompt = {\n",
        "            \"prompt\": f\"You are a medical patient summary generator given diseases {row['diseases_from_title']}, generate a patient summary.\",\n",
        "            \"response\": row[\"patient\"]\n",
        "        }\n",
        "        f.write(json.dumps(prompt) + \"\\n\")\n",
        "\n",
        "print(f\"JSONL file '{jsonl_file}' created successfully.\")"
      ],
      "metadata": {
        "colab": {
          "base_uri": "https://localhost:8080/"
        },
        "id": "N8TogcuK2t8T",
        "outputId": "736ca029-ad2d-4c35-de9b-8759b0855cae"
      },
      "execution_count": 9,
      "outputs": [
        {
          "output_type": "stream",
          "name": "stdout",
          "text": [
            "JSONL file 'medical_prompts.jsonl' created successfully.\n"
          ]
        }
      ]
    },
    {
      "cell_type": "code",
      "source": [],
      "metadata": {
        "id": "C774QvYszNFk"
      },
      "execution_count": null,
      "outputs": []
    }
  ]
}