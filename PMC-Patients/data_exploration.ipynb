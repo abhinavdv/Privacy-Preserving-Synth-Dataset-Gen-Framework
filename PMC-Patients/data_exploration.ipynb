{
 "cells": [
  {
   "cell_type": "code",
   "execution_count": 1,
   "metadata": {},
   "outputs": [],
   "source": [
    "import pandas as pd \n",
    "import polars as pl"
   ]
  },
  {
   "cell_type": "code",
   "execution_count": 2,
   "metadata": {},
   "outputs": [],
   "source": [
    "patient_text = pd.read_json(\"PPR-corpus.jsonl\", lines=True)"
   ]
  },
  {
   "cell_type": "code",
   "execution_count": 3,
   "metadata": {},
   "outputs": [
    {
     "name": "stdout",
     "output_type": "stream",
     "text": [
      "              _id title                                               text\n",
      "0       7665777-1        This 60-year-old male was hospitalized due to ...\n",
      "1       7665777-2        A 39-year-old man was hospitalized due to an i...\n",
      "2       7665777-3        One week after a positive COVID-19 result this...\n",
      "3       7665777-4        This 69-year-old male was admitted to the ICU ...\n",
      "4       7665777-5        This 57-year-old male was admitted to the ICU ...\n",
      "...           ...   ...                                                ...\n",
      "155146  8724979-3        A 30-year-old man received the second dose of ...\n",
      "155147  8725212-1        A 65-year-old Caucasian man with a history of ...\n",
      "155148  8725231-1        The reporting of the present case conforms to ...\n",
      "155149  8725232-1        The first patient, a woman in her 50s, present...\n",
      "155150  8725232-2        The second patient, a man in his 30s, presente...\n",
      "\n",
      "[155151 rows x 3 columns]\n"
     ]
    }
   ],
   "source": [
    "print(patient_text)"
   ]
  },
  {
   "cell_type": "code",
   "execution_count": 4,
   "metadata": {},
   "outputs": [],
   "source": [
    "patient_article = pd.read_json(\"PAR-corpus.jsonl\", nrows = 100000 ,\n",
    "                               lines=True)"
   ]
  },
  {
   "cell_type": "code",
   "execution_count": 5,
   "metadata": {},
   "outputs": [
    {
     "data": {
      "text/html": [
       "<div>\n",
       "<style scoped>\n",
       "    .dataframe tbody tr th:only-of-type {\n",
       "        vertical-align: middle;\n",
       "    }\n",
       "\n",
       "    .dataframe tbody tr th {\n",
       "        vertical-align: top;\n",
       "    }\n",
       "\n",
       "    .dataframe thead th {\n",
       "        text-align: right;\n",
       "    }\n",
       "</style>\n",
       "<table border=\"1\" class=\"dataframe\">\n",
       "  <thead>\n",
       "    <tr style=\"text-align: right;\">\n",
       "      <th></th>\n",
       "      <th>_id</th>\n",
       "      <th>title</th>\n",
       "      <th>text</th>\n",
       "    </tr>\n",
       "  </thead>\n",
       "  <tbody>\n",
       "    <tr>\n",
       "      <th>0</th>\n",
       "      <td>1703590</td>\n",
       "      <td>Altered beta-adrenergic sensitivity and protei...</td>\n",
       "      <td>The elderly are reported to be less sensitive ...</td>\n",
       "    </tr>\n",
       "    <tr>\n",
       "      <th>1</th>\n",
       "      <td>1703598</td>\n",
       "      <td>Antiischemic and hemodynamic effects of intrav...</td>\n",
       "      <td>In a double-blind cross-over study, 10 patient...</td>\n",
       "    </tr>\n",
       "    <tr>\n",
       "      <th>2</th>\n",
       "      <td>1703602</td>\n",
       "      <td>Clinical studies with the potassium channel ac...</td>\n",
       "      <td>Eight normotensive subjects received single an...</td>\n",
       "    </tr>\n",
       "    <tr>\n",
       "      <th>3</th>\n",
       "      <td>1703608</td>\n",
       "      <td>Double-blind study of dilevalol and captopril,...</td>\n",
       "      <td>Sixty-one patients (41 men, 20 women) aged 29-...</td>\n",
       "    </tr>\n",
       "    <tr>\n",
       "      <th>4</th>\n",
       "      <td>1703610</td>\n",
       "      <td>Sulfhydryl group in angiotensin converting enz...</td>\n",
       "      <td>The superoxide radical scavenging effects of t...</td>\n",
       "    </tr>\n",
       "    <tr>\n",
       "      <th>...</th>\n",
       "      <td>...</td>\n",
       "      <td>...</td>\n",
       "      <td>...</td>\n",
       "    </tr>\n",
       "    <tr>\n",
       "      <th>99995</th>\n",
       "      <td>7361221</td>\n",
       "      <td>Infections following burn injury.</td>\n",
       "      <td>Those factors that have contributed most to th...</td>\n",
       "    </tr>\n",
       "    <tr>\n",
       "      <th>99996</th>\n",
       "      <td>7361222</td>\n",
       "      <td>Infections following gastrointestinal surgery:...</td>\n",
       "      <td>Intra-abdominal sepsis is frequently present a...</td>\n",
       "    </tr>\n",
       "    <tr>\n",
       "      <th>99997</th>\n",
       "      <td>7361224</td>\n",
       "      <td>Urinary tract infections.</td>\n",
       "      <td>The urinary catheter is a fact of medical life...</td>\n",
       "    </tr>\n",
       "    <tr>\n",
       "      <th>99998</th>\n",
       "      <td>7361227</td>\n",
       "      <td>The impact of nutrition on infection.</td>\n",
       "      <td>It seems that the early impressions of Graves ...</td>\n",
       "    </tr>\n",
       "    <tr>\n",
       "      <th>99999</th>\n",
       "      <td>7361232</td>\n",
       "      <td>Treatment of stenosis of the iliac artery by b...</td>\n",
       "      <td>Percutaneous balloon catheter angioplasty appe...</td>\n",
       "    </tr>\n",
       "  </tbody>\n",
       "</table>\n",
       "<p>100000 rows × 3 columns</p>\n",
       "</div>"
      ],
      "text/plain": [
       "           _id                                              title  \\\n",
       "0      1703590  Altered beta-adrenergic sensitivity and protei...   \n",
       "1      1703598  Antiischemic and hemodynamic effects of intrav...   \n",
       "2      1703602  Clinical studies with the potassium channel ac...   \n",
       "3      1703608  Double-blind study of dilevalol and captopril,...   \n",
       "4      1703610  Sulfhydryl group in angiotensin converting enz...   \n",
       "...        ...                                                ...   \n",
       "99995  7361221                  Infections following burn injury.   \n",
       "99996  7361222  Infections following gastrointestinal surgery:...   \n",
       "99997  7361224                          Urinary tract infections.   \n",
       "99998  7361227              The impact of nutrition on infection.   \n",
       "99999  7361232  Treatment of stenosis of the iliac artery by b...   \n",
       "\n",
       "                                                    text  \n",
       "0      The elderly are reported to be less sensitive ...  \n",
       "1      In a double-blind cross-over study, 10 patient...  \n",
       "2      Eight normotensive subjects received single an...  \n",
       "3      Sixty-one patients (41 men, 20 women) aged 29-...  \n",
       "4      The superoxide radical scavenging effects of t...  \n",
       "...                                                  ...  \n",
       "99995  Those factors that have contributed most to th...  \n",
       "99996  Intra-abdominal sepsis is frequently present a...  \n",
       "99997  The urinary catheter is a fact of medical life...  \n",
       "99998  It seems that the early impressions of Graves ...  \n",
       "99999  Percutaneous balloon catheter angioplasty appe...  \n",
       "\n",
       "[100000 rows x 3 columns]"
      ]
     },
     "execution_count": 5,
     "metadata": {},
     "output_type": "execute_result"
    }
   ],
   "source": [
    "patient_article"
   ]
  },
  {
   "cell_type": "code",
   "execution_count": null,
   "metadata": {},
   "outputs": [],
   "source": []
  }
 ],
 "metadata": {
  "kernelspec": {
   "display_name": ".venv",
   "language": "python",
   "name": "python3"
  },
  "language_info": {
   "codemirror_mode": {
    "name": "ipython",
    "version": 3
   },
   "file_extension": ".py",
   "mimetype": "text/x-python",
   "name": "python",
   "nbconvert_exporter": "python",
   "pygments_lexer": "ipython3",
   "version": "3.13.1"
  }
 },
 "nbformat": 4,
 "nbformat_minor": 2
}
