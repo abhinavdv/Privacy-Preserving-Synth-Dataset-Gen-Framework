{
 "cells": [
  {
   "cell_type": "code",
   "execution_count": 1,
   "metadata": {},
   "outputs": [],
   "source": [
    "import subprocess\n",
    "from mlx_lm import load, generate"
   ]
  },
  {
   "cell_type": "code",
   "execution_count": 2,
   "metadata": {},
   "outputs": [],
   "source": [
    "instructions_string = \"\"\" You are HealthGPT an AI model capable of diagnoising the disease a person has based on their personal data like demographics, vitals and more. You respond with only the diagnosis nothing else. Please respond to the following situation:\n",
    "\"\"\"\n",
    "\n",
    "prompt_builder = lambda comment: f'''<s>[INST] {instructions_string} \\n{comment} \\n[/INST]\\n'''"
   ]
  },
  {
   "cell_type": "code",
   "execution_count": null,
   "metadata": {},
   "outputs": [
    {
     "data": {
      "application/vnd.jupyter.widget-view+json": {
       "model_id": "3a404a313fe945f48e9f161b4fbd0dfb",
       "version_major": 2,
       "version_minor": 0
      },
      "text/plain": [
       "Fetching 7 files:   0%|          | 0/7 [00:00<?, ?it/s]"
      ]
     },
     "metadata": {},
     "output_type": "display_data"
    },
    {
     "name": "stdout",
     "output_type": "stream",
     "text": [
      "==========\n",
      "Prompt: <s>[INST]  You are HealthGPT an AI model capable of diagnoising the disease a person has based on their personal data like demographics, vitals and more. You respond with only the diagnosis nothing else.\n",
      "\n",
      "Please respond to the following situation:\n",
      "\n",
      " \n",
      "age: 25, weight: 195 pounds, height: 176cm \n",
      "[/INST]\n",
      "\n",
      "Obesity.\n",
      "==========\n",
      "Prompt: 90 tokens, 322.815 tokens-per-sec\n",
      "Generation: 5 tokens, 71.746 tokens-per-sec\n",
      "Peak memory: 4.336 GB\n"
     ]
    }
   ],
   "source": [
    "model, tokenizer = load(\"mlx-community/Mistral-7B-Instruct-v0.2-4bit\")\n",
    "\n",
    "model_path = \"mlx-community/Mistral-7B-Instruct-v0.2-4bit\"\n",
    "prompt = prompt_builder(\"age: 50, weight: 195 pounds, height: 176cm\")\n",
    "\n",
    "response = generate(model, tokenizer, prompt=prompt, verbose=True)"
   ]
  },
  {
   "cell_type": "code",
   "execution_count": null,
   "metadata": {},
   "outputs": [],
   "source": [
    "answer = \"Obesity\"\n",
    "question = \"age: 50, weight: 195 pounds, height: 176cm\"\n",
    "f\"{'text': {instructions_string} \\n Q: {question} \\n A: {answer} }\""
   ]
  }
 ],
 "metadata": {
  "kernelspec": {
   "display_name": ".venv",
   "language": "python",
   "name": "python3"
  },
  "language_info": {
   "codemirror_mode": {
    "name": "ipython",
    "version": 3
   },
   "file_extension": ".py",
   "mimetype": "text/x-python",
   "name": "python",
   "nbconvert_exporter": "python",
   "pygments_lexer": "ipython3",
   "version": "3.13.1"
  }
 },
 "nbformat": 4,
 "nbformat_minor": 2
}
