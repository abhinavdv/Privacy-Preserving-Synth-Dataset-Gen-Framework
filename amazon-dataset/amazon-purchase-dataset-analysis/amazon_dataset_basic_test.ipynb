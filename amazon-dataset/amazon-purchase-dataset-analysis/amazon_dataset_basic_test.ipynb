{
 "cells": [
  {
   "cell_type": "code",
   "execution_count": 2,
   "metadata": {},
   "outputs": [],
   "source": [
    "import pandas as pd\n",
    "import polars as pl "
   ]
  },
  {
   "cell_type": "code",
   "execution_count": 3,
   "metadata": {},
   "outputs": [],
   "source": [
    "electronics_reviews = pl.read_ndjson('amazon-dataset/Electronics.jsonl', n_rows= 5000 )"
   ]
  },
  {
   "cell_type": "code",
   "execution_count": 4,
   "metadata": {},
   "outputs": [],
   "source": [
    "electonics_meta = pl.read_ndjson('amazon-dataset/meta_Electronics.jsonl', n_rows = 200000)"
   ]
  },
  {
   "cell_type": "code",
   "execution_count": 7,
   "metadata": {},
   "outputs": [],
   "source": [
    "electonics_meta_not_null_bt = (\n",
    "    electonics_meta.filter(\n",
    "        pl.col('bought_together').is_null()\n",
    "    )\n",
    ")"
   ]
  },
  {
   "cell_type": "code",
   "execution_count": 8,
   "metadata": {},
   "outputs": [
    {
     "data": {
      "text/html": [
       "<div><style>\n",
       ".dataframe > thead > tr,\n",
       ".dataframe > tbody > tr {\n",
       "  text-align: right;\n",
       "  white-space: pre-wrap;\n",
       "}\n",
       "</style>\n",
       "<small>shape: (200_000, 14)</small><table border=\"1\" class=\"dataframe\"><thead><tr><th>main_category</th><th>title</th><th>average_rating</th><th>rating_number</th><th>features</th><th>description</th><th>price</th><th>images</th><th>videos</th><th>store</th><th>categories</th><th>details</th><th>parent_asin</th><th>bought_together</th></tr><tr><td>str</td><td>str</td><td>f64</td><td>i64</td><td>list[str]</td><td>list[str]</td><td>f64</td><td>list[struct[4]]</td><td>list[struct[3]]</td><td>str</td><td>list[str]</td><td>struct[165]</td><td>str</td><td>null</td></tr></thead><tbody><tr><td>&quot;All Electronics&quot;</td><td>&quot;FS-1051 FATSHARK TELEPORTER V3…</td><td>3.5</td><td>6</td><td>[]</td><td>[&quot;Teleporter V3 The “Teleporter V3” kit sets a new level of value in the FPV world with Fat Shark renowned performance and quality. The fun of FPV is experienced firsthand through the large screen FPV headset with integrated NexwaveRF receiver technology while simultaneously recording onboard HD footage with the included “PilotHD” camera. The “Teleporter V3” kit comes complete with everything you need to step into the cockpit of your FPV vehicle. We’ve included our powerful 250mW 5.8Ghz transmitter, 25 degree FOV headset (largest QVGA display available), the brand new “PilotHD” camera with live AV out and all the cables, antennas and connectors needed.&quot;]</td><td>null</td><td>[{&quot;https://m.media-amazon.com/images/I/41qrX56lsYL._AC_US40_.jpg&quot;,&quot;https://m.media-amazon.com/images/I/41qrX56lsYL._AC_.jpg&quot;,&quot;MAIN&quot;,null}]</td><td>[]</td><td>&quot;Fat Shark&quot;</td><td>[&quot;Electronics&quot;, &quot;Television &amp; Video&quot;, &quot;Video Glasses&quot;]</td><td>{null,null,null,null,null,null,null,null,null,null,null,null,null,null,&quot;Fatshark&quot;,null,&quot;August 2, 2014&quot;,null,null,null,null,null,null,null,null,null,null,null,null,null,null,null,null,null,null,null,null,null,null,null,null,null,null,null,null,null,null,null,null,null,null,null,null,null,null,null,null,null,null,null,null,null,null,null,null,null,null,null,null,null,null,null,null,null,null,null,null,null,null,null,null,null,null,null,null,null,null,null,null,null,null,null,null,null,null,null,null,null,null,null,null,null,null,null,null,null,null,null,null,null,null,null,null,null,null,null,null,null,null,null,null,null,null,null,null,null,null,null,null,null,null,null,null,null,null,null,null,null,null,null,null,null,null,null,null,null,null,null,null,null,null,null,null,null,null,null,null,null,null,null,null,null,null,null,null}</td><td>&quot;B00MCW7G9M&quot;</td><td>null</td></tr><tr><td>&quot;All Electronics&quot;</td><td>&quot;Ce-H22B12-S1 4Kx2K Hdmi 4Port&quot;</td><td>5.0</td><td>1</td><td>[&quot;UPC: 662774021904&quot;, &quot;Weight: 0.600 lbs&quot;]</td><td>[&quot;HDMI In - HDMI Out&quot;]</td><td>null</td><td>[{&quot;https://m.media-amazon.com/images/I/31OIMoOW70L._AC_US40_.jpg&quot;,&quot;https://m.media-amazon.com/images/I/31OIMoOW70L._AC_.jpg&quot;,&quot;MAIN&quot;,&quot;https://m.media-amazon.com/images/I/51qxU4Zd5TL._AC_SL1050_.jpg&quot;}, {&quot;https://m.media-amazon.com/images/I/41S98g84d0L._AC_US40_.jpg&quot;,&quot;https://m.media-amazon.com/images/I/41S98g84d0L._AC_.jpg&quot;,&quot;PT01&quot;,&quot;https://m.media-amazon.com/images/I/51HDwazbqNL._AC_SL1050_.jpg&quot;}, … {&quot;https://m.media-amazon.com/images/I/51Ta576VKWL._AC_US40_.jpg&quot;,&quot;https://m.media-amazon.com/images/I/51Ta576VKWL._AC_.jpg&quot;,&quot;PT04&quot;,&quot;https://m.media-amazon.com/images/I/71fWq8+PkfL._AC_SL1050_.jpg&quot;}]</td><td>[]</td><td>&quot;SIIG&quot;</td><td>[&quot;Electronics&quot;, &quot;Television &amp; Video&quot;, … &quot;HDMI Cables&quot;]</td><td>{null,null,null,null,null,null,null,null,null,null,null,null,&quot;5.3 ounces&quot;,null,&quot;SIIG&quot;,null,&quot;June 3, 2015&quot;,null,&quot;0.83 x 4.17 x 2.05 inches&quot;,&quot;CE-H22B12-S1&quot;,&quot;No&quot;,null,null,null,null,null,null,null,null,null,null,null,null,null,null,null,null,null,null,null,null,null,null,null,null,null,null,null,null,null,null,null,null,null,null,null,null,null,null,null,null,null,null,null,null,null,null,null,null,null,null,null,null,null,null,null,null,null,null,null,null,null,null,null,null,null,null,null,null,null,null,null,null,null,null,null,null,null,null,null,null,null,null,null,null,null,null,null,null,null,null,null,null,null,null,null,null,null,null,null,null,null,null,null,null,null,null,null,null,null,null,null,null,null,null,null,null,null,null,null,null,null,null,null,null,null,null,null,null,null,null,null,null,null,null,null,null,null,null,null,null,null,null,null,null}</td><td>&quot;B00YT6XQSE&quot;</td><td>null</td></tr><tr><td>&quot;Computers&quot;</td><td>&quot;Digi-Tatoo Decal Skin Compatib…</td><td>4.5</td><td>246</td><td>[&quot;WARNING: Please IDENTIFY MODEL NUMBER on the bottom of your Macbook. Only fits for model A2338/ A2289/ A2251 (Macbook Pro 13&quot; w/ Touch Bar, 2022/2020 release).&quot;, &quot;Extra Care Yet Not Bulky. Our skin is capable of protecting the surface of your Macbook from daily scratches, dust, oil, water and fingerprint. Your Macbook remains fresh some years later.&quot;, … &quot;100% SATISFACTION GUARANTEED. We use best vinyl material and printing technology and offer premium service. Full refund is guaranteed if you are not satisfied with our product.&quot;]</td><td>[]</td><td>19.99</td><td>[{&quot;https://m.media-amazon.com/images/I/31t4bj9t88L._AC_US40_.jpg&quot;,&quot;https://m.media-amazon.com/images/I/31t4bj9t88L._AC_.jpg&quot;,&quot;MAIN&quot;,&quot;https://m.media-amazon.com/images/I/61RPxmi+mPL._AC_SL1500_.jpg&quot;}, {&quot;https://m.media-amazon.com/images/I/41ze2iOA9gL._AC_US40_.jpg&quot;,&quot;https://m.media-amazon.com/images/I/41ze2iOA9gL._AC_.jpg&quot;,&quot;PT01&quot;,&quot;https://m.media-amazon.com/images/I/61Av7GiLnWL._AC_SL1500_.jpg&quot;}, … {&quot;https://m.media-amazon.com/images/I/41k6NOJCT7L._AC_US40_.jpg&quot;,&quot;https://m.media-amazon.com/images/I/41k6NOJCT7L._AC_.jpg&quot;,&quot;PT05&quot;,&quot;https://m.media-amazon.com/images/I/61E-igNxxiL._AC_SL1472_.jpg&quot;}]</td><td>[{&quot;AL 2Sides Video&quot;,&quot;https://www.amazon.com/vdp/58d77b2d7a6b44d38df104438e138167?ref=dp_vse_rvc_0&quot;,&quot;&quot;}, {&quot;MacBook Protective Skin&quot;,&quot;https://www.amazon.com/vdp/b47a21292a3a4df4a11fd9b4237a43fb?ref=dp_vse_rvc_1&quot;,&quot;&quot;}, … {&quot;Synerlogic Bubble-Free Installation Instructions&quot;,&quot;https://www.amazon.com/vdp/0276fbe078f54293ac275ff85e1604ba?ref=dp_vse_rvc_7&quot;,&quot;&quot;}]</td><td>&quot;Digi-Tatoo&quot;</td><td>[&quot;Electronics&quot;, &quot;Computers &amp; Accessories&quot;, … &quot;Decals&quot;]</td><td>{&quot;Digi-Tatoo&quot;,&quot;Fresh Marble&quot;,&quot;Bedroom&quot;,&quot;Vinyl&quot;,&quot;Marble&quot;,&quot;fresh marble&quot;,&quot;Adult&quot;,&quot;Single Use&quot;,&quot;Marble&quot;,&quot;Rectangular&quot;,&quot;1.0 Count&quot;,&quot;Powder Coated&quot;,&quot;3.84 ounces&quot;,&quot;14.13 x 9.8 x 0.16 inches&quot;,&quot;Digi-Tatoo&quot;,&quot;China&quot;,&quot;June 3, 2019&quot;,{null,null,87106,16463,null,null,null,null,null,null,null,null,null,null,null,null,null,null,null,null,null,null,null,null,null,null,null,null,null,null,null,null,null,null,null,null,null,null,null,null,null,null,null,null},null,null,null,null,null,null,null,null,null,null,null,null,null,null,null,null,null,null,null,null,null,null,null,null,null,null,null,null,null,null,null,null,null,null,null,null,null,null,null,null,null,null,null,null,null,null,null,null,null,null,null,null,null,null,null,null,null,null,null,null,null,null,null,null,null,null,null,null,null,null,null,null,null,null,null,null,null,null,null,null,null,null,null,null,null,null,null,null,null,null,null,null,null,null,null,null,null,null,null,null,null,null,null,null,null,null,null,null,null,null,null,null,null,null,null,null,null,null,null,null,null,null,null,null,null,null,null,null,null,null,null,null,null,null,null,null,null,null,null,null,null,null,null,null,null,null,null}</td><td>&quot;B07SM135LS&quot;</td><td>null</td></tr><tr><td>&quot;AMAZON FASHION&quot;</td><td>&quot;NotoCity Compatible with Vivoa…</td><td>4.5</td><td>233</td><td>[&quot;☛NotoCity 22mm band is designed for Vivoactive 4 / Samsung Gear S3 Classic / S3 Frontier / Gear Live / Samsung Galaxy Watch 46mm / Huawei Watch GT / Tickwatch Pro / S2 / E2 / Pebble Classic / Time / Time Steel / Pebble 2 (Not Pebble steel) / Other Watches with 22mm lugs.&quot;, &quot;➹Wrist Size: Small size fits wrist: 6.49inches-8.46inches (165-215mm), Large size fits wrist: 7.28inches-9.25inches (185-235mm) ,Please measure your wrist and make sure the size before you purchase.&quot;, … &quot;☎Any problem with the item you receive or any opinion, please don&#x27;t hesitate to contact us, we will find the best solution to solve.&quot;]</td><td>[]</td><td>9.99</td><td>[{&quot;https://m.media-amazon.com/images/I/41j56fjX6SL._AC_SR38,50_.jpg&quot;,&quot;https://m.media-amazon.com/images/I/41j56fjX6SL._AC_.jpg&quot;,&quot;MAIN&quot;,&quot;https://m.media-amazon.com/images/I/51ajKKbi76L._AC_UL1000_.jpg&quot;}, {&quot;https://m.media-amazon.com/images/I/51YZizYLp5L._AC_SR38,50_.jpg&quot;,&quot;https://m.media-amazon.com/images/I/51YZizYLp5L._AC_.jpg&quot;,&quot;PT01&quot;,&quot;https://m.media-amazon.com/images/I/618Cw+LDsAL._AC_UL1000_.jpg&quot;}, … {&quot;https://m.media-amazon.com/images/I/41bfL74wzQL._AC_SR38,50_.jpg&quot;,&quot;https://m.media-amazon.com/images/I/41bfL74wzQL._AC_.jpg&quot;,&quot;PT05&quot;,&quot;https://m.media-amazon.com/images/I/5196Y8cGZPL._AC_UL1000_.jpg&quot;}]</td><td>[]</td><td>&quot;NotoCity&quot;</td><td>[&quot;Electronics&quot;, &quot;Wearable Technology&quot;, &quot;Clips, Arm &amp; Wristbands&quot;]</td><td>{null,null,null,null,null,null,null,null,null,null,null,null,null,null,&quot;NotoCity&quot;,null,&quot;May 29, 2020&quot;,null,null,null,null,null,null,null,null,null,null,null,null,null,null,null,null,null,null,null,null,null,null,null,null,null,null,null,null,null,null,null,null,null,null,null,null,null,null,null,null,null,null,null,null,null,null,null,null,null,null,null,null,null,null,null,null,null,null,null,null,null,null,null,null,null,null,null,null,null,null,null,null,null,null,null,null,null,null,null,null,null,null,null,null,null,null,null,null,null,null,null,null,null,null,null,null,null,null,null,null,null,null,null,null,null,null,null,null,null,null,null,null,null,null,null,null,null,null,null,null,null,null,null,null,null,null,null,null,null,null,null,null,null,null,null,null,null,null,null,null,null,null,null,null,null,null,null,null}</td><td>&quot;B089CNGZCW&quot;</td><td>null</td></tr><tr><td>&quot;Cell Phones &amp; Accessories&quot;</td><td>&quot;Motorola Droid X Essentials Co…</td><td>3.8</td><td>64</td><td>[&quot;New Droid X Essentials Combo Pack&quot;, &quot;Exclusive Package Incredible Value Worth $145!!!&quot;, &quot;Includes all Genuine High Quality Motorola Made Accessories&quot;]</td><td>[&quot;all Genuine High Quality Motorola Made Accessories, including Multimedia Station with HDMI technology, HDMI Cable and AC Wall Charger, Motorola Navigation / Music Vehicle Charging Mount Car Dock and Motorola 12v Vehicle Power Adapter Charger!&quot;]</td><td>14.99</td><td>[{&quot;https://m.media-amazon.com/images/I/51-DXSMlHaL._AC_SR38,50_.jpg&quot;,&quot;https://m.media-amazon.com/images/I/51-DXSMlHaL._AC_.jpg&quot;,&quot;MAIN&quot;,null}, {&quot;https://m.media-amazon.com/images/I/31HYf51qCQL._AC_SR38,50_.jpg&quot;,&quot;https://m.media-amazon.com/images/I/31HYf51qCQL._AC_.jpg&quot;,&quot;PT01&quot;,null}, … {&quot;https://m.media-amazon.com/images/I/21DyMQ6Bk5L._AC_SR38,50_.jpg&quot;,&quot;https://m.media-amazon.com/images/I/21DyMQ6Bk5L._AC_.jpg&quot;,&quot;PT04&quot;,null}]</td><td>[]</td><td>&quot;Verizon&quot;</td><td>[&quot;Electronics&quot;, &quot;Computers &amp; Accessories&quot;, … &quot;Micro SD Cards&quot;]</td><td>{null,null,null,null,null,null,null,null,null,null,null,null,&quot;1.5 pounds&quot;,null,&quot;Verizon&quot;,null,&quot;November 26, 2010&quot;,null,&quot;11.6 x 6.9 x 3.1 inches&quot;,null,null,&quot;Wireless&quot;,null,null,null,null,null,null,null,null,null,null,null,null,null,null,null,null,null,null,null,null,null,null,null,null,null,null,null,null,null,null,null,null,null,null,null,null,null,null,null,null,null,null,null,null,null,null,null,null,null,null,null,null,null,null,null,null,null,null,null,null,null,null,null,null,null,null,null,null,null,null,null,null,null,null,null,null,null,null,null,null,null,null,null,null,null,null,null,null,null,null,null,null,null,null,null,null,null,null,null,null,null,null,null,null,null,null,null,null,null,null,null,null,null,null,null,null,null,null,null,null,null,null,null,null,null,null,null,null,null,null,null,null,null,null,null,null,null,null,null,null,null,null,null}</td><td>&quot;B004E2Z88O&quot;</td><td>null</td></tr><tr><td>&hellip;</td><td>&hellip;</td><td>&hellip;</td><td>&hellip;</td><td>&hellip;</td><td>&hellip;</td><td>&hellip;</td><td>&hellip;</td><td>&hellip;</td><td>&hellip;</td><td>&hellip;</td><td>&hellip;</td><td>&hellip;</td><td>&hellip;</td></tr><tr><td>&quot;All Electronics&quot;</td><td>&quot;RiteAV - 1 Port Coax Cable TV-…</td><td>5.0</td><td>1</td><td>[&quot;Tooless connection, Just plug one cable into the front and one into the back.&quot;, &quot;High quality&quot;, … &quot;Wallplate looks the same on the front and back.&quot;]</td><td>[&quot;RiteAV - 1 Port Coax Cable TV- F-Type 2 Port Shielded Cat6 Ethernet Wall Plate&quot;]</td><td>15.33</td><td>[{&quot;https://m.media-amazon.com/images/I/31M0o80y0vL._AC_US40_.jpg&quot;,&quot;https://m.media-amazon.com/images/I/31M0o80y0vL._AC_.jpg&quot;,&quot;MAIN&quot;,&quot;https://m.media-amazon.com/images/I/71Qc4MA129L._AC_SL1500_.jpg&quot;}]</td><td>[]</td><td>&quot;RiteAV&quot;</td><td>[&quot;Electronics&quot;, &quot;Home Audio&quot;, … &quot;Wall Plates &amp; Connectors&quot;]</td><td>{null,null,null,null,null,null,null,null,null,null,null,null,null,null,&quot;RiteAV&quot;,null,&quot;March 6, 2014&quot;,null,null,&quot;RAV-3-11344&quot;,null,null,null,null,null,null,null,null,null,null,null,null,null,null,null,null,null,null,null,null,null,null,null,null,null,null,null,null,null,null,null,null,null,null,null,null,null,null,null,null,null,null,null,null,null,null,null,null,null,null,null,null,null,null,null,null,null,null,null,null,null,null,null,null,null,null,null,null,null,null,null,null,null,null,null,null,null,null,null,null,null,null,null,null,null,null,null,null,null,null,null,null,null,null,null,null,null,null,null,null,null,null,null,null,null,null,null,null,null,null,null,null,null,null,null,null,null,null,null,null,null,null,null,null,null,null,null,null,null,null,null,null,null,null,null,null,null,null,null,null,null,null,null,null,null}</td><td>&quot;B00ITO1BVG&quot;</td><td>null</td></tr><tr><td>&quot;Computers&quot;</td><td>&quot;Sunworld Premium 64GB Metal Ru…</td><td>2.6</td><td>4</td><td>[&quot;Brand new,USB Flash Memory Drive.&quot;, &quot;Easy plug and play installation.&quot;, … &quot;Small and exquisite design brings much convenience.&quot;]</td><td>[&quot;works very well on your computer.This 64GB flash drive is a fun and convenient way t save all of your important documents whether you are at the office or at home. It is also a great gift for friends,family or even significant others so do not pass up this terrific offer!&quot;]</td><td>null</td><td>[{&quot;https://m.media-amazon.com/images/I/31NmD5ay8pL._AC_US40_.jpg&quot;,&quot;https://m.media-amazon.com/images/I/31NmD5ay8pL._AC_.jpg&quot;,&quot;MAIN&quot;,&quot;https://m.media-amazon.com/images/I/51ORk5yPl4L._AC_SL1024_.jpg&quot;}, {&quot;https://m.media-amazon.com/images/I/41BU2Sxz+lL._AC_US40_.jpg&quot;,&quot;https://m.media-amazon.com/images/I/41BU2Sxz+lL._AC_.jpg&quot;,&quot;PT01&quot;,&quot;https://m.media-amazon.com/images/I/51WtpZ0AY6L._AC_SL1024_.jpg&quot;}, … {&quot;https://m.media-amazon.com/images/I/41IfelFomTL._AC_US40_.jpg&quot;,&quot;https://m.media-amazon.com/images/I/41IfelFomTL._AC_.jpg&quot;,&quot;PT04&quot;,&quot;https://m.media-amazon.com/images/I/61Ec+xd+1cL._AC_SL1024_.jpg&quot;}]</td><td>[]</td><td>&quot;Sunworld®&quot;</td><td>[&quot;Electronics&quot;, &quot;Computers &amp; Accessories&quot;, … &quot;USB Flash Drives&quot;]</td><td>{null,null,null,null,null,null,null,null,null,null,null,null,null,null,&quot;Sunworld®&quot;,null,&quot;November 27, 2014&quot;,null,null,null,null,null,null,null,null,null,null,null,null,null,null,null,null,null,null,null,null,null,&quot;Mac&quot;,null,null,null,null,null,null,null,null,null,null,null,null,null,null,null,null,null,null,null,null,null,null,null,null,null,null,null,null,null,null,null,null,null,null,null,null,null,null,null,null,null,null,null,null,null,null,null,null,null,null,null,null,null,null,null,null,null,null,null,null,null,null,null,null,null,null,null,null,null,null,null,null,null,null,null,null,null,null,null,null,null,null,null,null,null,null,null,null,null,null,null,null,null,null,null,null,null,null,null,null,null,null,null,null,null,null,null,null,null,null,null,null,null,null,null,null,null,null,null,null,null,null,null,null,null,null}</td><td>&quot;B00P2BSFNQ&quot;</td><td>null</td></tr><tr><td>&quot;Computers&quot;</td><td>&quot;ASURION 2 Year Security System…</td><td>3.7</td><td>18</td><td>[]</td><td>[]</td><td>null</td><td>[{&quot;https://m.media-amazon.com/images/I/41I8fMGyKOL._AC_US40_.jpg&quot;,&quot;https://m.media-amazon.com/images/I/41I8fMGyKOL._AC_.jpg&quot;,&quot;MAIN&quot;,&quot;https://m.media-amazon.com/images/I/71fN-dpClGL._AC_SL1500_.jpg&quot;}]</td><td>[]</td><td>&quot;ASURION&quot;</td><td>[&quot;Electronics&quot;, &quot;Electronics Warranties&quot;]</td><td>{&quot;ASURION&quot;,null,null,null,null,null,null,null,null,null,null,null,null,null,null,null,&quot;October 10, 2016&quot;,null,null,&quot;RTM SEC 24 6&quot;,null,null,null,null,null,null,null,null,null,null,null,null,null,null,null,null,null,null,null,null,null,null,null,null,null,null,null,null,null,null,null,null,null,null,null,null,null,null,null,null,null,null,null,null,null,null,null,null,null,null,null,null,null,null,null,null,null,null,null,null,null,null,null,null,null,null,null,null,null,null,null,null,null,null,null,null,null,null,null,null,null,null,null,null,null,null,null,null,null,null,null,null,null,null,null,null,null,null,null,null,null,null,null,null,null,null,null,null,null,null,null,null,null,null,null,null,null,null,null,null,null,null,null,null,null,null,null,null,null,null,null,null,null,null,null,null,null,null,null,null,null,null,null,null,null}</td><td>&quot;B01LY2QNIQ&quot;</td><td>null</td></tr><tr><td>&quot;Cell Phones &amp; Accessories&quot;</td><td>&quot;4 Pairs Ear Tips Compatible wi…</td><td>4.0</td><td>896</td><td>[&quot;【Warm Tips】 The YINVA AirPod Pro tips are perfectly compatible with the original Air Pods Pro only, not compatible with AirPods 3, 2 and AirPod 1 Gen. About AirPods Pro headphone is not included.&quot;, &quot;【Comfortable】 Our replacement ear tips are made of soft silicone material, suitable for long-term comfortable wearing, blocking external noise and not oppressing your ears.&quot;, … &quot;【Service &amp; Warranty】 We have 30-Days 100% Money Back Guarantee and 12-Months Replacement Warranty. If you have any questions, please contact us, we will definitely give you a satisfactory solution.Thank you for your support!&quot;]</td><td>[]</td><td>6.99</td><td>[{&quot;https://m.media-amazon.com/images/I/31TbYkMavLL._AC_SR38,50_.jpg&quot;,&quot;https://m.media-amazon.com/images/I/31TbYkMavLL._AC_.jpg&quot;,&quot;MAIN&quot;,&quot;https://m.media-amazon.com/images/I/411GOq+42sL._AC_SL1001_.jpg&quot;}, {&quot;https://m.media-amazon.com/images/I/41EVwyGekyL._AC_SR38,50_.jpg&quot;,&quot;https://m.media-amazon.com/images/I/41EVwyGekyL._AC_.jpg&quot;,&quot;PT01&quot;,&quot;https://m.media-amazon.com/images/I/517jmew-ORL._AC_SL1001_.jpg&quot;}, … {&quot;https://m.media-amazon.com/images/I/51A+w0mH5NL._AC_SR38,50_.jpg&quot;,&quot;https://m.media-amazon.com/images/I/51A+w0mH5NL._AC_.jpg&quot;,&quot;PT06&quot;,&quot;https://m.media-amazon.com/images/I/61FHI0u+uXL._AC_SL1001_.jpg&quot;}]</td><td>[{&quot;AirPods Pro Ear Tips DamonLight &quot;,&quot;https://www.amazon.com/vdp/0dd7fec9155941c0804602e81eb6321a?ref=dp_vse_rvc_0&quot;,&quot;&quot;}, {&quot;Replacement Ear Tips for AirPods Pro &amp; AirPods Pro 2nd &quot;,&quot;https://www.amazon.com/vdp/099893fae9dc4fb4abd5e0bf8aa9c440?ref=dp_vse_rvc_1&quot;,&quot;&quot;}, … {&quot;Does It Really Work? AirPods Pro Replacement Tips Review&quot;,&quot;https://www.amazon.com/vdp/0673959126d64b6c9283e54e23df13fd?ref=dp_vse_rvc_9&quot;,&quot;/shop/music-prod&quot;}]</td><td>&quot;YINVA&quot;</td><td>[&quot;Electronics&quot;, &quot;Headphones, Earbuds &amp; Accessories&quot;, &quot;Earpads&quot;]</td><td>{&quot;YINVA&quot;,&quot;S*2,M*4,L*2&quot;,null,&quot;Silicone&quot;,null,null,null,null,null,null,null,null,&quot;0.317 ounces&quot;,&quot;4.49 x 2.76 x 0.43 inches&quot;,&quot;YINVA&quot;,null,&quot;November 25, 2021&quot;,{114391,null,null,null,null,null,null,null,null,null,null,null,null,null,null,null,null,null,null,null,null,null,null,null,null,null,null,null,3473,null,null,null,null,null,null,null,null,null,null,null,null,null,null,null},null,&quot;SML&quot;,null,&quot;CE&quot;,null,null,null,null,null,null,null,null,null,null,null,&quot;Earphones&quot;,null,null,null,null,null,null,null,null,null,null,null,&quot;Case&quot;,null,null,null,null,null,null,null,null,null,null,null,null,null,null,null,null,null,null,null,null,null,null,null,null,null,null,null,null,null,null,null,null,null,null,null,null,null,null,null,null,null,null,null,null,null,null,null,null,null,null,null,null,null,null,null,null,null,null,null,null,null,null,null,null,null,null,null,null,null,null,null,null,null,null,null,null,null,null,null,null,null,null,null,null,null,null,null,null,null,null,null,null,null,null,null,null,null,null,null,null,null,null,null,null,null,null,null,null,null,null,null,null,null,null,null,null,null,null,null}</td><td>&quot;B09RWD4SGS&quot;</td><td>null</td></tr><tr><td>&quot;Cell Phones &amp; Accessories&quot;</td><td>&quot;TSQQST iPad Mini 6 Case for Ki…</td><td>4.4</td><td>647</td><td>[&quot;🌞【Case for iPad Mini 6 for Kids】 Designed for iPad Mini 6th Generation 8.3 Inch 2021 Model A2567 A2568 A2569. It is Not compatible with any other devices. Please check back bottom of your iPad to find the model number.&quot;, &quot;🌞【iPad Mini Case 6th Generation with Glass Screen Protector&amp;Pencil Holder】Comes with a tempered glass screen protector, which made with high quality scratch-proof 0.33mm thick premium tempered glass, high-response and high-transparency and can be used perfectly with Pen.. Built-in pencil holder, easily carry your pencil with your device conveniently and support 2nd Gen Pencil pairing,charging and storing. (Not include Pencil)&quot;, … &quot;📧🍄【iPad Mini 6th Gen Case for Boys Girls】 If you have any questions after receiving the iPad Mini 6 Case, please email us in time, and we will give you a satisfactory solution.&quot;]</td><td>[]</td><td>9.99</td><td>[{&quot;https://m.media-amazon.com/images/I/411vK7noWIL._AC_US40_.jpg&quot;,&quot;https://m.media-amazon.com/images/I/411vK7noWIL._AC_.jpg&quot;,&quot;MAIN&quot;,&quot;https://m.media-amazon.com/images/I/61FgP09lR4L._AC_SL1500_.jpg&quot;}, {&quot;https://m.media-amazon.com/images/I/51knsExRJJL._AC_US40_.jpg&quot;,&quot;https://m.media-amazon.com/images/I/51knsExRJJL._AC_.jpg&quot;,&quot;PT01&quot;,&quot;https://m.media-amazon.com/images/I/71uHEEZCj2L._AC_SL1500_.jpg&quot;}, … {&quot;https://m.media-amazon.com/images/I/61dfBSr4gpL._AC_US40_.jpg&quot;,&quot;https://m.media-amazon.com/images/I/61dfBSr4gpL._AC_.jpg&quot;,&quot;PT06&quot;,&quot;https://m.media-amazon.com/images/I/81dlqarA5dL._AC_SL1500_.jpg&quot;}]</td><td>[{&quot;TSQQST iPad Mini 6 Case for Kids with Screen Protector&quot;,&quot;https://www.amazon.com/vdp/049e8c6629d647e9835d5d3649f83be3?ref=dp_vse_rvc_0&quot;,&quot;&quot;}, {&quot;Grifobes Sturdy Case for 8.3-inch IPad Mini 6 2021&quot;,&quot;https://www.amazon.com/vdp/0c8b4c25f3da41b1b18a9165dd28452f?ref=dp_vse_rvc_1&quot;,&quot;&quot;}, … {&quot;Cantis Case for iPad Mini 6&quot;,&quot;https://www.amazon.com/vdp/0161ec4180724bfeb05ba0d4b8f36f3e?ref=dp_vse_rvc_9&quot;,&quot;&quot;}]</td><td>&quot;TSQQST&quot;</td><td>[&quot;Electronics&quot;, &quot;Computers &amp; Accessories&quot;, … &quot;Cases&quot;]</td><td>{&quot;TSQQST&quot;,&quot;Pink&quot;,null,null,null,null,null,null,null,null,null,null,&quot;13.4 ounces&quot;,null,&quot;TSQ&quot;,&quot;China&quot;,&quot;August 16, 2022&quot;,{null,null,null,null,null,null,null,null,null,null,null,null,null,null,null,null,null,null,24205,null,null,null,null,null,null,null,null,null,null,null,null,null,null,null,null,null,null,null,null,null,null,null,null,null},&quot;7.87 x 7.09 x 0.73 inches&quot;,&quot;A2567/A2568/A2569&quot;,null,null,null,null,null,null,null,null,null,null,null,null,null,&quot;IPad Mini 6,iPad Mini 6th Generation,iPad Mini 6th Gen,iPad Mini 2021,iPad Mini 8.3&quot;,null,null,null,null,null,null,null,null,null,null,null,&quot;Case&quot;,null,null,null,null,null,null,null,null,null,null,null,null,null,null,null,null,null,null,null,null,null,null,null,null,null,null,null,null,null,null,null,null,null,null,null,null,null,null,null,null,null,null,null,null,null,null,null,null,null,null,null,null,null,null,null,null,null,null,null,null,null,null,null,null,null,&quot;Soft&quot;,null,null,null,null,null,null,null,null,null,null,null,null,null,null,null,null,null,null,null,null,null,null,null,null,null,null,null,null,null,null,null,null,null,null,null,null,null,null,null,null,null,null,null,null,null,null,null,null,null,null,null,null,null}</td><td>&quot;B0BQJGRR8H&quot;</td><td>null</td></tr></tbody></table></div>"
      ],
      "text/plain": [
       "shape: (200_000, 14)\n",
       "┌───────────┬───────────┬───────────┬───────────┬───┬───────────┬───────────┬───────────┬──────────┐\n",
       "│ main_cate ┆ title     ┆ average_r ┆ rating_nu ┆ … ┆ categorie ┆ details   ┆ parent_as ┆ bought_t │\n",
       "│ gory      ┆ ---       ┆ ating     ┆ mber      ┆   ┆ s         ┆ ---       ┆ in        ┆ ogether  │\n",
       "│ ---       ┆ str       ┆ ---       ┆ ---       ┆   ┆ ---       ┆ struct[16 ┆ ---       ┆ ---      │\n",
       "│ str       ┆           ┆ f64       ┆ i64       ┆   ┆ list[str] ┆ 5]        ┆ str       ┆ null     │\n",
       "╞═══════════╪═══════════╪═══════════╪═══════════╪═══╪═══════════╪═══════════╪═══════════╪══════════╡\n",
       "│ All Elect ┆ FS-1051   ┆ 3.5       ┆ 6         ┆ … ┆ [\"Electro ┆ {null,nul ┆ B00MCW7G9 ┆ null     │\n",
       "│ ronics    ┆ FATSHARK  ┆           ┆           ┆   ┆ nics\",    ┆ l,null,nu ┆ M         ┆          │\n",
       "│           ┆ TELEPORTE ┆           ┆           ┆   ┆ \"Televisi ┆ ll,null,n ┆           ┆          │\n",
       "│           ┆ R V3…     ┆           ┆           ┆   ┆ on & …    ┆ ull…      ┆           ┆          │\n",
       "│ All Elect ┆ Ce-H22B12 ┆ 5.0       ┆ 1         ┆ … ┆ [\"Electro ┆ {null,nul ┆ B00YT6XQS ┆ null     │\n",
       "│ ronics    ┆ -S1 4Kx2K ┆           ┆           ┆   ┆ nics\",    ┆ l,null,nu ┆ E         ┆          │\n",
       "│           ┆ Hdmi      ┆           ┆           ┆   ┆ \"Televisi ┆ ll,null,n ┆           ┆          │\n",
       "│           ┆ 4Port     ┆           ┆           ┆   ┆ on & …    ┆ ull…      ┆           ┆          │\n",
       "│ Computers ┆ Digi-Tato ┆ 4.5       ┆ 246       ┆ … ┆ [\"Electro ┆ {\"Digi-Ta ┆ B07SM135L ┆ null     │\n",
       "│           ┆ o Decal   ┆           ┆           ┆   ┆ nics\",    ┆ too\",\"Fre ┆ S         ┆          │\n",
       "│           ┆ Skin      ┆           ┆           ┆   ┆ \"Computer ┆ sh Marble ┆           ┆          │\n",
       "│           ┆ Compatib… ┆           ┆           ┆   ┆ s & A…    ┆ \",\"…      ┆           ┆          │\n",
       "│ AMAZON    ┆ NotoCity  ┆ 4.5       ┆ 233       ┆ … ┆ [\"Electro ┆ {null,nul ┆ B089CNGZC ┆ null     │\n",
       "│ FASHION   ┆ Compatibl ┆           ┆           ┆   ┆ nics\",    ┆ l,null,nu ┆ W         ┆          │\n",
       "│           ┆ e with    ┆           ┆           ┆   ┆ \"Wearable ┆ ll,null,n ┆           ┆          │\n",
       "│           ┆ Vivoa…    ┆           ┆           ┆   ┆ Tech…     ┆ ull…      ┆           ┆          │\n",
       "│ Cell      ┆ Motorola  ┆ 3.8       ┆ 64        ┆ … ┆ [\"Electro ┆ {null,nul ┆ B004E2Z88 ┆ null     │\n",
       "│ Phones &  ┆ Droid X   ┆           ┆           ┆   ┆ nics\",    ┆ l,null,nu ┆ O         ┆          │\n",
       "│ Accessori ┆ Essential ┆           ┆           ┆   ┆ \"Computer ┆ ll,null,n ┆           ┆          │\n",
       "│ es        ┆ s Co…     ┆           ┆           ┆   ┆ s & A…    ┆ ull…      ┆           ┆          │\n",
       "│ …         ┆ …         ┆ …         ┆ …         ┆ … ┆ …         ┆ …         ┆ …         ┆ …        │\n",
       "│ All Elect ┆ RiteAV -  ┆ 5.0       ┆ 1         ┆ … ┆ [\"Electro ┆ {null,nul ┆ B00ITO1BV ┆ null     │\n",
       "│ ronics    ┆ 1 Port    ┆           ┆           ┆   ┆ nics\",    ┆ l,null,nu ┆ G         ┆          │\n",
       "│           ┆ Coax      ┆           ┆           ┆   ┆ \"Home     ┆ ll,null,n ┆           ┆          │\n",
       "│           ┆ Cable     ┆           ┆           ┆   ┆ Audio\", … ┆ ull…      ┆           ┆          │\n",
       "│           ┆ TV-…      ┆           ┆           ┆   ┆           ┆           ┆           ┆          │\n",
       "│ Computers ┆ Sunworld  ┆ 2.6       ┆ 4         ┆ … ┆ [\"Electro ┆ {null,nul ┆ B00P2BSFN ┆ null     │\n",
       "│           ┆ Premium   ┆           ┆           ┆   ┆ nics\",    ┆ l,null,nu ┆ Q         ┆          │\n",
       "│           ┆ 64GB      ┆           ┆           ┆   ┆ \"Computer ┆ ll,null,n ┆           ┆          │\n",
       "│           ┆ Metal Ru… ┆           ┆           ┆   ┆ s & A…    ┆ ull…      ┆           ┆          │\n",
       "│ Computers ┆ ASURION 2 ┆ 3.7       ┆ 18        ┆ … ┆ [\"Electro ┆ {\"ASURION ┆ B01LY2QNI ┆ null     │\n",
       "│           ┆ Year      ┆           ┆           ┆   ┆ nics\",    ┆ \",null,nu ┆ Q         ┆          │\n",
       "│           ┆ Security  ┆           ┆           ┆   ┆ \"Electron ┆ ll,null,n ┆           ┆          │\n",
       "│           ┆ System…   ┆           ┆           ┆   ┆ ics W…    ┆ ull…      ┆           ┆          │\n",
       "│ Cell      ┆ 4 Pairs   ┆ 4.0       ┆ 896       ┆ … ┆ [\"Electro ┆ {\"YINVA\", ┆ B09RWD4SG ┆ null     │\n",
       "│ Phones &  ┆ Ear Tips  ┆           ┆           ┆   ┆ nics\",    ┆ \"S*2,M*4, ┆ S         ┆          │\n",
       "│ Accessori ┆ Compatibl ┆           ┆           ┆   ┆ \"Headphon ┆ L*2\",null ┆           ┆          │\n",
       "│ es        ┆ e wi…     ┆           ┆           ┆   ┆ es, E…    ┆ ,\"S…      ┆           ┆          │\n",
       "│ Cell      ┆ TSQQST    ┆ 4.4       ┆ 647       ┆ … ┆ [\"Electro ┆ {\"TSQQST\" ┆ B0BQJGRR8 ┆ null     │\n",
       "│ Phones &  ┆ iPad Mini ┆           ┆           ┆   ┆ nics\",    ┆ ,\"Pink\",n ┆ H         ┆          │\n",
       "│ Accessori ┆ 6 Case    ┆           ┆           ┆   ┆ \"Computer ┆ ull,null, ┆           ┆          │\n",
       "│ es        ┆ for Ki…   ┆           ┆           ┆   ┆ s & A…    ┆ nul…      ┆           ┆          │\n",
       "└───────────┴───────────┴───────────┴───────────┴───┴───────────┴───────────┴───────────┴──────────┘"
      ]
     },
     "execution_count": 8,
     "metadata": {},
     "output_type": "execute_result"
    }
   ],
   "source": [
    "electonics_meta_not_null_bt"
   ]
  },
  {
   "cell_type": "code",
   "execution_count": 9,
   "metadata": {},
   "outputs": [
    {
     "data": {
      "text/html": [
       "<div><style>\n",
       ".dataframe > thead > tr,\n",
       ".dataframe > tbody > tr {\n",
       "  text-align: right;\n",
       "  white-space: pre-wrap;\n",
       "}\n",
       "</style>\n",
       "<small>shape: (5_000, 10)</small><table border=\"1\" class=\"dataframe\"><thead><tr><th>rating</th><th>title</th><th>text</th><th>images</th><th>asin</th><th>parent_asin</th><th>user_id</th><th>timestamp</th><th>helpful_vote</th><th>verified_purchase</th></tr><tr><td>f64</td><td>str</td><td>str</td><td>list[struct[4]]</td><td>str</td><td>str</td><td>str</td><td>i64</td><td>i64</td><td>bool</td></tr></thead><tbody><tr><td>3.0</td><td>&quot;Smells like gasoline! Going ba…</td><td>&quot;First &amp; most offensive: they r…</td><td>[{&quot;https://m.media-amazon.com/images/I/71YN+Qk3kCL._SL256_.jpg&quot;,&quot;https://m.media-amazon.com/images/I/71YN+Qk3kCL._SL800_.jpg&quot;,&quot;https://m.media-amazon.com/images/I/71YN+Qk3kCL._SL1600_.jpg&quot;,&quot;IMAGE&quot;}]</td><td>&quot;B083NRGZMM&quot;</td><td>&quot;B083NRGZMM&quot;</td><td>&quot;AFKZENTNBQ7A7V7UXW5JJI6UGRYQ&quot;</td><td>1658185117948</td><td>0</td><td>true</td></tr><tr><td>1.0</td><td>&quot;Didn’t work at all lenses loos…</td><td>&quot;These didn’t work. Idk if they…</td><td>[]</td><td>&quot;B07N69T6TM&quot;</td><td>&quot;B07N69T6TM&quot;</td><td>&quot;AFKZENTNBQ7A7V7UXW5JJI6UGRYQ&quot;</td><td>1592678549731</td><td>0</td><td>true</td></tr><tr><td>5.0</td><td>&quot;Excellent!&quot;</td><td>&quot;I love these. They even come w…</td><td>[]</td><td>&quot;B01G8JO5F2&quot;</td><td>&quot;B01G8JO5F2&quot;</td><td>&quot;AFKZENTNBQ7A7V7UXW5JJI6UGRYQ&quot;</td><td>1523093017534</td><td>0</td><td>true</td></tr><tr><td>5.0</td><td>&quot;Great laptop backpack!&quot;</td><td>&quot;I was searching for a sturdy b…</td><td>[]</td><td>&quot;B001OC5JKY&quot;</td><td>&quot;B001OC5JKY&quot;</td><td>&quot;AGGZ357AO26RQZVRLGU4D4N52DZQ&quot;</td><td>1290278495000</td><td>18</td><td>true</td></tr><tr><td>5.0</td><td>&quot;Best Headphones in the Fifties…</td><td>&quot;I&#x27;ve bought these headphones t…</td><td>[]</td><td>&quot;B013J7WUGC&quot;</td><td>&quot;B07CJYMRWM&quot;</td><td>&quot;AG2L7H23R5LLKDKLBEF2Q3L2MVDA&quot;</td><td>1676601581238</td><td>0</td><td>true</td></tr><tr><td>&hellip;</td><td>&hellip;</td><td>&hellip;</td><td>&hellip;</td><td>&hellip;</td><td>&hellip;</td><td>&hellip;</td><td>&hellip;</td><td>&hellip;</td><td>&hellip;</td></tr><tr><td>5.0</td><td>&quot;Not Just for Gamers&quot;</td><td>&quot;With the invention of the comp…</td><td>[]</td><td>&quot;B07DBSKWQ5&quot;</td><td>&quot;B07DBSKWQ5&quot;</td><td>&quot;AFQQQ5LGNSQUEBGDCYBAZZE5T3DA&quot;</td><td>1612552997301</td><td>11</td><td>false</td></tr><tr><td>5.0</td><td>&quot;Techies, Rejoice!!!&quot;</td><td>&quot;I&#x27;ve had the opportunity to tr…</td><td>[]</td><td>&quot;B08P5BMJ9D&quot;</td><td>&quot;B08P5BMJ9D&quot;</td><td>&quot;AFQQQ5LGNSQUEBGDCYBAZZE5T3DA&quot;</td><td>1612552742141</td><td>2</td><td>false</td></tr><tr><td>5.0</td><td>&quot;Great Adapter&quot;</td><td>&quot;I don&#x27;t know why wireless carr…</td><td>[]</td><td>&quot;B085SB7J7W&quot;</td><td>&quot;B09MHWMM15&quot;</td><td>&quot;AFQQQ5LGNSQUEBGDCYBAZZE5T3DA&quot;</td><td>1612374497331</td><td>4</td><td>false</td></tr><tr><td>5.0</td><td>&quot;Stays Put&quot;</td><td>&quot;If you like running, you&#x27;ve pr…</td><td>[{&quot;https://images-na.ssl-images-amazon.com/images/I/81sVheqaNvL._SL256_.jpg&quot;,&quot;https://images-na.ssl-images-amazon.com/images/I/81sVheqaNvL._SL800_.jpg&quot;,&quot;https://images-na.ssl-images-amazon.com/images/I/81sVheqaNvL._SL1600_.jpg&quot;,&quot;IMAGE&quot;}]</td><td>&quot;B08L5LKVY7&quot;</td><td>&quot;B08L5LKVY7&quot;</td><td>&quot;AFQQQ5LGNSQUEBGDCYBAZZE5T3DA&quot;</td><td>1612212029640</td><td>3</td><td>false</td></tr><tr><td>5.0</td><td>&quot;High Resolution Display&quot;</td><td>&quot;Cable Matters is a great brand…</td><td>[]</td><td>&quot;B0874V465W&quot;</td><td>&quot;B0874V465W&quot;</td><td>&quot;AFQQQ5LGNSQUEBGDCYBAZZE5T3DA&quot;</td><td>1612208634090</td><td>3</td><td>false</td></tr></tbody></table></div>"
      ],
      "text/plain": [
       "shape: (5_000, 10)\n",
       "┌────────┬────────────┬────────────┬───────────┬───┬───────────┬───────────┬───────────┬───────────┐\n",
       "│ rating ┆ title      ┆ text       ┆ images    ┆ … ┆ user_id   ┆ timestamp ┆ helpful_v ┆ verified_ │\n",
       "│ ---    ┆ ---        ┆ ---        ┆ ---       ┆   ┆ ---       ┆ ---       ┆ ote       ┆ purchase  │\n",
       "│ f64    ┆ str        ┆ str        ┆ list[stru ┆   ┆ str       ┆ i64       ┆ ---       ┆ ---       │\n",
       "│        ┆            ┆            ┆ ct[4]]    ┆   ┆           ┆           ┆ i64       ┆ bool      │\n",
       "╞════════╪════════════╪════════════╪═══════════╪═══╪═══════════╪═══════════╪═══════════╪═══════════╡\n",
       "│ 3.0    ┆ Smells     ┆ First &    ┆ [{\"https: ┆ … ┆ AFKZENTNB ┆ 165818511 ┆ 0         ┆ true      │\n",
       "│        ┆ like       ┆ most       ┆ //m.media ┆   ┆ Q7A7V7UXW ┆ 7948      ┆           ┆           │\n",
       "│        ┆ gasoline!  ┆ offensive: ┆ -amazon.c ┆   ┆ 5JJI6UGRY ┆           ┆           ┆           │\n",
       "│        ┆ Going ba…  ┆ they r…    ┆ om/…      ┆   ┆ Q         ┆           ┆           ┆           │\n",
       "│ 1.0    ┆ Didn’t     ┆ These      ┆ []        ┆ … ┆ AFKZENTNB ┆ 159267854 ┆ 0         ┆ true      │\n",
       "│        ┆ work at    ┆ didn’t     ┆           ┆   ┆ Q7A7V7UXW ┆ 9731      ┆           ┆           │\n",
       "│        ┆ all lenses ┆ work. Idk  ┆           ┆   ┆ 5JJI6UGRY ┆           ┆           ┆           │\n",
       "│        ┆ loos…      ┆ if they…   ┆           ┆   ┆ Q         ┆           ┆           ┆           │\n",
       "│ 5.0    ┆ Excellent! ┆ I love     ┆ []        ┆ … ┆ AFKZENTNB ┆ 152309301 ┆ 0         ┆ true      │\n",
       "│        ┆            ┆ these.     ┆           ┆   ┆ Q7A7V7UXW ┆ 7534      ┆           ┆           │\n",
       "│        ┆            ┆ They even  ┆           ┆   ┆ 5JJI6UGRY ┆           ┆           ┆           │\n",
       "│        ┆            ┆ come w…    ┆           ┆   ┆ Q         ┆           ┆           ┆           │\n",
       "│ 5.0    ┆ Great      ┆ I was      ┆ []        ┆ … ┆ AGGZ357AO ┆ 129027849 ┆ 18        ┆ true      │\n",
       "│        ┆ laptop     ┆ searching  ┆           ┆   ┆ 26RQZVRLG ┆ 5000      ┆           ┆           │\n",
       "│        ┆ backpack!  ┆ for a      ┆           ┆   ┆ U4D4N52DZ ┆           ┆           ┆           │\n",
       "│        ┆            ┆ sturdy b…  ┆           ┆   ┆ Q         ┆           ┆           ┆           │\n",
       "│ 5.0    ┆ Best       ┆ I've       ┆ []        ┆ … ┆ AG2L7H23R ┆ 167660158 ┆ 0         ┆ true      │\n",
       "│        ┆ Headphones ┆ bought     ┆           ┆   ┆ 5LLKDKLBE ┆ 1238      ┆           ┆           │\n",
       "│        ┆ in the     ┆ these      ┆           ┆   ┆ F2Q3L2MVD ┆           ┆           ┆           │\n",
       "│        ┆ Fifties…   ┆ headphones ┆           ┆   ┆ A         ┆           ┆           ┆           │\n",
       "│        ┆            ┆ t…         ┆           ┆   ┆           ┆           ┆           ┆           │\n",
       "│ …      ┆ …          ┆ …          ┆ …         ┆ … ┆ …         ┆ …         ┆ …         ┆ …         │\n",
       "│ 5.0    ┆ Not Just   ┆ With the   ┆ []        ┆ … ┆ AFQQQ5LGN ┆ 161255299 ┆ 11        ┆ false     │\n",
       "│        ┆ for Gamers ┆ invention  ┆           ┆   ┆ SQUEBGDCY ┆ 7301      ┆           ┆           │\n",
       "│        ┆            ┆ of the     ┆           ┆   ┆ BAZZE5T3D ┆           ┆           ┆           │\n",
       "│        ┆            ┆ comp…      ┆           ┆   ┆ A         ┆           ┆           ┆           │\n",
       "│ 5.0    ┆ Techies,   ┆ I've had   ┆ []        ┆ … ┆ AFQQQ5LGN ┆ 161255274 ┆ 2         ┆ false     │\n",
       "│        ┆ Rejoice!!! ┆ the opport ┆           ┆   ┆ SQUEBGDCY ┆ 2141      ┆           ┆           │\n",
       "│        ┆            ┆ unity to   ┆           ┆   ┆ BAZZE5T3D ┆           ┆           ┆           │\n",
       "│        ┆            ┆ tr…        ┆           ┆   ┆ A         ┆           ┆           ┆           │\n",
       "│ 5.0    ┆ Great      ┆ I don't    ┆ []        ┆ … ┆ AFQQQ5LGN ┆ 161237449 ┆ 4         ┆ false     │\n",
       "│        ┆ Adapter    ┆ know why   ┆           ┆   ┆ SQUEBGDCY ┆ 7331      ┆           ┆           │\n",
       "│        ┆            ┆ wireless   ┆           ┆   ┆ BAZZE5T3D ┆           ┆           ┆           │\n",
       "│        ┆            ┆ carr…      ┆           ┆   ┆ A         ┆           ┆           ┆           │\n",
       "│ 5.0    ┆ Stays Put  ┆ If you     ┆ [{\"https: ┆ … ┆ AFQQQ5LGN ┆ 161221202 ┆ 3         ┆ false     │\n",
       "│        ┆            ┆ like       ┆ //images- ┆   ┆ SQUEBGDCY ┆ 9640      ┆           ┆           │\n",
       "│        ┆            ┆ running,   ┆ na.ssl-im ┆   ┆ BAZZE5T3D ┆           ┆           ┆           │\n",
       "│        ┆            ┆ you've pr… ┆ age…      ┆   ┆ A         ┆           ┆           ┆           │\n",
       "│ 5.0    ┆ High       ┆ Cable      ┆ []        ┆ … ┆ AFQQQ5LGN ┆ 161220863 ┆ 3         ┆ false     │\n",
       "│        ┆ Resolution ┆ Matters is ┆           ┆   ┆ SQUEBGDCY ┆ 4090      ┆           ┆           │\n",
       "│        ┆ Display    ┆ a great    ┆           ┆   ┆ BAZZE5T3D ┆           ┆           ┆           │\n",
       "│        ┆            ┆ brand…     ┆           ┆   ┆ A         ┆           ┆           ┆           │\n",
       "└────────┴────────────┴────────────┴───────────┴───┴───────────┴───────────┴───────────┴───────────┘"
      ]
     },
     "execution_count": 9,
     "metadata": {},
     "output_type": "execute_result"
    }
   ],
   "source": [
    "electronics_reviews_sel = "
   ]
  },
  {
   "cell_type": "code",
   "execution_count": null,
   "metadata": {},
   "outputs": [],
   "source": []
  }
 ],
 "metadata": {
  "kernelspec": {
   "display_name": ".venv",
   "language": "python",
   "name": "python3"
  },
  "language_info": {
   "codemirror_mode": {
    "name": "ipython",
    "version": 3
   },
   "file_extension": ".py",
   "mimetype": "text/x-python",
   "name": "python",
   "nbconvert_exporter": "python",
   "pygments_lexer": "ipython3",
   "version": "3.13.1"
  }
 },
 "nbformat": 4,
 "nbformat_minor": 2
}
